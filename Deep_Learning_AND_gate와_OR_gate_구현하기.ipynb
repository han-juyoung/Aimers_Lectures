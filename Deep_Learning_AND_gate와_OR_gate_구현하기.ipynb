{
  "nbformat": 4,
  "nbformat_minor": 0,
  "metadata": {
    "colab": {
      "provenance": [],
      "authorship_tag": "ABX9TyMnZUf+gUKczBPVrsuK6YlE",
      "include_colab_link": true
    },
    "kernelspec": {
      "name": "python3",
      "display_name": "Python 3"
    },
    "language_info": {
      "name": "python"
    }
  },
  "cells": [
    {
      "cell_type": "markdown",
      "metadata": {
        "id": "view-in-github",
        "colab_type": "text"
      },
      "source": [
        "<a href=\"https://colab.research.google.com/github/han-juyoung/Aimers_Lectures/blob/main/Deep_Learning_AND_gate%EC%99%80_OR_gate_%EA%B5%AC%ED%98%84%ED%95%98%EA%B8%B0.ipynb\" target=\"_parent\"><img src=\"https://colab.research.google.com/assets/colab-badge.svg\" alt=\"Open In Colab\"/></a>"
      ]
    },
    {
      "cell_type": "code",
      "execution_count": null,
      "metadata": {
        "id": "H1lQ9Yj_wqam"
      },
      "outputs": [],
      "source": [
        "import numpy as np\n",
        "\n",
        "'''\n",
        "1. AND_gate 함수를 완성하세요.\n",
        "\n",
        "   Step01. 입력값 x1과 x2에 각각 곱해줄 가중치는\n",
        "           0.5, 0.5로 설정되어 있습니다.\n",
        "\n",
        "   Step02. AND_gate를 만족하는 Bias 값을\n",
        "           설정합니다. 여러 가지 값을 대입해보며\n",
        "           적절한 Bias 값을 찾아보세요.\n",
        "\n",
        "   Step03. 가중치, 입력값, Bias를 이용하여\n",
        "           신호의 총합을 구합니다.\n",
        "\n",
        "   Step04. Step Function 함수를 호출하여\n",
        "           AND_gate의 출력값을 반환합니다.\n",
        "'''\n",
        "\n",
        "def AND_gate(x1, x2):\n",
        "\n",
        "    x = np.array([x1, x2])\n",
        "\n",
        "    weight = np.array([0.5,0.5])\n",
        "\n",
        "    bias = -0.7\n",
        "\n",
        "    y = np.matmul(x, weight) + bias\n",
        "\n",
        "    return Step_Function(y)\n",
        "\n",
        "'''\n",
        "2. OR_gate 함수를 완성하세요.\n",
        "\n",
        "   Step01. 입력값 x1과 x2에 각각 곱해줄 가중치는\n",
        "           0.5, 0.5로 설정되어 있습니다.\n",
        "\n",
        "   Step02. OR_gate를 만족하는 Bias 값을\n",
        "           설정합니다. 여러 가지 값을 대입해보며\n",
        "           적절한 Bias 값을 찾아보세요.\n",
        "\n",
        "   Step03. 가중치, 입력값, Bias를 이용하여\n",
        "           신호의 총합을 구합니다.\n",
        "\n",
        "   Step04. Step Function 함수를 호출하여\n",
        "           OR_gate의 출력값을 반환합니다.\n",
        "'''\n",
        "\n",
        "def OR_gate(x1, x2):\n",
        "\n",
        "    x = np.array([x1, x2])\n",
        "\n",
        "    weight = np.array([0.5,0.5])\n",
        "\n",
        "    bias = -0.3\n",
        "\n",
        "    y = np.matmul(x, weight) + bias\n",
        "\n",
        "    return Step_Function(y)\n",
        "\n",
        "'''\n",
        "3. 설명을 보고 Step Function을 완성합니다.\n",
        "\n",
        "   Step01. 0 미만의 값이 들어오면 0을,\n",
        "           0 이상의 값이 들어오면 1을\n",
        "           출력하는 함수를 구현하면 됩니다.\n",
        "'''\n",
        "def Step_Function(y):\n",
        "\n",
        "    return 1 if y >= 0 else 0\n",
        "\n",
        "def main():\n",
        "\n",
        "    # AND Gate와 OR Gate에 넣어줄 Input\n",
        "    array = np.array([[0,0], [0,1], [1,0], [1,1]])\n",
        "\n",
        "    # AND Gate를 만족하는지 출력하여 확인\n",
        "    print('AND Gate 출력')\n",
        "\n",
        "    for x1, x2 in array:\n",
        "        print('Input: ',x1, x2, ', Output: ',AND_gate(x1, x2))\n",
        "\n",
        "    # OR Gate를 만족하는지 출력하여 확인\n",
        "    print('\\nOR Gate 출력')\n",
        "\n",
        "    for x1, x2 in array:\n",
        "        print('Input: ',x1, x2, ', Output: ',OR_gate(x1, x2))\n",
        "\n",
        "if __name__ == \"__main__\":\n",
        "    main()"
      ]
    },
    {
      "cell_type": "markdown",
      "source": [
        "![image.png](data:image/png;base64,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)"
      ],
      "metadata": {
        "id": "wSu4O58Zx5iB"
      }
    }
  ]
}