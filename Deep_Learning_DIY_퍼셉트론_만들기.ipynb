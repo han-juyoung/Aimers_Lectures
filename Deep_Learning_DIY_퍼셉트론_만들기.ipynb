{
  "nbformat": 4,
  "nbformat_minor": 0,
  "metadata": {
    "colab": {
      "provenance": [],
      "authorship_tag": "ABX9TyNJuSY26crVYQ4kOGlFWWl4",
      "include_colab_link": true
    },
    "kernelspec": {
      "name": "python3",
      "display_name": "Python 3"
    },
    "language_info": {
      "name": "python"
    }
  },
  "cells": [
    {
      "cell_type": "markdown",
      "metadata": {
        "id": "view-in-github",
        "colab_type": "text"
      },
      "source": [
        "<a href=\"https://colab.research.google.com/github/han-juyoung/Aimers_Lectures/blob/main/Deep_Learning_DIY_%ED%8D%BC%EC%85%89%ED%8A%B8%EB%A1%A0_%EB%A7%8C%EB%93%A4%EA%B8%B0.ipynb\" target=\"_parent\"><img src=\"https://colab.research.google.com/assets/colab-badge.svg\" alt=\"Open In Colab\"/></a>"
      ]
    },
    {
      "cell_type": "code",
      "execution_count": null,
      "metadata": {
        "id": "Uaqj2gTeqUp4"
      },
      "outputs": [],
      "source": [
        "'''\n",
        "1. 가중치와 Bias 값을\n",
        "   임의로 설정해줍니다.\n",
        "\n",
        "   Step01. 0이상 1미만의 임의의 값으로 정의된\n",
        "           4개의 가중치 값이 들어가있는\n",
        "           1차원 리스트를 정의해줍니다.\n",
        "\n",
        "   Step02. Bias 값을 임의의 값으로 설정해줍니다.\n",
        "'''\n",
        "\n",
        "def main():\n",
        "\n",
        "    x = [1,2,3,4]\n",
        "\n",
        "    w = [0.3, 0.5, 0.1, 0.7]\n",
        "    b = -2\n",
        "\n",
        "    output, y = perceptron(w,x,b)\n",
        "\n",
        "    print('output: ', output)\n",
        "    print('y: ', y)\n",
        "\n",
        "'''\n",
        "2. 신호의 총합과 그에 따른 결과 0 또는 1을\n",
        "   반환하는 함수 perceptron을 완성합니다.\n",
        "\n",
        "   Step01. 입력 받은 값과 Bias 값을 이용하여\n",
        "           신호의 총합을 구합니다.\n",
        "\n",
        "   Step02. 신호의 총합이 0 이상이면 1을,\n",
        "           그렇지 않으면 0을 반환하는 활성화\n",
        "           함수를 작성합니다.\n",
        "'''\n",
        "\n",
        "def perceptron(w, x, b):\n",
        "\n",
        "    # output = x[0]*w[0] + x[1]*w[1] + x[2]*w[2] + x[3]*w[3] + b\n",
        "    output = sum([x_i * w_i for x_i, w_i in zip(x,w)]) + b\n",
        "\n",
        "    y = 1 if output >= 0 else 0\n",
        "\n",
        "    return output, y\n",
        "\n",
        "if __name__ == \"__main__\":\n",
        "    main()\n"
      ]
    },
    {
      "cell_type": "markdown",
      "source": [
        "![image.png](data:image/png;base64,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)"
      ],
      "metadata": {
        "id": "a_kdX-ROr9VH"
      }
    }
  ]
}