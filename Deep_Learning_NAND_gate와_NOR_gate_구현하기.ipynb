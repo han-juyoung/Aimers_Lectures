{
  "nbformat": 4,
  "nbformat_minor": 0,
  "metadata": {
    "colab": {
      "provenance": [],
      "authorship_tag": "ABX9TyM5pqxYHeEO6PIv5qjfC2KP",
      "include_colab_link": true
    },
    "kernelspec": {
      "name": "python3",
      "display_name": "Python 3"
    },
    "language_info": {
      "name": "python"
    }
  },
  "cells": [
    {
      "cell_type": "markdown",
      "metadata": {
        "id": "view-in-github",
        "colab_type": "text"
      },
      "source": [
        "<a href=\"https://colab.research.google.com/github/han-juyoung/Aimers_Lectures/blob/main/Deep_Learning_NAND_gate%EC%99%80_NOR_gate_%EA%B5%AC%ED%98%84%ED%95%98%EA%B8%B0.ipynb\" target=\"_parent\"><img src=\"https://colab.research.google.com/assets/colab-badge.svg\" alt=\"Open In Colab\"/></a>"
      ]
    },
    {
      "cell_type": "code",
      "execution_count": null,
      "metadata": {
        "id": "SY7L-a8GyIjE"
      },
      "outputs": [],
      "source": [
        "import numpy as np\n",
        "\n",
        "'''\n",
        "1. NAND_gate 함수를 완성하세요.\n",
        "\n",
        "   Step01. 이전 실습을 참고하여 입력값 x1과 x2를\n",
        "           Numpy array 형식으로 정의한 후, x1과 x2에\n",
        "           각각 곱해줄 가중치도 Numpy array 형식으로\n",
        "           적절히 설정해주세요.\n",
        "\n",
        "   Step02. NAND_gate를 만족하는 Bias 값을\n",
        "           적절히 설정해주세요.\n",
        "\n",
        "   Step03. 가중치, 입력값, Bias를 이용하여\n",
        "           가중 신호의 총합을 구합니다.\n",
        "\n",
        "   Step04. Step Function 함수를 호출하여\n",
        "           NAND_gate의 출력값을 반환합니다.\n",
        "'''\n",
        "\n",
        "def NAND_gate(x1, x2):\n",
        "\n",
        "    x = np.array([x1, x2])\n",
        "\n",
        "    weight = np.array([-0.5, -0.5])\n",
        "\n",
        "    bias = 0.7\n",
        "\n",
        "    y = np.matmul(x, weight) + bias\n",
        "\n",
        "    return Step_Function(y)\n",
        "\n",
        "'''\n",
        "2. NOR_gate 함수를 완성하세요.\n",
        "\n",
        "   Step01. 마찬가지로 입력값 x1과 x2를 Numpy array\n",
        "           형식으로 정의한 후, x1과 x2에 각각 곱해줄\n",
        "           가중치도 Numpy array 형식으로 적절히 설정해주세요.\n",
        "\n",
        "   Step02. NOR_gate를 만족하는 Bias 값을\n",
        "           적절히 설정해주세요.\n",
        "\n",
        "   Step03. 가중치, 입력값, Bias를 이용하여\n",
        "           가중 신호의 총합을 구합니다.\n",
        "\n",
        "   Step04. Step Function 함수를 호출하여\n",
        "           NOR_gate의 출력값을 반환합니다.\n",
        "'''\n",
        "\n",
        "def NOR_gate(x1, x2):\n",
        "\n",
        "    x = np.array([x1, x2])\n",
        "\n",
        "    weight = np.array([-0.5, -0.5])\n",
        "\n",
        "    bias = 0.3\n",
        "\n",
        "    y = np.matmul(x, weight) + bias\n",
        "\n",
        "    return Step_Function(y)\n",
        "\n",
        "'''\n",
        "3. 설명을 보고 Step Function을 완성합니다.\n",
        "   앞 실습에서 구현한 함수를 그대로\n",
        "   사용할 수 있습니다.\n",
        "\n",
        "   Step01. 0 미만의 값이 들어오면 0을,\n",
        "           0 이상의 값이 들어오면 1을\n",
        "           출력하는 함수를 구현하면 됩니다.\n",
        "'''\n",
        "\n",
        "def Step_Function(y):\n",
        "\n",
        "    return 1 if y >=0 else 0\n",
        "\n",
        "def main():\n",
        "\n",
        "    # NAND와 NOR Gate에 넣어줄 Input\n",
        "    array = np.array([[0,0], [0,1], [1,0], [1,1]])\n",
        "\n",
        "    # NAND Gate를 만족하는지 출력하여 확인\n",
        "    print('NAND Gate 출력')\n",
        "\n",
        "    for x1, x2 in array:\n",
        "        print('Input: ',x1, x2, ' Output: ',NAND_gate(x1, x2))\n",
        "\n",
        "    # NOR Gate를 만족하는지 출력하여 확인\n",
        "    print('\\nNOR Gate 출력')\n",
        "\n",
        "    for x1, x2 in array:\n",
        "        print('Input: ',x1, x2, ' Output: ',NOR_gate(x1, x2))\n",
        "\n",
        "if __name__ == \"__main__\":\n",
        "    main()"
      ]
    },
    {
      "cell_type": "markdown",
      "source": [
        "![image.png](data:image/png;base64,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)"
      ],
      "metadata": {
        "id": "V0futHwwzWuV"
      }
    }
  ]
}