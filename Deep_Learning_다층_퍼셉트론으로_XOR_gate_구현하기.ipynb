{
  "nbformat": 4,
  "nbformat_minor": 0,
  "metadata": {
    "colab": {
      "provenance": [],
      "authorship_tag": "ABX9TyNKL7yUqFda4DemjmaPCio8",
      "include_colab_link": true
    },
    "kernelspec": {
      "name": "python3",
      "display_name": "Python 3"
    },
    "language_info": {
      "name": "python"
    }
  },
  "cells": [
    {
      "cell_type": "markdown",
      "metadata": {
        "id": "view-in-github",
        "colab_type": "text"
      },
      "source": [
        "<a href=\"https://colab.research.google.com/github/han-juyoung/Aimers_Lectures/blob/main/Deep_Learning_%EB%8B%A4%EC%B8%B5_%ED%8D%BC%EC%85%89%ED%8A%B8%EB%A1%A0%EC%9C%BC%EB%A1%9C_XOR_gate_%EA%B5%AC%ED%98%84%ED%95%98%EA%B8%B0.ipynb\" target=\"_parent\"><img src=\"https://colab.research.google.com/assets/colab-badge.svg\" alt=\"Open In Colab\"/></a>"
      ]
    },
    {
      "cell_type": "code",
      "execution_count": null,
      "metadata": {
        "id": "Ocbv_ptAPRG3"
      },
      "outputs": [],
      "source": [
        "import numpy as np\n",
        "\n",
        "'''\n",
        "1. AND_gate 함수\n",
        "'''\n",
        "\n",
        "def AND_gate(x1,x2):\n",
        "    x = np.array([x1, x2])\n",
        "    weight = np.array([0.5, 0.5])\n",
        "    bias = -0.7\n",
        "    y = np.sum(weight*x) + bias\n",
        "    # y = np.matmul(x, weight) + bias 동일.\n",
        "\n",
        "    return Step_Function(y)\n",
        "\n",
        "'''\n",
        "2. OR_gate 함수\n",
        "'''\n",
        "\n",
        "def OR_gate(x1,x2):\n",
        "    x = np.array([x1, x2])\n",
        "    weight = np.array([0.5, 0.5])\n",
        "    bias = -0.2\n",
        "    y = np.sum(weight*x) + bias\n",
        "\n",
        "    return Step_Function(y)\n",
        "\n",
        "'''\n",
        "3. NAND_gate 함수\n",
        "'''\n",
        "\n",
        "def NAND_gate(x1,x2):\n",
        "    x = np.array([x1, x2])\n",
        "    weight = np.array([-0.5, -0.5])\n",
        "    bias = 0.7\n",
        "    y = np.sum(weight*x) + bias\n",
        "\n",
        "    return Step_Function(y)\n",
        "\n",
        "'''\n",
        "4. Step_Function 함수\n",
        "'''\n",
        "\n",
        "def Step_Function(y):\n",
        "    if y<=0:\n",
        "        return 0\n",
        "    else:\n",
        "        return 1\n",
        "\n",
        "'''\n",
        "5. AND_gate, OR_gate, NAND_gate 함수들을\n",
        "   활용하여 XOR_gate 함수를 완성하세요.\n",
        "'''\n",
        "\n",
        "def XOR_gate(x1, x2):\n",
        "\n",
        "    nand_out = NAND_gate(x1, x2)\n",
        "    or_out = OR_gate(x1, x2)\n",
        "\n",
        "    return AND_gate(nand_out, or_out)\n",
        "\n",
        "def main():\n",
        "\n",
        "    # XOR gate에 넣어줄 Input\n",
        "    array = np.array([[0,0], [0,1], [1,0], [1,1]])\n",
        "\n",
        "    # XOR gate를 만족하는지 출력하여 확인\n",
        "    print('XOR Gate 출력')\n",
        "\n",
        "    for x1, x2 in array:\n",
        "        print('Input: ',x1, x2, ', Output: ', XOR_gate(x1, x2))\n",
        "\n",
        "if __name__ == \"__main__\":\n",
        "    main()"
      ]
    },
    {
      "cell_type": "markdown",
      "source": [
        "![image.png](data:image/png;base64,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)"
      ],
      "metadata": {
        "id": "B-PGK7kxPZKq"
      }
    }
  ]
}