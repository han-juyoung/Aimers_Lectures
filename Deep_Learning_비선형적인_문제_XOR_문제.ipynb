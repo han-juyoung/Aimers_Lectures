{
  "nbformat": 4,
  "nbformat_minor": 0,
  "metadata": {
    "colab": {
      "provenance": [],
      "authorship_tag": "ABX9TyO6Shww+pFkEBUVg6VQ/YF8",
      "include_colab_link": true
    },
    "kernelspec": {
      "name": "python3",
      "display_name": "Python 3"
    },
    "language_info": {
      "name": "python"
    }
  },
  "cells": [
    {
      "cell_type": "markdown",
      "metadata": {
        "id": "view-in-github",
        "colab_type": "text"
      },
      "source": [
        "<a href=\"https://colab.research.google.com/github/han-juyoung/Aimers_Lectures/blob/main/Deep_Learning_%EB%B9%84%EC%84%A0%ED%98%95%EC%A0%81%EC%9D%B8_%EB%AC%B8%EC%A0%9C_XOR_%EB%AC%B8%EC%A0%9C.ipynb\" target=\"_parent\"><img src=\"https://colab.research.google.com/assets/colab-badge.svg\" alt=\"Open In Colab\"/></a>"
      ]
    },
    {
      "cell_type": "code",
      "execution_count": null,
      "metadata": {
        "id": "-UauJjOg135-"
      },
      "outputs": [],
      "source": [
        "import numpy as np\n",
        "\n",
        "'''\n",
        "1. XOR_gate 함수를 최대한 완성해보세요.\n",
        "\n",
        "   Step01. 이전 실습을 참고하여 입력값 x1과 x2를\n",
        "           Numpy array 형식으로 정의한 후, x1과 x2에\n",
        "           각각 곱해줄 가중치도 Numpy array 형식으로\n",
        "           적절히 설정해주세요.\n",
        "\n",
        "   Step02. XOR_gate를 만족하는 Bias 값을\n",
        "           적절히 설정해주세요.\n",
        "\n",
        "   Step03. 가중치, 입력값, Bias를 이용하여\n",
        "           가중 신호의 총합을 구합니다.\n",
        "\n",
        "   Step04. Step Function 함수를 호출하여\n",
        "           XOR_gate 출력값을 반환합니다.\n",
        "'''\n",
        "\n",
        "def XOR_gate(x1, x2):\n",
        "\n",
        "    x = np.array([x1, x2])\n",
        "\n",
        "    weight = np.array([0.5, 0.5])\n",
        "\n",
        "    bias = 0.3\n",
        "\n",
        "    y = np.matmul(x, weight) + bias\n",
        "\n",
        "    return Step_Function(y)\n",
        "\n",
        "'''\n",
        "2. 설명을 보고 Step Function을 완성합니다.\n",
        "   앞 실습에서 구현한 함수를 그대로\n",
        "   사용할 수 있습니다.\n",
        "\n",
        "   Step01. 0 미만의 값이 들어오면 0을,\n",
        "           0 이상의 값이 들어오면 1을\n",
        "           출력하는 함수를 구현하면 됩니다.\n",
        "'''\n",
        "\n",
        "def Step_Function(y):\n",
        "\n",
        "    return 1 if y >= 0 else 0\n",
        "\n",
        "def main():\n",
        "\n",
        "    # XOR Gate에 넣어줄 Input과 그에 따른 Output\n",
        "    Input = np.array([[0, 0], [0, 1], [1, 0], [1, 1]])\n",
        "    Output = np.array([[0], [1], [1], [0]])\n",
        "\n",
        "    # XOR Gate를 만족하는지 출력하여 확인\n",
        "    print('XOR Gate 출력')\n",
        "\n",
        "    XOR_list = []\n",
        "\n",
        "    for x1, x2 in Input:\n",
        "        print('Input: ',x1, x2, ' Output: ', XOR_gate(x1, x2))\n",
        "        XOR_list.append(XOR_gate(x1, x2))\n",
        "\n",
        "    hit = 0\n",
        "    for i in range(len(Output)):\n",
        "        if XOR_list[i] == Output[i]:\n",
        "            hit += 1\n",
        "\n",
        "    acc = float(hit/4)*100\n",
        "\n",
        "    print('Accuracy: %.1lf%%' % (acc))\n",
        "\n",
        "if __name__ == \"__main__\":\n",
        "    main()"
      ]
    },
    {
      "cell_type": "markdown",
      "source": [
        "![image.png](data:image/png;base64,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)"
      ],
      "metadata": {
        "id": "zIRzqGsM1_me"
      }
    }
  ]
}