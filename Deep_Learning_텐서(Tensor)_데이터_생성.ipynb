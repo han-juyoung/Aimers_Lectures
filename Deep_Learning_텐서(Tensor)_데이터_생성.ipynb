{
  "nbformat": 4,
  "nbformat_minor": 0,
  "metadata": {
    "colab": {
      "provenance": [],
      "authorship_tag": "ABX9TyOug5BFsVppFzLpxBzkcYB9",
      "include_colab_link": true
    },
    "kernelspec": {
      "name": "python3",
      "display_name": "Python 3"
    },
    "language_info": {
      "name": "python"
    }
  },
  "cells": [
    {
      "cell_type": "markdown",
      "metadata": {
        "id": "view-in-github",
        "colab_type": "text"
      },
      "source": [
        "<a href=\"https://colab.research.google.com/github/han-juyoung/Aimers_Lectures/blob/main/Deep_Learning_%ED%85%90%EC%84%9C(Tensor)_%EB%8D%B0%EC%9D%B4%ED%84%B0_%EC%83%9D%EC%84%B1.ipynb\" target=\"_parent\"><img src=\"https://colab.research.google.com/assets/colab-badge.svg\" alt=\"Open In Colab\"/></a>"
      ]
    },
    {
      "cell_type": "code",
      "execution_count": null,
      "metadata": {
        "id": "f52yBZBxOkuu"
      },
      "outputs": [],
      "source": [
        "import tensorflow as tf\n",
        "import os\n",
        "os.environ['TF_CPP_MIN_LOG_LEVEL'] = '2'\n",
        "\n",
        "'''\n",
        "1. 상수 텐서를 생성하는 constant_tensors 함수를 완성하세요.\n",
        "\n",
        "   Step01. 5의 값을 가지는 (1,1) shape의 8-bit integer 텐서를 만드세요.\n",
        "\n",
        "   Step02. 모든 원소의 값이 0인 (3,5) shape의 16-bit integer 텐서를 만드세요.\n",
        "\n",
        "   Step03. 모든 원소의 값이 1인 (4,3) shape의 8-bit integer 텐서를 만드세요.\n",
        "'''\n",
        "\n",
        "def constant_tensors():\n",
        "\n",
        "    t1 = tf.constant(5, shape = (1,1), dtype=tf.int8)\n",
        "\n",
        "    t2 = tf.zeros(shape=(3,5), dtype=tf.int16)\n",
        "\n",
        "    t3 = tf.ones(shape=(4,3), dtype=tf.int8)\n",
        "\n",
        "    return t1, t2, t3\n",
        "\n",
        "'''\n",
        "2. 시퀀스 텐서를 생성하는 sequence_tensors 함수를 완성하세요.\n",
        "\n",
        "   Step01. 1.5에서 10.5까지 증가하는 3개의 텐서를 만드세요.\n",
        "\n",
        "   Step02. 2.5에서 20.5까지 증가하는 5개의 텐서를 만드세요.\n",
        "'''\n",
        "\n",
        "def sequence_tensors():\n",
        "\n",
        "    seq_t1 = tf.range(1.5, 11, 4.5)\n",
        "\n",
        "    seq_t2 = tf.range(2.5, 21, 4.5)\n",
        "\n",
        "    return seq_t1, seq_t2\n",
        "\n",
        "'''\n",
        "3. 변수를 생성하는 variable_tensor 함수를 완성하세요.\n",
        "\n",
        "   Step01. 값이 100인 변수 텐서를 만드세요.\n",
        "\n",
        "   Step02. 모든 원소의 값이 1인 (2,2) shape의 변수 텐서를 만드세요.\n",
        "           이름도 'W'로 지정합니다.\n",
        "\n",
        "   Step03. 모든 원소의 값이 0인 (2,) shape의 변수 텐서를 만드세요.\n",
        "           이름도 'b'로 지정합니다.\n",
        "'''\n",
        "\n",
        "def variable_tensor():\n",
        "\n",
        "    var_tensor = tf.Variable(initial_value=100)\n",
        "\n",
        "    W = tf.Variable(tf.ones(shape=(2,2), name='W'))\n",
        "\n",
        "    b = tf.Variable(tf.zeros(shape=(2,), name='b'))\n",
        "\n",
        "    return var_tensor, W, b\n",
        "\n",
        "def main():\n",
        "\n",
        "    t1, t2, t3 = constant_tensors()\n",
        "\n",
        "    seq_t1,seq_t2 = sequence_tensors()\n",
        "\n",
        "    var_tensor, W, b = variable_tensor()\n",
        "\n",
        "    constant_dict = {'t1':t1, 't2':t2, 't3':t3}\n",
        "\n",
        "    sequence_dict = {'seq_t1':seq_t1, 'seq_t2':seq_t2}\n",
        "\n",
        "    variable_dict = {'var_tensor':var_tensor, 'W':W, 'b':b}\n",
        "\n",
        "    for key, value in constant_dict.items():\n",
        "        print(key, ' :', value.numpy())\n",
        "\n",
        "    print()\n",
        "\n",
        "    for key, value in sequence_dict.items():\n",
        "        print(key, ' :', value.numpy())\n",
        "\n",
        "    print()\n",
        "\n",
        "    for key, value in variable_dict.items():\n",
        "        print(key, ' :', value.numpy())\n",
        "\n",
        "if __name__ == \"__main__\":\n",
        "    main()"
      ]
    },
    {
      "cell_type": "markdown",
      "source": [
        "![image.png](data:image/png;base64,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)"
      ],
      "metadata": {
        "id": "Ajln7FM0y1UG"
      }
    }
  ]
}