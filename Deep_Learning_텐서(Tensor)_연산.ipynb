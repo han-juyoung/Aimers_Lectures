{
  "nbformat": 4,
  "nbformat_minor": 0,
  "metadata": {
    "colab": {
      "provenance": [],
      "authorship_tag": "ABX9TyP8pmbFYZv2rm3s9yAWFFUY",
      "include_colab_link": true
    },
    "kernelspec": {
      "name": "python3",
      "display_name": "Python 3"
    },
    "language_info": {
      "name": "python"
    }
  },
  "cells": [
    {
      "cell_type": "markdown",
      "metadata": {
        "id": "view-in-github",
        "colab_type": "text"
      },
      "source": [
        "<a href=\"https://colab.research.google.com/github/han-juyoung/Aimers_Lectures/blob/main/Deep_Learning_%ED%85%90%EC%84%9C(Tensor)_%EC%97%B0%EC%82%B0.ipynb\" target=\"_parent\"><img src=\"https://colab.research.google.com/assets/colab-badge.svg\" alt=\"Open In Colab\"/></a>"
      ]
    },
    {
      "cell_type": "code",
      "execution_count": null,
      "metadata": {
        "id": "aW1WlZEVzAsv"
      },
      "outputs": [],
      "source": [
        "import tensorflow as tf\n",
        "import os\n",
        "os.environ['TF_CPP_MIN_LOG_LEVEL'] = '2'\n",
        "\n",
        "'''\n",
        "1. 이항 연산자를 사용해 사칙 연산을 수행하여 각 변수에 저장하세요.\n",
        "\n",
        "   Step01. 텐서 'a'와 'b'를 더해 'add'에 저장하세요.\n",
        "\n",
        "   Step02. 텐서 'a'에서 'b'를 빼 'sub'에 저장하세요.\n",
        "\n",
        "   Step03. 텐서 'a'와 'b'를 곱해 'mul'에 저장하세요.\n",
        "\n",
        "   Step04. 텐서 'a'에서 'b'를 나눠 'div'에 저장하세요.\n",
        "'''\n",
        "\n",
        "def main():\n",
        "\n",
        "    a = tf.constant(10, dtype = tf.int32)\n",
        "    b = tf.constant(3, dtype = tf.int32)\n",
        "\n",
        "    add = tf.add(a, b)\n",
        "    sub = tf.subtract(a, b)\n",
        "    mul = tf.multiply(a, b)\n",
        "    div = tf.truediv(a, b)\n",
        "\n",
        "    tensor_dict = {'add':add, 'sub':sub, 'mul':mul, 'div':div}\n",
        "\n",
        "    for key, value in tensor_dict.items():\n",
        "        print(key, ' :', value.numpy(), '\\n')\n",
        "\n",
        "    return add, sub, mul, div\n",
        "\n",
        "if __name__ == \"__main__\":\n",
        "    main()"
      ]
    },
    {
      "cell_type": "markdown",
      "source": [
        "![image.png](data:image/png;base64,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)"
      ],
      "metadata": {
        "id": "WtfX5XGczj3w"
      }
    }
  ]
}