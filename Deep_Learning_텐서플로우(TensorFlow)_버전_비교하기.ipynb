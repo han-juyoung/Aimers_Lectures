{
  "nbformat": 4,
  "nbformat_minor": 0,
  "metadata": {
    "colab": {
      "provenance": [],
      "authorship_tag": "ABX9TyNK0gOhyqHfwu+frn+CQKlq",
      "include_colab_link": true
    },
    "kernelspec": {
      "name": "python3",
      "display_name": "Python 3"
    },
    "language_info": {
      "name": "python"
    }
  },
  "cells": [
    {
      "cell_type": "markdown",
      "metadata": {
        "id": "view-in-github",
        "colab_type": "text"
      },
      "source": [
        "<a href=\"https://colab.research.google.com/github/han-juyoung/Aimers_Lectures/blob/main/Deep_Learning_%ED%85%90%EC%84%9C%ED%94%8C%EB%A1%9C%EC%9A%B0(TensorFlow)_%EB%B2%84%EC%A0%84_%EB%B9%84%EA%B5%90%ED%95%98%EA%B8%B0.ipynb\" target=\"_parent\"><img src=\"https://colab.research.google.com/assets/colab-badge.svg\" alt=\"Open In Colab\"/></a>"
      ]
    },
    {
      "cell_type": "code",
      "execution_count": null,
      "metadata": {
        "id": "8xa7y8chNYFp"
      },
      "outputs": [],
      "source": [
        "import numpy as np\n",
        "import logging, os\n",
        "\n",
        "logging.disable(logging.WARNING)\n",
        "os.environ[\"TF_CPP_MIN_LOG_LEVEL\"] = \"3\"\n",
        "\n",
        "\n",
        "\"\"\"\"\"\n",
        "텐서플로우 1.x 버전\n",
        "\"\"\"\"\"\n",
        "\n",
        "def tf1():\n",
        "\n",
        "    import tensorflow.compat.v1 as tf\n",
        "    tf.disable_v2_behavior()\n",
        "\n",
        "    # 상수\n",
        "    a = tf.constant(5)\n",
        "    b = tf.constant(3)\n",
        "\n",
        "    # 계산 정의\n",
        "    add_op = a + b\n",
        "\n",
        "    # 세션 시작\n",
        "    sess = tf.Session()\n",
        "    result_tf1 = sess.run(add_op)\n",
        "\n",
        "    return a, b, result_tf1\n",
        "\n",
        "\"\"\"\"\"\n",
        "텐서플로우 2.0 버전\n",
        "\"\"\"\"\"\n",
        "\n",
        "def tf2():\n",
        "\n",
        "    import tensorflow as tf\n",
        "    tf.compat.v1.enable_v2_behavior()\n",
        "\n",
        "    # 상수\n",
        "    a = tf.constant(5)\n",
        "    b = tf.constant(3)\n",
        "\n",
        "    # 즉시 실행 연산\n",
        "    result_tf2 = tf.add(a, b) # 텐서 형태로 저장이됨 따라서 numpy 형태로 숫자 형태로 바꿔야함\n",
        "\n",
        "    return a, b, result_tf2.numpy()\n",
        "\n",
        "def main():\n",
        "\n",
        "    tf_2, tf_1 = tf2()[2], tf1()[2]\n",
        "\n",
        "    print('result_tf1:', tf_1)\n",
        "    print('result_tf2:', tf_2)\n",
        "\n",
        "if __name__ == \"__main__\":\n",
        "    main()"
      ]
    },
    {
      "cell_type": "markdown",
      "source": [
        "![image.png](data:image/png;base64,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)"
      ],
      "metadata": {
        "id": "TJTAOm9SOO6r"
      }
    },
    {
      "cell_type": "markdown",
      "source": [
        "![image.png](data:image/png;base64,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)"
      ],
      "metadata": {
        "id": "jxaDOx1UOSRl"
      }
    },
    {
      "cell_type": "markdown",
      "source": [
        ".numpy 해주지 않으면 이렇게 텐서형태로 반환"
      ],
      "metadata": {
        "id": "7oHaPZ-XOTVT"
      }
    }
  ]
}