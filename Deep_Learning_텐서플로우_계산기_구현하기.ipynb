{
  "nbformat": 4,
  "nbformat_minor": 0,
  "metadata": {
    "colab": {
      "provenance": [],
      "authorship_tag": "ABX9TyMT2yolDkDk26VbWNz3ow+S",
      "include_colab_link": true
    },
    "kernelspec": {
      "name": "python3",
      "display_name": "Python 3"
    },
    "language_info": {
      "name": "python"
    }
  },
  "cells": [
    {
      "cell_type": "markdown",
      "metadata": {
        "id": "view-in-github",
        "colab_type": "text"
      },
      "source": [
        "<a href=\"https://colab.research.google.com/github/han-juyoung/Aimers_Lectures/blob/main/Deep_Learning_%ED%85%90%EC%84%9C%ED%94%8C%EB%A1%9C%EC%9A%B0_%EA%B3%84%EC%82%B0%EA%B8%B0_%EA%B5%AC%ED%98%84%ED%95%98%EA%B8%B0.ipynb\" target=\"_parent\"><img src=\"https://colab.research.google.com/assets/colab-badge.svg\" alt=\"Open In Colab\"/></a>"
      ]
    },
    {
      "cell_type": "code",
      "execution_count": null,
      "metadata": {
        "id": "GkCiJb0Nzs7R"
      },
      "outputs": [],
      "source": [
        "import tensorflow as tf\n",
        "import os\n",
        "os.environ['TF_CPP_MIN_LOG_LEVEL'] = '2'\n",
        "\n",
        "'''\n",
        "1. 두 실수와 연산 종류를 입력받는 함수입니다. 코드를 살펴보세요.\n",
        "'''\n",
        "\n",
        "def insert():\n",
        "\n",
        "    x = float(input('정수 또는 실수를 입력하세요. x : '))\n",
        "    y = float(input('정수 또는 실수를 입력하세요. y : '))\n",
        "    cal = input('어떤 연산을 할것인지 입력하세요. (+, -, *, /)')\n",
        "\n",
        "    return x, y, cal\n",
        "\n",
        "'''\n",
        "2. 입력받는 연산의 종류 cal에 따라 연산을 수행하고\n",
        "   결과를 반환하는 calcul() 함수를 완성하세요.\n",
        "'''\n",
        "\n",
        "def calcul(x,y,cal):\n",
        "\n",
        "    result = 0\n",
        "\n",
        "    # 더하기\n",
        "    if cal == '+':\n",
        "        result = tf.add(x, y)\n",
        "\n",
        "    # 빼기\n",
        "    if cal == '-':\n",
        "        result = tf.subtract(x, y)\n",
        "\n",
        "    # 곱하기\n",
        "    if cal == '*':\n",
        "        result = tf.multiply(x, y)\n",
        "\n",
        "    # 나누기\n",
        "    if cal == '/':\n",
        "        result = tf.truediv(x, y)\n",
        "\n",
        "    return result.numpy()\n",
        "\n",
        "'''\n",
        "3. 두 실수와 연산 종류를 입력받는 insert 함수를 호출합니다. 그 다음\n",
        "   calcul 함수를 호출해 실수 사칙연산을 수행하고 결과를 출력합니다.\n",
        "'''\n",
        "\n",
        "def main():\n",
        "\n",
        "    x, y, cal = insert()\n",
        "\n",
        "    print(calcul(x,y,cal))\n",
        "\n",
        "if __name__ == \"__main__\":\n",
        "    main()"
      ]
    },
    {
      "cell_type": "markdown",
      "source": [
        "![image.png](data:image/png;base64,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)"
      ],
      "metadata": {
        "id": "tJw8wwdk0078"
      }
    }
  ]
}