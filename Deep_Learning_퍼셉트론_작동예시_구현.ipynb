{
  "nbformat": 4,
  "nbformat_minor": 0,
  "metadata": {
    "colab": {
      "provenance": [],
      "authorship_tag": "ABX9TyOEw02ml0r4sNu993f2V+wQ",
      "include_colab_link": true
    },
    "kernelspec": {
      "name": "python3",
      "display_name": "Python 3"
    },
    "language_info": {
      "name": "python"
    }
  },
  "cells": [
    {
      "cell_type": "markdown",
      "metadata": {
        "id": "view-in-github",
        "colab_type": "text"
      },
      "source": [
        "<a href=\"https://colab.research.google.com/github/han-juyoung/Aimers_Lectures/blob/main/Deep_Learning_%ED%8D%BC%EC%85%89%ED%8A%B8%EB%A1%A0_%EC%9E%91%EB%8F%99%EC%98%88%EC%8B%9C_%EA%B5%AC%ED%98%84.ipynb\" target=\"_parent\"><img src=\"https://colab.research.google.com/assets/colab-badge.svg\" alt=\"Open In Colab\"/></a>"
      ]
    },
    {
      "cell_type": "code",
      "execution_count": null,
      "metadata": {
        "id": "GEAKPOf0dCK_"
      },
      "outputs": [],
      "source": [
        "'''\n",
        "1. 신호의 총합과 외출 여부를 반환하는\n",
        "   Perceptron 함수를 완성합니다.\n",
        "\n",
        "   Step01. Bias는 외출을 좋아하는 정도이며\n",
        "           -1로 설정되어 있습니다.\n",
        "\n",
        "   Step02. 입력 받은 값과 Bias 값을 이용하여 신호의\n",
        "           총합을 구합니다.\n",
        "\n",
        "   Step03. 지시한 활성화 함수를 참고하여 외출 여부\n",
        "           (0 or 1)를 반환합니다.\n",
        "'''\n",
        "\n",
        "def Perceptron(x_1,x_2,w_1,w_2):\n",
        "\n",
        "    bias = -1\n",
        "\n",
        "    output = (x_1*w_1 + x_2*w_2 + bias)\n",
        "\n",
        "    y = 1 if output>0 else 0\n",
        "\n",
        "    return output, y\n",
        "\n",
        "# 값을 입력받는 함수입니다.\n",
        "\n",
        "def input_func():\n",
        "\n",
        "    # 비 오는 여부(비가 온다 : 1 / 비가 오지 않는다 : 0)\n",
        "    x_1 =  int(input(\"x_1 : 비가 오는 여부(1 or 0)을 입력하세요.\"))\n",
        "\n",
        "    # 여자친구가 만나자고 하는 여부(만나자고 한다 : 1 / 만나자고 하지 않는다 : 0)\n",
        "    x_2 =  int(input(\"x_2 : 여친이 만나자고 하는 여부(1 or 0)을 입력하세요.\"))\n",
        "\n",
        "    # 비를 좋아하는 정도의 값(비를 싫어한다 -5 ~ 5 비를 좋아한다)\n",
        "    w_1 =  int(input(\"w_1 : 비를 좋아하는 정도 값(-5 ~ 5)을 입력하세요.\"))\n",
        "\n",
        "    # 여자친구를 좋아하는 정도의 값(여자친구를 싫어한다 -5 ~ 5 비를 좋아한다)\n",
        "    w_2 =  int(input(\"w_2 : 여친을 좋아하는 정도 값(-5 ~ 5)을 입력하세요.\"))\n",
        "\n",
        "    return x_1, x_2, w_1, w_2\n",
        "\n",
        "'''\n",
        "2. 실행 버튼을 눌러 x1, x2, w1, w2 값을 다양하게\n",
        "   입력해보고, Perceptron함수에서 반환한 신호의 총합과\n",
        "   그에 따른 외출 여부를 확인해보세요\n",
        "'''\n",
        "\n",
        "def main():\n",
        "\n",
        "    x_1, x_2, w_1, w_2 = input_func()\n",
        "\n",
        "    result, go_out = Perceptron(x_1,x_2,w_1,w_2)\n",
        "\n",
        "    print(\"\\n신호의 총합 : %d\" % result)\n",
        "\n",
        "    if go_out > 0:\n",
        "        print(\"외출 여부 : %d\\n ==> 외출한다!\" % go_out)\n",
        "    else:\n",
        "        print(\"외출 여부 : %d\\n ==> 외출하지 않는다!\" % go_out)\n",
        "\n",
        "if __name__ == \"__main__\":\n",
        "    main()"
      ]
    },
    {
      "cell_type": "markdown",
      "source": [
        "![image.png](data:image/png;base64,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)"
      ],
      "metadata": {
        "id": "4DneH03HqHhk"
      }
    }
  ]
}