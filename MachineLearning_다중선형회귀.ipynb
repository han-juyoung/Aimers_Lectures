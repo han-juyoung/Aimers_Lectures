{
  "nbformat": 4,
  "nbformat_minor": 0,
  "metadata": {
    "colab": {
      "provenance": [],
      "authorship_tag": "ABX9TyM3eBd53aUo0mwTzlWnG5iQ",
      "include_colab_link": true
    },
    "kernelspec": {
      "name": "python3",
      "display_name": "Python 3"
    },
    "language_info": {
      "name": "python"
    }
  },
  "cells": [
    {
      "cell_type": "markdown",
      "metadata": {
        "id": "view-in-github",
        "colab_type": "text"
      },
      "source": [
        "<a href=\"https://colab.research.google.com/github/han-juyoung/Aimers_Lectures/blob/main/MachineLearning_%EB%8B%A4%EC%A4%91%EC%84%A0%ED%98%95%ED%9A%8C%EA%B7%80.ipynb\" target=\"_parent\"><img src=\"https://colab.research.google.com/assets/colab-badge.svg\" alt=\"Open In Colab\"/></a>"
      ]
    },
    {
      "cell_type": "code",
      "execution_count": null,
      "metadata": {
        "id": "NgVQ28xPqvtc"
      },
      "outputs": [],
      "source": [
        "import matplotlib.pyplot as plt\n",
        "\n",
        "import numpy as np\n",
        "from sklearn.model_selection import train_test_split\n",
        "from sklearn.linear_model import LinearRegression\n",
        "\n",
        "# boston 데이터를 위한 모듈을 불러옵니다.\n",
        "from sklearn.datasets import load_boston\n",
        "\n",
        "\"\"\"\n",
        "1. 사이킷런에 존재하는 데이터를 불러오고,\n",
        "   불러온 데이터를 학습용 데이터와 테스트용 데이터로\n",
        "   분리하여 반환하는 함수를 구현합니다.\n",
        "\n",
        "   Step01. 사이킷런에 존재하는 boston 데이터를\n",
        "           (X, y)의 형태로 불러옵니다.\n",
        "\n",
        "   Step02. 불러온 데이터를\n",
        "           학습용 데이터와 테스트용 데이터로 분리합니다.\n",
        "\n",
        "           학습용 데이터로 전체 데이터의 80%를 사용하고,\n",
        "           테스트용 데이터로 나머지 20%를 사용합니다.\n",
        "\n",
        "           동일한 결과 확인을 위하여 random_state를\n",
        "           100으로 설정합니다.\n",
        "\"\"\"\n",
        "def load_data():\n",
        "\n",
        "    X, y  = load_boston(return_X_y = True) # (row, columns)\n",
        "\n",
        "    print(\"데이터의 입력값(X)의 개수 :\", X.shape[1])\n",
        "\n",
        "    train_X, test_X, train_y, test_y = train_test_split(X, y, test_size=0.2, random_state=100)\n",
        "\n",
        "    return train_X, test_X, train_y, test_y\n",
        "\n",
        "\"\"\"\n",
        "2. 다중 선형회귀 모델을 불러오고,\n",
        "   불러온 모델을 학습용 데이터에 맞추어 학습시킨 후\n",
        "   해당 모델을 반환하는 함수를 구현합니다.\n",
        "\n",
        "   Step01. 사이킷런에 구현되어 있는\n",
        "           다중 선형회귀 모델을 불러옵니다.\n",
        "\n",
        "   Step02. 불러온 모델을 학습용 데이터에 맞춰\n",
        "           학습시킵니다.\n",
        "\"\"\"\n",
        "def Multi_Regression(train_X,train_y):\n",
        "\n",
        "    multilinear = LinearRegression()\n",
        "\n",
        "    multilinear.fit(train_X, train_y)\n",
        "\n",
        "    return multilinear\n",
        "\n",
        "\"\"\"\n",
        "3. 모델 학습 및 예측 결과 확인을 위한 main 함수를 완성합니다.\n",
        "\n",
        "   Step01. 학습이 완료된 모델을 활용하여\n",
        "           테스트 데이터에 대한 예측을 수행합니다.\n",
        "\n",
        "   Step02. 사이킷런 회귀 모델 내에 구현되어 있는\n",
        "           score 함수를 사용하여\n",
        "           모델 학습 평가 점수를 model_score 변수에\n",
        "           저장합니다.\n",
        "\n",
        "   Step03. 학습된 모델의 beta_0와 beta_i들을\n",
        "           각각 변수 beta_0와 beta_i_list에 저장합니다.\n",
        "\"\"\"\n",
        "def main():\n",
        "\n",
        "    train_X, test_X, train_y, test_y = load_data()\n",
        "\n",
        "    multilinear = Multi_Regression(train_X,train_y)\n",
        "\n",
        "    predicted = multilinear.predict(test_X)\n",
        "\n",
        "    model_score = multilinear.score(test_X, test_y)\n",
        "\n",
        "    print(\"\\n> 모델 평가 점수 :\", model_score)\n",
        "    # Y = beta_0 + beta_1*X_1 + beta_2*X_2 ...N\n",
        "    beta_0 = multilinear.intercept_\n",
        "    beta_i_list = multilinear.coef_\n",
        "\n",
        "    print(\"\\n> beta_0 : \",beta_0)\n",
        "    print(\"> beta_i_list : \",beta_i_list)\n",
        "\n",
        "    return predicted, beta_0, beta_i_list, model_score\n",
        "\n",
        "if __name__ == \"__main__\":\n",
        "    main()"
      ]
    },
    {
      "cell_type": "markdown",
      "source": [
        "![image.png](data:image/png;base64,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)"
      ],
      "metadata": {
        "id": "n22EYJ8h7TLO"
      }
    },
    {
      "cell_type": "code",
      "source": [],
      "metadata": {
        "id": "qOewdHfk7ToA"
      },
      "execution_count": null,
      "outputs": []
    }
  ]
}