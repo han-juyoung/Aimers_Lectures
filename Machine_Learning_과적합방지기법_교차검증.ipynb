{
  "nbformat": 4,
  "nbformat_minor": 0,
  "metadata": {
    "colab": {
      "provenance": [],
      "authorship_tag": "ABX9TyO7w+EAEVdQMOX7uHi/hAZx",
      "include_colab_link": true
    },
    "kernelspec": {
      "name": "python3",
      "display_name": "Python 3"
    },
    "language_info": {
      "name": "python"
    }
  },
  "cells": [
    {
      "cell_type": "markdown",
      "metadata": {
        "id": "view-in-github",
        "colab_type": "text"
      },
      "source": [
        "<a href=\"https://colab.research.google.com/github/han-juyoung/Aimers_Lectures/blob/main/Machine_Learning_%EA%B3%BC%EC%A0%81%ED%95%A9%EB%B0%A9%EC%A7%80%EA%B8%B0%EB%B2%95_%EA%B5%90%EC%B0%A8%EA%B2%80%EC%A6%9D.ipynb\" target=\"_parent\"><img src=\"https://colab.research.google.com/assets/colab-badge.svg\" alt=\"Open In Colab\"/></a>"
      ]
    },
    {
      "cell_type": "code",
      "execution_count": null,
      "metadata": {
        "id": "_SolhPJ9tiO3"
      },
      "outputs": [],
      "source": [
        "import numpy as np\n",
        "\n",
        "from sklearn.model_selection import train_test_split\n",
        "\n",
        "from sklearn.datasets import load_boston\n",
        "from sklearn.linear_model import LinearRegression\n",
        "\n",
        "# sklearn의 KFold 모듈 불러오기\n",
        "from sklearn.model_selection import KFold\n",
        "\n",
        "\"\"\"\n",
        "1. 사이킷런에 존재하는 데이터를 불러오고,\n",
        "   불러온 데이터를 학습용 데이터와 테스트용 데이터로\n",
        "   분리하여 반환하는 함수를 구현합니다.\n",
        "\n",
        "   Step01. 사이킷런에 존재하는 boston 데이터를\n",
        "           (X, y)의 형태로 불러옵니다.\n",
        "\n",
        "   Step02. 불러온 데이터를\n",
        "           학습용 데이터와 테스트용 데이터로\n",
        "           분리합니다.\n",
        "\n",
        "           학습용 데이터로 전체 데이터의 80%를,\n",
        "           테스트용 데이터로 나머지 20%를 사용합니다.\n",
        "\n",
        "           동일한 결과 확인을 위하여 random_state를\n",
        "           100으로 설정합니다.\n",
        "\"\"\"\n",
        "def load_data():\n",
        "\n",
        "    X, y = load_boston(return_X_y=True)\n",
        "\n",
        "    train_X, test_X, train_y, test_y = train_test_split(X, y, test_size=0.2, random_state=100)\n",
        "\n",
        "    return train_X, test_X, train_y, test_y\n",
        "\n",
        "\n",
        "\"\"\"\n",
        "2. K-fold 교차 검증을 통한\n",
        "   모델 학습 및 예측 수행을 진행할 함수를 구현합니다.\n",
        "\n",
        "   Step01. 전체 데이터를 5개로 분리할 수 있도록\n",
        "           KFold 객체를 정의합니다.\n",
        "\n",
        "   Step02. 정의한 kFold 객체와 .split() 함수를 이용하여\n",
        "           학습용 데이터 내에서 다시\n",
        "           학습용(Train) 데이터와 검증용(Validation)\n",
        "           데이터를 나누고\n",
        "           각각 X_train, X_val, y_train, y_val에\n",
        "           저장합니다.\n",
        "\n",
        "           train_idx 와 val_idx는 분리된 데이터들의\n",
        "           인덱스입니다.\n",
        "\n",
        "   Step03. 분리한 학습용 데이터로 모델을 학습시키고,\n",
        "           검증용 데이터로 모델을 평가하여\n",
        "           각 데이터에 대한 모델 평가 점수를 score\n",
        "           변수에 저장합니다.\n",
        "\"\"\"\n",
        "def kfold_regression(train_X, train_y):\n",
        "\n",
        "    # 반복문 내에서 횟수를 표시하기 위한 변수 설정하기\n",
        "    n_iter = 0\n",
        "\n",
        "    # 각 fold 마다 모델 검증 점수를 저장하기 위한 빈 리스트 생성하기\n",
        "    model_scores = []\n",
        "\n",
        "    kfold = KFold(n_splits=5)\n",
        "\n",
        "    for train_idx, val_idx in kfold.split(train_X):\n",
        "\n",
        "        X_train, X_val = train_X[train_idx], train_X[val_idx]\n",
        "        y_train, y_val = train_y[train_idx], train_y[val_idx]\n",
        "\n",
        "        # 동일한 가중치 사용을 위해 각 fold 마다 모델 초기화 하기\n",
        "        model = LinearRegression()\n",
        "\n",
        "        model.fit(X_train, y_train)\n",
        "\n",
        "        # 각 Iter 별 모델 평가 점수 측정\n",
        "        score = model.score(X_val, y_val)\n",
        "\n",
        "        # 학습용 데이터의 크기를 저장합니다.\n",
        "        train_size = X_train.shape[0] # 분리된 학습용 데이터의 개수\n",
        "        val_size = X_val.shape[0]\n",
        "\n",
        "        print(\"Iter : {0} Cross-Validation Accuracy : {1}, Train Data 크기 : {2}, Validation Data 크기 : {3}\"\n",
        "              .format(n_iter, score, train_size, val_size))\n",
        "\n",
        "        n_iter += 1\n",
        "\n",
        "        # 전체 모델 점수를 저장하는 리스트에 추가하기\n",
        "        model_scores.append(score)\n",
        "\n",
        "    return kfold, model, model_scores\n",
        "\n",
        "\n",
        "def main():\n",
        "\n",
        "    # 학습용 데이터와 테스트 데이터 불러오기\n",
        "    train_X, test_X, train_y, test_y = load_data()\n",
        "\n",
        "    # KFold 교차 검증을 통한 학습 결과와 회귀 모델을 반환하는 함수 호출하기\n",
        "    kfold, model, model_scores = kfold_regression(train_X, train_y)\n",
        "\n",
        "    # 전체 성능 점수의 평균 점수 출력\n",
        "    print(\"\\n> 평균 검증 모델 점수 : \", np.mean(model_scores))\n",
        "\n",
        "\n",
        "\n",
        "if __name__ == \"__main__\":\n",
        "    main()\n"
      ]
    },
    {
      "cell_type": "markdown",
      "source": [
        "![image.png](data:image/png;base64,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)"
      ],
      "metadata": {
        "id": "6duKNR5atq8k"
      }
    },
    {
      "cell_type": "code",
      "source": [],
      "metadata": {
        "id": "SZplEfqBtv-L"
      },
      "execution_count": null,
      "outputs": []
    }
  ]
}