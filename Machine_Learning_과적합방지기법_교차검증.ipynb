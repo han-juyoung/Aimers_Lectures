{
  "nbformat": 4,
  "nbformat_minor": 0,
  "metadata": {
    "colab": {
      "provenance": [],
      "authorship_tag": "ABX9TyOi3DOmtcS0xJHKBDe5soIj",
      "include_colab_link": true
    },
    "kernelspec": {
      "name": "python3",
      "display_name": "Python 3"
    },
    "language_info": {
      "name": "python"
    }
  },
  "cells": [
    {
      "cell_type": "markdown",
      "metadata": {
        "id": "view-in-github",
        "colab_type": "text"
      },
      "source": [
        "<a href=\"https://colab.research.google.com/github/han-juyoung/Aimers_Lectures/blob/main/Machine_Learning_%EA%B3%BC%EC%A0%81%ED%95%A9%EB%B0%A9%EC%A7%80%EA%B8%B0%EB%B2%95_%EA%B5%90%EC%B0%A8%EA%B2%80%EC%A6%9D.ipynb\" target=\"_parent\"><img src=\"https://colab.research.google.com/assets/colab-badge.svg\" alt=\"Open In Colab\"/></a>"
      ]
    },
    {
      "cell_type": "code",
      "execution_count": null,
      "metadata": {
        "id": "_SolhPJ9tiO3"
      },
      "outputs": [],
      "source": [
        "import numpy as np\n",
        "\n",
        "from sklearn.model_selection import train_test_split\n",
        "\n",
        "from sklearn.datasets import load_boston\n",
        "from sklearn.linear_model import LinearRegression\n",
        "\n",
        "# sklearn의 KFold 모듈 불러오기\n",
        "from sklearn.model_selection import KFold\n",
        "\n",
        "\"\"\"\n",
        "1. 사이킷런에 존재하는 데이터를 불러오고,\n",
        "   불러온 데이터를 학습용 데이터와 테스트용 데이터로\n",
        "   분리하여 반환하는 함수를 구현합니다.\n",
        "\n",
        "   Step01. 사이킷런에 존재하는 boston 데이터를\n",
        "           (X, y)의 형태로 불러옵니다.\n",
        "\n",
        "   Step02. 불러온 데이터를\n",
        "           학습용 데이터와 테스트용 데이터로\n",
        "           분리합니다.\n",
        "\n",
        "           학습용 데이터로 전체 데이터의 80%를,\n",
        "           테스트용 데이터로 나머지 20%를 사용합니다.\n",
        "\n",
        "           동일한 결과 확인을 위하여 random_state를\n",
        "           100으로 설정합니다.\n",
        "\"\"\"\n",
        "def load_data():\n",
        "\n",
        "    X, y = load_boston(return_X_y=True)\n",
        "\n",
        "    train_X, test_X, train_y, test_y = train_test_split(X, y, test_size=0.2, random_state=100)\n",
        "\n",
        "    return train_X, test_X, train_y, test_y\n",
        "\n",
        "\n",
        "\"\"\"\n",
        "2. K-fold 교차 검증을 통한\n",
        "   모델 학습 및 예측 수행을 진행할 함수를 구현합니다.\n",
        "\n",
        "   Step01. 전체 데이터를 5개로 분리할 수 있도록\n",
        "           KFold 객체를 정의합니다.\n",
        "\n",
        "   Step02. 정의한 kFold 객체와 .split() 함수를 이용하여\n",
        "           학습용 데이터 내에서 다시\n",
        "           학습용(Train) 데이터와 검증용(Validation)\n",
        "           데이터를 나누고\n",
        "           각각 X_train, X_val, y_train, y_val에\n",
        "           저장합니다.\n",
        "\n",
        "           train_idx 와 val_idx는 분리된 데이터들의\n",
        "           인덱스입니다.\n",
        "\n",
        "   Step03. 분리한 학습용 데이터로 모델을 학습시키고,\n",
        "           검증용 데이터로 모델을 평가하여\n",
        "           각 데이터에 대한 모델 평가 점수를 score\n",
        "           변수에 저장합니다.\n",
        "\"\"\"\n",
        "def kfold_regression(train_X, train_y):\n",
        "\n",
        "    # 반복문 내에서 횟수를 표시하기 위한 변수 설정하기\n",
        "    n_iter = 0\n",
        "\n",
        "    # 각 fold 마다 모델 검증 점수를 저장하기 위한 빈 리스트 생성하기\n",
        "    model_scores = []\n",
        "\n",
        "    kfold = KFold(n_splits=5)\n",
        "\n",
        "    for train_idx, val_idx in kfold.split(train_X):\n",
        "\n",
        "        X_train, X_val = train_X[train_idx], train_X[val_idx]\n",
        "        y_train, y_val = train_y[train_idx], train_y[val_idx]\n",
        "\n",
        "        # 동일한 가중치 사용을 위해 각 fold 마다 모델 초기화 하기\n",
        "        model = LinearRegression()\n",
        "\n",
        "        model.fit(X_train, y_train)\n",
        "\n",
        "        # 각 Iter 별 모델 평가 점수 측정\n",
        "        score = model.score(X_val, y_val)\n",
        "\n",
        "        # 학습용 데이터의 크기를 저장합니다.\n",
        "        train_size = X_train.shape[0] # 분리된 학습용 데이터의 개수\n",
        "        val_size = X_val.shape[0]\n",
        "\n",
        "        print(\"Iter : {0} Cross-Validation Accuracy : {1}, Train Data 크기 : {2}, Validation Data 크기 : {3}\"\n",
        "              .format(n_iter, score, train_size, val_size))\n",
        "\n",
        "        n_iter += 1\n",
        "\n",
        "        # 전체 모델 점수를 저장하는 리스트에 추가하기\n",
        "        model_scores.append(score)\n",
        "\n",
        "    return kfold, model, model_scores\n",
        "\n",
        "\n",
        "def main():\n",
        "\n",
        "    # 학습용 데이터와 테스트 데이터 불러오기\n",
        "    train_X, test_X, train_y, test_y = load_data()\n",
        "\n",
        "    # KFold 교차 검증을 통한 학습 결과와 회귀 모델을 반환하는 함수 호출하기\n",
        "    kfold, model, model_scores = kfold_regression(train_X, train_y)\n",
        "\n",
        "    # 전체 성능 점수의 평균 점수 출력\n",
        "    print(\"\\n> 평균 검증 모델 점수 : \", np.mean(model_scores))\n",
        "\n",
        "    # 테스트 데이터 모델 점수\n",
        "    print(\"\\n> 테스트 검증 모델 점수 : \", model.score(test_X, test_y))\n",
        "\n",
        "\n",
        "\n",
        "if __name__ == \"__main__\":\n",
        "    main()\n"
      ]
    },
    {
      "cell_type": "markdown",
      "source": [
        "![image.png](data:image/png;base64,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)"
      ],
      "metadata": {
        "id": "F2jOeYnTvdhy"
      }
    },
    {
      "cell_type": "code",
      "source": [],
      "metadata": {
        "id": "SZplEfqBtv-L"
      },
      "execution_count": null,
      "outputs": []
    }
  ]
}