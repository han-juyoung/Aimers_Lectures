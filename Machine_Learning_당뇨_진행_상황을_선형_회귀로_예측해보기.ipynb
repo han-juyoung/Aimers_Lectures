{
  "nbformat": 4,
  "nbformat_minor": 0,
  "metadata": {
    "colab": {
      "provenance": [],
      "authorship_tag": "ABX9TyOnlHlaYdGsx9QFYOVeDnaR",
      "include_colab_link": true
    },
    "kernelspec": {
      "name": "python3",
      "display_name": "Python 3"
    },
    "language_info": {
      "name": "python"
    }
  },
  "cells": [
    {
      "cell_type": "markdown",
      "metadata": {
        "id": "view-in-github",
        "colab_type": "text"
      },
      "source": [
        "<a href=\"https://colab.research.google.com/github/han-juyoung/Aimers_Lectures/blob/main/Machine_Learning_%EB%8B%B9%EB%87%A8_%EC%A7%84%ED%96%89_%EC%83%81%ED%99%A9%EC%9D%84_%EC%84%A0%ED%98%95_%ED%9A%8C%EA%B7%80%EB%A1%9C_%EC%98%88%EC%B8%A1%ED%95%B4%EB%B3%B4%EA%B8%B0.ipynb\" target=\"_parent\"><img src=\"https://colab.research.google.com/assets/colab-badge.svg\" alt=\"Open In Colab\"/></a>"
      ]
    },
    {
      "cell_type": "code",
      "execution_count": 1,
      "metadata": {
        "colab": {
          "base_uri": "https://localhost:8080/"
        },
        "id": "WwFC0CoBY43O",
        "outputId": "4c6abf17-f4b5-4650-db2e-02688cbbbd02"
      },
      "outputs": [
        {
          "output_type": "stream",
          "name": "stdout",
          "text": [
            "r2 score :  0.5041745446689643\n"
          ]
        }
      ],
      "source": [
        "import pandas as pd\n",
        "import matplotlib.pyplot as plt\n",
        "from sklearn.model_selection import train_test_split\n",
        "from sklearn.datasets import load_diabetes\n",
        "from sklearn.linear_model import LinearRegression\n",
        "from sklearn.metrics import r2_score\n",
        "\n",
        "\"\"\"\n",
        "    1. 학습을 위한 준비가 완료된 데이터를 반환하는\n",
        "       load_data() 함수를 구현합니다.\n",
        "\n",
        "       Step01. 당뇨병 관련 데이터셋을 (X, y)의 형태로 불러옵니다.\n",
        "\n",
        "       Step02. 모델 학습을 위해 데이터를\n",
        "               학습용(80%)/테스트용(20%)로 분리합니다.\n",
        "               (random_state = 100)\n",
        "\"\"\"\n",
        "\n",
        "def load_data():\n",
        "    X, y = load_diabetes(return_X_y=True)\n",
        "    train_X, test_X, train_y, test_y = train_test_split(X, y, test_size=0.2, random_state = 100)\n",
        "\n",
        "    return train_X, test_X, train_y, test_y\n",
        "\n",
        "\n",
        "\"\"\"\n",
        "    2. 회귀 모델을 불러오고,\n",
        "       테스트 데이터에 대한 예측 결과를 반환하는\n",
        "       reg_model() 함수를 구현합니다.\n",
        "\"\"\"\n",
        "def reg_model(train_X, test_X, train_y):\n",
        "    model = LinearRegression()\n",
        "    model.fit(train_X, train_y)\n",
        "    pred = model.predict(test_X)\n",
        "\n",
        "    return pred\n",
        "\n",
        "\n",
        "\"\"\"\n",
        "    3. 구현한 회귀 모델의 r_square 값을\n",
        "       반환하는 r_square() 함수를 구현합니다.\n",
        "\n",
        "\"\"\"\n",
        "def r_square(pred, test_y):\n",
        "    r2 = r2_score(test_y, pred)\n",
        "\n",
        "    return r2\n",
        "\n",
        "\n",
        "\"\"\"\n",
        "    4. 구현한 함수들을 활용하여\n",
        "       당뇨병 데이터에 대한 회귀를 진행하는\n",
        "       main() 함수를 구현합니다.\n",
        "\"\"\"\n",
        "def main():\n",
        "    train_X, test_X, train_y, test_y = load_data()\n",
        "    pred = reg_model(train_X, test_X, train_y)\n",
        "    r2 = r_square(pred, test_y)\n",
        "\n",
        "    print(\"r2 score : \",r2)\n",
        "\n",
        "\n",
        "if __name__ == \"__main__\":\n",
        "    main()"
      ]
    },
    {
      "cell_type": "code",
      "source": [],
      "metadata": {
        "id": "5rwk3LAshJoh"
      },
      "execution_count": null,
      "outputs": []
    }
  ]
}