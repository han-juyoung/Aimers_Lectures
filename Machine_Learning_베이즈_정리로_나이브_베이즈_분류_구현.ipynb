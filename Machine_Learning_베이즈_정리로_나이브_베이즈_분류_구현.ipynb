{
  "nbformat": 4,
  "nbformat_minor": 0,
  "metadata": {
    "colab": {
      "provenance": [],
      "authorship_tag": "ABX9TyPjoEoYDmd/PJ/x264430TN",
      "include_colab_link": true
    },
    "kernelspec": {
      "name": "python3",
      "display_name": "Python 3"
    },
    "language_info": {
      "name": "python"
    }
  },
  "cells": [
    {
      "cell_type": "markdown",
      "metadata": {
        "id": "view-in-github",
        "colab_type": "text"
      },
      "source": [
        "<a href=\"https://colab.research.google.com/github/han-juyoung/Aimers_Lectures/blob/main/Machine_Learning_%EB%B2%A0%EC%9D%B4%EC%A6%88_%EC%A0%95%EB%A6%AC%EB%A1%9C_%EB%82%98%EC%9D%B4%EB%B8%8C_%EB%B2%A0%EC%9D%B4%EC%A6%88_%EB%B6%84%EB%A5%98_%EA%B5%AC%ED%98%84.ipynb\" target=\"_parent\"><img src=\"https://colab.research.google.com/assets/colab-badge.svg\" alt=\"Open In Colab\"/></a>"
      ]
    },
    {
      "cell_type": "code",
      "execution_count": null,
      "metadata": {
        "id": "YuUuTSsLW3nb"
      },
      "outputs": [],
      "source": [
        "import numpy as np\n",
        "\n",
        "\"\"\"\n",
        "1. \"확인\" 이라는 키워드가 등장했을 때\n",
        "    해당 메일이 스팸 메일인지 정상 메일인지\n",
        "    판별하기 위한 함수를 구현합니다.\n",
        "\"\"\"\n",
        "def bayes_theorem():\n",
        "    # 1. P(“스팸 메일”) 의 확률을 구하세요.\n",
        "    p_spam = 8/20 # 스팸메일/전체개수\n",
        "\n",
        "    # 2. P(“확인” | “스팸 메일”) 의 확률을 구하세요.\n",
        "    p_confirm_spam = 5/8 # 스팸메일 중 \"확인\" 이 들어갈 확률\n",
        "\n",
        "    # 3. P(“정상 메일”) 의 확률을 구하세요.\n",
        "    p_ham = 12/20\n",
        "\n",
        "    # 4. P(“확인” | \"정상 메일\" ) 의 확률을 구하세요.\n",
        "    p_confirm_ham = 2/12\n",
        "\n",
        "    # 5. P( \"스팸 메일\" | \"확인\" ) 의 확률을 구하세요.\n",
        "    # P( \"스팸 메일\" | \"확인\" ) = P(“확인” | “스팸 메일”) * P(“스팸 메일”) / P(“확인”)\n",
        "    p_spam_confirm = p_confirm_spam * p_spam / (7/20)\n",
        "\n",
        "    # 6. P( \"정상 메일\" | \"확인\" ) 의 확률을 구하세요.\n",
        "    # P( \"정상 메일\" | \"확인\" ) = P(“확인” | \"정상 메일\" ) * P(“정상 메일”) / P(“확인”)\n",
        "    p_ham_confirm = p_confirm_ham * p_ham / (7/20)\n",
        "\n",
        "    return p_spam_confirm, p_ham_confirm\n",
        "\n",
        "def main():\n",
        "\n",
        "    p_spam_confirm, p_ham_confirm = bayes_theorem()\n",
        "\n",
        "    print(\"P(spam|confirm) = \",p_spam_confirm, \"\\nP(ham|confirm) = \",p_ham_confirm, \"\\n\")\n",
        "\n",
        "    # 두 값을 비교하여 확인 키워드가 스팸에 가까운지 정상 메일에 가까운지 확인합니다.\n",
        "    value = [p_spam_confirm, p_ham_confirm]\n",
        "\n",
        "    if p_spam_confirm > p_ham_confirm:\n",
        "        print( round(value[0] * 100, 2), \"% 의 확률로 스팸 메일에 가깝습니다.\")\n",
        "    else :\n",
        "        print( round(value[1] * 100, 2), \"% 의 확률로 일반 메일에 가깝습니다.\")\n",
        "\n",
        "\n",
        "if __name__ == \"__main__\":\n",
        "    main()\n"
      ]
    },
    {
      "cell_type": "markdown",
      "source": [
        "![image.png](data:image/png;base64,iVBORw0KGgoAAAANSUhEUgAAAVEAAABSCAYAAADtledYAAAAAXNSR0IArs4c6QAAAARnQU1BAACxjwv8YQUAAAAJcEhZcwAADsMAAA7DAcdvqGQAABHDSURBVHhe7Z3Pa5vJGcef9r46NFUvbg+JCgG1Ye2DWW33UgJ2e9qGeGtKbFiTBkoPbS/BwRSxXUQxVnPJofQSjAu2KWa9ZHNqZRp62a5KoE4pFQRWm0Oby2pzUf6A7fPMzPv7t+aVJTnfDwzRqx/vO++8M9/nx4wnX7l06btfUoT36ae/nKfrXxvQ735zi/5m3gUAvApg/BchQUQBAADk4avmXwAAACMAEZ007YfU739MBxvmGAAwU5QmohsHH1O/0zJHU4SI1OkuTUyjNnbptP9vFkpdOm3z/rhR131IZ3U5AF5VEkW03fEGvi7JA1K+22wQdQf82rwHhBZ1movcMDtUq11RZXnTfOSw+Ta//xat7ZnjktioEw2GF2llar3cdTo4Dfax/AaG29X3O385PVg339HofpxlTMz5Qk6Acgx85w7WL1z/YDtHx4//O6h/kFHqPz2keqJD3+BvdS/wgIw2htzoSu0ZHYsQrDUprBFgSL2TffP67NjbvEnLC1fouF+hxq8m6Ikn0O7cocbggdu/asfPqLZSRPCH1G2Z36qyQ90hG47nTltrkVipDvmb6bQ716hmXrtwBNNsvOB+HV+/jYOfU4MeU8v9/AU1mqHx0ffdnyp+Y4n6O4xS/2kidzi/t/YHbqSLNB9o5RbdaFSof/x2jHiGLV3wAYmFOu08TA11g9bQ9/twiMzn0a+LNXLQ0kUNROL1mWj9/dd2LLV0DhaxZsx3VC407rcaVbfObqANXStf4P43lx9Qv7JIN8I3N1FaNF/jQXjYNMfM5hH3rwpV2YMeifaqEoVD1RGl7xmRvvdUfZwIPwdxArqiAD7a8xfZiTjy+nWofvVqhYa9R+Rqyua/qE8XaK5A/wuA+ps3NFn1nyYK5EQvE7d7kPbrLBLP6Il7px7K0vk8DeXJhnKTFTY/JwmWRkRqhdJ+ry1hixu/xucRi6W8rhs587IhS3fc59DXd37lYVc9S51V/1aXfJa8ScvqfRawgMX2WXIVxvN7rcfJlrq2SNUT57cPaNC44zM0ee+/SYfynfmc7aIIG0CnREV6Mkj7BlMgatD5RaHHfWfZJ9KxsLFbuaicgBPzjmadeodXaGHNF0GISFTi+7piY46q9IKe++qUDOqvKVr/IQ165niKyC2iGwdXI4K5MXeBXf5/xYbwYun87K29xVbpkTnSJFsa3Yj+h7C39og9qsu05A5i/cD3nr/gE31B0ra9QVbg4BG2dJuHLGaVr5M2dOu0VGcP++Sm2ymi1w/WX31uY8njGDqWXdDCfNhzck757199p/Z6xNNOZp/WFhzx9pfgwCkF8aqtJyS1Z+ulTbj+a1kDmPuAhJEcskby1Pz7vcB9eoPd7S/LO9Sr3/EMTHORBuGIrHo1EDGE84UeqH8Qr/5utLhygZ2GMfS/EkgV0Qp7Pk4Daq8t2MhhofSz+eQZD9xr+vfOINnjxtGvMpBG5Advrq1LTN6kTPZu0kLtiHpT4WkZBs8j7bXHbViY3heZealJ0b6xyB59EYGPogx8/1GxAWbCyONMb0m88mtU7e4EBrvK6fpyiioiCOfsKi+8SIsjDgpEEh6ofzLK+ZLrq5zttERCQXJPLNVCAiqken4mXJWHExHTTLwH711fQuNxE7bg54T616livNV8nF04v7kc37fyY6KGJ9mej0fUM4tH2kHn9gKhpfG8uvf8kYrMGVSovqS9tch9sZE+4Q5cnQt7c6h/LlhPJF3l1G+aKJATjZInTHQtieT+aldzDkLJv4ZmtVXOZoyoyZrptHS2qLRLjFebzBmG87ZsXKV6Wq4vDpXL56674hmIZoOjKjH2PkPvemuZ3l4YbYRyLclB/aP1NxOnweuv09xYBWB0rERUz+iFZ+wFHYpHcyjBxHWlseoJcCBx/JQGPqsoqLDPvC4DSTf4r7+xdJm9tad0ouq3Tyc9Dm+W/BNNHLK4n88SZgVFIU9h3DTpSXgSbMSJA+kX5M+t58GZ1PMVFTHJkh4jOO7SvQXPW/PQ/TNQfyUmzhIf039WgitKlgJ5Qw3qH1N/4/X6x5/TP8LXnwbsRJQHg5r5jazfkkkQPZvsWJp+8zL1WkH3fdj9guadz5V773g67And0zkY5/dLg8flhvP8IPXaV31+lfP1dTjxoI8Hi9RM+NwWd/lUU4wDd2i1DKp8T1gl7wMTVNOBTGx0qybNIyVh4kC3U3T5mSJhYDuelNe+8kcH+jiXd2UMD/l+5xbl6YmnHqq/mpjx/phC+o+/f+nPQ/eH+ici6QT/+JvmiaVSdnFSy5G4MYvcpPxmabATytWMgfZD6i99Qa0SBXA2kI7M4RyHWuEJwVlC963ZvgdwvrH0RDViNYLrJMGkUet0Z1xABfuJJwDGy8T2Ez0zTxQAAMYINmUGAAALSgnnAQDgVQUiOm5kYuucrj8FAJQoonrXIW/dmeQ8k//WtkREpLDpMgBgQiSKqIigIwy6JA9Y+e6ruSlzC5suJ+JbK2hKUQPjbj4R+/vw+YPtEO2//u/oPwaJfh41/Po8WcbKnM/nRAiof7gUr/8skOqJYlPmPEzmryjO/abLHGGkbcqLTZHPe/1nh9zhfPFNmZnqqi/UjQ6goLXyPYBwiIxNl83r6HnO66bLWZvyYlPkEOeq/rNFgZxosU2ZheRNi/mnLFLYdBmbLseDTZHTeQXqP0PkFtGimzILyZsWY9NlBTZdTuD8bCqsQf2L1X+2SBVRm02Z08GmywpsupwD8ZqxKTLqP73knlgqvClzKt6D8c6PTZdH5txuuiz11Lm94J8Hz8qmwqj/eOo/XRTIiUYpHkY6YNPlMjmvmy7P7KbCBtTfHKYxSv2nDCsRTd6UOQtsulwe53PTZXfpHDZF1qD+U4udiPJgid+UOQv2hLDpcimcz02XsSnyq13/2WJimzKXRvshNl0eOec4eXTfme17AK82lp6oRpLI2JT5bMGmywBMB9hPFAAALCjFEwUAgFcViCgAAFgAEQUAAAsgogAAYAFEFAAALICIAgCABRBRAACwACIKAAAWQEQBAMACiCgAAFgAEQUAAAsgogAAYAFEFAAALICIAgCABRBRAACwACIKAAAWQEQBAMACiCgAAFgAEQUAAAsgoiWw3fk3nR68a45GZOcj6p/ep1vm0OHWwd+p33nfHEVRnzv/LW1SiTnvueLmfTrtf0Tb5rB0Ms//Pv1FtfXfaf+mecuHdf8Y4/2p/mPRPwr/fgz3YtO+tvcvQEQzeZf2nf/Du2RRkofvnvOdS0SVN2jLvU78gByJSp2+n3CuQB1Syl92zA9syT2IYtrdFDVgShiMsQbIebbq/NnPQLffdaIPrlDtgwG9+Ws+TjF6QcL36L+e/syq3dU9+M9vSs7+G2yfj2jff5z7Hi3I+QwSEcfErX+wlNafmQQRbVEn5sJSTg/WzXc08v+G9/u2/1WyuV6nZY41GwcfB67dKXARXS9dwnUuwnbnNr1J/6DtmvzXvlLu0ifEYldCJ9pS/11wUvkere+aL6Zw/38D82o00usg5UP61Hz3bPkjrS9coe3uS6L+h6YeL+mT316hhbU/mu+UwNB7tupaReBB/sOartMP7vDxnR/petaW8g38neuBvrXdJXrzJyWK0+4tWjDndkqRe7y/9j39uw8+U8f/NcdHfXU4Auyx//oNqtAlWj0LERZ8z9df1PMqiRRPdEjdlv/CO9QdEg2e75vP1+mALeVKdcjftKPduUY189ql/ZCajRd07Fz/+BnVVj6mgw3zeRr825XqY2rJ71qPiRqrI4r8u/StKtGnnVt037yjBneHO1V1rhRvNNZbKNDBbn2TK6hExnlOcSWfIM8ePBilvdTAnACXq3zdAf030Laf0WD4GlUvm8MU1LMbPHf7ljKItfmxhO1jxY2gkiIDx+M2Hjv3ySO6rvq6dRpsCsgfzrdXqUGP6XBTDkRA71Bj8IBq956qj0dGBK/2jLqi0D7a8xdp2D0idTlh84hFvELVujkuxAWayyO+ES5RNWl0VqpR4R+B7Z+8QdS96xM88WSuB8MNPtYCG+2keuA5nyeXpM6aHc5fp2+b79rDg+kXZXoin9GRtNlv/2FtyEfi6YCvW6VvBbxO6TMvaWA5LKYHfmbLl9hQP6EtcyyOxXCgvVOF6+39yHzHwRHP2/Sdnu7jjgeoI6C79J/6bdXPZllME0S0Scu1t2htzxwyStR6j8h9q8cCutw0B6PCYfzKReofv00n5h3NOvUOJWxzvF5GRLwypEHPHKex+TYdDxapKSLQXGSR+gPfi04ZFAvtxasg+sY3gw9YeRDDAY0c1YSoVLmTOtyco29w2BoYhK6nGe6kjAoh5bP0khYCDwMiHl+swx/lcd+mNwdyL3fpkyoLf0m55YnB4fKf+6+pPKgyeioHx0anfzJbnn+iJykiaNJZy++pd5z01u9zpVR0Skb6T3z/y/r8jMj0pNPJ6Ym2aL42pN6JI2r7tLZmK6CsixLG9x/QsutuOuzTnlFrNy+6coG6raCwp7Hp5vp2qFe/w+e4SoPWFboXVOsMdOheadx2LaUk27car4VC/NHZWjaCoh4iFw5NP/8gZ/idkjiPlhInqgqiJijUffHzUINRD56jgXTepHppL0baWnva4hFrwRrrpIYzoHKmCLRH9SHRO/ybd6oqP6rvcVRMikIMTuk5infp+3VuT18KIRmfgC7ovi5Ry2rVO85kRvqnLblEdOPgKovdo9wClgsTxh9neLN7a29pMTx+QY1mzpyoQU8u/ZzonnR0LcB7ez7vNg/K0/PCjq16T4Uu5SWmjTWW5L0Ji3Kf2+eFehMw+lh5e+xFf2pyUEl50f7gJRuJ62PKwzlCOFBhd/i+lACZGe1oOOd5KZFiJVIZOKFp7hSBLG9yUh5G5EMCsVoo72NSFOb5lcmtg5+xML+kT/4Uar/YcNy0vyuYbLgGdyMCqiafkkQ1Z5SkywTz9onpiHzkENF1WqpXqP/E3vP08ML4iBOahITo/QrVl3KE4yzQ0nnnn3DDtJ5Svel06GIi7OEb0HmtcCZOvsiUyBKnfHkiJ6fpeWzO77Un823xkPg4aUmHDIKjvuP9JJeRclYy+6zC95TOaWa0P08S8qRlOs4sr/t6UrxHPwiIQbSMPptdHtJPthrEnnIxsfLWUb5HWxxyh/u+93k86vPUyEGvsS1zydFZky2iG1epXnlGT3KrXQ7ar6tJmdqKNyiaDR4GtWt6mdPGrho4wSVN6zRXNS+zYMGVzitpgvYNyYnuqONWl6hxI7iManKkeFqmSJ5IWfoUzyt7iVK2RxM4h1rO4nhDXhkpZyUCmctrFCFKEFo1Ax6tT6BMamJpJtDGelUtxZqxVRq7z+lz83JkSpoATiNTRLUI+WbJy8CInL+0ZHa+byar9m7SCVvv2tIuuY6jmVjy8rIjUp0zL7LJnrm2z+NkX4NLiiXP/v04cmvng/t/7dGQvf8fW3lBzl8rJRcJ5z//X9QIhZc0bS/4Z8HLQOomz1+MkIWAhiIkf1ERUBapq0fSVn+8R/9UE3cj/lHFnQ/ZgeBoZcwTmOkiyh7hUmBCyUGvEVWN0FxkT+EirZhGCS+IH3UxvkwMuTPsUgpOLDlsHso6UZlYEm+X7cG9/KqX7eXZW/asa+RZHD3y7Hpc4l/SCu7khr8UNxgqlIucJ6lMYGJh9xb9ntvXSXnkEoRY9IL7uHZ3Smz7s6fuT6UobzGcr7RguyMrBTLSKXlwc4bRkmvxfuo65vQ/5pDxkZRuyk4xSbTH548zAjknJ/Po11cuXfrul+b1WJBKqAmkWoH854wh3uAPB3fHskxDhGirepIcFkvOME9OUDryOCdkxoUIvRL2LMTbshQLP6pd6/QfCYFJXlfpz7HnN7PYWQ9AhKhQPl2ft9phAX6adn07VP+SydLEuvknzhJIvbccv2dkAnTUyVqb8Zd1/3n0a+wiCgAA55lcS5wAAADEAxEFAAALIKIAAGABRBQAACyAiAIAgAUQUQAAsAAiCgAAFkBEAQDAAogoAABYABEFAAALIKIAAGABRBQAACyAiAIAgAUQUQAAGBmi/wM3OhG2PsDRzQAAAABJRU5ErkJggg==)"
      ],
      "metadata": {
        "id": "WZcQNC3Dbvzi"
      }
    }
  ]
}