{
  "cells": [
    {
      "cell_type": "markdown",
      "metadata": {
        "id": "view-in-github",
        "colab_type": "text"
      },
      "source": [
        "<a href=\"https://colab.research.google.com/github/han-juyoung/Aimers_Lectures/blob/main/project_(1).ipynb\" target=\"_parent\"><img src=\"https://colab.research.google.com/assets/colab-badge.svg\" alt=\"Open In Colab\"/></a>"
      ]
    },
    {
      "cell_type": "markdown",
      "metadata": {
        "id": "F0wPG57xDMOE"
      },
      "source": [
        "# [Project] 텍스트 데이터 기반 문서 분류 프로젝트"
      ]
    },
    {
      "cell_type": "markdown",
      "metadata": {
        "id": "UUdZhgPYDMOJ"
      },
      "source": [
        "---"
      ]
    },
    {
      "cell_type": "markdown",
      "metadata": {
        "id": "KMxXUnBoDMOL"
      },
      "source": [
        "## 프로젝트 목표\n",
        "- 한국어 원문 데이터(법원 판결문)의 요약문을 카테고리('일반행정', '세무', '특허', '형사', '민사', '가사')별로 분류하는 프로젝트 수행"
      ]
    },
    {
      "cell_type": "markdown",
      "metadata": {
        "id": "IXcok90eDMON"
      },
      "source": [
        "---"
      ]
    },
    {
      "cell_type": "markdown",
      "metadata": {
        "id": "h7fC1mesDMOO"
      },
      "source": [
        "## 데이터 출처\n",
        "-  https://aihub.or.kr/aidata/8054"
      ]
    },
    {
      "cell_type": "markdown",
      "metadata": {
        "id": "7WXilVaKDMOP"
      },
      "source": [
        "---"
      ]
    },
    {
      "cell_type": "markdown",
      "metadata": {
        "id": "TlsYqE7jDMOQ"
      },
      "source": [
        "## 프로젝트 개요\n",
        "\n",
        "이번 프로젝트에서는 LSTM 기술을 활용하여 법원 판결문을 분류하는 프로젝트를 수행합니다.\n",
        "\n",
        "법원 판결문 데이터를 형태소 분석기를 활용하여 한국어 텍스트를 전처리하는 방법과 이를 학습하여 분류 성능을 확인합니다."
      ]
    },
    {
      "cell_type": "markdown",
      "metadata": {
        "id": "EJ4FFZ6RDMOQ"
      },
      "source": [
        "---"
      ]
    },
    {
      "cell_type": "code",
      "execution_count": null,
      "metadata": {
        "id": "ux9aNPl4DMOS",
        "outputId": "8b145fde-71d1-4fb4-be58-f6fa5962c6ba"
      },
      "outputs": [
        {
          "name": "stdout",
          "output_type": "stream",
          "text": [
            "Collecting aiohttp\n",
            "  Downloading aiohttp-3.10.11-cp38-cp38-manylinux_2_17_x86_64.manylinux2014_x86_64.whl (1.3 MB)\n",
            "     |████████████████████████████████| 1.3 MB 15.3 MB/s            \n",
            "\u001b[?25hCollecting multidict<7.0,>=4.5\n",
            "  Downloading multidict-6.1.0-cp38-cp38-manylinux_2_17_x86_64.manylinux2014_x86_64.whl (129 kB)\n",
            "     |████████████████████████████████| 129 kB 70.3 MB/s            \n",
            "\u001b[?25hCollecting frozenlist>=1.1.1\n",
            "  Downloading frozenlist-1.5.0-cp38-cp38-manylinux_2_5_x86_64.manylinux1_x86_64.manylinux_2_17_x86_64.manylinux2014_x86_64.whl (243 kB)\n",
            "     |████████████████████████████████| 243 kB 71.0 MB/s            \n",
            "\u001b[?25hCollecting yarl<2.0,>=1.12.0\n",
            "  Downloading yarl-1.15.2-cp38-cp38-manylinux_2_17_x86_64.manylinux2014_x86_64.whl (319 kB)\n",
            "     |████████████████████████████████| 319 kB 70.3 MB/s            \n",
            "\u001b[?25hCollecting aiohappyeyeballs>=2.3.0\n",
            "  Downloading aiohappyeyeballs-2.4.3-py3-none-any.whl (14 kB)\n",
            "Collecting async-timeout<6.0,>=4.0\n",
            "  Downloading async_timeout-5.0.1-py3-none-any.whl (6.2 kB)\n",
            "Collecting aiosignal>=1.1.2\n",
            "  Downloading aiosignal-1.3.1-py3-none-any.whl (7.6 kB)\n",
            "Requirement already satisfied: attrs>=17.3.0 in /opt/conda/lib/python3.8/site-packages (from aiohttp) (20.3.0)\n",
            "Collecting typing-extensions>=4.1.0\n",
            "  Downloading typing_extensions-4.12.2-py3-none-any.whl (37 kB)\n",
            "Requirement already satisfied: idna>=2.0 in /opt/conda/lib/python3.8/site-packages (from yarl<2.0,>=1.12.0->aiohttp) (2.10)\n",
            "Collecting propcache>=0.2.0\n",
            "  Downloading propcache-0.2.0-cp38-cp38-manylinux_2_17_x86_64.manylinux2014_x86_64.whl (213 kB)\n",
            "     |████████████████████████████████| 213 kB 67.0 MB/s            \n",
            "\u001b[?25hInstalling collected packages: typing-extensions, propcache, multidict, frozenlist, yarl, async-timeout, aiosignal, aiohappyeyeballs, aiohttp\n",
            "  Attempting uninstall: typing-extensions\n",
            "    Found existing installation: typing-extensions 3.7.4.3\n",
            "    Uninstalling typing-extensions-3.7.4.3:\n",
            "      Successfully uninstalled typing-extensions-3.7.4.3\n",
            "\u001b[31mERROR: pip's dependency resolver does not currently take into account all the packages that are installed. This behaviour is the source of the following dependency conflicts.\n",
            "tensorflow 2.4.0 requires typing-extensions~=3.7.4, but you have typing-extensions 4.12.2 which is incompatible.\u001b[0m\n",
            "Successfully installed aiohappyeyeballs-2.4.3 aiohttp-3.10.11 aiosignal-1.3.1 async-timeout-5.0.1 frozenlist-1.5.0 multidict-6.1.0 propcache-0.2.0 typing-extensions-4.12.2 yarl-1.15.2\n",
            "\u001b[33mWARNING: You are using pip version 21.3.1; however, version 24.3.1 is available.\n",
            "You should consider upgrading via the '/opt/conda/bin/python3.8 -m pip install --upgrade pip' command.\u001b[0m\n"
          ]
        }
      ],
      "source": [
        "!pip install --upgrade aiohttp"
      ]
    },
    {
      "cell_type": "markdown",
      "metadata": {
        "id": "tXIvaZmIDMOV"
      },
      "source": [
        "## 1. 데이터 읽기"
      ]
    },
    {
      "cell_type": "markdown",
      "metadata": {
        "id": "gUbtgaunDMOW"
      },
      "source": [
        "pandas를 사용하여 `project_data_all3.json` 데이터를 읽고 dataframe 형태로 저장해 봅시다."
      ]
    },
    {
      "cell_type": "code",
      "execution_count": null,
      "metadata": {
        "id": "VEEPpCkLZVof"
      },
      "outputs": [],
      "source": [
        "import matplotlib.pyplot as plt\n",
        "import matplotlib.font_manager as fm\n",
        "\n",
        "# 엘리스 환경에서 한글 폰트를 사용하기 위한 코드입니다.\n",
        "font_dirs = ['/usr/share/fonts/truetype/nanum', ]\n",
        "font_files = fm.findSystemFonts(fontpaths=font_dirs)\n",
        "\n",
        "for font_file in font_files:\n",
        "    fm.fontManager.addfont(font_file)\n",
        "\n",
        "plt.rc('font', family='NanumBarunGothic')"
      ]
    },
    {
      "cell_type": "code",
      "execution_count": null,
      "metadata": {
        "id": "r0uouJJ4_sZn"
      },
      "outputs": [],
      "source": [
        "# 데이터 파일 경로 정의하기\n",
        "fp = './project_data_all3.json'"
      ]
    },
    {
      "cell_type": "code",
      "execution_count": null,
      "metadata": {
        "id": "yppYkeeb71G7"
      },
      "outputs": [],
      "source": [
        "import numpy as np\n",
        "import pandas as pd\n",
        "from sklearn.model_selection import train_test_split\n",
        "\n",
        "import tensorflow as tf\n",
        "tf.random.set_seed(0)"
      ]
    },
    {
      "cell_type": "code",
      "execution_count": null,
      "metadata": {
        "colab": {
          "base_uri": "https://localhost:8080/",
          "height": 589
        },
        "id": "0oBvppc5_zfS",
        "outputId": "68b32084-72a4-4973-e105-9d01abba14d8",
        "scrolled": false
      },
      "outputs": [
        {
          "data": {
            "text/html": [
              "<div>\n",
              "<style scoped>\n",
              "    .dataframe tbody tr th:only-of-type {\n",
              "        vertical-align: middle;\n",
              "    }\n",
              "\n",
              "    .dataframe tbody tr th {\n",
              "        vertical-align: top;\n",
              "    }\n",
              "\n",
              "    .dataframe thead th {\n",
              "        text-align: right;\n",
              "    }\n",
              "</style>\n",
              "<table border=\"1\" class=\"dataframe\">\n",
              "  <thead>\n",
              "    <tr style=\"text-align: right;\">\n",
              "      <th></th>\n",
              "      <th>id</th>\n",
              "      <th>category</th>\n",
              "      <th>size</th>\n",
              "      <th>char_count</th>\n",
              "      <th>publish_date</th>\n",
              "      <th>title</th>\n",
              "      <th>text</th>\n",
              "      <th>annotator_id</th>\n",
              "      <th>document_quality_scores</th>\n",
              "      <th>extractive</th>\n",
              "      <th>abstractive</th>\n",
              "    </tr>\n",
              "  </thead>\n",
              "  <tbody>\n",
              "    <tr>\n",
              "      <th>0</th>\n",
              "      <td>83587</td>\n",
              "      <td>일반행정</td>\n",
              "      <td>small</td>\n",
              "      <td>509</td>\n",
              "      <td>20041125</td>\n",
              "      <td>사도개설허가취소신청거부처분취소</td>\n",
              "      <td>[[{'index': 0, 'sentence': '[1] 취소소송은 처분 등이 있음...</td>\n",
              "      <td>3852</td>\n",
              "      <td>{'readable': 3, 'accurate': 4, 'informative': ...</td>\n",
              "      <td>[0, 4, 6]</td>\n",
              "      <td>[취소소송은 처분 등이 있다는 것을 안 때로부터 90일 이내에 제기하여야 하고, 행...</td>\n",
              "    </tr>\n",
              "    <tr>\n",
              "      <th>1</th>\n",
              "      <td>83588</td>\n",
              "      <td>일반행정</td>\n",
              "      <td>medium</td>\n",
              "      <td>845</td>\n",
              "      <td>20041126</td>\n",
              "      <td>노선배분취소처분취소·국제선정기항공운송사업노선면허거부처분취소</td>\n",
              "      <td>[[{'index': 0, 'sentence': '[1] 항고소송의 대상이 되는 행...</td>\n",
              "      <td>3814</td>\n",
              "      <td>{'readable': 4, 'accurate': 4, 'informative': ...</td>\n",
              "      <td>[0, 4, 9]</td>\n",
              "      <td>[항고소송의 대상이 되는 행정처분이란 일반 국민의 권리의무에 직접 영향을 미치는 행...</td>\n",
              "    </tr>\n",
              "    <tr>\n",
              "      <th>2</th>\n",
              "      <td>83590</td>\n",
              "      <td>세무</td>\n",
              "      <td>small</td>\n",
              "      <td>425</td>\n",
              "      <td>20041125</td>\n",
              "      <td>취득세부과처분취소</td>\n",
              "      <td>[[{'index': 0, 'sentence': '취득세는 본래 재화의 이전이라는 ...</td>\n",
              "      <td>3710</td>\n",
              "      <td>{'readable': 3, 'accurate': 3, 'informative': ...</td>\n",
              "      <td>[1, 2, 3]</td>\n",
              "      <td>[취득세는 사실상의 취득행위 자체를 과세객체로 하고, 지방세법에 따르면 부동산 취득...</td>\n",
              "    </tr>\n",
              "    <tr>\n",
              "      <th>3</th>\n",
              "      <td>83591</td>\n",
              "      <td>세무</td>\n",
              "      <td>small</td>\n",
              "      <td>292</td>\n",
              "      <td>20041126</td>\n",
              "      <td>관세부과처분취소</td>\n",
              "      <td>[[{'index': 0, 'sentence': '[1] 행정처분이 당연무효라고 하...</td>\n",
              "      <td>3708</td>\n",
              "      <td>{'readable': 3, 'accurate': 3, 'informative': ...</td>\n",
              "      <td>[0, 1, 5]</td>\n",
              "      <td>[행정처분이 당연무효라고 하기 위해서는 하자가 중대, 명백해야 하는데 세관출장소장이...</td>\n",
              "    </tr>\n",
              "    <tr>\n",
              "      <th>4</th>\n",
              "      <td>83592</td>\n",
              "      <td>특허</td>\n",
              "      <td>small</td>\n",
              "      <td>275</td>\n",
              "      <td>20041126</td>\n",
              "      <td>거절결정(상)</td>\n",
              "      <td>[[{'index': 0, 'sentence': '[1] 등록출원한 상표가 상표법 ...</td>\n",
              "      <td>4255</td>\n",
              "      <td>{'readable': 5, 'accurate': 5, 'informative': ...</td>\n",
              "      <td>[0, 1, 3]</td>\n",
              "      <td>[상표법에 따라 상표가 등록받을 수 있는지의 여부는 구체적으로 판단하므로 출원상표 ...</td>\n",
              "    </tr>\n",
              "  </tbody>\n",
              "</table>\n",
              "</div>"
            ],
            "text/plain": [
              "      id category    size  char_count  publish_date  \\\n",
              "0  83587     일반행정   small         509      20041125   \n",
              "1  83588     일반행정  medium         845      20041126   \n",
              "2  83590       세무   small         425      20041125   \n",
              "3  83591       세무   small         292      20041126   \n",
              "4  83592       특허   small         275      20041126   \n",
              "\n",
              "                              title  \\\n",
              "0                  사도개설허가취소신청거부처분취소   \n",
              "1  노선배분취소처분취소·국제선정기항공운송사업노선면허거부처분취소   \n",
              "2                         취득세부과처분취소   \n",
              "3                          관세부과처분취소   \n",
              "4                           거절결정(상)   \n",
              "\n",
              "                                                text  annotator_id  \\\n",
              "0  [[{'index': 0, 'sentence': '[1] 취소소송은 처분 등이 있음...          3852   \n",
              "1  [[{'index': 0, 'sentence': '[1] 항고소송의 대상이 되는 행...          3814   \n",
              "2  [[{'index': 0, 'sentence': '취득세는 본래 재화의 이전이라는 ...          3710   \n",
              "3  [[{'index': 0, 'sentence': '[1] 행정처분이 당연무효라고 하...          3708   \n",
              "4  [[{'index': 0, 'sentence': '[1] 등록출원한 상표가 상표법 ...          4255   \n",
              "\n",
              "                             document_quality_scores extractive  \\\n",
              "0  {'readable': 3, 'accurate': 4, 'informative': ...  [0, 4, 6]   \n",
              "1  {'readable': 4, 'accurate': 4, 'informative': ...  [0, 4, 9]   \n",
              "2  {'readable': 3, 'accurate': 3, 'informative': ...  [1, 2, 3]   \n",
              "3  {'readable': 3, 'accurate': 3, 'informative': ...  [0, 1, 5]   \n",
              "4  {'readable': 5, 'accurate': 5, 'informative': ...  [0, 1, 3]   \n",
              "\n",
              "                                         abstractive  \n",
              "0  [취소소송은 처분 등이 있다는 것을 안 때로부터 90일 이내에 제기하여야 하고, 행...  \n",
              "1  [항고소송의 대상이 되는 행정처분이란 일반 국민의 권리의무에 직접 영향을 미치는 행...  \n",
              "2  [취득세는 사실상의 취득행위 자체를 과세객체로 하고, 지방세법에 따르면 부동산 취득...  \n",
              "3  [행정처분이 당연무효라고 하기 위해서는 하자가 중대, 명백해야 하는데 세관출장소장이...  \n",
              "4  [상표법에 따라 상표가 등록받을 수 있는지의 여부는 구체적으로 판단하므로 출원상표 ...  "
            ]
          },
          "execution_count": 5,
          "metadata": {},
          "output_type": "execute_result"
        }
      ],
      "source": [
        "# json 파일 읽기\n",
        "df = pd.read_json(fp)\n",
        "df.head()"
      ]
    },
    {
      "cell_type": "markdown",
      "metadata": {
        "id": "cJmu2RdiDMOa"
      },
      "source": [
        "먼저 분류해야할 카테고리를 확인합니다."
      ]
    },
    {
      "cell_type": "code",
      "execution_count": null,
      "metadata": {
        "colab": {
          "base_uri": "https://localhost:8080/"
        },
        "id": "ZY5evRwTWI0N",
        "outputId": "05b611ac-e4e7-47fb-fb72-61f90a8ea28e"
      },
      "outputs": [
        {
          "data": {
            "text/plain": [
              "array(['일반행정', '세무', '특허', '형사', '민사', '가사'], dtype=object)"
            ]
          },
          "execution_count": 6,
          "metadata": {},
          "output_type": "execute_result"
        }
      ],
      "source": [
        "# 먼저 카테고리 종류를 확인\n",
        "df.category.unique()"
      ]
    },
    {
      "cell_type": "markdown",
      "metadata": {
        "id": "jparWxm6DMOb"
      },
      "source": [
        "그래프를 활용하여 카테고리 별로 데이터 분포를 확인합니다."
      ]
    },
    {
      "cell_type": "code",
      "execution_count": null,
      "metadata": {
        "colab": {
          "base_uri": "https://localhost:8080/",
          "height": 408
        },
        "id": "WDrWkfuYgTFq",
        "outputId": "10e0e597-9a4c-4f72-a9fc-8c3f7dbf8d6e"
      },
      "outputs": [
        {
          "name": "stderr",
          "output_type": "stream",
          "text": [
            "/opt/conda/lib/python3.8/site-packages/seaborn/_decorators.py:36: FutureWarning: Pass the following variable as a keyword arg: x. From version 0.12, the only valid positional argument will be `data`, and passing other arguments without an explicit keyword will result in an error or misinterpretation.\n",
            "  warnings.warn(\n"
          ]
        },
        {
          "data": {
            "text/plain": [
              "<AxesSubplot:xlabel='category', ylabel='count'>"
            ]
          },
          "execution_count": 7,
          "metadata": {},
          "output_type": "execute_result"
        },
        {
          "data": {
            "image/png": "[encoded data removed]",
            "text/plain": [
              "<Figure size 432x288 with 1 Axes>"
            ]
          },
          "metadata": {
            "needs_background": "light"
          },
          "output_type": "display_data"
        }
      ],
      "source": [
        "%matplotlib inline\n",
        "import matplotlib.pyplot as plt\n",
        "import seaborn as sns\n",
        "\n",
        "# 카테고리 분포 확인\n",
        "fig, axe = plt.subplots(ncols=1)\n",
        "sns.countplot(df.category)"
      ]
    },
    {
      "cell_type": "markdown",
      "metadata": {
        "id": "KVqOkMCVDMOc"
      },
      "source": [
        "위 그래프를 확인하면, 형사와 민사가 가장 많고 특허나 가사 요약문은 상대적으로 적다는 것을 확인할 수 있습니다. 그렇기 때문에 데이터를 학습하기 위하여 테스트셋을 분류할 때 비율을 유지해주는 것이 좋습니다. train_test_split 메서드에서 stratify 옵션으로 비율을 유지할 수 있습니다.\n",
        "\n",
        "카테고리를 정답 레이블로 활용하기 위하여 숫자데이터로 치환합니다."
      ]
    },
    {
      "cell_type": "code",
      "execution_count": null,
      "metadata": {
        "id": "zLd_5_4mWbV9"
      },
      "outputs": [],
      "source": [
        "# category 컬럼 데이터 변경\n",
        "df['category'] = df['category'].replace({'가사': 0, '형사': 1, '특허': 2, '민사': 3, '일반행정': 4, '세무': 5})"
      ]
    },
    {
      "cell_type": "code",
      "execution_count": null,
      "metadata": {
        "id": "cFWiEQatDMOc",
        "outputId": "b98e01bd-a150-4b2c-fb48-cc64318c744e"
      },
      "outputs": [
        {
          "data": {
            "text/plain": [
              "0       4\n",
              "1       4\n",
              "2       5\n",
              "3       5\n",
              "4       2\n",
              "       ..\n",
              "2999    1\n",
              "3000    1\n",
              "3001    3\n",
              "3002    2\n",
              "3003    5\n",
              "Name: category, Length: 3004, dtype: int64"
            ]
          },
          "execution_count": 9,
          "metadata": {},
          "output_type": "execute_result"
        }
      ],
      "source": [
        "df['category']"
      ]
    },
    {
      "cell_type": "markdown",
      "metadata": {
        "id": "7ibZUOXQDMOd"
      },
      "source": [
        "정답 레이블이 되는 `category`데이터를 `target`변수에 저장합니다."
      ]
    },
    {
      "cell_type": "code",
      "execution_count": null,
      "metadata": {
        "colab": {
          "base_uri": "https://localhost:8080/"
        },
        "id": "d4AD0Tklgouf",
        "outputId": "c7f977a8-8cba-464a-fcb5-a450e7329345"
      },
      "outputs": [
        {
          "name": "stdout",
          "output_type": "stream",
          "text": [
            "3004\n"
          ]
        }
      ],
      "source": [
        "target = df['category'].values\n",
        "\n",
        "# 데이터의 개수를 확인\n",
        "print(len(target))"
      ]
    },
    {
      "cell_type": "markdown",
      "metadata": {
        "id": "cdIKNzTRDMOd"
      },
      "source": [
        "학습할 요약문 데이터 `abstractive`를 `data`변수에 저장합니다."
      ]
    },
    {
      "cell_type": "code",
      "execution_count": null,
      "metadata": {
        "id": "9XMXGFq9DMOe",
        "outputId": "0a378d07-a283-4b1a-cc3b-07008884eee3"
      },
      "outputs": [
        {
          "data": {
            "text/plain": [
              "0       [취소소송은 처분 등이 있다는 것을 안 때로부터 90일 이내에 제기하여야 하고, 행...\n",
              "1       [항고소송의 대상이 되는 행정처분이란 일반 국민의 권리의무에 직접 영향을 미치는 행...\n",
              "2       [취득세는 사실상의 취득행위 자체를 과세객체로 하고, 지방세법에 따르면 부동산 취득...\n",
              "3       [행정처분이 당연무효라고 하기 위해서는 하자가 중대, 명백해야 하는데 세관출장소장이...\n",
              "4       [상표법에 따라 상표가 등록받을 수 있는지의 여부는 구체적으로 판단하므로 출원상표 ...\n",
              "                              ...                        \n",
              "2999    [특정범죄가중처벌등에관한 법률 제5조의4 제1항 소정의 상습범으로 기소된 공소사실에...\n",
              "3000    [피해자가 자정 가까운 시간에 점포 폐점으로 오래된 빵을 별 다른 주의의무 없이 점...\n",
              "3001    [전세나 임대차계약에 있어 전세보증금은 특별한 사정이 없다면 임차인의 임차가옥 명도...\n",
              "3002    [출원상표와 인용상표는 외관적으로는 전체적으로 다르게 보이지만 호칭에 있어서는 거래...\n",
              "3003    [한국마사회의 경마사업으로 인한 소득은 그 사업이 비영리법인인 위 마사회의 고유사업...\n",
              "Name: abstractive, Length: 3004, dtype: object"
            ]
          },
          "execution_count": 11,
          "metadata": {},
          "output_type": "execute_result"
        }
      ],
      "source": [
        "df['abstractive']"
      ]
    },
    {
      "cell_type": "code",
      "execution_count": null,
      "metadata": {
        "colab": {
          "base_uri": "https://localhost:8080/"
        },
        "id": "wRnwOgvGMc-O",
        "outputId": "b4403f97-c238-4df0-d268-8527faf78903"
      },
      "outputs": [
        {
          "name": "stdout",
          "output_type": "stream",
          "text": [
            "3004\n"
          ]
        }
      ],
      "source": [
        "data = df['abstractive'].values\n",
        "\n",
        "# 데이터의 개수를 확인\n",
        "print(len(data))"
      ]
    },
    {
      "cell_type": "markdown",
      "metadata": {
        "id": "Hi6M2V7mDMOe"
      },
      "source": [
        "---"
      ]
    },
    {
      "cell_type": "markdown",
      "metadata": {
        "id": "feVduhtvDMOe"
      },
      "source": [
        "## 2. 형태소 분석하기"
      ]
    },
    {
      "cell_type": "markdown",
      "metadata": {
        "id": "PLALfb1HDMOf"
      },
      "source": [
        "KoNLPy(\"코엔엘파이\"라고 읽습니다)는 한국어 정보처리를 위한 파이썬 패키지입니다.\n",
        "\n",
        "KoNLPy에는 형태소를 분석하고 품사를 태깅할 수 있는 여러개의 패키지를 제공합니다. 여러가지 품사 태거들의 비교는 https://konlpy.org/ko/latest/morph/ 에서 확인할 수 있습니다.\n",
        "\n",
        "이번 프로젝트에서는 Okt(Twitter) 클래스를 활용하겠습니다.\n",
        "\n",
        "Stemming(어간 추출)은 어형이 변형된 단어로부터 접사 등을 제거하고 그 `단어의 어간을 분리`하는 것을 말합니다.[위키백과]\n",
        "\n",
        "형태소는 두 가지 종류가 있습니다. 각각 어간(stem)과 접사(affix)입니다.\n",
        "\n",
        "1) 어간(stem)\n",
        ": 단어의 의미를 담고 있는 단어의 핵심 부분.\n",
        "\n",
        "2) 접사(affix)\n",
        ": 단어에 추가적인 의미를 주는 부분.\n",
        "\n",
        "stemming은 정해진 규칙만 보고 단어의 의미를 구분하기 때문에, 어간 추출 후에 나오는 결과 단어는 `사전에 존재하지 않는 단어`일 수도 있습니다."
      ]
    },
    {
      "cell_type": "code",
      "execution_count": null,
      "metadata": {
        "colab": {
          "base_uri": "https://localhost:8080/"
        },
        "id": "TK3mrM1F16tg",
        "outputId": "6501359c-157a-4a76-bbc2-aa1e13b2cc76",
        "scrolled": false
      },
      "outputs": [
        {
          "name": "stdout",
          "output_type": "stream",
          "text": [
            "[('취소소송', 'Noun'), ('은', 'Josa'), ('처분', 'Noun'), ('등', 'Noun'), ('이', 'Josa'), ('있다', 'Adjective'), ('것', 'Noun'), ('을', 'Josa'), ('안', 'Noun'), ('때', 'Noun'), ('로부터', 'Noun'), ('90일', 'Number'), ('이내', 'Noun'), ('에', 'Josa'), ('제기', 'Noun'), ('하다', 'Verb'), ('하다', 'Verb'), (',', 'Punctuation'), ('행정처분', 'Noun'), ('에서의', 'Josa'), ('허가', 'Noun'), ('에', 'Josa'), ('붙다', 'Verb'), ('기한', 'Noun'), ('이', 'Josa'), ('부당하다', 'Adjective'), ('짧다', 'Adjective'), ('경우', 'Noun'), ('에는', 'Josa'), ('이르다', 'Verb'), ('허가', 'Noun'), ('조건', 'Noun'), ('존속', 'Noun'), ('기간', 'Noun'), ('으로', 'Josa'), ('보아', 'Noun'), ('서', 'Josa'), ('그', 'Noun'), ('기한', 'Noun'), ('의', 'Josa'), ('도래', 'Noun'), ('로', 'Josa'), ('조건', 'Noun'), ('개정', 'Noun'), ('을', 'Josa'), ('고려', 'Noun'), ('하다', 'Verb'), ('해석', 'Noun'), ('하다', 'Verb'), ('수', 'Noun'), ('있다', 'Adjective'), (',', 'Punctuation'), ('사도', 'Noun'), ('개설', 'Noun'), ('허가', 'Noun'), ('의', 'Josa'), ('준공', 'Noun'), ('검사', 'Noun'), ('를', 'Josa'), ('받다', 'Verb'), ('못', 'Noun'), ('한', 'Josa'), ('것', 'Noun'), ('은', 'Josa'), ('사도', 'Noun'), ('개설', 'Noun'), ('허가', 'Noun'), ('자체', 'Noun'), ('의', 'Josa'), ('존속', 'Noun'), ('기간', 'Noun'), ('으로', 'Josa'), ('볼', 'Noun'), ('수', 'Noun'), ('없다', 'Adjective'), ('까닭', 'Noun'), ('으로', 'Josa'), ('이', 'Determiner'), ('것', 'Noun'), ('이', 'Josa'), ('실효', 'Noun'), ('되다', 'Verb'), ('것', 'Noun'), ('은', 'Josa'), ('아니다', 'Adjective'), ('.', 'Punctuation')]\n"
          ]
        }
      ],
      "source": [
        "# 판결요약문을 KoNLPy 의 Okt 클래스로 형태소 분석\n",
        "from konlpy.tag import Okt\n",
        "\n",
        "# Okt 객체 선언\n",
        "okt = Okt()\n",
        "\n",
        "# stemming기반 형태소 분석\n",
        "# 먼저 요약문 1개만 품사 태깅을 해보겠습니다.\n",
        "pos_results = okt.pos(data[0][0], norm=True, stem=True)\n",
        "\n",
        "# 품사를 태깅한다는 것은 주어진 텍스트를 형태소 단위로 나누고 명사, 조사, 동사 등의 형태소를 배열 형태로 만다는 과정입니다.\n",
        "print(pos_results)"
      ]
    },
    {
      "cell_type": "code",
      "execution_count": null,
      "metadata": {
        "id": "x9CdA-tdDMOf",
        "outputId": "2b857d26-f52a-4539-f025-aa74ee859c4e"
      },
      "outputs": [
        {
          "data": {
            "text/plain": [
              "'취소소송은 처분 등이 있다는 것을 안 때로부터 90일 이내에 제기하여야 하고, 행정처분에서의 허가에 붙은 기한이 부당하게 짧은 경우에는 이를 허가조건 존속기간으로 보아서 그 기한의 도래로 조건 개정을 고려한다고 해석할 수 있기에, 사도개설허가의 준공검사를 받지 못한 것은 사도개설허가 자체의 존속기간으로 볼 수 없다는 까닭으로 이것이 실효되는 것은 아니다.'"
            ]
          },
          "execution_count": 14,
          "metadata": {},
          "output_type": "execute_result"
        }
      ],
      "source": [
        "data[0][0]"
      ]
    },
    {
      "cell_type": "markdown",
      "metadata": {
        "id": "uz7ElIxhDMOg"
      },
      "source": [
        "`data_tokenized` 변수에 모든 요약문을 형태소 분석하여 저장하겠습니다.\n",
        "\n",
        "형태소를 분석하는 메서드는 아래와 같습니다.\n",
        "\n",
        "1. okt.morphs()\n",
        "\n",
        "- 텍스트를 형태소 단위로 나눈다. 옵션으로는 norm과 stem이 있다\n",
        "\n",
        "- norm은 normalize의 약자로 문장을 정규화하는 역할\n",
        "\n",
        "- stem은 각 단어에서 어간을 추출하는 기능\n",
        "\n",
        "\n",
        "\n",
        "2. okt.nouns()\n",
        "\n",
        "- 텍스트에서 명사만 뽑아낸다.\n",
        "\n",
        "\n",
        "\n",
        "3. okt.phrases()\n",
        "\n",
        "- 텍스트에서 어절을 뽑아낸다.\n",
        "\n",
        "\n",
        "\n",
        "4. okt.pos()\n",
        "\n",
        "- 각 품사를 태깅하는 역할.\n",
        "\n",
        "- 품사를 태깅한다는 것은 주어진 텍스트를 형태소 단위로 나누고, 나눠진 각 형태소를 그에 해당하는 품사와 함께 리스트화 하는 것을 의미한다.\n",
        "\n",
        "                                                                ※ 출처(https://soyoung-new-challenge.tistory.com/31)\n",
        "\n",
        "이번 프로젝트에서는 명사만 추출하는 방식으로 진행하겠습니다."
      ]
    },
    {
      "cell_type": "code",
      "execution_count": null,
      "metadata": {
        "colab": {
          "base_uri": "https://localhost:8080/"
        },
        "id": "yQEEZ8Mr2gHl",
        "outputId": "a29dcb40-1544-42a0-87d6-ff9ca163feee",
        "scrolled": true
      },
      "outputs": [
        {
          "name": "stdout",
          "output_type": "stream",
          "text": [
            "['취소소송', '처분', '등', '것', '안', '때', '로부터', '이내', '제기', '행정처분', '허가', '기한', '경우', '허가', '조건', '존속', '기간', '보아', '그', '기한', '도래', '조건', '개정', '고려', '해석', '수', '사도', '개설', '허가', '준공', '검사', '못', '것', '사도', '개설', '허가', '자체', '존속', '기간', '볼', '수', '까닭', '것', '실효', '것']\n"
          ]
        }
      ],
      "source": [
        "# 판결요약문 데이터를 형태소 분석 결과로 저장\n",
        "data_tokenized = []\n",
        "\n",
        "# 학습데이터로 명사만 사용\n",
        "for text in data:\n",
        "    data_tokenized.append(okt.nouns(text[0]))\n",
        "\n",
        "# 행태소 분석된 결과를 확인\n",
        "print(data_tokenized[0])"
      ]
    },
    {
      "cell_type": "markdown",
      "metadata": {
        "id": "Fadp56GoDMOi"
      },
      "source": [
        "위 결과를 보면 okt.pos의 결과에서 'Noun'으로 된 명사만 남아있는 것을 확인할 수 있습니다."
      ]
    },
    {
      "cell_type": "code",
      "execution_count": null,
      "metadata": {
        "colab": {
          "base_uri": "https://localhost:8080/"
        },
        "id": "NMNcccdAXuOp",
        "outputId": "7bd4b280-95c4-47c8-9e5e-69b5705770af"
      },
      "outputs": [
        {
          "name": "stdout",
          "output_type": "stream",
          "text": [
            "3004\n"
          ]
        }
      ],
      "source": [
        "# 형태소 분석 결과의 개수를 확인. 이전에 확인한 개수와 동일한 것을 확인할 수 있습니다.\n",
        "print(len(data_tokenized))"
      ]
    },
    {
      "cell_type": "markdown",
      "metadata": {
        "id": "ksKEripgDMOi"
      },
      "source": [
        "각 문장마다 분리된 형태소, 즉 명사가 몇개씩인지 확인해보겠습니다.\n",
        "\n",
        "`data_tokenized` 변수의 각 배열마다 몇개의 명사가 들어있는지 히스토그램으로 확인하면 대부분의 요약문이 20~60개의 명사를 가지고 있다는 것을 확인할 수 있습니다."
      ]
    },
    {
      "cell_type": "code",
      "execution_count": null,
      "metadata": {
        "colab": {
          "base_uri": "https://localhost:8080/",
          "height": 316
        },
        "id": "b00Y31gvAqj4",
        "outputId": "bf91861b-0c69-47ac-ac48-67162b0a43fc"
      },
      "outputs": [
        {
          "name": "stdout",
          "output_type": "stream",
          "text": [
            "판결 요약문의 최대 길이 :150\n",
            "판결 요약문의 평균 길이 :43.73601864181092\n"
          ]
        },
        {
          "data": {
            "image/png": "[encoded data removed]",
            "text/plain": [
              "<Figure size 432x288 with 1 Axes>"
            ]
          },
          "metadata": {
            "needs_background": "light"
          },
          "output_type": "display_data"
        }
      ],
      "source": [
        "print('판결 요약문의 최대 길이 :{}'.format(max(len(l) for l in data_tokenized)))\n",
        "print('판결 요약문의 평균 길이 :{}'.format(sum(map(len, data_tokenized))/len(data_tokenized)))\n",
        "\n",
        "plt.hist([len(s) for s in data_tokenized], bins=50)\n",
        "plt.xlabel('length of samples')\n",
        "plt.ylabel('number of samples')\n",
        "plt.show()"
      ]
    },
    {
      "cell_type": "markdown",
      "metadata": {
        "id": "sbSX1wAGDMOj"
      },
      "source": [
        "---"
      ]
    },
    {
      "cell_type": "markdown",
      "metadata": {
        "id": "hxfIk8bSDMOk"
      },
      "source": [
        "## 3. 케라스(Keras)의 텍스트 전처리"
      ]
    },
    {
      "cell_type": "markdown",
      "metadata": {
        "id": "4HAl63NiDMOk"
      },
      "source": [
        "형태소 분석된 결과를 학습하기 위해서 Keras를 활용하겠습니다.\n",
        "\n",
        "Keras는 기본적인 전처리 도구들을 제공하는데, `정수 인코딩`을 위해서 Keras의 토크나이저를 사용하겠습니다.\n",
        "\n",
        "여기서 `정수 인코딩`이란 컴퓨터가 텍스트보다는 숫자를 더 잘 처리할 수 있기 때문에, 자연어 처리 과정에서 텍스트를 숫자로 바꾸는 기법중에 하나입니다. 그리고 그러한 기법들을 본격적으로 적용시키기 위한 첫 단계로 각 단어를 고유한 정수에 맵핑(mapping)시키는 전처리 작업이 필요할 때가 있습니다.\n",
        "\n",
        "예를 들어 갖고 있는 텍스트에 단어가 5,000개가 있다면, 5,000개의 단어들 각각에 1번부터 5,000번까지 단어와 맵핑되는 고유한 정수, 다른 표현으로는 인덱스를 부여합니다. 가령, book은 150번, dog는 171번, love는 192번, books는 212번과 같이 숫자가 부여됩니다. 인덱스를 부여하는 방법은 여러 가지가 있을 수 있는데 랜덤으로 부여하기도 하지만, 보통은 전처리 또는 빈도수가 높은 단어들만 사용하기 위해서 단어에 대한 빈도수를 기준으로 정렬한 뒤에 부여합니다. [위키독스]"
      ]
    },
    {
      "cell_type": "code",
      "execution_count": null,
      "metadata": {
        "id": "GUT2pwZf_LpE"
      },
      "outputs": [],
      "source": [
        "# Keras의 텍스트 전처리기를 이용하여 정수 인코딩\n",
        "from tensorflow.keras.preprocessing.text import Tokenizer\n",
        "\n",
        "tokenizer = Tokenizer()\n",
        "\n",
        "# fit_on_texts()안에 형태소 분석된 데이터를 입력으로 넣으면 빈도수를 기준으로 단어 집합을 생성\n",
        "tokenizer.fit_on_texts(data_tokenized)"
      ]
    },
    {
      "cell_type": "markdown",
      "metadata": {
        "id": "KGdiBoy1DMOl"
      },
      "source": [
        "fit_on_texts는 입력한 텍스트로부터 단어 `빈도수가 높은 순`으로 정수 인덱스를 부여합니다.\n",
        "\n",
        "각 단어에 인덱스가 어떻게 부여되었는지를 보려면, `word_index`를 확인하면 됩니다."
      ]
    },
    {
      "cell_type": "code",
      "execution_count": null,
      "metadata": {
        "colab": {
          "base_uri": "https://localhost:8080/"
        },
        "id": "eKau-PI1_its",
        "outputId": "97628049-79d5-4b7a-f3c9-c8665458dc2f"
      },
      "outputs": [
        {
          "name": "stdout",
          "output_type": "stream",
          "text": [
            "{'제': 1, '것': 2, '수': 3, '그': 4, '경우': 5, '위': 6, '행위': 7, '등': 8, '해당': 9, '관': 10, '법': 11, '대한': 12, '처분': 13, '항': 14, '규정': 15, '사실': 16, '피고인': 17, '및': 18, '이': 19, '볼': 20, '때': 21, '인정': 22, '토지': 23, '원고': 24, '구': 25, '회사': 26, '등기': 27, '후': 28, '청구': 29, '함': 30, '계약': 31, '사업': 32, '대하': 33, '취득': 34, '의무': 35, '목적': 36, '판단': 37, '피고': 38, '시행': 39, '지급': 40, '취소': 41, '판결': 42, '대상': 43, '사용': 44, '위반': 45, '결정': 46, '성립': 47, '위법': 48, '과세': 49, '사건': 50, '사유': 51, '여부': 52, '부동산': 53, '죄': 54, '소유권': 55, '거래': 56, '내용': 57, '사정': 58, '권리': 59, '법률': 60, '이유': 61, '허가': 62, '기간': 63, '절차': 64, '이전': 65, '발생': 66, '양도': 67, '세법': 68, '로서': 69, '채권': 70, '기재': 71, '업무': 72, '재산': 73, '금': 74, '적용': 75, '이익': 76, '변경': 77, '관계': 78, '정': 79, '다른': 80, '중': 81, '상의': 82, '책임': 83, '무효': 84, '손해': 85, '신청': 86, '방법': 87, '자': 88, '호': 89, '보험': 90, '명의': 91, '소송': 92, '부분': 93, '대해': 94, '확정': 95, '이상': 96, '바': 97, '피해자': 98, '상표': 99, '액': 100, '부과': 101, '범위': 102, '법인': 103, '효력': 104, '등록': 105, '기준': 106, '신고': 107, '채무': 108, '것이므': 109, '건물': 110, '소정': 111, '매매': 112, '보아': 113, '주장': 114, '포함': 115, '령': 116, '범죄': 117, '소득': 118, '일부': 119, '말': 120, '당사자': 121, '처벌': 122, '특정': 123, '제기': 124, '의사': 125, '법원': 126, '담보': 127, '금액': 128, '확인': 129, '가액': 130, '피': 131, '이행': 132, '당시': 133, '거나': 134, '취지': 135, '행사': 136, '타인': 137, '갑': 138, '공무원': 139, '채무자': 140, '채권자': 141, '점': 142, '내': 143, '사항': 144, '요건': 145, '대금': 146, '해석': 147, '소유자': 148, '소외': 149, '원심': 150, '직무': 151, '손해배상': 152, '전': 153, '시설': 154, '관리': 155, '영업': 156, '집행': 157, '작성': 158, '반환': 159, '제공': 160, '과실': 161, '소유': 162, '정도': 163, '자가': 164, '의': 165, '항의': 166, '때문': 167, '제출': 168, '상태': 169, '원칙': 170, '허위': 171, '실질': 172, '부정': 173, '위해': 174, '조치': 175, '자동차': 176, '직접': 177, '수입': 178, '증거': 179, '교부': 180, '진술': 181, '처리': 182, '고': 183, '사람': 184, '물품': 185, '상대방': 186, '결과': 187, '사례': 188, '속': 189, '주의': 190, '의미': 191, '자의': 192, '점유': 193, '사이': 194, '가격': 195, '수인': 196, '로부터': 197, '제한': 198, '면허': 199, '이용': 200, '주택': 201, '세액': 202, '음': 203, '사업자': 204, '물': 205, '금지': 206, '계획': 207, '발행': 208, '관련': 209, '자체': 210, '라면': 211, '매수': 212, '허용': 213, '징계': 214, '뿐': 215, '침해': 216, '계속': 217, '약정': 218, '고려': 219, '요구': 220, '보호': 221, '체결': 222, '결의': 223, '시': 224, '사무': 225, '형법': 226, '행정처분': 227, '필요': 228, '주식': 229, '선거': 230, '납부': 231, '비': 232, '부담': 233, '구체': 234, '법령': 235, '불법행위': 236, '변제': 237, '알': 238, '구성': 239, '관세': 240, '근거': 241, '민법': 242, '심판': 243, '공사': 244, '매도': 245, '표시': 246, '지방': 247, '권한': 248, '종합': 249, '근로자': 250, '원인': 251, '통지': 252, '평가': 253, '건축': 254, '심리': 255, '사회': 256, '운송': 257, '특별': 258, '기관': 259, '상품': 260, '사고': 261, '판매': 262, '하자': 263, '선고': 264, '임대': 265, '재량': 266, '현저': 267, '증권': 268, '사망': 269, '과세표준': 270, '조합': 271, '검사': 272, '일반': 273, '영향': 274, '합의': 275, '인식': 276, '상속': 277, '자신': 278, '승인': 279, '인': 280, '법률상': 281, '료': 282, '호의': 283, '항소': 284, '은행': 285, '범행': 286, '객관': 287, '수익': 288, '설치': 289, '각': 290, '재심': 291, '위임': 292, '명령': 293, '소': 294, '산정': 295, '존재': 296, '자금': 297, '지위': 298, '이후': 299, '기타': 300, '조건': 301, '전부': 302, '상당': 303, '국가': 304, '자기': 305, '개': 306, '설정': 307, '직원': 308, '비용': 309, '압류': 310, '임차': 311, '자료': 312, '불': 313, '공급': 314, '농지': 315, '수령': 316, '모두': 317, '임': 318, '면': 319, '서류': 320, '기술': 321, '정리': 322, '분양': 323, '국세': 324, '규칙': 325, '재판': 326, '부': 327, '공제': 328, '납세': 329, '귀속': 330, '건설': 331, '이사': 332, '내지': 333, '증여': 334, '위원회': 335, '용': 336, '징수': 337, '조사': 338, '상고': 339, '과정': 340, '보상': 341, '추정': 342, '심': 343, '개정': 344, '공익': 345, '제외': 346, '사안': 347, '용도': 348, '자산': 349, '가지': 350, '초과': 351, '외': 352, '자격': 353, '사용자': 354, '재': 355, '종전': 356, '못': 357, '임의': 358, '개인': 359, '송달': 360, '시가': 361, '불이익': 362, '통상': 363, '업자': 364, '시기': 365, '납세의무': 366, '지정': 367, '청구권': 368, '위조': 369, '기존': 370, '차량': 371, '실제': 372, '별도': 373, '명': 374, '발명': 375, '수행': 376, '성질': 377, '심사': 378, '단체': 379, '입찰': 380, '청구인': 381, '진행': 382, '를': 383, '은': 384, '전체': 385, '감독': 386, '다시': 387, '므': 388, '보증': 389, '유지': 390, '신용': 391, '매입': 392, '증명': 393, '안': 394, '사법': 395, '운영': 396, '일': 397, '불구': 398, '차': 399, '법정': 400, '분배': 401, '수표': 402, '보기': 403, '배상': 404, '부가가치세': 405, '자로': 406, '인도': 407, '직권': 408, '계산': 409, '항고': 410, '기한': 411, '보수': 412, '상황': 413, '가처분': 414, '건축물': 415, '만': 416, '달리': 417, '그것': 418, '특허': 419, '종': 420, '날': 421, '장관': 422, '확정판결': 423, '근로': 424, '상속인': 425, '거절': 426, '선임': 427, '물건': 428, '형': 429, '효과': 430, '도로': 431, '포탈': 432, '고의': 433, '입증': 434, '여': 435, '고안': 436, '취하': 437, '기본': 438, '경과': 439, '세': 440, '위험': 441, '국내': 442, '보관': 443, '주주': 444, '행': 445, '독립': 446, '행정소송': 447, '출원': 448, '기각': 449, '어음': 450, '범': 451, '기일': 452, '파기': 453, '장소': 454, '예금': 455, '정지': 456, '수용': 457, '위탁': 458, '담당': 459, '전의': 460, '경쟁': 461, '기업': 462, '채': 463, '재해': 464, '보고': 465, '방지': 466, '하나': 467, '지방자치단체': 468, '유죄': 469, '뜻': 470, '대가': 471, '실지': 472, '추계': 473, '민사소송법': 474, '아파트': 475, '조항': 476, '도시': 477, '상호': 478, '탁자': 479, '구역': 480, '근저당권': 481, '근무': 482, '상법': 483, '임금': 484, '인용': 485, '소멸시효': 486, '법인세': 487, '위배': 488, '자백': 489, '경영': 490, '불법': 491, '선': 492, '행정': 493, '방해': 494, '합리': 495, '차용': 496, '대표자': 497, '교회': 498, '형사소송법': 499, '가압류': 500, '종료': 501, '관할': 502, '해제': 503, '가능성': 504, '누락': 505, '관해': 506, '신탁': 507, '이의': 508, '규제': 509, '타당': 510, '보장': 511, '모든': 512, '실행': 513, '주체': 514, '출석': 515, '용역': 516, '항소심': 517, '관청': 518, '개별': 519, '자유': 520, '이외': 521, '분할': 522, '본인': 523, '배임죄': 524, '산출': 525, '일시': 526, '유사': 527, '란': 528, '명의신탁': 529, '따라서': 530, '조합원': 531, '문서': 532, '참가': 533, '대항': 534, '제조': 535, '동의': 536, '공탁': 537, '탈': 538, '불복': 539, '사기죄': 540, '선박': 541, '준': 542, '고지': 543, '노동조합': 544, '약관': 545, '대표이사': 546, '공동': 547, '가중': 548, '활동': 549, '가장': 550, '입금': 551, '정부': 552, '당연무효': 553, '고시': 554, '동시': 555, '학교': 556, '행정청': 557, '재결': 558, '통해': 559, '운전': 560, '증서': 561, '운행': 562, '상대로': 563, '근로기준법': 564, '나머지': 565, '케': 566, '종중': 567, '이의신청': 568, '개설': 569, '완성': 570, '피해': 571, '상': 572, '물의': 573, '형식': 574, '통': 575, '가치': 576, '금융기관': 577, '지출': 578, '표준': 579, '능력': 580, '상해': 581, '부인': 582, '세금': 583, '상습': 584, '수도': 585, '의장': 586, '절도': 587, '국민': 588, '외국': 589, '구분': 590, '형사': 591, '범의': 592, '개발': 593, '처': 594, '가등기': 595, '봄': 596, '배제': 597, '주식회사': 598, '횡령죄': 599, '설립': 600, '임대차': 601, '업체': 602, '폭행': 603, '안전': 604, '부지': 605, '존속': 606, '해도': 607, '더': 608, '잘못': 609, '포괄': 610, '양도소득세': 611, '보전': 612, '승계': 613, '오인': 614, '변론': 615, '소속': 616, '금품': 617, '개시': 618, '명시': 619, '임용': 620, '경제': 621, '재물': 622, '대출': 623, '철거': 624, '건설업': 625, '그대로': 626, '퇴직금': 627, '다수': 628, '업': 629, '부당이득': 630, '기초': 631, '조서': 632, '정정': 633, '면제': 634, '노동': 635, '지점': 636, '공소장': 637, '간': 638, '산입': 639, '구성요건': 640, '앞': 641, '거주': 642, '조정': 643, '수단': 644, '의사표시': 645, '대지': 646, '적': 647, '별개': 648, '정상': 649, '착오': 650, '참가인': 651, '인과관계': 652, '조례': 653, '다음': 654, '임무': 655, '참작': 656, '과': 657, '공정': 658, '또한': 659, '산업': 660, '지역': 661, '수요': 662, '실용신안': 663, '급여': 664, '파면': 665, '준공': 666, '상환': 667, '여러': 668, '추가': 669, '로써': 670, '알선': 671, '부여': 672, '환지': 673, '각하': 674, '입': 675, '위험성': 676, '수출': 677, '시점': 678, '명목': 679, '보상금': 680, '증언': 681, '동일': 682, '부당': 683, '변동': 684, '운전자': 685, '돈': 686, '계산서': 687, '하천': 688, '포기': 689, '운수': 690, '통념': 691, '일방': 692, '동일성': 693, '병': 694, '공유': 695, '차이': 696, '선거운동': 697, '남용': 698, '공고': 699, '서면': 700, '후보자': 701, '경매': 702, '정상품': 703, '법률관계': 704, '거부': 705, '시효': 706, '표': 707, '전제': 708, '청탁': 709, '현실': 710, '시장': 711, '을': 712, '한도': 713, '현재': 714, '지원': 715, '가입': 716, '종결': 717, '기능': 718, '증거능력': 719, '배임': 720, '율': 721, '점포': 722, '서울특별시': 723, '반드시': 724, '부가가치': 725, '횡령': 726, '단서': 727, '소의': 728, '제시': 729, '가해자': 730, '도': 731, '우선': 732, '취급': 733, '초래': 734, '인지': 735, '총회': 736, '보유': 737, '발급': 738, '무죄': 739, '등록상표': 740, '추징': 741, '부합': 742, '유언': 743, '객체': 744, '예정': 745, '만일': 746, '독점': 747, '뒤': 748, '이기': 749, '소멸': 750, '의견': 751, '데': 752, '계': 753, '회복': 754, '우려': 755, '로': 756, '내의': 757, '협박': 758, '폐지': 759, '기': 760, '임야': 761, '기판력': 762, '서로': 763, '요하': 764, '또': 765, '공소': 766, '여야': 767, '조세': 768, '경합': 769, '보증금': 770, '입증책임': 771, '광고': 772, '동안': 773, '의결': 774, '강제': 775, '실시': 776, '만료': 777, '대표': 778, '재건축': 779, '원': 780, '신용카드': 781, '증인': 782, '소집': 783, '혼인': 784, '감사': 785, '일자': 786, '면세': 787, '중재': 788, '문제': 789, '의도': 790, '비록': 791, '충족': 792, '학교법인': 793, '장부': 794, '파산': 795, '신뢰': 796, '이해관계': 797, '승소': 798, '증': 799, '한정': 800, '사해행위': 801, '이자': 802, '양수': 803, '면적': 804, '해': 805, '미달': 806, '날로': 807, '인수': 808, '가산': 809, '회수': 810, '차익': 811, '기록': 812, '보지': 813, '기회': 814, '경비': 815, '소비': 816, '임원': 817, '목': 818, '정보': 819, '장물': 820, '상속세': 821, '공모': 822, '상실': 823, '심의': 824, '종사': 825, '체납': 826, '일정': 827, '전액': 828, '두': 829, '변호사': 830, '최고': 831, '경락': 832, '해임': 833, '우리나라': 834, '금고': 835, '중도': 836, '완료': 837, '절도죄': 838, '소위': 839, '소원': 840, '보정': 841, '내부': 842, '관여': 843, '약속어음': 844, '강제집행': 845, '대통령령': 846, '당초': 847, '상이': 848, '명칭': 849, '회계': 850, '헌법': 851, '관념': 852, '공직': 853, '금전': 854, '행위자': 855, '주민': 856, '통행': 857, '부실': 858, '기밀': 859, '비교': 860, '선정': 861, '망': 862, '후의': 863, '소득세': 864, '충돌': 865, '주민등록': 866, '유가': 867, '대법원': 868, '도급': 869, '한계': 870, '호로': 871, '교습': 872, '시간': 873, '잔': 874, '본안': 875, '득': 876, '주위': 877, '이혼': 878, '순위': 879, '저당권': 880, '신축': 881, '일체': 882, '인과': 883, '교통사고': 884, '여지': 885, '간주': 886, '건축법': 887, '지시': 888, '것임': 889, '양곡': 890, '비밀': 891, '분야': 892, '손금': 893, '수수료': 894, '정치자금': 895, '예외': 896, '설명': 897, '정범': 898, '마찬가지': 899, '방식': 900, '혼동': 901, '협의': 902, '보증인': 903, '승낙': 904, '미성년': 905, '중간': 906, '계약서': 907, '해지': 908, '대리인': 909, '신용장': 910, '부존재': 911, '경찰관': 912, '설비': 913, '무상': 914, '생산': 915, '매출': 916, '범인': 917, '법조': 918, '정관': 919, '특수': 920, '등기부': 921, '재범': 922, '지인': 923, '배당': 924, '발견': 925, '교육': 926, '착수': 927, '소송행위': 928, '외관': 929, '실현': 930, '재산권': 931, '전과': 932, '하도급': 933, '위계': 934, '법률행위': 935, '유무': 936, '치료': 937, '응': 938, '양자': 939, '표지': 940, '수당': 941, '요청': 942, '약': 943, '면직': 944, '위법성': 945, '바로': 946, '국가보안법': 947, '투자': 948, '사전': 949, '결여': 950, '공장': 951, '세무서': 952, '반국가단체': 953, '방치': 954, '경위': 955, '감액': 956, '판정': 957, '집단': 958, '경정': 959, '규': 960, '학원': 961, '간접': 962, '화물': 963, '정의': 964, '면책': 965, '회의': 966, '도시계획법': 967, '예상': 968, '법리': 969, '실체': 970, '대상자': 971, '단계': 972, '화해': 973, '재화': 974, '존부': 975, '주소': 976, '분': 977, '사후': 978, '이사회': 979, '감호': 980, '의료': 981, '청산': 982, '형상': 983, '훼손': 984, '버스': 985, '상소': 986, '수리': 987, '공용': 988, '대리': 989, '증빙': 990, '말소': 991, '이내': 992, '실효': 993, '감정': 994, '협약': 995, '영위': 996, '퇴직': 997, '대여': 998, '정본': 999, '방지법': 1000, '주관': 1001, '교통': 1002, '대한민국': 1003, '고용': 1004, '날인': 1005, '보험금': 1006, '철회': 1007, '교사': 1008, '확장': 1009, '기부': 1010, '처단': 1011, '측정': 1012, '경찰': 1013, '연장': 1014, '사찰': 1015, '주지': 1016, '생활': 1017, '서비스': 1018, '모집': 1019, '식품': 1020, '거치': 1021, '불분명': 1022, '전원': 1023, '유족': 1024, '세율': 1025, '징계처분': 1026, '취소소송': 1027, '취득세': 1028, '성격': 1029, '관행': 1030, '정당': 1031, '일수': 1032, '직': 1033, '연금': 1034, '비적': 1035, '작업': 1036, '그로': 1037, '반려': 1038, '가공': 1039, '피의자': 1040, '성과': 1041, '이란': 1042, '대위': 1043, '수급인': 1044, '첨부': 1045, '법규': 1046, '기구': 1047, '술': 1048, '시정': 1049, '행정행위': 1050, '스스로': 1051, '저촉': 1052, '신설': 1053, '폭력': 1054, '급': 1055, '대비': 1056, '계약금': 1057, '전세권': 1058, '군': 1059, '준용': 1060, '구조': 1061, '범칙': 1062, '시한': 1063, '제반': 1064, '수수': 1065, '비로소': 1066, '표현': 1067, '선택': 1068, '공무': 1069, '법적': 1070, '형태': 1071, '고유': 1072, '각각': 1073, '시공': 1074, '개월': 1075, '이득': 1076, '규약': 1077, '분쟁': 1078, '식품위생법': 1079, '전자': 1080, '대장': 1081, '적극': 1082, '공직선거법': 1083, '뇌물': 1084, '배척': 1085, '가담': 1086, '의약품': 1087, '청': 1088, '국': 1089, '비위': 1090, '흠결': 1091, '의심': 1092, '추심': 1093, '공개': 1094, '매각': 1095, '구성원': 1096, '공공': 1097, '선하': 1098, '익금': 1099, '고지서': 1100, '어서': 1101, '환송': 1102, '통지서': 1103, '비율': 1104, '제재': 1105, '일치': 1106, '도과': 1107, '조직': 1108, '장애': 1109, '환자': 1110, '한편': 1111, '널리': 1112, '질서': 1113, '건': 1114, '확보': 1115, '부탁': 1116, '건강': 1117, '부칙': 1118, '시일': 1119, '피용자': 1120, '전혀': 1121, '일로': 1122, '진실': 1123, '휴업': 1124, '중단': 1125, '예견': 1126, '특약': 1127, '산': 1128, '도박': 1129, '지적': 1130, '광업권': 1131, '항고소송': 1132, '반복': 1133, '매립': 1134, '패소': 1135, '요소': 1136, '사무소': 1137, '법칙': 1138, '방송': 1139, '고서': 1140, '공지': 1141, '특허법': 1142, '소급': 1143, '본질': 1144, '변조': 1145, '주가': 1146, '업무방해죄': 1147, '성실': 1148, '자주': 1149, '점유권': 1150, '즉시': 1151, '상가': 1152, '형성': 1153, '한국': 1154, '가족': 1155, '온': 1156, '최초': 1157, '제도': 1158, '결합': 1159, '시험': 1160, '택시': 1161, '아래': 1162, '무': 1163, '원본': 1164, '신분': 1165, '즉': 1166, '품질': 1167, '수사': 1168, '창작': 1169, '농업협동조합': 1170, '개념': 1171, '주거': 1172, '일단': 1173, '공문서': 1174, '유기': 1175, '표장': 1176, '간의': 1177, '장래': 1178, '은닉': 1179, '규모': 1180, '입법': 1181, '준수': 1182, '치': 1183, '세부': 1184, '보완': 1185, '현금': 1186, '명예': 1187, '보조금': 1188, '작용': 1189, '제작': 1190, '외국인': 1191, '파악': 1192, '원상회복': 1193, '역시': 1194, '상표권': 1195, '분리': 1196, '본래': 1197, '편': 1198, '선적': 1199, '계좌': 1200, '주문': 1201, '사문서': 1202, '대행': 1203, '식별': 1204, '지연손해금': 1205, '타': 1206, '방어': 1207, '강간': 1208, '망인': 1209, '부대': 1210, '구입': 1211, '기하': 1212, '달성': 1213, '보고서': 1214, '체': 1215, '부가': 1216, '석유': 1217, '수급': 1218, '보충': 1219, '이사장': 1220, '원래': 1221, '사임': 1222, '정산': 1223, '미진': 1224, '이탈': 1225, '해외': 1226, '호주': 1227, '동업': 1228, '위치': 1229, '타당성': 1230, '경작': 1231, '재산세': 1232, '주주총회': 1233, '계열': 1234, '세대': 1235, '유형': 1236, '동조': 1237, '사실관계': 1238, '이름': 1239, '준비': 1240, '촉진': 1241, '설계': 1242, '정법': 1243, '전환': 1244, '도의': 1245, '밖': 1246, '구획': 1247, '배출': 1248, '반대': 1249, '출자': 1250, '고객': 1251, '환경': 1252, '양도소득': 1253, '중앙': 1254, '소장': 1255, '상승': 1256, '미리': 1257, '미수': 1258, '질병': 1259, '기인': 1260, '출처': 1261, '국회의원': 1262, '청소년': 1263, '변호': 1264, '이로': 1265, '환급': 1266, '적법': 1267, '참여': 1268, '줄': 1269, '의원': 1270, '곳': 1271, '의제': 1272, '무허가': 1273, '조': 1274, '묵시': 1275, '공작물': 1276, '농지개혁법': 1277, '추인': 1278, '여객': 1279, '교인': 1280, '죄책': 1281, '양': 1282, '입학': 1283, '용지': 1284, '과거': 1285, '결': 1286, '편의': 1287, '중과세': 1288, '심법': 1289, '허세': 1290, '사의': 1291, '액수': 1292, '물질': 1293, '중개': 1294, '특례법': 1295, '채무불이행': 1296, '공': 1297, '신체': 1298, '유효': 1299, '정이': 1300, '충당': 1301, '무관': 1302, '자본': 1303, '정식': 1304, '판례': 1305, '자연': 1306, '것일': 1307, '급부': 1308, '무고죄': 1309, '소송대리인': 1310, '저작물': 1311, '취한': 1312, '카드': 1313, '박탈': 1314, '해결': 1315, '보험료': 1316, '장치': 1317, '증여세': 1318, '민사': 1319, '지배': 1320, '달라': 1321, '신빙': 1322, '명도': 1323, '회보': 1324, '호법': 1325, '교환': 1326, '소지': 1327, '용이': 1328, '별로': 1329, '보존': 1330, '점용': 1331, '납품': 1332, '불문': 1333, '달': 1334, '체포': 1335, '해고': 1336, '악의': 1337, '사상': 1338, '강도': 1339, '징역': 1340, '낙찰': 1341, '수취': 1342, '이면': 1343, '수산업': 1344, '물이': 1345, '상세': 1346, '금은': 1347, '재심사': 1348, '사기': 1349, '고정': 1350, '사죄': 1351, '고도': 1352, '자인': 1353, '갱신': 1354, '염려': 1355, '원리금': 1356, '기금': 1357, '폐기물': 1358, '번복': 1359, '제품': 1360, '보증계약': 1361, '해태': 1362, '검찰': 1363, '형벌': 1364, '부상': 1365, '합치': 1366, '물권': 1367, '투자자': 1368, '고속도로': 1369, '영업비밀': 1370, '극히': 1371, '정치': 1372, '도로교통법': 1373, '실수': 1374, '합병': 1375, '증자': 1376, '속인': 1377, '주권': 1378, '상계': 1379, '제정': 1380, '기계': 1381, '대학': 1382, '외형': 1383, '기소': 1384, '집': 1385, '외국환': 1386, '과징금': 1387, '해하': 1388, '유사성': 1389, '공범': 1390, '복지': 1391, '교원': 1392, '대리권': 1393, '법정형': 1394, '복리': 1395, '외적': 1396, '치유': 1397, '정기': 1398, '세무': 1399, '수정': 1400, '모용': 1401, '의료행위': 1402, '곧': 1403, '트럭': 1404, '단속': 1405, '전기': 1406, '집행유예': 1407, '효능': 1408, '모양': 1409, '제조업': 1410, '담당자': 1411, '부양': 1412, '당국': 1413, '전심': 1414, '취득시효': 1415, '보통': 1416, '특허청': 1417, '회원': 1418, '통한': 1419, '보호법익': 1420, '중개업': 1421, '필요성': 1422, '일반인': 1423, '의사결정': 1424, '양도담보': 1425, '문화재': 1426, '청장': 1427, '지속': 1428, '출금': 1429, '회': 1430, '과태료': 1431, '촉진법': 1432, '고소': 1433, '성의': 1434, '야기': 1435, '배우자': 1436, '지지': 1437, '진입': 1438, '변': 1439, '평균': 1440, '사가': 1441, '연체': 1442, '마치': 1443, '개최': 1444, '공정증서': 1445, '미결구금': 1446, '보조': 1447, '공시': 1448, '실적': 1449, '전입': 1450, '공연': 1451, '남편': 1452, '보건': 1453, '음주': 1454, '족하': 1455, '족': 1456, '선언': 1457, '누구': 1458, '소송비용': 1459, '사립학교법': 1460, '합동': 1461, '보증채무': 1462, '임기': 1463, '운반': 1464, '결제': 1465, '후자': 1466, '주어': 1467, '혐의': 1468, '관습': 1469, '동인': 1470, '유물': 1471, '무면허': 1472, '누설': 1473, '도지사': 1474, '전소': 1475, '의거': 1476, '주자': 1477, '단독': 1478, '경': 1479, '임시': 1480, '국세청': 1481, '말소등기': 1482, '경험': 1483, '불하': 1484, '상반': 1485, '훈령': 1486, '실액': 1487, '여관': 1488, '씨앗': 1489, '도래': 1490, '지침': 1491, '는바': 1492, '구상': 1493, '연': 1494, '제법': 1495, '건설부': 1496, '가해': 1497, '업주': 1498, '화의': 1499, '경험칙': 1500, '인사': 1501, '접근': 1502, '무단': 1503, '반출': 1504, '징': 1505, '감소': 1506, '발송': 1507, '신청서': 1508, '도달': 1509, '병합': 1510, '양도인': 1511, '수법': 1512, '쌍방': 1513, '잔존': 1514, '연대보증': 1515, '특허권': 1516, '심결': 1517, '삼': 1518, '특례': 1519, '채용': 1520, '실': 1521, '축': 1522, '쟁의': 1523, '국가공무원': 1524, '경계': 1525, '방조': 1526, '제대로': 1527, '재단법인': 1528, '소재': 1529, '피상': 1530, '곧바로': 1531, '다만': 1532, '당선': 1533, '사용권': 1534, '대학교': 1535, '관찰': 1536, '신의칙': 1537, '하나로': 1538, '방': 1539, '건축사': 1540, '과점': 1541, '조각': 1542, '편입': 1543, '등급': 1544, '벌': 1545, '종류': 1546, '휴대': 1547, '공시송달': 1548, '현행': 1549, '무권대리': 1550, '약속': 1551, '단지': 1552, '경품': 1553, '지식': 1554, '설사': 1555, '제권판결': 1556, '의자': 1557, '하': 1558, '연고': 1559, '배하': 1560, '군수': 1561, '학생': 1562, '변론기일': 1563, '국유': 1564, '지상': 1565, '수재': 1566, '채증': 1567, '정신': 1568, '청구취지': 1569, '제소': 1570, '층': 1571, '공한지': 1572, '잔금': 1573, '확대': 1574, '해소': 1575, '별표': 1576, '증가': 1577, '기수': 1578, '편취': 1579, '손실보상': 1580, '차임': 1581, '명세서': 1582, '합': 1583, '과소': 1584, '의뢰': 1585, '먼저': 1586, '원료': 1587, '채취': 1588, '구비': 1589, '잔액': 1590, '취업': 1591, '금융': 1592, '지방세': 1593, '오해': 1594, '선의': 1595, '도주': 1596, '성년': 1597, '등록세': 1598, '전화': 1599, '주소지': 1600, '피의자신문조서': 1601, '과실상계': 1602, '기망행위': 1603, '발전': 1604, '포괄일죄': 1605, '몰수': 1606, '유': 1607, '개연': 1608, '역': 1609, '사용자책임': 1610, '부부': 1611, '고통': 1612, '통관': 1613, '정황': 1614, '호칭': 1615, '대위변제': 1616, '전문': 1617, '유통': 1618, '업종': 1619, '법익': 1620, '진보': 1621, '대신': 1622, '집행정지': 1623, '차주': 1624, '고심': 1625, '종합소득세': 1626, '군사': 1627, '담': 1628, '과장': 1629, '반영': 1630, '자도': 1631, '담합': 1632, '접수': 1633, '인장': 1634, '류': 1635, '정년': 1636, '등기청구권': 1637, '관장': 1638, '효용': 1639, '당부': 1640, '품목': 1641, '손상': 1642, '사결정': 1643, '직위해제': 1644, '도매': 1645, '동년': 1646, '관례': 1647, '간첩': 1648, '여자': 1649, '문장': 1650, '계주': 1651, '토지수용법': 1652, '중대': 1653, '다툼': 1654, '사채': 1655, '할인': 1656, '어업': 1657, '예산': 1658, '최종': 1659, '인근': 1660, '멸실': 1661, '차액': 1662, '검토': 1663, '사본': 1664, '유예': 1665, '성은': 1666, '보험사': 1667, '유관': 1668, '선행': 1669, '구상권': 1670, '의료법': 1671, '제거': 1672, '서명': 1673, '위원': 1674, '이중': 1675, '도면': 1676, '위증죄': 1677, '집회': 1678, '소요': 1679, '추상': 1680, '통보': 1681, '비상': 1682, '위자료': 1683, '균형': 1684, '일괄': 1685, '공판': 1686, '민사소송': 1687, '채권양도': 1688, '납입': 1689, '운전면허': 1690, '병원': 1691, '구별': 1692, '경력': 1693, '절취': 1694, '경선': 1695, '기피': 1696, '진료': 1697, '환수': 1698, '허락': 1699, '관리인': 1700, '미국': 1701, '노조': 1702, '노력': 1703, '관리자': 1704, '정비': 1705, '서도': 1706, '배': 1707, '영수': 1708, '방문': 1709, '게임': 1710, '부족': 1711, '추천': 1712, '동산': 1713, '기억': 1714, '살해': 1715, '상인': 1716, '행정소송법': 1717, '산점': 1718, '상여금': 1719, '자진': 1720, '대집행': 1721, '종원': 1722, '공인': 1723, '입지': 1724, '우리': 1725, '희망': 1726, '불능': 1727, '국유재산': 1728, '오류': 1729, '선급금': 1730, '범한': 1731, '그때': 1732, '등본': 1733, '문자': 1734, '거리': 1735, '이송': 1736, '간첩죄': 1737, '호적': 1738, '후소': 1739, '계고처분': 1740, '다방': 1741, '탐지': 1742, '직무유기죄': 1743, '판': 1744, '본문': 1745, '집합': 1746, '정액': 1747, '처음': 1748, '공공기관': 1749, '증액': 1750, '지칭': 1751, '소로': 1752, '미만': 1753, '손실': 1754, '공단': 1755, '이해': 1756, '지휘': 1757, '납': 1758, '여기': 1759, '한해': 1760, '유출': 1761, '고발': 1762, '부득이': 1763, '예측': 1764, '부적': 1765, '단위': 1766, '생기': 1767, '여서': 1768, '인증': 1769, '위력': 1770, '배상금': 1771, '전달': 1772, '수반': 1773, '견해': 1774, '외상': 1775, '고가': 1776, '벌칙': 1777, '주류': 1778, '거짓말': 1779, '상처': 1780, '부위': 1781, '교차로': 1782, '각자': 1783, '대로': 1784, '진술조서': 1785, '종교': 1786, '종단': 1787, '귀책사유': 1788, '부채': 1789, '회장': 1790, '신의성실': 1791, '극적': 1792, '지체': 1793, '입장': 1794, '공갈죄': 1795, '성적': 1796, '측': 1797, '신호': 1798, '나': 1799, '오토바이': 1800, '사위': 1801, '손': 1802, '이하': 1803, '선장': 1804, '부정행위': 1805, '영향력': 1806, '수면': 1807, '이용자': 1808, '규격': 1809, '특별법': 1810, '부터': 1811, '부관': 1812, '보': 1813, '새로이': 1814, '조제': 1815, '발': 1816, '알리': 1817, '동기': 1818, '직업': 1819, '만약': 1820, '폐기': 1821, '압수': 1822, '재료': 1823, '후임': 1824, '현상': 1825, '권리자': 1826, '판사': 1827, '교단': 1828, '탈퇴': 1829, '건립': 1830, '미감': 1831, '보물': 1832, '번호': 1833, '선출': 1834, '진정': 1835, '소청': 1836, '약식': 1837, '업법': 1838, '추': 1839, '부도': 1840, '연락': 1841, '론': 1842, '월': 1843, '과당': 1844, '소가': 1845, '수용재결': 1846, '중소기업': 1847, '이건': 1848, '배서': 1849, '소유권보존등기': 1850, '부정수표단속법': 1851, '중요': 1852, '위생': 1853, '미터': 1854, '특단': 1855, '지번': 1856, '광업': 1857, '구청': 1858, '전치': 1859, '광부': 1860, '태만': 1861, '년도': 1862, '방위세': 1863, '세관': 1864, '도록': 1865, '사인': 1866, '겸': 1867, '연도': 1868, '합계': 1869, '사정변경': 1870, '공법': 1871, '차등': 1872, '민': 1873, '채택': 1874, '손해배상청구권': 1875, '실수입': 1876, '대리점': 1877, '차례': 1878, '도로로': 1879, '예방': 1880, '실권': 1881, '리자': 1882, '다소': 1883, '순차': 1884, '저해': 1885, '검거': 1886, '인정이': 1887, '중과실': 1888, '지구': 1889, '프로그램': 1890, '수량': 1891, '공증인': 1892, '폐': 1893, '정성': 1894, '부동': 1895, '전부명령': 1896, '각기': 1897, '저작권': 1898, '자회사': 1899, '업무상배임죄': 1900, '자녀': 1901, '필수': 1902, '배부': 1903, '예': 1904, '위법행위': 1905, '비영리': 1906, '지연': 1907, '외화': 1908, '투기': 1909, '신규': 1910, '저지': 1911, '상위': 1912, '인의': 1913, '조작': 1914, '종업원': 1915, '도모': 1916, '성명': 1917, '지방공무원법': 1918, '정보통신망': 1919, '증설': 1920, '입원': 1921, '불응': 1922, '이례': 1923, '행동': 1924, '명예훼손': 1925, '비법인사단': 1926, '언제': 1927, '반송': 1928, '수립': 1929, '사단법인': 1930, '무소': 1931, '구속': 1932, '유추해석': 1933, '찬성': 1934, '복귀': 1935, '유상': 1936, '국제': 1937, '구타': 1938, '부의': 1939, '주거침입죄': 1940, '주거침입': 1941, '출입': 1942, '강행규정': 1943, '호가': 1944, '규명': 1945, '취업규칙': 1946, '기업체': 1947, '판매업': 1948, '책': 1949, '양식': 1950, '더라도': 1951, '산림': 1952, '일본': 1953, '영리': 1954, '장기': 1955, '생존': 1956, '분묘': 1957, '디자인': 1958, '간음': 1959, '정화': 1960, '해산': 1961, '등재': 1962, '소관': 1963, '본등기': 1964, '가량': 1965, '항변': 1966, '복구': 1967, '쌀': 1968, '이행지체': 1969, '지령': 1970, '관재': 1971, '논': 1972, '급수': 1973, '준강도': 1974, '국외': 1975, '자수': 1976, '임산물': 1977, '묘지': 1978, '토': 1979, '협력': 1980, '자재': 1981, '열차': 1982, '보호감호': 1983, '자부': 1984, '공통': 1985, '신규성': 1986, '생각': 1987, '고법인': 1988, '평': 1989, '등록증': 1990, '식당': 1991, '항공': 1992, '최저': 1993, '차별': 1994, '거부처분': 1995, '제척기간': 1996, '외부': 1997, '사립학교': 1998, '미필': 1999, '수의': 2000, '무도': 2001, '유수': 2002, '유추적용': 2003, '수준': 2004, '교비': 2005, '형평': 2006, '단일': 2007, '선거인': 2008, '용인': 2009, '해상': 2010, '금부': 2011, '외적인': 2012, '진정성립': 2013, '정은': 2014, '일이': 2015, '명확': 2016, '유해': 2017, '뇌물죄': 2018, '태양': 2019, '불허': 2020, '상응': 2021, '유자': 2022, '재량행위': 2023, '재개발': 2024, '결론': 2025, '신': 2026, '소송물': 2027, '용법': 2028, '정해진': 2029, '만큼': 2030, '한정승인': 2031, '위증': 2032, '부재': 2033, '생략': 2034, '대처': 2035, '표명': 2036, '교수': 2037, '인터넷': 2038, '게재': 2039, '파탄': 2040, '합산': 2041, '배포': 2042, '기사': 2043, '국민연금': 2044, '다한': 2045, '운영자': 2046, '탐지기': 2047, '소액': 2048, '현황': 2049, '묵인': 2050, '개개': 2051, '입력': 2052, '생': 2053, '불명': 2054, '유증': 2055, '사단': 2056, '손익': 2057, '자동': 2058, '아무': 2059, '반항': 2060, '지방의회': 2061, '증거조사': 2062, '재무': 2063, '선전': 2064, '가스': 2065, '대규모': 2066, '주점': 2067, '고함': 2068, '본형': 2069, '기여': 2070, '계약해제': 2071, '상품권': 2072, '신탁법': 2073, '주': 2074, '개폐': 2075, '합당': 2076, '임차권': 2077, '회피': 2078, '결산': 2079, '중앙회': 2080, '대체': 2081, '영수증': 2082, '얼마': 2083, '용의': 2084, '매체': 2085, '요부': 2086, '삭제': 2087, '공중': 2088, '부당행위': 2089, '열거': 2090, '대차': 2091, '발주': 2092, '객관성': 2093, '음주운전': 2094, '철도': 2095, '중지': 2096, '공업': 2097, '일임': 2098, '축산': 2099, '수집': 2100, '군형법': 2101, '긴급': 2102, '현장': 2103, '칭호': 2104, '운용': 2105, '반입': 2106, '입찰방해죄': 2107, '환매': 2108, '재무제표': 2109, '촉구': 2110, '제명': 2111, '통고': 2112, '감안': 2113, '어업권': 2114, '인적': 2115, '직장': 2116, '강제집행면탈죄': 2117, '필증': 2118, '공매': 2119, '상습범': 2120, '전후': 2121, '파견': 2122, '명예퇴직': 2123, '지불': 2124, '화장품': 2125, '불과': 2126, '품': 2127, '유보': 2128, '반증': 2129, '염전': 2130, '증축': 2131, '유임': 2132, '조처': 2133, '감금': 2134, '납기': 2135, '요금': 2136, '위장': 2137, '다': 2138, '배한': 2139, '승락': 2140, '결재': 2141, '출혈': 2142, '가옥': 2143, '품위': 2144, '사도': 2145, '교통부': 2146, '사용승인': 2147, '평소': 2148, '정보공개': 2149, '취소심판': 2150, '교체': 2151, '조세회피': 2152, '일종': 2153, '중복': 2154, '논리': 2155, '관련성': 2156, '변상': 2157, '가능': 2158, '주차장': 2159, '환경보전': 2160, '입국': 2161, '수뢰죄': 2162, '자본금': 2163, '관계자': 2164, '대표권': 2165, '동일인': 2166, '전용': 2167, '장': 2168, '사서': 2169, '가맹': 2170, '존': 2171, '부작위': 2172, '불가분': 2173, '당한': 2174, '인상': 2175, '상담': 2176, '취할': 2177, '교환가치': 2178, '부령': 2179, '적정': 2180, '국토': 2181, '명예훼손죄': 2182, '용기': 2183, '복무': 2184, '회부': 2185, '간행물': 2186, '변호인': 2187, '변화': 2188, '우측': 2189, '대부': 2190, '표창': 2191, '조립': 2192, '중인': 2193, '비법': 2194, '요인': 2195, '수술': 2196, '전광판': 2197, '구제': 2198, '오직': 2199, '불합리': 2200, '명문': 2201, '강간죄': 2202, '주인': 2203, '개입': 2204, '출장': 2205, '소비자': 2206, '무역': 2207, '언급': 2208, '감시': 2209, '권유': 2210, '진단': 2211, '면탈': 2212, '관점': 2213, '택지': 2214, '구한': 2215, '수가': 2216, '허가증': 2217, '함정수사': 2218, '동행': 2219, '전력': 2220, '누범': 2221, '기속력': 2222, '의결권': 2223, '전매': 2224, '정책': 2225, '수출입': 2226, '상대': 2227, '마': 2228, '거액': 2229, '경유': 2230, '당일': 2231, '항쟁': 2232, '격자': 2233, '현': 2234, '평온': 2235, '합유': 2236, '승용차': 2237, '양립': 2238, '녹용': 2239, '변제공탁': 2240, '행정규칙': 2241, '수권': 2242, '지고': 2243, '가가': 2244, '레미콘': 2245, '마련': 2246, '미관': 2247, '용품': 2248, '수의계약': 2249, '영장': 2250, '보조참가인': 2251, '영업주': 2252, '신용정보': 2253, '법무사': 2254, '인접': 2255, '합격': 2256, '경리': 2257, '군인': 2258, '공공시설': 2259, '야간': 2260, '승객': 2261, '매': 2262, '유산': 2263, '연행': 2264, '격': 2265, '해직': 2266, '한번': 2267, '투자신탁': 2268, '개인정보': 2269, '후단': 2270, '농림부': 2271, '승진': 2272, '치가': 2273, '중개사': 2274, '한자': 2275, '탁금': 2276, '새': 2277, '별': 2278, '임자': 2279, '오락': 2280, '자라': 2281, '협동조합': 2282, '부금': 2283, '감': 2284, '계란': 2285, '성죄': 2286, '전차': 2287, '가정': 2288, '지하': 2289, '매목': 2290, '진실성': 2291, '전대': 2292, '합리화': 2293, '요령': 2294, '무선': 2295, '특별항고': 2296, '필지': 2297, '범관': 2298, '답변': 2299, '완공': 2300, '지방법원': 2301, '영업소': 2302, '명의대여': 2303, '군법': 2304, '기입': 2305, '선서': 2306, '도형': 2307, '수계': 2308, '표현대리': 2309, '선거법': 2310, '가루': 2311, '서울': 2312, '농촌': 2313, '귀국': 2314, '징발': 2315, '수위': 2316, '실종선고': 2317, '일련': 2318, '선원': 2319, '제방': 2320, '성분': 2321, '부산': 2322, '상해죄': 2323, '기술사': 2324, '사면': 2325, '정처': 2326, '친생자': 2327, '외인': 2328, '승급': 2329, '매우': 2330, '정함': 2331, '만기': 2332, '종자': 2333, '조로': 2334, '가입자': 2335, '기해': 2336, '의약': 2337, '질의': 2338, '출하': 2339, '평등': 2340, '보도': 2341, '국가배상법': 2342, '안전성': 2343, '창고': 2344, '원고적격': 2345, '신문': 2346, '주차': 2347, '인격': 2348, '안정': 2349, '수질': 2350, '사료': 2351, '서행': 2352, '과도': 2353, '유발': 2354, '교량': 2355, '공원': 2356, '설': 2357, '공격': 2358, '협회': 2359, '전반': 2360, '주택조합': 2361, '동원': 2362, '각종': 2363, '투약': 2364, '임대주택': 2365, '골절': 2366, '추후': 2367, '방조범': 2368, '체계': 2369, '자발': 2370, '요원': 2371, '위원장': 2372, '직전': 2373, '각서': 2374, '거래처': 2375, '음식점': 2376, '전이': 2377, '위작': 2378, '학교장': 2379, '유류분': 2380, '강사': 2381, '도출': 2382, '독자': 2383, '경제범죄': 2384, '존중': 2385, '지게': 2386, '소명': 2387, '방향': 2388, '국한': 2389, '소개': 2390, '조달': 2391, '사적': 2392, '관광': 2393, '안이': 2394, '특성': 2395, '입영': 2396, '부속': 2397, '공갈': 2398, '요': 2399, '총장': 2400, '연구': 2401, '중개인': 2402, '환산': 2403, '향': 2404, '정해': 2405, '증인신문': 2406, '이념': 2407, '상사': 2408, '종래': 2409, '부가세': 2410, '뒷받침': 2411, '침입': 2412, '비밀번호': 2413, '절단': 2414, '녹음': 2415, '최소한': 2416, '범자': 2417, '모순': 2418, '분식': 2419, '구매': 2420, '공모자': 2421, '컴퓨터': 2422, '분류': 2423, '총': 2424, '제로': 2425, '권': 2426, '형사재판': 2427, '농': 2428, '택일': 2429, '양육': 2430, '친권자': 2431, '사비': 2432, '건의': 2433, '측면': 2434, '공판정': 2435, '오기': 2436, '살인죄': 2437, '살인': 2438, '상행위': 2439, '회생': 2440, '통일': 2441, '수하인': 2442, '본점': 2443, '구속력': 2444, '상업': 2445, '연결': 2446, '입회': 2447, '예치': 2448, '준칙': 2449, '하의': 2450, '뇌물공여죄': 2451, '예약': 2452, '전무': 2453, '분뇨': 2454, '대주': 2455, '국토이용관리법': 2456, '강의': 2457, '도피': 2458, '진료기록': 2459, '호적법': 2460, '지도': 2461, '대응': 2462, '폭': 2463, '소비대차': 2464, '주무': 2465, '이동': 2466, '특징': 2467, '칼': 2468, '증명서': 2469, '재소': 2470, '책임자': 2471, '농업': 2472, '실형': 2473, '단기': 2474, '규율': 2475, '마약': 2476, '증대': 2477, '국고': 2478, '투입': 2479, '자살': 2480, '책자': 2481, '감정평가': 2482, '만족': 2483, '심증': 2484, '어촌': 2485, '다가': 2486, '획득': 2487, '착각': 2488, '방면': 2489, '상무': 2490, '본국': 2491, '권징': 2492, '폐업': 2493, '기성': 2494, '무시': 2495, '퇴사': 2496, '부와': 2497, '의율': 2498, '청구원인': 2499, '구호': 2500, '촬영': 2501, '약취': 2502, '편성': 2503, '인공위성': 2504, '총기': 2505, '북한': 2506, '일본국': 2507, '우편물': 2508, '금주': 2509, '배정': 2510, '보강증거': 2511, '지적공부': 2512, '흉기': 2513, '밀수입': 2514, '간통': 2515, '용선': 2516, '습벽': 2517, '유탈': 2518, '상상': 2519, '개수': 2520, '경하': 2521, '기관차': 2522, '필': 2523, '시가지': 2524, '감경': 2525, '재무부': 2526, '불법점유': 2527, '차선': 2528, '과실책임': 2529, '혼인신고': 2530, '당좌': 2531, '주사': 2532, '실화': 2533, '분손': 2534, '종장': 2535, '종회': 2536, '수증': 2537, '익일': 2538, '불교': 2539, '생모': 2540, '종손': 2541, '예비': 2542, '기장': 2543, '침술': 2544, '구술': 2545, '가공업': 2546, '후견인': 2547, '부하': 2548, '오히려': 2549, '명부': 2550, '전기공': 2551, '화재': 2552, '찬양': 2553, '어선': 2554, '의제자백': 2555, '퍼센트': 2556, '매년': 2557, '미비': 2558, '계금': 2559, '운전사': 2560, '상자': 2561, '탈의': 2562, '소매치기': 2563, '풀이': 2564, '식육': 2565, '잠입': 2566, '양파': 2567, '휴식': 2568, '노선': 2569, '협정': 2570, '교통사고처리특례법': 2571, '담보책임': 2572, '의사록': 2573, '집중': 2574, '품종': 2575, '불법영득의사': 2576, '과외': 2577, '민사집행법': 2578, '항목': 2579, '선거일': 2580, '문구': 2581, '부착': 2582, '소심': 2583, '공해': 2584, '개선': 2585, '무렵': 2586, '상하': 2587, '과대': 2588, '공함': 2589, '첨가': 2590, '화학': 2591, '화합물': 2592, '불가': 2593, '환가': 2594, '기만': 2595, '참고': 2596, '저당권설정계약': 2597, '둘': 2598, '도시재개발': 2599, '재개발조합': 2600, '개간': 2601, '형질': 2602, '대량': 2603, '관서': 2604, '실명': 2605, '단기매매': 2606, '도중': 2607, '보건복지부': 2608, '불안': 2609, '상관': 2610, '국회': 2611, '해악': 2612, '축소': 2613, '분담': 2614, '부작용': 2615, '장해': 2616, '증상': 2617, '방조행위': 2618, '모회사': 2619, '부녀': 2620, '중재조항': 2621, '포장': 2622, '영업정지': 2623, '불공정': 2624, '자금지원': 2625, '반응': 2626, '거짓': 2627, '제압': 2628, '환원': 2629, '부품': 2630, '유로': 2631, '복사': 2632, '가운데': 2633, '부주의': 2634, '남녀': 2635, '민원': 2636, '의혹': 2637, '해명': 2638, '합의해제': 2639, '음란': 2640, '공표': 2641, '좌회전': 2642, '형사소송': 2643, '사무실': 2644, '악화': 2645, '주기': 2646, '출근': 2647, '수긍': 2648, '시행일': 2649, '구민': 2650, '불비': 2651, '기왕': 2652, '폐수': 2653, '삼은': 2654, '공평': 2655, '연대': 2656, '부수': 2657, '요지': 2658, '용량': 2659, '실정': 2660, '보충역': 2661, '개량': 2662, '생활관': 2663, '표상': 2664, '귀금속': 2665, '신분증': 2666, '연령': 2667, '학년': 2668, '반': 2669, '근저당': 2670, '이행불능': 2671, '송금': 2672, '음반': 2673, '휘발유': 2674, '다중': 2675, '과반수': 2676, '불변': 2677, '한의사': 2678, '비정상': 2679, '통계': 2680, '토대': 2681, '어려움': 2682, '면서': 2683, '문화': 2684, '이체': 2685, '지목': 2686, '법관': 2687, '확신': 2688, '혜택': 2689, '업무방해': 2690, '언론사': 2691, '막대': 2692, '촉탁': 2693, '공간': 2694, '위함': 2695, '파산법': 2696, '양육비': 2697, '기형': 2698, '위로': 2699, '도착': 2700, '대도시': 2701, '식별력': 2702, '법규명령': 2703, '취임': 2704, '차입': 2705, '노무': 2706, '의뢰인': 2707, '공직자': 2708, '흡수': 2709, '공매처분': 2710, '지장': 2711, '간접정범': 2712, '혈중': 2713, '농도': 2714, '세무사': 2715, '상업사용인': 2716, '절': 2717, '바탕': 2718, '익': 2719, '특수성': 2720, '거기': 2721, '권리남용': 2722, '은폐': 2723, '음으로': 2724, '유포': 2725, '편취할': 2726, '보류': 2727, '무능력자': 2728, '법정대리인': 2729, '기획': 2730, '유추': 2731, '지방자치법': 2732, '최소': 2733, '금납': 2734, '취': 2735, '고용계약': 2736, '의문': 2737, '좌우': 2738, '형기': 2739, '분식회계': 2740, '부사': 2741, '진행중': 2742, '발언': 2743, '대통령': 2744, '재산상속': 2745, '커피': 2746, '거소': 2747, '계급': 2748, '쪽': 2749, '잔고': 2750, '연기': 2751, '전문가': 2752, '운송주선인': 2753, '부모': 2754, '비판': 2755, '부연': 2756, '비거': 2757, '자간': 2758, '시효중단': 2759, '곤란': 2760, '역무': 2761, '대손': 2762, '운동': 2763, '분권': 2764, '점거': 2765, '유인': 2766, '사법심사': 2767, '전문의': 2768, '건조물': 2769, '노동자': 2770, '창업': 2771, '일부분': 2772, '임차보증금': 2773, '위약금': 2774, '임료': 2775, '인감': 2776, '정시': 2777, '보이': 2778, '출연': 2779, '할당': 2780, '전형': 2781, '우발': 2782, '벽': 2783, '지붕': 2784, '시공사': 2785, '송': 2786, '사진': 2787, '파산관재인': 2788, '중이': 2789, '녀': 2790, '도급계약': 2791, '설계서': 2792, '자궁': 2793, '집행력': 2794, '토지대장': 2795, '준비서면': 2796, '계정': 2797, '과목': 2798, '제의': 2799, '보행': 2800, '호증': 2801, '징역형': 2802, '부로': 2803, '농가': 2804, '소재지': 2805, '불복신청': 2806, '국장': 2807, '항해': 2808, '운항': 2809, '비치': 2810, '본원': 2811, '한국전력': 2812, '항진': 2813, '국무총리': 2814, '내무부': 2815, '동령': 2816, '흔적': 2817, '반공법': 2818, '친자': 2819, '항만': 2820, '강박': 2821, '직계': 2822, '장용': 2823, '무형': 2824, '일용': 2825, '운송업': 2826, '평수': 2827, '설령': 2828, '하라': 2829, '석명권': 2830, '자판': 2831, '부재자': 2832, '농지개량': 2833, '변명': 2834, '허위공문서작성죄': 2835, '제보': 2836, '학문': 2837, '시내': 2838, '심신': 2839, '대물변제': 2840, '무성': 2841, '인명': 2842, '립': 2843, '시인': 2844, '실용': 2845, '벌채': 2846, '정교': 2847, '위협': 2848, '기계공': 2849, '기름': 2850, '민세': 2851, '부추': 2852, '배율': 2853, '측량': 2854, '권형': 2855, '지하실': 2856, '빵': 2857, '잠정': 2858, '퇴': 2859, '연관': 2860, '비공개': 2861, '행정기관': 2862, '간이': 2863, '사과': 2864, '항소이유서': 2865, '유치원': 2866, '구가': 2867, '학습': 2868, '어민': 2869, '추심명령': 2870, '동료': 2871, '보전처분': 2872, '실체법': 2873, '규범': 2874, '시작': 2875, '대형': 2876, '가집행선고': 2877, '영조물': 2878, '수시': 2879, '비롯': 2880, '방안': 2881, '유선': 2882, '부설': 2883, '생명': 2884, '억제': 2885, '열람': 2886, '공적': 2887, '통제': 2888, '석방': 2889, '방침': 2890, '공직자윤리법': 2891, '저': 2892, '재의': 2893, '집행권': 2894, '가산금': 2895, '재개': 2896, '배당금': 2897, '사익': 2898, '량': 2899, '주변': 2900, '최대': 2901, '영국': 2902, '차명계좌': 2903, '회로': 2904, '자격정지': 2905, '특별이익': 2906, '헌법재판소': 2907, '향후': 2908, '응답': 2909, '조리': 2910, '시위': 2911, '진찰': 2912, '단순': 2913, '관절': 2914, '삽입': 2915, '비방': 2916, '통행료': 2917, '과잉': 2918, '비난': 2919, '잡지': 2920, '자력': 2921, '생리': 2922, '정확성': 2923, '성교': 2924, '유턴': 2925, '통과': 2926, '미래': 2927, '승계취득': 2928, '투': 2929, '시스템': 2930, '매월': 2931, '표기': 2932, '즉각': 2933, '화폐': 2934, '상금': 2935, '개발부담금': 2936, '신뢰보호': 2937, '얻지': 2938, '요한': 2939, '증여계약': 2940, '접대부': 2941, '결하': 2942, '부문': 2943, '재정': 2944, '수년': 2945, '산세': 2946, '낙선': 2947, '경로': 2948, '정원': 2949, '병역의무': 2950, '종합병원': 2951, '의식': 2952, '태도': 2953, '득실': 2954, '구금': 2955, '통산': 2956, '률': 2957, '장기간': 2958, '인부': 2959, '중과': 2960, '범죄인': 2961, '교': 2962, '재단': 2963, '향상': 2964, '가의': 2965, '전속': 2966, '노출': 2967, '시세': 2968, '차원': 2969, '병역': 2970, '오염': 2971, '전파': 2972, '유공': 2973, '체인': 2974, '위임장': 2975, '추단': 2976, '위헌': 2977, '전시': 2978, '간부': 2979, '초등학교': 2980, '위임입법': 2981, '정리해고': 2982, '부진정연대채무': 2983, '절대': 2984, '합법': 2985, '기부채납': 2986, '주요': 2987, '전산': 2988, '산재': 2989, '청문': 2990, '세력': 2991, '서나': 2992, '점등': 2993, '적격': 2994, '기대': 2995, '재임': 2996, '쟁점': 2997, '저축': 2998, '진압': 2999, '언론': 3000, '정류': 3001, '정차': 3002, '유부': 3003, '불리': 3004, '정기형': 3005, '전결': 3006, '사업인정': 3007, '처럼': 3008, '주선': 3009, '전임': 3010, '뇌물수수죄': 3011, '중기': 3012, '감금죄': 3013, '알코올': 3014, '횟수': 3015, '발휘': 3016, '조물': 3017, '선처': 3018, '주요한': 3019, '정당성': 3020, '선발': 3021, '응시': 3022, '의학': 3023, '동지': 3024, '수산': 3025, '약간': 3026, '금리': 3027, '자타': 3028, '출입문': 3029, '진의': 3030, '대학교수': 3031, '불의': 3032, '대조': 3033, '아동': 3034, '권고': 3035, '예산회계법': 3036, '강압': 3037, '긍정': 3038, '매장': 3039, '언동': 3040, '사범': 3041, '발부': 3042, '공물': 3043, '빙자': 3044, '분실': 3045, '인감증명': 3046, '출마': 3047, '장남': 3048, '장비': 3049, '대항력': 3050, '의회': 3051, '보호령': 3052, '면소판결': 3053, '간격': 3054, '후불': 3055, '원용': 3056, '수납': 3057, '연맹': 3058, '자격증': 3059, '선거구': 3060, '집권': 3061, '위성': 3062, '자율': 3063, '과로': 3064, '당첨': 3065, '운송계약': 3066, '청렴': 3067, '퇴거': 3068, '막': 3069, '소환': 3070, '조사해': 3071, '출국': 3072, '소취하': 3073, '관세청장': 3074, '원가': 3075, '줌': 3076, '행정재산': 3077, '골재': 3078, '열사': 3079, '쌍무계약': 3080, '부동산등기법': 3081, '무인': 3082, '적정가격': 3083, '법정지상권': 3084, '수호': 3085, '자치': 3086, '결격': 3087, '터': 3088, '재물손괴죄': 3089, '연상': 3090, '부락': 3091, '학력': 3092, '장법': 3093, '직인': 3094, '증명책임': 3095, '추첨': 3096, '유치': 3097, '미용': 3098, '수업': 3099, '미지': 3100, '하수': 3101, '문': 3102, '환부': 3103, '호수': 3104, '구수': 3105, '접': 3106, '거의': 3107, '사무직원': 3108, '단정': 3109, '완납': 3110, '종물': 3111, '주물': 3112, '상용': 3113, '용면': 3114, '용의자': 3115, '채널': 3116, '사태': 3117, '여권': 3118, '동거': 3119, '추진': 3120, '성능': 3121, '허위표시': 3122, '시대': 3123, '우편': 3124, '금전채권': 3125, '원금': 3126, '모의': 3127, '강도상해죄': 3128, '만류': 3129, '전하': 3130, '액화': 3131, '충전': 3132, '완결': 3133, '공립': 3134, '원상': 3135, '해양사고': 3136, '하리': 3137, '군정': 3138, '환': 3139, '속단': 3140, '유아': 3141, '기관사': 3142, '속력': 3143, '소전': 3144, '마사회': 3145, '심의회': 3146, '미연': 3147, '국도': 3148, '인간': 3149, '대립': 3150, '조합계약': 3151, '표제': 3152, '발사': 3153, '불구자': 3154, '배액': 3155, '광물': 3156, '채굴': 3157, '특수강': 3158, '서울시': 3159, '국내법': 3160, '보건사회부': 3161, '차장': 3162, '부선': 3163, '처사': 3164, '예금계약': 3165, '종이': 3166, '방출': 3167, '절용': 3168, '장물죄': 3169, '군무': 3170, '유기한': 3171, '나이': 3172, '남자': 3173, '직후': 3174, '질권': 3175, '자임': 3176, '농지개혁': 3177, '정지명령': 3178, '매립지': 3179, '속행': 3180, '수선': 3181, '유목': 3182, '매상': 3183, '나름': 3184, '정전': 3185, '사권': 3186, '살': 3187, '나라': 3188, '유리': 3189, '음모': 3190, '삼지': 3191, '부장': 3192, '구두': 3193, '승복': 3194, '피복': 3195, '중구청': 3196, '망부석': 3197, '사칭': 3198, '반원': 3199, '모래': 3200, '적국': 3201, '구함': 3202, '혼합': 3203, '고등법원': 3204, '모': 3205, '관세청': 3206, '광산': 3207, '반포': 3208, '서적': 3209, '인영': 3210, '감정인': 3211, '조선': 3212, '안전지대': 3213, '북괴': 3214, '공포': 3215, '번': 3216, '장인': 3217, '유지연': 3218, '히로뽕': 3219, '계불': 3220, '도괴': 3221, '면사무소': 3222, '관내': 3223, '경찰서': 3224, '국민학교': 3225, '주전자': 3226, '행정대집행법': 3227, '행정관청': 3228, '물상보증': 3229, '소방': 3230, '지로': 3231, '금융업': 3232, '세멘트': 3233, '행정명령': 3234, '쇠칼': 3235, '정미소': 3236, '대답': 3237, '마지막': 3238, '불입': 3239, '구해': 3240, '호인': 3241, '고기': 3242, '대원': 3243, '좌': 3244, '인물': 3245, '자등': 3246, '고종': 3247, '처남': 3248, '환매권': 3249, '과수': 3250, '대차대조표': 3251, '까닭': 3252, '배분': 3253, '더욱': 3254, '출장소': 3255, '포섭': 3256, '실익': 3257, '경제력': 3258, '심판원': 3259, '재차': 3260, '하층': 3261, '이상인': 3262, '일지': 3263, '리': 3264, '반소': 3265, '성': 3266, '죄질': 3267, '간판': 3268, '기점': 3269, '소음': 3270, '방재': 3271, '무신': 3272, '통로': 3273, '명기': 3274, '무자력': 3275, '채권자취소권': 3276, '제약': 3277, '배타': 3278, '함유': 3279, '강요': 3280, '우송': 3281, '휴직': 3282, '선의취득': 3283, '가집행': 3284, '입사': 3285, '취함': 3286, '사적자치': 3287, '영역': 3288, '치의': 3289, '계약인수': 3290, '미납': 3291, '행정주체': 3292, '비례': 3293, '일사부재리': 3294, '전기통신': 3295, '전면': 3296, '문자메시지': 3297, '활용': 3298, '선거권': 3299, '중첩': 3300, '모하': 3301, '기적': 3302, '후원': 3303, '포심': 3304, '판명': 3305, '불허가': 3306, '탓': 3307, '정정은': 3308, '파이프': 3309, '쇠': 3310, '단': 3311, '고등학교': 3312, '사장': 3313, '결성': 3314, '참석': 3315, '주재': 3316, '고용주': 3317, '밀접': 3318, '일환': 3319, '요양': 3320, '독립성': 3321, '중재법': 3322, '시각': 3323, '구체성': 3324, '하락': 3325, '주택임대차보호법': 3326, '인공': 3327, '출판물': 3328, '성추행': 3329, '저작권법': 3330, '소집해제': 3331, '파업': 3332, '무료': 3333, '분쟁해결': 3334, '나중': 3335, '판독': 3336, '강간치상죄': 3337, '저항': 3338, '과상': 3339, '조언': 3340, '논의': 3341, '혼란': 3342, '힘': 3343, '보행자': 3344, '정거': 3345, '상무이사': 3346, '송치': 3347, '의욕': 3348, '로기': 3349, '기속행위': 3350, '입건': 3351, '평등권': 3352, '보이지': 3353, '유흥주점': 3354, '회계법인': 3355, '안내': 3356, '근무시간': 3357, '불성': 3358, '실가': 3359, '자리': 3360, '임대차보증금': 3361, '동력': 3362, '장례': 3363, '현금카드': 3364, '동물': 3365, '병원체': 3366, '조성하': 3367, '약칭': 3368, '중하': 3369, '여한': 3370, '신의': 3371, '수진': 3372, '추궁': 3373, '입자': 3374, '계략': 3375, '분열': 3376, '수로': 3377, '서식': 3378, '권리행사방해죄': 3379, '취거': 3380, '손괴하': 3381, '키': 3382, '담보물권': 3383, '당사자능력': 3384, '정보보호': 3385, '아이디': 3386, '접속': 3387, '다단계판매': 3388, '적법행위': 3389, '폐기물관리법': 3390, '메스암페타민': 3391, '중상': 3392, '월간': 3393, '처가': 3394, '입점': 3395, '물리': 3396, '대화': 3397, '인감증명서': 3398, '전권': 3399, '유책': 3400, '범죄수사': 3401, '사관': 3402, '전국': 3403, '강제추행죄': 3404, '담임': 3405, '호흡': 3406, '침범': 3407, '믿음': 3408, '시티': 3409, '무자': 3410, '코드': 3411, '통신': 3412, '연료': 3413, '유제품': 3414, '해약': 3415, '항변권': 3416, '처방전': 3417, '다해': 3418, '복제': 3419, '무력': 3420, '전송': 3421, '사시': 3422, '소모': 3423, '증명력': 3424, '수산물': 3425, '생산자': 3426, '변란': 3427, '신문사': 3428, '공증': 3429, '하차': 3430, '반론': 3431, '개개인': 3432, '송사': 3433, '전지': 3434, '준치': 3435, '불확정': 3436, '조성': 3437, '료율': 3438, '리스': 3439, '작위의무': 3440, '수익권': 3441, '생명보험': 3442, '개발이익': 3443, '사택': 3444, '경감': 3445, '입하': 3446, '이나': 3447, '직감': 3448, '증재죄': 3449, '취해': 3450, '담장': 3451, '유류': 3452, '지명채권': 3453, '입가': 3454, '총유': 3455, '발령': 3456, '실무': 3457, '군복무': 3458, '현직': 3459, '탁': 3460, '현물출자': 3461, '청소': 3462, '상여': 3463, '말일': 3464, '서비스업': 3465, '어디': 3466, '차감': 3467, '본사': 3468, '수험생': 3469, '검': 3470, '제휴': 3471, '휴일': 3472, '간호': 3473, '연속': 3474, '단어': 3475, '미약': 3476, '직종': 3477, '제청': 3478, '윤락': 3479, '감광': 3480, '장려': 3481, '토사': 3482, '편취행위': 3483, '진상': 3484, '유상증자': 3485, '선관': 3486, '독촉': 3487, '영농': 3488, '위촉': 3489, '구법': 3490, '참고인': 3491, '이르렀다': 3492, '재판관할권': 3493, '동생': 3494, '군청': 3495, '창설': 3496, '임치': 3497, '말미': 3498, '로만': 3499, '고양': 3500, '역병': 3501, '참가자': 3502, '앞서': 3503, '도난': 3504, '면책특권': 3505, '표결': 3506, '법무부': 3507, '관습법': 3508, '불산': 3509, '탈취': 3510, '통합': 3511, '단독주택': 3512, '다세대': 3513, '근본': 3514, '하니': 3515, '엄격': 3516, '소매': 3517, '번역': 3518, '용비': 3519, '표본': 3520, '자영': 3521, '함부로': 3522, '행세': 3523, '무자격': 3524, '출연자': 3525, '흠': 3526, '괴사': 3527, '교장': 3528, '최대한': 3529, '가관': 3530, '사원': 3531, '전역': 3532, '지자체': 3533, '이주': 3534, '외무': 3535, '역법': 3536, '지명': 3537, '잡종재산': 3538, '치장': 3539, '신임': 3540, '원화로': 3541, '포': 3542, '간접강제': 3543, '필연': 3544, '분묘기지권': 3545, '안건': 3546, '목사': 3547, '손괴': 3548, '낙서': 3549, '속도': 3550, '토론회': 3551, '사원총회': 3552, '권능': 3553, '동등': 3554, '학위': 3555, '수여': 3556, '의견서': 3557, '지체상금': 3558, '월급': 3559, '겨우': 3560, '선조': 3561, '유치권': 3562, '약사': 3563, '수금': 3564, '축사': 3565, '속성': 3566, '외국어': 3567, '선관주의의무': 3568, '결함': 3569, '심금': 3570, '분석': 3571, '진급': 3572, '한글': 3573, '종기': 3574, '공권력': 3575, '용어': 3576, '유입': 3577, '택법': 3578, '통장': 3579, '상속권': 3580, '낭독': 3581, '부대항소': 3582, '실비': 3583, '집단따돌림': 3584, '학급': 3585, '복수': 3586, '조금': 3587, '구현': 3588, '음식': 3589, '몸': 3590, '신생아': 3591, '조기': 3592, '군법무관': 3593, '모범': 3594, '소라': 3595, '옥수수': 3596, '수학': 3597, '신주인수권': 3598, '저가': 3599, '상급자': 3600, '가방': 3601, '억압': 3602, '강도죄': 3603, '핵심': 3604, '행관': 3605, '원산지': 3606, '남아': 3607, '시민': 3608, '도입': 3609, '정기예금': 3610, '송신': 3611, '사람과': 3612, '출판': 3613, '택용': 3614, '면전': 3615, '범주': 3616, '기호': 3617, '소자': 3618, '인쇄': 3619, '예문': 3620, '불가항력': 3621, '동': 3622, '어기': 3623, '삼고': 3624, '복': 3625, '보좌': 3626, '내외': 3627, '대부분': 3628, '제척': 3629, '종국판결': 3630, '이어도': 3631, '편익': 3632, '중대장': 3633, '비영리단체': 3634, '회비': 3635, '교재': 3636, '새마을금고': 3637, '전단': 3638, '율표': 3639, '격방': 3640, '유통기간': 3641, '유서': 3642, '투표': 3643, '쉽사리': 3644, '부본': 3645, '멸실된': 3646, '전보': 3647, '벌금형': 3648, '사망자': 3649, '실지로': 3650, '무방': 3651, '입환': 3652, '유체': 3653, '계쟁': 3654, '원시': 3655, '회합': 3656, '집달리': 3657, '생기지': 3658, '병적': 3659, '상점': 3660, '배달': 3661, '일본인': 3662, '합필': 3663, '무효등기': 3664, '소하': 3665, '시업': 3666, '사망일': 3667, '청구도': 3668, '탈세': 3669, '공부': 3670, '주거지': 3671, '행방불명': 3672, '하급': 3673, '부실등기': 3674, '의무불이행': 3675, '번의': 3676, '국방': 3677, '원천': 3678, '주시': 3679, '효기': 3680, '경신': 3681, '필림': 3682, '부정지': 3683, '횡서': 3684, '원유': 3685, '곡가': 3686, '특수절도죄': 3687, '사설': 3688, '복역': 3689, '점용료': 3690, '시주': 3691, '운임': 3692, '전등': 3693, '파손': 3694, '보리': 3695, '정당방위': 3696, '경고': 3697, '밀집': 3698, '전선': 3699, '소송요건': 3700, '인계': 3701, '잉여': 3702, '난': 3703, '대등': 3704, '출생': 3705, '국적': 3706, '이장': 3707, '블록': 3708, '목재': 3709, '적재': 3710, '문의': 3711, '고압': 3712, '변론조서': 3713, '자손': 3714, '사위판결': 3715, '설계도': 3716, '후일': 3717, '혼자': 3718, '제호': 3719, '폭우': 3720, '배수': 3721, '협조': 3722, '아내': 3723, '밀수': 3724, '안마': 3725, '취체': 3726, '침': 3727, '이질': 3728, '혈족': 3729, '대피': 3730, '후견': 3731, '갑자기': 3732, '횡': 3733, '전자제품': 3734, '인감도장': 3735, '정직': 3736, '임명': 3737, '비행': 3738, '묘': 3739, '고무': 3740, '한국인': 3741, '무기징역': 3742, '차단': 3743, '고문': 3744, '붕괴': 3745, '보석': 3746, '은밀': 3747, '예수교': 3748, '장로회': 3749, '모욕': 3750, '언사': 3751, '원목': 3752, '딸': 3753, '기함': 3754, '출연재산': 3755, '부산시': 3756, '멱살': 3757, '잡고': 3758, '싸움': 3759, '갱내': 3760, '갱외': 3761, '소액사건심판법': 3762, '숙박': 3763, '간인': 3764, '잔대': 3765, '목적범': 3766, '공산주의': 3767, '대도': 3768, '치료감호': 3769, '영': 3770, '백지': 3771, '육체': 3772, '성함': 3773, '대체집행': 3774, '회답': 3775, '민원사무': 3776, '회신': 3777, '지주': 3778, '선뜻': 3779, '동액': 3780, '충격': 3781, '허물': 3782, '혁명': 3783, '공공사업': 3784, '습성': 3785, '발현': 3786, '합격자': 3787, '전라북도지사': 3788, '대전': 3789, '공업단지': 3790, '향정신성의약품': 3791, '출입구': 3792, '책정': 3793, '상급': 3794, '커피폿트': 3795, '해함': 3796, '빻아': 3797, '명치': 3798, '소환장': 3799, '중순': 3800, '독창': 3801, '뺨': 3802, '발동': 3803, '간과': 3804, '방화': 3805, '볼때': 3806, '호안': 3807, '식물': 3808, '검방': 3809, '적발': 3810, '구장': 3811, '용수권': 3812, '고급': 3813, '재고': 3814, '아들': 3815, '방위': 3816, '작량감경': 3817, '노임': 3818, '도박죄': 3819, '화투': 3820, '통용': 3821, '교감': 3822, '날짜': 3823, '강간미수죄': 3824, '정통': 3825, '닭': 3826, '양정': 3827, '기안': 3828, '시적': 3829, '금괴': 3830, '지사': 3831, '훈련': 3832, '수뢰': 3833, '명단': 3834, '개축': 3835, '징벌': 3836, '좌측': 3837, '시계': 3838, '고찰': 3839, '출정': 3840, '산림청장': 3841, '목격': 3842, '소대장': 3843, '보안': 3844, '치안본부': 3845, '실사': 3846, '경비원': 3847, '교지': 3848, '작전': 3849, '증류': 3850, '극장': 3851, '택': 3852, '대마': 3853, '그날': 3854, '선결': 3855, '디스크': 3856, '감지': 3857, '구락부': 3858, '비골': 3859, '잠': 3860, '신세계': 3861, '엘레': 3862, '강스': 3863, '고모': 3864, '예기': 3865, '발각': 3866, '안전벨트': 3867, '사우나': 3868, '납득': 3869, '조명': 3870, '무늬': 3871, '내연': 3872, '개피': 3873, '공자': 3874, '쟁송': 3875, '재축': 3876, '대별': 3877, '군통': 3878, '전몰': 3879, '목욕': 3880, '원리': 3881, '재판정': 3882, '걸': 3883, '중심': 3884, '교정': 3885, '영주': 3886, '개진': 3887, '무면허운전': 3888, '고의범': 3889, '면허증': 3890, '학습장': 3891, '인원': 3892, '급정지': 3893, '특정물': 3894, '객실': 3895, '이용권': 3896, '민사재판': 3897, '유란': 3898, '소방법': 3899, '당선자': 3900, '이주하': 3901, '창고업자': 3902, '대책': 3903, '중계': 3904, '구실': 3905, '살피': 3906, '결손': 3907, '구리': 3908, '출입국관리법': 3909, '영해': 3910, '법조경합': 3911, '득금': 3912, '국가배상': 3913, '소각': 3914, '사전통지': 3915, '특허청장': 3916, '공로': 3917, '수필': 3918, '노사': 3919, '변재': 3920, '부기': 3921, '인하': 3922, '밀봉': 3923, '무차별': 3924, '단말기': 3925, '비상상고': 3926, '환어음': 3927, '후행': 3928, '연합': 3929, '의료인': 3930, '지난': 3931, '목표': 3932, '조종': 3933, '홍보': 3934, '사무관리': 3935, '협박죄': 3936, '의치': 3937, '법률요건': 3938, '귀사': 3939, '셈': 3940, '채권자대위권': 3941, '합성': 3942, '홈': 3943, '링': 3944, '감축': 3945, '무기사': 3946, '조폐공사': 3947, '전념': 3948, '세대주': 3949, '지니': 3950, '법무': 3951, '지상권': 3952, '홈페이지': 3953, '캐릭터': 3954, '쇼핑몰': 3955, '강행': 3956, '영상': 3957, '시책': 3958, '풍속': 3959, '저하': 3960, '연간': 3961, '임박': 3962, '송부된': 3963, '것으므': 3964, '중재절차': 3965, '답변서': 3966, '체제': 3967, '부당성': 3968, '합석': 3969, '찰': 3970, '장차': 3971, '착수금': 3972, '압박': 3973, '거론': 3974, '휴대전화': 3975, '당락': 3976, '증감': 3977, '구축': 3978, '적절': 3979, '응급': 3980, '이메일': 3981, '전방': 3982, '비리': 3983, '대체로': 3984, '구심': 3985, '기본권': 3986, '법성': 3987, '예술': 3988, '비보': 3989, '항거': 3990, '소인': 3991, '노래': 3992, '연습장': 3993, '시간제': 3994, '손님': 3995, '지방자치': 3996, '장의': 3997, '제안': 3998, '안과': 3999, '선거인명부': 4000, '직함': 4001, '관용': 4002, '도움': 4003, '적지': 4004, '산불': 4005, '최단': 4006, '한시': 4007, '작동': 4008, '누': 4009, '청약': 4010, '병무': 4011, '장례식': 4012, '형부': 4013, '수도권': 4014, '계류': 4015, '전염': 4016, '국립': 4017, '당원': 4018, '호소': 4019, '구성요소': 4020, '전날': 4021, '후유': 4022, '작성자': 4023, '고사유': 4024, '좇': 4025, '연마': 4026, '미제': 4027, '갈등': 4028, '당회': 4029, '양해': 4030, '상거래': 4031, '소급효': 4032, '바이': 4033, '공란': 4034, '관상': 4035, '악행': 4036, '기프트카드': 4037, '여신전문금융업법': 4038, '권법': 4039, '보더': 4040, '토지형질변경': 4041, '판매원': 4042, '하위': 4043, '의존': 4044, '무상증자': 4045, '이야기': 4046, '다리': 4047, '자상': 4048, '관사': 4049, '지급유예': 4050, '이혼소송': 4051, '사이버': 4052, '식품첨가물': 4053, '녹취서': 4054, '녹음테이프': 4055, '검증': 4056, '인위': 4057, '디지털': 4058, '테이프': 4059, '가사소송법': 4060, '가사소송': 4061, '진술서': 4062, '성욕': 4063, '자극': 4064, '성행위': 4065, '알몸': 4066, '요구르트': 4067, '욕설': 4068, '추행': 4069, '측정기': 4070, '통증': 4071, '배려': 4072, '토의': 4073, '캠브리지': 4074, '버': 4075, '사회생활': 4076, '초당': 4077, '정보처리': 4078, '부진': 4079, '정연': 4080, '농림': 4081, '정보통신부': 4082, '창립총회': 4083, '질': 4084, '법정이율': 4085, '계약위반': 4086, '망은': 4087, '본체': 4088, '행시': 4089, '직불카드': 4090, '도매시장': 4091, '상장': 4092, '농수산': 4093, '처리장치': 4094, '병력': 4095, '참칭': 4096, '인낙': 4097, '소란': 4098, '매표': 4099, '승차': 4100, '특별시': 4101, '광역시': 4102, '비대': 4103, '낙천': 4104, '유아인': 4105, '최우': 4106, '함량': 4107, '전량': 4108, '적정절차': 4109, '분말': 4110, '활성탄': 4111, '수처리': 4112, '금제': 4113, '국제항': 4114, '이사비': 4115, '사회보장': 4116, '합작': 4117, '이의제기': 4118, '제한물권': 4119, '미합중국': 4120, '군대': 4121, '일률': 4122, '휴가': 4123, '후생': 4124, '등사': 4125, '감리': 4126, '전담': 4127, '잔류': 4128, '이행강제금': 4129, '휴게소': 4130, '주유소': 4131, '라꾸': 4132, '개괄': 4133, '관광부': 4134, '사표': 4135, '마음대로': 4136, '무가': 4137, '집무': 4138, '원한': 4139, '작자': 4140, '수록': 4141, '정당화': 4142, '오수': 4143, '미적': 4144, '송부': 4145, '증거물': 4146, '내심': 4147, '강행법규': 4148, '침체': 4149, '미기': 4150, '기록부': 4151, '사이트': 4152, '신용협동조합': 4153, '해성': 4154, '어린이': 4155, '개방': 4156, '동일시': 4157, '출생신고': 4158, '계속범': 4159, '성매매특별법': 4160, '탑승': 4161, '증진': 4162, '출산': 4163, '등지': 4164, '확립': 4165, '양성화': 4166, '부등': 4167, '불미': 4168, '다라': 4169, '포위': 4170, '도인': 4171, '산모': 4172, '의문사': 4173, '신주': 4174, '미혼': 4175, '남': 4176, '장녀': 4177, '유류분권': 4178, '자필유언': 4179, '검인': 4180, '부패방지법': 4181, '소송사기': 4182, '사직': 4183, '운전기사': 4184, '교제': 4185, '칙': 4186, '최저임금법': 4187, '회사채': 4188, '출두': 4189, '반대신문': 4190, '처단형': 4191, '구속영장': 4192, '단절': 4193, '무관후보생': 4194, '성희롱': 4195, '완전': 4196, '대외': 4197, '준소비대차': 4198, '금반언': 4199, '무기명채권': 4200, '추산': 4201, '몰래': 4202, '차기': 4203, '세미나': 4204, '집행불능': 4205, '거주지': 4206, '모로': 4207, '독려': 4208, '절반': 4209, '차남': 4210, '분재': 4211, '창작물': 4212, '편집': 4213, '모방': 4214, '체육': 4215, '린': 4216, '편취액': 4217, '직기': 4218, '대다수': 4219, '액면가': 4220, '법률혼': 4221, '산자': 4222, '자원': 4223, '모델': 4224, '대물': 4225, '운명': 4226, '명의개서': 4227, '의지': 4228, '호별': 4229, '근접': 4230, '적합': 4231, '숙련': 4232, '종국': 4233, '부종': 4234, '직영': 4235, '명함': 4236, '서부': 4237, '정행': 4238, '행각': 4239, '매가': 4240, '이해관계자': 4241, '실장': 4242, '급성': 4243, '괴롭힘': 4244, '군종장교': 4245, '참게': 4246, '생활수준': 4247, '당비': 4248, '헌': 4249, '외한': 4250, '해수': 4251, '합자회사': 4252, '감정평가사': 4253, '가분': 4254, '장함': 4255, '피하': 4256, '응소': 4257, '유전자': 4258, '어장': 4259, '수액': 4260, '공동묘지': 4261, '폐암': 4262, '효': 4263, '여유': 4264, '본권': 4265, '임관': 4266, '자연공물': 4267, '구거': 4268, '농로': 4269, '빼': 4270, '국법': 4271, '페이': 4272, '팅': 4273, '문언': 4274, '축산물': 4275, '이륜자동차': 4276, '부동산경매': 4277, '평등성': 4278, '회계감사': 4279, '금도': 4280, '장로': 4281, '일관': 4282, '시술': 4283, '간호조무사': 4284, '정당행위': 4285, '조장': 4286, '벽면': 4287, '게시': 4288, '투척': 4289, '페달': 4290, '자전거': 4291, '통화': 4292, '권리변동': 4293, '대의': 4294, '시속': 4295, '행렬': 4296, '수감': 4297, '효율': 4298, '고등': 4299, '교육법': 4300, '대학원': 4301, '이북': 4302, '이수': 4303, '우선변제권': 4304, '알콜': 4305, '초일': 4306, '가장납입': 4307, '사례금': 4308, '불균형': 4309, '종족': 4310, '조문': 4311, '약제': 4312, '고자': 4313, '무엇': 4314, '비닐하우스': 4315, '종목': 4316, '거꾸로': 4317, '채무인수': 4318, '파': 4319, '박사': 4320, '전자부품': 4321, '도메인': 4322, '웹사이트': 4323, '시로': 4324, '매출장': 4325, '개장': 4326, '신원보증': 4327, '상속회복청구권': 4328, '질문': 4329, '필기': 4330, '채색': 4331, '인증표': 4332, '합일': 4333, '비단': 4334, '처방': 4335, '무관계': 4336, '유권자': 4337, '소수': 4338, '능동': 4339, '주도': 4340, '산후조리원': 4341, '증세': 4342, '통신사': 4343, '뻥튀기': 4344, '가수': 4345, '제조업체': 4346, '파산신청': 4347, '생활비': 4348, '반올림': 4349, '지배인': 4350, '외래': 4351, '체질': 4352, '끝': 4353, '크게': 4354, '이바지': 4355, '구체화': 4356, '주일': 4357, '인력': 4358, '우회': 4359, '모해': 4360, '행함': 4361, '병역법': 4362, '양심': 4363, '전부금': 4364, '수강생': 4365, '정족수': 4366, '이상은': 4367, '민간': 4368, '향유': 4369, '무기': 4370, '고위': 4371, '계기': 4372, '여의': 4373, '예배당': 4374, '예배': 4375, '사': 4376, '징표': 4377, '사실혼': 4378, '치사량': 4379, '부조': 4380, '벌금': 4381, '좀': 4382, '한쪽': 4383, '배열': 4384, '통정': 4385, '비자': 4386, '고립': 4387, '보존등기': 4388, '최근': 4389, '가로': 4390, '집배원': 4391, '미치나': 4392, '질식': 4393, '볍령': 4394, '대학원생': 4395, '추돌사고': 4396, '엽': 4397, '원장': 4398, '초청': 4399, '분포': 4400, '피아노': 4401, '전환사채': 4402, '육군': 4403, '군기': 4404, '그르치': 4405, '변작': 4406, '총괄': 4407, '현역': 4408, '부적합': 4409, '잠시': 4410, '할부': 4411, '상정': 4412, '재적': 4413, '도청': 4414, '냉장고': 4415, '종용': 4416, '후유증': 4417, '결정족': 4418, '정권': 4419, '항행': 4420, '동맹': 4421, '신립': 4422, '관보': 4423, '의연': 4424, '밤': 4425, '일심': 4426, '전연': 4427, '통례': 4428, '수배': 4429, '혈': 4430, '서기': 4431, '심호': 4432, '결코': 4433, '제하': 4434, '도승': 4435, '면소': 4436, '정착': 4437, '막론': 4438, '빌어': 4439, '재사': 4440, '경솔': 4441, '호선': 4442, '상지': 4443, '촌': 4444, '획일': 4445, '차압': 4446, '기명주식': 4447, '상경': 4448, '추완': 4449, '위토': 4450, '계약법': 4451, '총칙': 4452, '해방': 4453, '호텔': 4454, '분필': 4455, '끼리': 4456, '완제': 4457, '판결이유': 4458, '말소등기청구권': 4459, '고백': 4460, '심문': 4461, '불가변력': 4462, '전주': 4463, '국통': 4464, '이적': 4465, '소요량': 4466, '무조건': 4467, '산지': 4468, '군사시설': 4469, '지급시': 4470, '빙판': 4471, '입후보': 4472, '면회': 4473, '방편': 4474, '간통죄': 4475, '고춧가루': 4476, '광학': 4477, '영화': 4478, '톤수': 4479, '톤': 4480, '추진기': 4481, '예인': 4482, '창구': 4483, '의용소방대': 4484, '즈음': 4485, '식용': 4486, '원부': 4487, '씩': 4488, '양인': 4489, '우선권': 4490, '호스': 4491, '면장': 4492, '항렬': 4493, '년': 4494, '사령': 4495, '상회': 4496, '망부': 4497, '유망': 4498, '두부': 4499, '지부': 4500, '준령': 4501, '선포': 4502, '동승': 4503, '매형': 4504, '방이': 4505, '다과': 4506, '지물포': 4507, '수효': 4508, '조계종': 4509, '존립': 4510, '울': 4511, '구애': 4512, '보안처분': 4513, '불소': 4514, '전복': 4515, '존비': 4516, '법보': 4517, '정사유': 4518, '기표': 4519, '득표수': 4520, '혼인빙자간음죄': 4521, '친권': 4522, '공과': 4523, '경제기획원': 4524, '기지': 4525, '관할권': 4526, '철': 4527, '일기장': 4528, '공동체': 4529, '응용': 4530, '정일': 4531, '조수': 4532, '대법관': 4533, '증권사': 4534, '고철': 4535, '점유보조자': 4536, '액면': 4537, '녹각': 4538, '대보': 4539, '탕': 4540, '빈도': 4541, '홍수': 4542, '자연현상': 4543, '대세': 4544, '구사': 4545, '자술': 4546, '농수산부': 4547, '차체': 4548, '이점': 4549, '계엄': 4550, '생질': 4551, '현물': 4552, '문란': 4553, '갑종': 4554, '뇌': 4555, '유동': 4556, '재중': 4557, '법대': 4558, '고차': 4559, '직물': 4560, '스카치': 4561, '제자리': 4562, '급료': 4563, '횡단하': 4564, '간호원': 4565, '사케': 4566, '당선인': 4567, '사방': 4568, '일보': 4569, '각목': 4570, '재학': 4571, '중등': 4572, '숙박업': 4573, '홀로': 4574, '수표로': 4575, '재발': 4576, '년월': 4577, '서리': 4578, '몽리': 4579, '갑문': 4580, '비닐': 4581, '당좌예금': 4582, '명과': 4583, '교직': 4584, '노회': 4585, '이론': 4586, '도로점용': 4587, '가정불화': 4588, '별거': 4589, '속칭': 4590, '피살': 4591, '가혹': 4592, '부패': 4593, '종로': 4594, '조사사': 4595, '경멸': 4596, '교사범': 4597, '수탁': 4598, '육교': 4599, '파기자판': 4600, '소한': 4601, '인낙조서': 4602, '분만': 4603, '분해': 4604, '중량': 4605, '사변': 4606, '경향': 4607, '예시': 4608, '소실': 4609, '무용': 4610, '탄광': 4611, '추락': 4612, '사옥': 4613, '위신': 4614, '면접': 4615, '전문성': 4616, '밀리': 4617, '자격시험': 4618, '관인': 4619, '수료': 4620, '수임': 4621, '지나': 4622, '조회': 4623, '봉인': 4624, '상식': 4625, '면치': 4626, '움': 4627, '농협': 4628, '코': 4629, '응징': 4630, '정상기': 4631, '공산': 4632, '평방미터': 4633, '입부': 4634, '편철': 4635, '용구': 4636, '들러리': 4637, '예비고사': 4638, '한선': 4639, '증거신청': 4640, '신안': 4641, '동력자원부': 4642, '탐광': 4643, '인천': 4644, '전시장': 4645, '구서': 4646, '원호': 4647, '무과': 4648, '때란': 4649, '요청서': 4650, '감봉': 4651, '취사': 4652, '소용': 4653, '각처': 4654, '걸름통': 4655, '섭취': 4656, '음식물': 4657, '콩': 4658, '분쇄기': 4659, '가사': 4660, '시킴': 4661, '역할': 4662, '불충분': 4663, '가동': 4664, '상속법': 4665, '전기통신법': 4666, '얼굴': 4667, '예비군': 4668, '대대장': 4669, '탈누': 4670, '분위기': 4671, '영토': 4672, '군용': 4673, '패혈증': 4674, '평의': 4675, '철근콘크리트': 4676, '굴착': 4677, '좌상': 4678, '치사': 4679, '대응조치': 4680, '인치': 4681, '마루': 4682, '오': 4683, '반한': 4684, '되풀이': 4685, '고항': 4686, '검수': 4687, '생계': 4688, '차관': 4689, '계량': 4690, '임목': 4691, '산악': 4692, '재산관리': 4693, '광주': 4694, '산동': 4695, '가재': 4696, '도구': 4697, '집도': 4698, '계원': 4699, '자전차': 4700, '순간': 4701, '반미': 4702, '교도관': 4703, '구치소': 4704, '과중': 4705, '연변': 4706, '난방': 4707, '계장': 4708, '죄명': 4709, '경내': 4710, '시도': 4711, '추격': 4712, '개전': 4713, '면책약관': 4714, '편물': 4715, '부록': 4716, '소송계속': 4717, '숨기': 4718, '신상': 4719, '지능': 4720, '목적의식': 4721, '우안': 4722, '주안': 4723, '유권해석': 4724, '유인물': 4725, '이천': 4726, '중공': 4727, '수형': 4728, '결심': 4729, '대결': 4730, '익월': 4731, '뿐더러': 4732, '까스류': 4733, '운수업': 4734, '덤프트럭': 4735, '출항': 4736, '땅콩': 4737, '난동': 4738, '대우': 4739, '무슨': 4740, '일부인': 4741, '금일': 4742, '수일': 4743, '교육감': 4744, '길이': 4745, '자중': 4746, '단백질': 4747, '칼슘': 4748, '비타민': 4749, '변질': 4750, '급식': 4751, '파출소': 4752, '판돈': 4753, '순경': 4754, '농성': 4755, '개표': 4756, '식용유': 4757, '포고령': 4758, '능': 4759, '하루': 4760, '괴뢰': 4761, '원전': 4762, '맛': 4763, '암시': 4764, '장내': 4765, '띠': 4766, '용수': 4767, '개호': 4768, '구등': 4769, '연유': 4770, '교도': 4771, '회계사': 4772, '착공': 4773, '답': 4774, '주거지역': 4775, '밭': 4776, '읍': 4777, '캠페인': 4778, '시비': 4779, '장식': 4780, '유형문화재': 4781, '융자': 4782, '자지': 4783, '크기': 4784, '세제': 4785, '유지관리': 4786, '군사우편': 4787, '융': 4788, '적금': 4789, '소행': 4790, '경해': 4791, '제약회사': 4792, '주로': 4793, '술집': 4794, '원서': 4795, '시초': 4796, '감수': 4797, '사살': 4798, '전투경찰대': 4799, '약국': 4800, '합성수지': 4801, '용액': 4802, '적자': 4803, '향수': 4804, '손비': 4805, '세약': 4806, '피자': 4807, '술김': 4808, '양형': 4809, '친생': 4810, '클럽': 4811, '묵살': 4812, '번영': 4813, '안면': 4814, '뇌수술': 4815, '경화': 4816, '카제인': 4817, '세번': 4818, '토론': 4819, '철재': 4820, '유권대리': 4821, '차이점': 4822, '눈': 4823, '눈물': 4824, '교도소': 4825, '향응': 4826, '잔디': 4827, '과실범': 4828, '기재부': 4829, '비품': 4830, '친구': 4831, '지하철공사': 4832, '검사조서': 4833, '사자': 4834, '광원': 4835, '비임': 4836, '포착': 4837, '외환': 4838, '바람': 4839, '현대': 4840, '남짓': 4841, '노폭': 4842, '골목': 4843, '권리금': 4844, '합의금': 4845, '조어': 4846, '귀선': 4847, '신병': 4848, '이선': 4849, '사무장': 4850, '잠적': 4851, '입대': 4852, '격분': 4853, '가림': 4854, '방울': 4855, '기반': 4856, '개조': 4857, '남산': 4858, '객': 4859, '중간계': 4860, '농약': 4861, '외제': 4862, '로라': 4863, '초병': 4864, '실태': 4865, '지금': 4866, '앞차': 4867, '식사': 4868, '친족회': 4869, '불참': 4870, '업황': 4871, '의의': 4872, '무고': 4873, '고소장': 4874, '접대': 4875, '꽃가루': 4876, '추월': 4877, '강서': 4878, '중학교': 4879, '육성': 4880, '잡': 4881, '누나': 4882, '계통': 4883, '과속': 4884, '양담배': 4885, '동시범': 4886, '형광등': 4887, '문중': 4888, '계약보증금': 4889, '도선사': 4890, '해난': 4891, '실황조사서': 4892, '개재': 4893, '사리': 4894, '신서': 4895, '애': 4896, '변태': 4897, '철강': 4898, '코일': 4899, '재압연용': 4900, '탄력': 4901, '소홀': 4902, '시내버스': 4903, '환금': 4904, '비료': 4905, '돼지': 4906, '상피': 4907, '전당포': 4908, '공과금': 4909, '전자레인지': 4910, '월수': 4911, '우육': 4912, '도축': 4913, '침투': 4914, '입출금': 4915, '은퇴': 4916, '혼외자': 4917, '서울역': 4918, '발매': 4919, '오피': 4920, '연말정산': 4921, '화체': 4922, '애국지사': 4923, '경의': 4924, '양해각서': 4925, '공헌': 4926, '직할': 4927, '정하나': 4928, '내야': 4929, '보호대': 4930, '화랑': 4931, '묘목': 4932, '달함': 4933, '추적': 4934, '적성검사': 4935, '사교': 4936, '춤': 4937, '지터': 4938, '벅': 4939, '당사자소송': 4940, '유용': 4941, '콘도미니엄': 4942, '제일': 4943, '김지': 4944, '병기': 4945, '유리창': 4946, '선팅지': 4947, '실상': 4948, '폐해': 4949, '모델하우스': 4950, '플라스틱': 4951, '파라솔': 4952, '둘레': 4953, '전화번호': 4954, '현수막': 4955, '교통법위반': 4956, '우수현상광고': 4957, '김포공항': 4958, '납금': 4959, '산일': 4960, '쳥': 4961, '선축': 4962, '실천': 4963, '환승': 4964, '사잔': 4965, '경찰권': 4966, '핼로': 4967, '품성': 4968, '덕행': 4969, '명성': 4970, '인격권': 4971, '수리시설': 4972, '개보': 4973, '보조사': 4974, '부원': 4975, '설득': 4976, '속보': 4977, '입국심사': 4978, '영공': 4979, '대기발령': 4980, '편승': 4981, '이직': 4982, '예정일': 4983, '전일': 4984, '의견청취': 4985, '적법절차': 4986, '위험부담': 4987, '특허심판원': 4988, '정문화': 4989, '단체교섭': 4990, '계획재량': 4991, '부지경': 4992, '보통면': 4993, '허소': 4994, '지자': 4995, '유력': 4996, '복원성': 4997, '국립공원': 4998, '취락': 4999, '콘크리트': 5000, '서신': 5001, '송수': 5002, '홍보물': 5003, '범람': 5004, '과열': 5005, '혼탁': 5006, '이동전화': 5007, '수천': 5008, '휴대폰': 5009, '낙': 5010, '약자': 5011, '급부의무': 5012, '상대자': 5013, '문과': 5014, '전조등': 5015, '온천': 5016, '이유나': 5017, '헌법불합치': 5018, '이음': 5019, '절연': 5020, '안부': 5021, '후배': 5022, '구조조정': 5023, '전화통화': 5024, '직권남용죄': 5025, '노동운동': 5026, '외교': 5027, '청사': 5028, '옥외': 5029, '중간자': 5030, '결회': 5031, '최선': 5032, '결핵': 5033, '약인': 5034, '에탐부톨': 5035, '보건소': 5036, '완치': 5037, '관절염': 5038, '치환술': 5039, '국립대': 5040, '제자': 5041, '소식지': 5042, '만화영화': 5043, '팽이': 5044, '대중': 5045, '흡인': 5046, '고려대': 5047, '고볼': 5048, '수분': 5049, '운칙적': 5050, '간자': 5051, '장애인': 5052, '유료도로': 5053, '북어': 5054, '새우': 5055, '음식재료': 5056, '가전': 5057, '지대': 5058, '해치': 5059, '간여': 5060, '노무사': 5061, '글': 5062, '스레': 5063, '기관지': 5064, '특보': 5065, '노동부': 5066, '강제징수': 5067, '수차': 5068, '변호사비용': 5069, '자유시장경제': 5070, '부외': 5071, '기기': 5072, '모면': 5073, '슬': 5074, '권세': 5075, '소규모': 5076, '수백': 5077, '공세': 5078, '권부': 5079, '차마': 5080, '직진': 5081, '오거': 5082, '강구': 5083, '전망': 5084, '자비': 5085, '공전자기록위작죄': 5086, '공산품': 5087, '원격조정기': 5088, '부회': 5089, '교리': 5090, '겸비': 5091, '차손일': 5092, '카페': 5093, '검문소': 5094, '낮': 5095, '기자': 5096, '위법성조각사유': 5097, '위세': 5098, '폭력조직': 5099, '두목': 5100, '곤경': 5101, '무사': 5102, '이치': 5103, '주제가': 5104, '황': 5105, '삼색': 5106, '호기': 5107, '후방': 5108, '티켓': 5109, '흥': 5110, '견제': 5111, '통폐': 5112, '정안': 5113, '발의': 5114, '척추': 5115, '임플란트': 5116, '술시': 5117, '렌즈': 5118, '편취로': 5119, '구안': 5120, '탄핵증거': 5121, '재직': 5122, '개소식': 5123, '송객': 5124, '차지': 5125, '하향': 5126, '케쉬': 5127, '다자': 5128, '조약': 5129, '내국민대우': 5130, '경쟁조건': 5131, '연회': 5132, '공약': 5133, '반면': 5134, '분장사': 5135, '가연성': 5136, '폭발사고': 5137, '병역면제': 5138, '듯': 5139, '겁': 5140, '가축': 5141, '전염병': 5142, '득표': 5143, '당내': 5144, '금기': 5145, '장해지': 5146, '우기': 5147, '기여분': 5148, '비급': 5149, '삭': 5150, '지름': 5151, '고체': 5152, '대기오염': 5153, '대기': 5154, '수역': 5155, '심화': 5156, '회유': 5157, '질적': 5158, '안녕': 5159, '특유': 5160, '법적안정성': 5161, '법치': 5162, '발암': 5163, '매집': 5164, '성황': 5165, '듯이': 5166, '양속': 5167, '부보': 5168, '건전성': 5169, '사양': 5170, '조화': 5171, '선착': 5172, '무리': 5173, '선불카드': 5174, '인지세법': 5175, '누가': 5176, '잡종': 5177, '부호': 5178, '누적': 5179, '블루': 5180, '컷': 5181, '블루클럽': 5182, '자기결정권': 5183, '귀엣말': 5184, '수라': 5185, '불치': 5186, '난치': 5187, '주간': 5188, '흉부': 5189, '쓰기': 5190, '재결합': 5191, '무릎관절': 5192, '집행자': 5193, '애초': 5194, '변천': 5195, '개작': 5196, '녹음기': 5197, '재녹음': 5198, '카세트': 5199, '검증조서': 5200, '자처': 5201, '명피': 5202, '특혜': 5203, '보복': 5204, '체류': 5205, '통원': 5206, '승강기': 5207, '연방': 5208, '사국': 5209, '흥분': 5210, '수치심': 5211, '묘사': 5212, '밀가루': 5213, '음부': 5214, '유방': 5215, '상채': 5216, '무대': 5217, '공연음란죄': 5218, '남학생': 5219, '성기': 5220, '법치국가': 5221, '비례원칙': 5222, '방호': 5223, '일조권': 5224, '진위': 5225, '토로': 5226, '행태': 5227, '희생': 5228, '기증': 5229, '느낌': 5230, '유니': 5231, '주의력': 5232, '부제품': 5233, '액면금액': 5234, '이지': 5235, '재정경제부': 5236, '아날로그': 5237, '기법': 5238, '연주': 5239, '직권남용': 5240, '점방': 5241, '집결': 5242, '보편': 5243, '추완상소': 5244, '분업': 5245, '한약사': 5246, '한약': 5247, '에측': 5248, '행정입법': 5249, '실패': 5250, '면약': 5251, '이견': 5252, '다단계판매업': 5253, '소니': 5254, '엔터테인먼트': 5255, '플레이스테이션': 5256, '게임기': 5257, '주쟁메체': 5258, '내장': 5259, '엑세스': 5260, '사립': 5261, '환청': 5262, '첫': 5263, '재청': 5264, '가령': 5265, '전보발령': 5266, '웹서버': 5267, '내란죄': 5268, '표지판': 5269, '지식인': 5270, '의정': 5271, '탈법': 5272, '출력': 5273, '사생활': 5274, '유일': 5275, '애행': 5276, '가정법원': 5277, '회분': 5278, '아가': 5279, '관리제': 5280, '고해': 5281, '기한부': 5282, '정서': 5283, '료율제': 5284, '철분': 5285, '금등': 5286, '자원부': 5287, '이사만이': 5288, '만화': 5289, '전기통신기본법': 5290, '용종': 5291, '송장': 5292, '문명': 5293, '언론보도': 5294, '혀': 5295, '가상': 5296, '문대': 5297, '청량음료': 5298, '막역': 5299, '전해': 5300, '군속': 5301, '서술': 5302, '근속': 5303, '미시': 5304, '공사상': 5305, '균열': 5306, '명절': 5307, '향비': 5308, '선물': 5309, '미결': 5310, '미처': 5311, '인신': 5312, '직권남용감금죄': 5313, '품명': 5314, '구격': 5315, '밀수출': 5316, '구강': 5317, '루저': 5318, '하소': 5319, '무릅쓰': 5320, '치쥐': 5321, '도로공사': 5322, '휴게': 5323, '임대료': 5324, '지시자': 5325, '알기': 5326, '임서': 5327, '단독행위': 5328, '수리행위': 5329, '지기': 5330, '통신망': 5331, '메시지': 5332, '이동통신': 5333, '본부장': 5334, '뇌물수수': 5335, '단전': 5336, '조정은': 5337, '채판': 5338, '료함': 5339, '본계약': 5340, '신용등급': 5341, '배착힌': 5342, '직렬': 5343, '자가용': 5344, '렌트카': 5345, '박제': 5346, '발췌': 5347, '음악': 5348, '입학시험': 5349, '불합격': 5350, '지원기': 5351, '분율': 5352, '가법': 5353, '정화조': 5354, '유전': 5355, '양안': 5356, '망막색소변성증': 5357, '시력': 5358, '저렵': 5359, '팀': 5360, '외상매출금': 5361, '재수술': 5362, '변칙': 5363, '행정절차': 5364, '부딫혀': 5365, '입시': 5366, '정과정': 5367, '간접사실': 5368, '대산': 5369, '선순취': 5370, '정인': 5371, '소견': 5372, '수익률': 5373, '건대': 5374, '연대채무': 5375, '여가': 5376, '체사': 5377, '광고주': 5378, '광고대행사': 5379, '익산': 5380, '가약': 5381, '게속': 5382, '불금': 5383, '단시': 5384, '고현': 5385, '드럼': 5386, '팀해': 5387, '교통기관': 5388, '군민': 5389, '정선군': 5390, '체적': 5391, '덤프': 5392, '메카니즘': 5393, '오손': 5394, '배수로': 5395, '해안': 5396, '기초자치단체장': 5397, '대체연료': 5398, '중반': 5399, '제왕절개': 5400, '당자': 5401, '총수': 5402, '인주': 5403, '호주권': 5404, '여자도': 5405, '노': 5406, '학생복': 5407, '단테': 5408, '도저히': 5409, '유가족': 5410, '중국인': 5411, '과징': 5412, '범인도피죄': 5413, '새겨햐': 5414, '법가': 5415, '체포영장': 5416, '부심': 5417, '시불': 5418, '암': 5419, '재래시장': 5420, '좌판': 5421, '처우': 5422, '여건': 5423, '출제': 5424, '문항': 5425, '답항': 5426, '자류롭': 5427, '취태범': 5428, '고속': 5429, '편재': 5430, '대우전자': 5431, '회의장': 5432, '측근': 5433, '대선': 5434, '수치': 5435, '대내': 5436, '지방선거': 5437, '중자': 5438, '호주인': 5439, '시리즈': 5440, '스크랩': 5441, '학습자': 5442, '위락시설': 5443, '유료': 5444, '반함': 5445, '성관계': 5446, '폭로': 5447, '단원': 5448, '관심': 5449, '축산업협동조합': 5450, '축협': 5451, '영업양도': 5452, '국가정보원직원법': 5453, '상정이': 5454, '분산': 5455, '거관': 5456, '채포': 5457, '포획': 5458, '동식물': 5459, '기보': 5460, '온기': 5461, '고로': 5462, '재산가': 5463, '패러디': 5464, '찻값': 5465, '판별': 5466, '맥락': 5467, '창의': 5468, '어휘': 5469, '두루': 5470, '농민': 5471, '항운': 5472, '무비': 5473, '유비': 5474, '센터': 5475, '뉴스': 5476, '용한': 5477, '유세': 5478, '대한의사협회': 5479, '소정은': 5480, '으': 5481, '이의권': 5482, '방비': 5483, '지면': 5484, '식물인간': 5485, '여명': 5486, '망국': 5487, '동록': 5488, '묘시': 5489, '광역': 5490, '현안': 5491, '표결권': 5492, '자연과학': 5493, '헤르페스': 5494, '바이러스': 5495, '망막': 5496, '뇌염': 5497, '스트레스': 5498, '일련번호': 5499, '송이': 5500, '정신장애': 5501, '교육활동': 5502, '학교폭력': 5503, '성직자': 5504, '중교': 5505, '중립': 5506, '자제': 5507, '공군': 5508, '참모총장': 5509, '계몽': 5510, '정교분리': 5511, '터미널': 5512, '사유수': 5513, '진폐증': 5514, '직업병': 5515, '특허법원': 5516, '의례': 5517, '성부': 5518, '법명': 5519, '과태': 5520, '방자': 5521, '버금': 5522, '어류': 5523, '피방': 5524, '일신전속권': 5525, '식탁': 5526, '밥송법': 5527, '입안': 5528, '자연환경보전법': 5529, '생태계': 5530, '생태': 5531, '도시생태현황도': 5532, '비오톱': 5533, '맵': 5534, '참고자료': 5535, '도일': 5536, '테두리': 5537, '영주권': 5538, '재일교포': 5539, '라거': 5540, '의막': 5541, '침습': 5542, '월액': 5543, '불평등': 5544, '성비': 5545, '벼': 5546, '경작지': 5547, '잔디밭': 5548, '지하철': 5549, '지하철역': 5550, '석면': 5551, '특정시': 5552, '조성원': 5553, '사사유': 5554, '확전': 5555, '재정상': 5556, '원조': 5557, '위태범': 5558, '돕기': 5559, '이행상': 5560, '견련관계': 5561, '이용상': 5562, '동성애': 5563, '논란': 5564, '환은행': 5565, '온당': 5566, '변제충당': 5567, '제어': 5568, '기계화': 5569, '자동차관리법': 5570, '법해석': 5571, '폴란드': 5572, '영구': 5573, '선박등기': 5574, '진흥': 5575, '복식부기': 5576, '증거위조죄': 5577, '행해': 5578, '모발': 5579, '이식': 5580, '행성': 5581, '오물': 5582, '불쾌감': 5583, '복직': 5584, '래커': 5585, '스프레이': 5586, '외벽': 5587, '자유게시판': 5588, '엔진': 5589, '배기량': 5590, '페드': 5591, '모페드': 5592, '모터': 5593, '경량': 5594, '웃돈다': 5595, '면책조항': 5596, '전신환': 5597, '직면': 5598, '저속': 5599, '즉흥': 5600, '불구속': 5601, '추구': 5602, '하종': 5603, '군사분계선': 5604, '초': 5605, '중등교육': 5606, '대학교육': 5607, '교육과정': 5608, '졸업': 5609, '국가정보원장': 5610, '국가정보원': 5611, '처리기': 5612, '오신': 5613, '주지연': 5614, '관계도': 5615, '대기업': 5616, '비난가능성': 5617, '사이이': 5618, '제사': 5619, '후손': 5620, '여성': 5621, '배신': 5622, '무작정': 5623, '가스요금': 5624, '조산사': 5625, '퇴비': 5626, '장고': 5627, '관상어': 5628, '배양': 5629, '작업장': 5630, '양어': 5631, '포괼적': 5632, '척결': 5633, '교직원': 5634, '학부모': 5635, '이행거절': 5636, '나기': 5637, '선금': 5638, '사대': 5639, '이행인수': 5640, '형량하': 5641, '개봉': 5642, '행정절차법': 5643, '배당률': 5644, '물상대위': 5645, '자격상실': 5646, '폐쇄형': 5647, '불명료': 5648, '액비': 5649, '저장': 5650, '폐수처리': 5651, '개발자': 5652, '단시간': 5653, '준점유': 5654, '색채': 5655, '색': 5656, '구도': 5657, '빨간색': 5658, '파란색': 5659, '감색': 5660, '간호사': 5661, '복약': 5662, '배합': 5663, '인터뷰': 5664, '프로필': 5665, '서거': 5666, '적극성': 5667, '순서대로': 5668, '구태여': 5669, '무능력': 5670, '탈루': 5671, '향범': 5672, '입소': 5673, '보임': 5674, '탈수': 5675, '장염': 5676, '과실치사': 5677, '호용': 5678, '금지명령': 5679, '천수': 5680, '여론조사': 5681, '비례대표': 5682, '행정부': 5683, '예금자보호법': 5684, '합볍하': 5685, '매개': 5686, '어긋나게': 5687, '호보': 5688, '침익': 5689, '논평': 5690, '어법': 5691, '세로': 5692, '치부': 5693, '철거민': 5694, '차후': 5695, '관철': 5696, '문안': 5697, '자문': 5698, '실시간': 5699, '곡': 5700, '정선': 5701, '건조': 5702, '잠탈': 5703, '실의': 5704, '멸': 5705, '대학별': 5706, '소수점': 5707, '점수': 5708, '제기로': 5709, '급법': 5710, '허각': 5711, '장특': 5712, '심근경색증': 5713, '궁': 5714, '특별자치도': 5715, '식지': 5716, '정위': 5717, '소독': 5718, '기둥': 5719, '천정': 5720, '물탱크': 5721, '중국': 5722, '대사관': 5723, '영사': 5724, '날치기': 5725, '끌': 5726, '무릎': 5727, '가해진': 5728, '강도치상죄': 5729, '공격성': 5730, '노후': 5731, '라벨': 5732, '대체복무제': 5733, '대체복무': 5734, '미신': 5735, '매출채권': 5736, '사교육': 5737, '공교육': 5738, '저학년': 5739, '외주': 5740, '제작사': 5741, '장면': 5742, '초상권': 5743, '여신': 5744, '준면': 5745, '전유': 5746, '송부받': 5747, '폭탄': 5748, '간사': 5749, '배점': 5750, '목격자': 5751, '대질': 5752, '장만': 5753, '강취': 5754, '미성년자약취죄': 5755, '중계기': 5756, '해외여행': 5757, '출신': 5758, '탈북': 5759, '신변': 5760, '헌법소원': 5761, '제상': 5762, '아야': 5763, '불공': 5764, '서서': 5765, '현판': 5766, '십자가': 5767, '자물쇠': 5768, '훼방': 5769, '예배방해죄': 5770, '택배': 5771, '간섭': 5772, '폐회': 5773, '병행': 5774, '의사소통': 5775, '이회': 5776, '유기죄': 5777, '필로폰': 5778, '복용': 5779, '블로그': 5780, '대화방': 5781, '일대일': 5782, '직급': 5783, '연정': 5784, '도란': 5785, '단면': 5786, '테스트': 5787, '회로도': 5788, '수신': 5789, '부자': 5790, '강설': 5791, '폭설': 5792, '장시간': 5793, '구간': 5794, '정체': 5795, '학과': 5796, '거지': 5797, '제작자': 5798, '관람': 5799, '비디오': 5800, '동영상': 5801, '시청': 5802, '함정': 5803, '상회사': 5804, '수해': 5805, '강경': 5806, '요관': 5807, '합병증': 5808, '한국어': 5809, '학당': 5810, '집합건물법': 5811, '제목': 5812, '견련되': 5813, '견련사건': 5814, '관자': 5815, '아기': 5816, '채혈': 5817, '권익': 5818, '강연': 5819, '연사': 5820, '후발': 5821, '기획사': 5822, '보통예금': 5823, '예금꼐좌': 5824, '수권자본': 5825, '석': 5826, '상임': 5827, '총칭': 5828, '명수': 5829, '환치': 5830, '불상': 5831, '상권': 5832, '경업금지의무': 5833, '활성화': 5834, '이기만': 5835, '전통': 5836, '획정': 5837, '각별': 5838, '재벌': 5839, '그룹': 5840, '금융자본': 5841, '융통': 5842, '중고차': 5843, '확률': 5844, '충실': 5845, '젖꼭지': 5846, '공동사회': 5847, '소비자보호법': 5848, '가운': 5849, '보급': 5850, '교육비': 5851, '신용거래': 5852, '정치인': 5853, '상조': 5854, '신속': 5855, '차령': 5856, '처치': 5857, '수소': 5858, '본연': 5859, '탈락자': 5860, '떄': 5861, '입신': 5862, '역산': 5863, '봉쇄': 5864, '허무인': 5865, '얀': 5866, '기술자': 5867, '축받이': 5868, '베어링': 5869, '캐스': 5870, '캐': 5871, '이드': 5872, '링크': 5873, '운전면허증': 5874, '점유이탈물횡령죄': 5875, '켜': 5876, '파일': 5877, '출자전환': 5878, '효력발생일': 5879, '내재': 5880, '위상': 5881, '해양': 5882, '해기': 5883, '병무청장': 5884, '용검': 5885, '사승': 5886, '수종': 5887, '취용': 5888, '대유': 5889, '재난': 5890, '임시조치': 5891, '월명': 5892, '하임': 5893, '상부': 5894, '질물': 5895, '역원': 5896, '해대': 5897, '매도담보': 5898, '공한': 5899, '병환': 5900, '공납금': 5901, '의률': 5902, '고령': 5903, '중풍': 5904, '호정': 5905, '안혼': 5906, '자식': 5907, '경부': 5908, '타살': 5909, '미군정청': 5910, '소신': 5911, '주주명부': 5912, '법시': 5913, '보증수표': 5914, '횡선': 5915, '공포일': 5916, '화폐개혁': 5917, '백배': 5918, '선로': 5919, '급부소송': 5920, '동심': 5921, '체환': 5922, '비승': 5923, '하야': 5924, '일일': 5925, '좌정': 5926, '목견할': 5927, '선서케': 5928, '거부권': 5929, '역수': 5930, '언도': 5931, '화류': 5932, '무체': 5933, '셀표': 5934, '사류': 5935, '지폐': 5936, '은행권': 5937, '자경': 5938, '과분': 5939, '존내': 5940, '불완전이행': 5941, '극도': 5942, '궁박': 5943, '선반': 5944, '견': 5945, '궁극': 5946, '바이므': 5947, '파괴': 5948, '자위': 5949, '견지': 5950, '각원': 5951, '가이사': 5952, '태풍': 5953, '풍랑': 5954, '항시': 5955, '항로': 5956, '척': 5957, '물상청구권': 5958, '가증': 5959, '왕왕': 5960, '침탈': 5961, '병역기피': 5962, '도망': 5963, '잠닉': 5964, '작위': 5965, '입목': 5966, '명인방법': 5967, '마을': 5968, '상대편': 5969, '꽃': 5970, '중심부': 5971, '꽃술': 5972, '꽃잎': 5973, '배치': 5974, '로간': 5975, '국유철도': 5976, '일부러': 5977, '폐쇄하거': 5978, '주말': 5979, '무장경찰': 5980, '출동': 5981, '얘기': 5982, '하반신': 5983, '정답': 5984, '채점': 5985, '사주': 5986, '월남전': 5987, '전황': 5988, '작업중': 5989, '단조': 5990, '무부': 5991, '휴지': 5992, '운동장': 5993, '재정신청': 5994, '주유': 5995, '전표': 5996, '급량': 5997, '과부족': 5998, '사행': 5999, '법질서': 6000, '유지상': 6001, '중요성': 6002, '양륙': 6003, '용승': 6004, '옹호': 6005, '공법관계': 6006, '외화채권': 6007, '석탄': 6008, '군납': 6009, '창신동': 6010, '청계천': 6011, '더욱이': 6012, '자연재해': 6013, '유실': 6014, '구출': 6015, '논단': 6016, '급보': 6017, '서위': 6018, '조등': 6019, '잠칭한자': 6020, '세미': 6021, '을종': 6022, '피전': 6023, '감속': 6024, '자차': 6025, '주행': 6026, '위태롭': 6027, '달력': 6028, '료등': 6029, '고추': 6030, '재산범죄': 6031, '청과': 6032, '인화지': 6033, '노광': 6034, '단주': 6035, '노도': 6036, '소송참가': 6037, '예속': 6038, '소방대': 6039, '비축': 6040, '전세계약': 6041, '실재': 6042, '정부조직법': 6043, '총리': 6044, '개척': 6045, '농경지': 6046, '경쟁자': 6047, '일전': 6048, '페니': 6049, '타마': 6050, '페니실린': 6051, '약재': 6052, '해상법': 6053, '동해': 6054, '좌초': 6055, '침몰': 6056, '해손': 6057, '보라': 6058, '경매권': 6059, '고행': 6060, '중성': 6061, '당사자적격': 6062, '구속기소': 6063, '스키': 6064, '트': 6065, '마크': 6066, '프로펠라': 6067, '샤르트': 6068, '노면': 6069, '대각선': 6070, '경흥': 6071, '하관': 6072, '파종': 6073, '센치': 6074, '가로막': 6075, '쟁기': 6076, '군산시': 6077, '일조': 6078, '찬영': 6079, '구절': 6080, '감명': 6081, '의용': 6082, '남동생': 6083, '분과': 6084, '항만청': 6085, '도장': 6086, '고담': 6087, '대리행위': 6088, '자란이': 6089, '공백': 6090, '타툼': 6091, '부류': 6092, '판등': 6093, '케이블': 6094, '동선': 6095, '산회': 6096, '닌자': 6097, '연탄': 6098, '중독': 6099, '세방': 6100, '건축상': 6101, '소생': 6102, '요법': 6103, '지물': 6104, '상계로': 6105, '위태': 6106, '분란': 6107, '증뢰죄': 6108, '보호관찰': 6109, '실존': 6110, '이력': 6111, '취직': 6112, '서약': 6113, '근로계약서': 6114, '사문서위조죄': 6115, '영속': 6116, '소송도': 6117, '기혼': 6118, '망후': 6119, '시전': 6120, '재혼': 6121, '독주': 6122, '악단': 6123, '세목': 6124, '성취': 6125, '무효표': 6126, '원고기': 6127, '국적법': 6128, '기분': 6129, '집밖': 6130, '길가': 6131, '포락지': 6132, '곳이므': 6133, '외자': 6134, '배전': 6135, '욕망': 6136, '싯가': 6137, '집배': 6138, '책문권': 6139, '추완항소': 6140, '안치': 6141, '수산청': 6142, '차월': 6143, '창문': 6144, '친가': 6145, '적하': 6146, '숸리관계': 6147, '부정선거': 6148, '미수범': 6149, '불부': 6150, '사이다': 6151, '외로': 6152, '부로크': 6153, '향제': 6154, '거행': 6155, '운송주선업': 6156, '것으리므': 6157, '참칭상속인': 6158, '청구대': 6159, '불합': 6160, '조상': 6161, '교통신호': 6162, '륙탕': 6163, '용탕': 6164, '자양': 6165, '지금껏': 6166, '액체': 6167, '정제': 6168, '기와': 6169, '중임': 6170, '대략': 6171, '항소취하서': 6172, '일제시대': 6173, '전문증거': 6174, '비실': 6175, '질주': 6176, '옷': 6177, '도색': 6178, '페인트': 6179, '저항권': 6180, '자매': 6181, '존석': 6182, '형제자매': 6183, '이종사촌': 6184, '모계': 6185, '현격': 6186, '조의': 6187, '교차': 6188, '개체': 6189, '여로': 6190, '릴레이': 6191, '환형': 6192, '형량': 6193, '의장권': 6194, '혈전': 6195, '언어장애': 6196, '가요': 6197, '물음': 6198, '국방부': 6199, '섭외': 6200, '상관관계': 6201, '칭': 6202, '문제점': 6203, '파생': 6204, '형성권': 6205, '개월전': 6206, '제동': 6207, '교행': 6208, '가등기담보': 6209, '염화': 6210, '카리': 6211, '혈액': 6212, '심장마비': 6213, '위약': 6214, '소년법': 6215, '소년범': 6216, '가보': 6217, '살상': 6218, '머리': 6219, '허리': 6220, '경골': 6221, '단축': 6222, '기민성': 6223, '생전': 6224, '서울대학교': 6225, '실과': 6226, '원활': 6227, '쟁송절차': 6228, '혼숙': 6229, '그르쳐': 6230, '거함': 6231, '안심': 6232, '응락': 6233, '조선총독부': 6234, '일본정부': 6235, '갖은': 6236, '결원': 6237, '자만': 6238, '이격': 6239, '더미': 6240, '방조제': 6241, '배수갑문': 6242, '때밀이': 6243, '수건': 6244, '이태리타올': 6245, '여행자': 6246, '전래': 6247, '도서': 6248, '신도': 6249, '부부싸움': 6250, '혼신': 6251, '채종': 6252, '두유': 6253, '튀김': 6254, '버려진': 6255, '영아': 6256, '입양': 6257, '모자': 6258, '멋대로': 6259, '익액': 6260, '보관료': 6261, '갑남': 6262, '송인수': 6263, '성장': 6264, '상복': 6265, '능직': 6266, '모멸': 6267, '결합체': 6268, '통솔': 6269, '행정구역': 6270, '높이': 6271, '라며': 6272, '호등': 6273, '종헌': 6274, '종정': 6275, '순서': 6276, '납무': 6277, '최후': 6278, '직부': 6279, '도해': 6280, '커텐': 6281, '미소': 6282, '퇴폐': 6283, '이용사': 6284, '폐쇄': 6285, '실랑이': 6286, '폭행죄': 6287, '동대문시장': 6288, '디': 6289, '조적': 6290, '점차': 6291, '종속': 6292, '보조참가': 6293, '권리능력': 6294, '투숙': 6295, '한약재': 6296, '첩약': 6297, '지은': 6298, '찰리': 6299, '이종': 6300, '분량': 6301, '원화': 6302, '탄환': 6303, '죄등': 6304, '덕대': 6305, '전복사고': 6306, '대학생': 6307, '연습': 6308, '리가': 6309, '퇴행': 6310, '일면': 6311, '살인미수죄': 6312, '호명': 6313, '제척사유': 6314, '합별': 6315, '환시': 6316, '토목': 6317, '주법': 6318, '배입': 6319, '탄하': 6320, '객차': 6321, '승강': 6322, '여객운송': 6323, '종업': 6324, '체면': 6325, '충보': 6326, '행정벌': 6327, '형제': 6328, '출판사': 6329, '금회': 6330, '대학입학': 6331, '요강': 6332, '학력고사': 6333, '판촉': 6334, '연구시설': 6335, '권위': 6336, '신체감정': 6337, '고지역': 6338, '이변': 6339, '개지': 6340, '일정시대': 6341, '호국': 6342, '재무관': 6343, '세입': 6344, '횡단': 6345, '옆': 6346, '부근': 6347, '진로': 6348, '련': 6349, '교섭': 6350, '미성년자보호법': 6351, '송하인': 6352, '상시': 6353, '휴양': 6354, '생산품': 6355, '출시': 6356, '하든': 6357, '토목건축': 6358, '몰이': 6359, '생면부지': 6360, '일등': 6361, '파트': 6362, '영하': 6363, '세분': 6364, '항상': 6365, '운수업자': 6366, '미연방': 6367, '만전': 6368, '군조': 6369, '본명': 6370, '퇴정': 6371, '항소취하': 6372, '일신전속': 6373, '저렴': 6374, '세시': 6375, '농토': 6376, '과표액': 6377, '가감': 6378, '정확도': 6379, '복개': 6380, '품귀': 6381, '유의': 6382, '참칭하거': 6383, '결사': 6384, '아람': 6385, '휴지통': 6386, '재물손괴': 6387, '손괴함': 6388, '강도상해': 6389, '죄인': 6390, '실역': 6391, '예비역': 6392, '방위병': 6393, '간청': 6394, '연차': 6395, '이자제한법': 6396, '이율': 6397, '여백': 6398, '도외': 6399, '선결문제': 6400, '도로운송차량법': 6401, '폐차': 6402, '부속품': 6403, '채석장': 6404, '돌': 6405, '상차': 6406, '유의사항': 6407, '타진': 6408, '절충': 6409, '전라남도': 6410, '전라북도': 6411, '학칙': 6412, '불기소': 6413, '창조': 6414, '부차': 6415, '과연': 6416, '합사': 6417, '불가능': 6418, '레이': 6419, '안개': 6420, '청취': 6421, '수협': 6422, '양호': 6423, '부산진': 6424, '충남도지사': 6425, '기업인': 6426, '엑스선': 6427, '관업': 6428, '무정': 6429, '지남': 6430, '원호처': 6431, '묵리': 6432, '상통': 6433, '추측': 6434, '고발장': 6435, '파계': 6436, '하단': 6437, '발문': 6438, '포상': 6439, '자드': 6440, '연수': 6441, '은혜': 6442, '한전': 6443, '전류': 6444, '개폐기': 6445, '컵': 6446, '접시': 6447, '밥그릇': 6448, '수저': 6449, '오크': 6450, '젓가락': 6451, '레인': 6452, '오븐': 6453, '부엌': 6454, '싱크': 6455, '이종상': 6456, '김포': 6457, '중세': 6458, '영등포구': 6459, '아피': 6460, '성상': 6461, '반분': 6462, '채산': 6463, '재산관리인': 6464, '교육구': 6465, '결석': 6466, '전문학교': 6467, '유급': 6468, '재수': 6469, '제적': 6470, '퇴학': 6471, '졸업생': 6472, '양소': 6473, '성숙': 6474, '제도로': 6475, '용해': 6476, '바스': 6477, '켓트': 6478, '폰': 6479, '게기': 6480, '도법': 6481, '외포케': 6482, '수회': 6483, '경성제국대': 6484, '학': 6485, '금불': 6486, '승락하': 6487, '친족': 6488, '형체': 6489, '전주시': 6490, '말경': 6491, '건소': 6492, '기전': 6493, '광장시장': 6494, '장지': 6495, '가결': 6496, '짐': 6497, '분소': 6498, '별명': 6499, '원점': 6500, '걸물': 6501, '금강석': 6502, '시료': 6503, '강남': 6504, '잡부': 6505, '종말': 6506, '환경청': 6507, '방류': 6508, '밀수품': 6509, '백합': 6510, '농경': 6511, '시흥군': 6512, '동면': 6513, '구로동': 6514, '식도': 6515, '복부': 6516, '사망케': 6517, '감염': 6518, '백지어음': 6519, '원판': 6520, '세운': 6521, '건평': 6522, '하벽': 6523, '반품': 6524, '어깨': 6525, '뇌손상': 6526, '결과적가중범': 6527, '직속': 6528, '난사': 6529, '사고력': 6530, '편지': 6531, '병법': 6532, '적요': 6533, '초회': 6534, '사퇴': 6535, '원로': 6536, '커튼': 6537, '수락': 6538, '창사': 6539, '특별상': 6540, '평상시': 6541, '장마철': 6542, '소통시': 6543, '지형': 6544, '초목': 6545, '생무': 6546, '유속': 6547, '상례': 6548, '교포': 6549, '본적': 6550, '경북': 6551, '청도군': 6552, '호동': 6553, '농산물': 6554, '동방운수': 6555, '수출입은행': 6556, '식생활': 6557, '생활용품': 6558, '남해': 6559, '해면': 6560, '부피': 6561, '검정': 6562, '계량기': 6563, '립법': 6564, '생육': 6565, '강정': 6566, '동점': 6567, '민주주의': 6568, '지청': 6569, '홍삼': 6570, '일념': 6571, '정구': 6572, '굴': 6573, '바지락': 6574, '부찰': 6575, '공문': 6576, '데리': 6577, '과부': 6578, '식': 6579, '언행': 6580, '타고': 6581, '핸들': 6582, '독재': 6583, '주창': 6584, '살포': 6585, '갈취': 6586, '매음': 6587, '선고형': 6588, '변호사법위반죄': 6589, '초어': 6590, '타가': 6591, '종산': 6592, '관려': 6593, '논점': 6594, '변호사시험': 6595, '분매': 6596, '행정관': 6597, '증회': 6598, '탈주': 6599, '보안과장': 6600, '경남': 6601, '진영': 6602, '지법': 6603, '마산': 6604, '미싯': 6605, '소매업자': 6606, '다른사람': 6607, '보강': 6608, '고치': 6609, '청산도': 6610, '람사': 6611, '염제': 6612, '해발': 6613, '생해': 6614, '경룍된': 6615, '이류': 6616, '닝': 6617, '런닝샤쓰': 6618, '영문': 6619, '국문': 6620, '배관': 6621, '윈고': 6622, '성사': 6623, '미숫가루': 6624, '난입': 6625, '최': 6626, '잠재': 6627, '이중매매': 6628, '저당물': 6629, '감실': 6630, '살림집': 6631, '이의쟁송': 6632, '넘겨주기': 6633, '전집': 6634, '일제': 6635, '바늘': 6636, '공기조절': 6637, '건조장': 6638, '제습기': 6639, '도덕법칙': 6640, '근소': 6641, '미도': 6642, '작위범': 6643, '정신과': 6644, '좌안': 6645, '냉동': 6646, '기능사': 6647, '고합': 6648, '귀하': 6649, '개포': 6650, '사구간': 6651, '상기': 6652, '과시': 6653, '발효': 6654, '초심': 6655, '이천이': 6656, '서해안': 6657, '조업': 6658, '어로': 6659, '이용대': 6660, '가인': 6661, '몸조심': 6662, '악수': 6663, '거구': 6664, '빰': 6665, '치아': 6666, '탈구': 6667, '송구': 6668, '재법': 6669, '착력': 6670, '내용물': 6671, '천적': 6672, '전진': 6673, '식구': 6674, '삼륜차': 6675, '자갈': 6676, '기도': 6677, '감저': 6678, '기내': 6679, '복합': 6680, '위기': 6681, '식료품': 6682, '강남구': 6683, '교육청': 6684, '교양': 6685, '대회': 6686, '독서': 6687, '인증서': 6688, '실증': 6689, '일인': 6690, '대대': 6691, '법회': 6692, '장교': 6693, '응찰': 6694, '전과자': 6695, '범임': 6696, '친고죄': 6697, '순희': 6698, '공도': 6699, '한나': 6700, '간접점유': 6701, '가건물': 6702, '유익비': 6703, '자연법칙': 6704, '구유': 6705, '후속': 6706, '분간': 6707, '송부함': 6708, '도산': 6709, '렀': 6710, '배합사료': 6711, '발병': 6712, '뇨산침착증': 6713, '아예': 6714, '신뢰이익': 6715, '견금': 6716, '발기인': 6717, '당번': 6718, '말썽': 6719, '흉내내': 6720, '구성요건해당성': 6721, '해위': 6722, '떄문': 6723, '바면': 6724, '군중': 6725, '외치': 6726, '다중이': 6727, '손괴행위': 6728, '소요죄': 6729, '그동안': 6730, '지방채': 6731, '무거워': 6732, '그르친': 6733, '일과': 6734, '육백': 6735, '친': 6736, '안주': 6737, '나리': 6738, '과자': 6739, '고무장갑': 6740, '진달': 6741, '승': 6742, '인권': 6743, '개요': 6744, '모함': 6745, '허기': 6746, '우수': 6747, '칭하': 6748, '국유화': 6749, '공결': 6750, '정신질환': 6751, '양쪽': 6752, '거듭': 6753, '상청': 6754, '불행': 6755, '외박': 6756, '가출': 6757, '파경': 6758, '상목': 6759, '제화': 6760, '경제정책': 6761, '검방검신': 6762, '척주': 6763, '계호': 6764, '검신': 6765, '균': 6766, '한진': 6767, '공금': 6768, '기득권': 6769, '동장': 6770, '부군': 6771, '표창장': 6772, '석고': 6773, '화차': 6774, '보위': 6775, '금표': 6776, '중점': 6777, '몇몇': 6778, '작품': 6779, '독신': 6780, '숙식': 6781, '특급': 6782, '승자': 6783, '종착역': 6784, '소형': 6785, '녹취': 6786, '해저': 6787, '백자': 6788, '사학': 6789, '재원': 6790, '어머니': 6791, '용돈': 6792, '밀고': 6793, '박료': 6794, '목장': 6795, '농장': 6796, '값': 6797, '비행장': 6798, '소문': 6799, '취산하': 6800, '준법률행위': 6801, '가정부': 6802, '감축된': 6803, '고수': 6804, '수습': 6805, '개비': 6806, '도비': 6807, '감사원': 6808, '불당': 6809, '고후': 6810, '의안': 6811, '퇴장': 6812, '과반': 6813, '연후': 6814, '마주': 6815, '불시': 6816, '소지품': 6817, '관전': 6818, '주연': 6819, '물가': 6820, '생활환경': 6821, '환율': 6822, '교육제도': 6823, '자녀교육': 6824, '가구': 6825, '부임': 6826, '행전': 6827, '관측': 6828, '해운항만청': 6829, '완화': 6830, '숙소': 6831, '초보': 6832, '미추': 6833, '장통': 6834, '꾀': 6835, '졸라': 6836, '아편': 6837, '재상': 6838, '산속': 6839, '귀착': 6840, '간척지': 6841, '계제': 6842, '립하': 6843, '과전': 6844, '상공부': 6845, '우지': 6846, '본관': 6847, '공중위생': 6848, '철골': 6849, '경상': 6850, '구치': 6851, '구시': 6852, '일도': 6853, '진척': 6854, '친후': 6855, '정등': 6856, '산림령': 6857, '사법인': 6858, '확증': 6859, '스': 6860, '레트': 6861, '표면': 6862, '기독교': 6863, '성결교회': 6864, '체내': 6865, '직할시': 6866, '선배': 6867, '군부': 6868, '남방': 6869, '하사실': 6870, '전투': 6871, '월북': 6872, '범법': 6873, '월북임': 6874, '기출': 6875, '무죄판결': 6876, '승려': 6877, '대공분실': 6878, '위문': 6879, '마당': 6880, '사취': 6881, '실행착수': 6882, '격차': 6883, '포리프': 6884, '피렌': 6885, '포의': 6886, '섬유': 6887, '대접': 6888, '니들펀칭': 6889, '펀칭공': 6890, '교호': 6891, '천공': 6892, '펀칭공내': 6893, '용접': 6894, '접착': 6895, '직포': 6896, '탄성': 6897, '구력': 6898, '성도': 6899, '선심': 6900, '설처': 6901, '당구': 6902, '재일': 6903, '격일': 6904, '무수': 6905, '실소': 6906, '출고': 6907, '최고법원': 6908, '이자지': 6909, '혈액형': 6910, '차손액': 6911, '담배': 6912, '가족부': 6913, '동결': 6914, '환조': 6915, '가불': 6916, '바닥면적': 6917, '벽돌': 6918, '삼면': 6919, '네': 6920, '귀퉁이': 6921, '철주': 6922, '박아': 6923, '철조망': 6924, '실주소': 6925, '회송': 6926, '낳을': 6927, '농사': 6928, '병용': 6929, '동향': 6930, '사구역': 6931, '공동관리': 6932, '자칭': 6933, '승락했다': 6934, '장기형': 6935, '축하': 6936, '동구': 6937, '초량동': 6938, '옥': 6939, '호미': 6940, '음행': 6941, '매달': 6942, '경련': 6943, '부전': 6944, '마비': 6945, '특이': 6946, '혈관': 6947, '뇌혈관': 6948, '뇌간': 6949, '약혼': 6950, '간병': 6951, '주정': 6952, '시부': 6953, '냉대': 6954, '강제추행': 6955, '프로판가스': 6956, '제조품': 6957, '소등': 6958, '다량': 6959, '용달': 6960, '시중': 6961, '대목': 6962, '미군': 6963, '철수': 6964, '형사법': 6965, '연소': 6966, '주요사실': 6967, '탄화수소': 6968, '혼합물': 6969, '푸렌': 6970, '공정은': 6971, '추출': 6972, '스트리핑탑': 6973, '탑': 6974, '더우기': 6975, '업계': 6976, '비누': 6977, '허권': 6978, '농작물': 6979, '태업': 6980, '락': 6981, '이석': 6982, '후문': 6983, '철책': 6984, '승락없는': 6985, '윤리': 6986, '상치': 6987, '공연장': 6988, '횡단보도': 6989, '출전': 6990, '술자리': 6991, '초안': 6992, '복명': 6993, '악성': 6994, '남선': 6995, '불온서적': 6996, '장사': 6997, '인생': 6998, '망치': 6999, '중지미수': 7000, '게': 7001, '발상': 7002, '발표': 7003, '공상': 7004, '창녕': 7005, '성씨': 7006, '시호': 7007, '혼용': 7008, '악곡': 7009, '수음': 7010, '반사': 7011, '엠': 7012, '에이': 7013, '펄스': 7014, '픽엎암': 7015, '엎': 7016, '다운': 7017, '포타딘': 7018, '창장': 7019, '쟁': 7020, '송대': 7021, '외자도입법': 7022, '훈시': 7023, '청년': 7024, '빈': 7025, '스텐강판': 7026, '려고': 7027, '꾸지람': 7028, '폐품': 7029, '깊이': 7030, '손수': 7031, '생선': 7032, '야채': 7033, '식품점': 7034, '존경': 7035, '사회인': 7036, '단호': 7037, '격려': 7038, '팔': 7039, '운정': 7040, '반대쪽': 7041, '결합상표': 7042, '지리': 7043, '야구': 7044, '영어사': 7045, '영어': 7046, '몇': 7047, '대중매체': 7048, '채취케': 7049, '댁': 7050, '대구': 7051, '연탄가스': 7052, '문틈': 7053, '료해': 7054, '비부': 7055, '종창': 7056, '몇개': 7057, '월전': 7058, '장일': 7059, '내포': 7060, '강조': 7061, '그릇': 7062, '여동생': 7063, '대문': 7064, '안방': 7065, '침임': 7066, '동리': 7067, '기항지': 7068, '하선': 7069, '상륙': 7070, '공관': 7071, '승선': 7072, '밀항': 7073, '여러가지': 7074, '가늠': 7075, '편법': 7076, '분토': 7077, '사정판결': 7078, '개월후': 7079, '출결': 7080, '취했더': 7081, '빙기': 7082, '행적': 7083, '일차': 7084, '일행': 7085, '물매': 7086, '놀이': 7087, '반말': 7088, '옥신각신': 7089, '이르렀': 7090, '후회': 7091, '취배': 7092, '환액': 7093, '알파벳': 7094, '역립': 7095, '관개용수': 7096, '필름': 7097, '바잎': 7098, '외견상': 7099, '준지': 7100, '어비스': 7101, '비합리적': 7102, '록': 7103, '소방본부': 7104, '감찰': 7105, '주임': 7106, '소방관': 7107, '의적': 7108, '구멍': 7109, '숫자': 7110, '험담': 7111, '경보': 7112, '스위치': 7113, '봉하': 7114, '간수': 7115, '강타': 7116, '장갑': 7117, '차내': 7118, '수류탄': 7119, '순번': 7120, '멀리': 7121, '추정량': 7122, '병마': 7123, '씨': 7124, '수석': 7125, '싯': 7126, '장시': 7127, '화제': 7128, '삼자': 7129, '굴뚝': 7130, '기절': 7131, '우울': 7132, '인격장애': 7133, '회집': 7134, '교련': 7135, '수하': 7136, '진지': 7137, '소총': 7138, '좌석': 7139, '일원': 7140, '소론': 7141, '강선': 7142, '명정': 7143, '횡단중': 7144, '루하': 7145, '목조': 7146, '계승': 7147, '거': 7148, '미상': 7149, '급제': 7150, '일어나고': 7151, '이틀': 7152, '도용': 7153, '지표': 7154, '하부': 7155, '조력': 7156, '용변': 7157, '성인': 7158, '금업': 7159, '재산형': 7160, '위벽': 7161, '일직': 7162, '돼지고기': 7163, '발설': 7164, '화란': 7165, '전해질': 7166, '노동청': 7167, '보디': 7168, '린스': 7169, '주성분': 7170, '피부': 7171, '영양소': 7172, '노화': 7173, '박경자': 7174, '누군가': 7175, '난외': 7176, '가필': 7177, '볼기': 7178, '이월': 7179, '공중변소': 7180, '사발': 7181, '주청': 7182, '안양시': 7183, '변소': 7184, '내적인': 7185, '미화': 7186, '동태': 7187, '리라': 7188, '십자': 7189, '검문': 7190, '장애자': 7191, '위산': 7192, '구류': 7193, '사방지': 7194, '독일': 7195, '보일러': 7196, '드라이': 7197, '룸': 7198, '겸용': 7199, '항도': 7200, '조부': 7201, '앞뒤': 7202, '검찰조사': 7203, '유도': 7204, '술값': 7205, '연직': 7206, '광물유': 7207, '함침': 7208, '모포': 7209, '공보': 7210, '구성은': 7211, '선단': 7212, '냉기': 7213, '순환': 7214, '팬': 7215, '아라비아': 7216, '수자': 7217, '농후': 7218, '속계': 7219, '공휴일': 7220, '퇴근': 7221, '청도시': 7222, '훼손행위': 7223, '영등포': 7224, '적립금': 7225, '적립': 7226, '감가상각': 7227, '행패': 7228, '가세': 7229, '부축': 7230, '가설': 7231, '행열': 7232, '운동화': 7233, '포켓': 7234, '그레이': 7235, '하운드': 7236, '캉가루': 7237, '금속': 7238, '부식': 7239, '유독': 7240, '해식': 7241, '조개': 7242, '히드라': 7243, '충': 7244, '번식': 7245, '냉각수': 7246, '피피엠': 7247, '아민': 7248, '생물': 7249, '제철': 7250, '근대화': 7251, '유조선': 7252, '도선': 7253, '장애물': 7254, '접촉': 7255, '하복': 7256, '쌍꺼풀': 7257, '소속변호사': 7258, '친정': 7259, '돌리지': 7260, '성시기': 7261, '소리': 7262, '군검찰': 7263, '마이오': 7264, '완급': 7265, '기합': 7266, '매부': 7267, '일상': 7268, '필증등': 7269, '해운회사': 7270, '법정과실': 7271, '유대': 7272, '강화': 7273, '어차피': 7274, '바닥': 7275, '낭비': 7276, '무마': 7277, '기지시': 7278, '심경': 7279, '결백': 7280, '검찰청': 7281, '자친': 7282, '무혐의': 7283, '불기소처분': 7284, '일간': 7285, '무단이탈': 7286, '경기도': 7287, '상반기': 7288, '하반기': 7289, '고생': 7290, '방범': 7291, '저녁식사': 7292, '임직': 7293, '무산': 7294, '추완신청': 7295, '불성취': 7296, '동명이인': 7297, '봉함': 7298, '수신인': 7299, '책임능력': 7300, '예심': 7301, '교대': 7302, '다소간': 7303, '건고': 7304, '항구': 7305, '명세': 7306, '역등': 7307, '사금': 7308, '행정심판': 7309, '대제': 7310, '유라': 7311, '업태': 7312, '캬바레': 7313, '카바레': 7314, '기획예산처': 7315, '남양주': 7316, '단종': 7317, '계정은': 7318, '봉급': 7319, '주취': 7320, '격발': 7321, '적도': 7322, '도전': 7323, '관리소': 7324, '역임': 7325, '신라': 7326, '점촌': 7327, '한남': 7328, '상주': 7329, '슈퍼': 7330, '저혈압': 7331, '심장': 7332, '태아': 7333, '산부인과': 7334, '내과': 7335, '낙태': 7336, '임신부': 7337, '짐작': 7338, '진부': 7339, '불화': 7340, '자시': 7341, '삼천포': 7342, '동래세무서': 7343, '따름': 7344, '단상': 7345, '이락': 7346, '곡상': 7347, '즉일': 7348, '구관': 7349, '낼': 7350, '몸체': 7351, '덮개': 7352, '재질': 7353, '부산물': 7354, '경상북도지사': 7355, '감차': 7356, '치정': 7357, '어금': 7358, '직위': 7359, '부처': 7360, '증축비': 7361, '사업인': 7362, '여준': 7363, '남름': 7364, '삼림': 7365, '인자': 7366, '조취': 7367, '불지': 7368, '처림': 7369, '카메라': 7370, '전당': 7371, '터널': 7372, '갱도': 7373, '훈시규정': 7374, '쌍방울': 7375, '여타': 7376, '찾기': 7377, '점검': 7378, '근절': 7379, '양정은': 7380, '수기': 7381, '증료': 7382, '교파': 7383, '웨이터': 7384, '목록': 7385, '묵적': 7386, '세도': 7387, '미숙': 7388, '사출': 7389, '창': 7390, '헬라': 7391, '영문표기': 7392, '가스레인지': 7393, '전적': 7394, '종품': 7395, '마음': 7396, '환기': 7397, '신중성': 7398, '분명': 7399, '청심': 7400, '전출': 7401, '근로시간': 7402, '매일': 7403, '도축장': 7404, '입실': 7405, '상륙함': 7406, '중지범': 7407, '격투': 7408, '출납': 7409, '공고함': 7410, '궈': 7411, '마침': 7412, '예컨데': 7413, '유별': 7414, '새마을호': 7415, '승차권': 7416, '우열': 7417, '인구': 7418, '과밀': 7419, '행정서사': 7420, '편취했다': 7421, '입법기관': 7422, '일상생활': 7423, '보병': 7424, '내규': 7425, '휴전선': 7426, '적지역': 7427, '초소': 7428, '무등': 7429, '다카': 7430, '유학': 7431, '자연인': 7432, '임부': 7433, '대치': 7434, '적의': 7435, '아군': 7436, '미완성': 7437, '조미': 7438, '총포': 7439, '탄약': 7440, '잠복': 7441, '길': 7442, '상병': 7443, '일일이': 7444, '불가쟁력': 7445, '편람': 7446, '이민': 7447, '주서': 7448, '칸': 7449, '연필': 7450, '과수원': 7451, '간행': 7452, '가위': 7453, '공구': 7454, '약품': 7455, '신속성': 7456, '친족법': 7457, '개월내': 7458, '몫': 7459, '경사': 7460, '잡목': 7461, '잡초': 7462, '생장': 7463, '축대': 7464, '그대': 7465, '청계산': 7466, '외환은행': 7467, '점원': 7468, '안전교육': 7469, '재수입': 7470, '읍장': 7471, '일간신문': 7472, '픞': 7473, '기후': 7474, '결부': 7475, '극한': 7476, '채납': 7477, '금법': 7478, '군경': 7479, '한일합방': 7480, '독립운동': 7481, '가문': 7482, '종질': 7483, '주방': 7484, '방바닥': 7485, '장편': 7486, '입욕': 7487, '후식': 7488, '탈의실': 7489, '침대': 7490, '특설된': 7491, '실로': 7492, '강도예비죄': 7493, '달라짐': 7494, '치과': 7495, '한의원': 7496, '고사항': 7497, '부조리': 7498, '훈방': 7499, '자사': 7500, '다음해': 7501, '자정': 7502, '폐점': 7503, '전세': 7504, '새한미디어': 7505, '통칭': 7506, '새한': 7507, '경마': 7508, '의향': 7509}\n"
          ]
        }
      ],
      "source": [
        "# 각 단어에 부여된 인덱스 확인\n",
        "print(tokenizer.word_index)"
      ]
    },
    {
      "cell_type": "markdown",
      "metadata": {
        "id": "q1zQauHFDMOm"
      },
      "source": [
        "출력 결과를 보면, '경마', '의향'이란 단어의 인덱스가 가장 크기 때문에 가정 적은 빈도수를 가졌다고 생각할 수 있습니다.\n",
        "\n",
        "실제로 단어의 빈도수를 확인하려면 `word_counts`를 보면 되고, '경마', '의향' 단어는 1번씩 사용된걸 확인할 수 있습니다."
      ]
    },
    {
      "cell_type": "code",
      "execution_count": null,
      "metadata": {
        "colab": {
          "base_uri": "https://localhost:8080/"
        },
        "id": "DlC4fiOS_wbC",
        "outputId": "27dace0d-4d31-4618-81b4-6268196507d0"
      },
      "outputs": [
        {
          "name": "stdout",
          "output_type": "stream",
          "text": [
            "OrderedDict([('취소소송', 22), ('처분', 719), ('등', 949), ('것', 2626), ('안', 61), ('때', 584), ('로부터', 122), ('이내', 23), ('제기', 191), ('행정처분', 109), ('허가', 287), ('기한', 59), ('경우', 1657), ('조건', 85), ('존속', 40), ('기간', 286), ('보아', 209), ('그', 2243), ('도래', 13), ('개정', 71), ('고려', 112), ('해석', 155), ('수', 2253), ('사도', 7), ('개설', 43), ('준공', 36), ('검사', 92), ('못', 68), ('자체', 116), ('볼', 596), ('까닭', 3), ('실효', 23), ('항고소송', 19), ('대상', 343), ('일반', 92), ('국민', 42), ('권리', 290), ('의무', 380), ('직접', 132), ('영향', 92), ('행위', 1051), ('정부', 44), ('간', 38), ('항공', 8), ('노선', 5), ('관', 800), ('잠정', 4), ('협정', 5), ('및', 621), ('비밀', 26), ('양해각서', 1), ('건설', 75), ('교통부', 7), ('내부', 28), ('지침', 13), ('대한', 721), ('운수', 35), ('배분', 3), ('해당', 917), ('공익', 71), ('상의', 249), ('필요', 109), ('상대방', 127), ('불이익', 67), ('더욱', 3), ('재량', 95), ('한계', 27), ('탈', 45), ('위법', 330), ('취득세', 22), ('사실', 678), ('취득', 388), ('과세', 326), ('객체', 32), ('지방', 103), ('세법', 275), ('부동산', 317), ('대해', 231), ('등기', 446), ('등록', 215), ('이행', 172), ('규정', 679), ('점유', 124), ('취득시효', 14), ('완성', 43), ('존재', 86), ('봄', 41), ('판', 10), ('시한', 21), ('사례', 126), ('당연무효', 44), ('위', 1059), ('하자', 96), ('중대', 11), ('세관', 9), ('출장소', 3), ('권한', 103), ('위임', 87), ('관세', 105), ('부과', 218), ('상표', 225), ('법', 749), ('여부', 319), ('구체', 107), ('판단', 361), ('출원', 54), ('표장', 18), ('보기', 60), ('교통사고처리특례법', 5), ('제', 2947), ('항', 688), ('본문', 10), ('공소', 31), ('이', 614), ('위반', 340), ('형사소송법', 49), ('호', 240), ('정', 251), ('절차', 281), ('법률', 290), ('무효', 247), ('는바', 13), ('법원', 188), ('소송', 234), ('흠결', 20), ('이유', 288), ('기각', 54), ('판결', 348), ('선고', 96), ('구', 495), ('민사소송법', 51), ('최저', 8), ('가격', 123), ('결정', 339), ('낙찰', 15), ('금지', 119), ('매우', 6), ('사유', 320), ('감정', 23), ('평가', 101), ('기준', 215), ('현저', 95), ('사회', 99), ('통념', 35), ('인정', 555), ('집합', 10), ('건물', 211), ('소유', 142), ('관리', 146), ('건축', 101), ('분양', 78), ('담보책임', 5), ('도록', 9), ('잔금', 12), ('지급', 350), ('아파트', 51), ('사용승인', 7), ('전', 149), ('임의', 68), ('자가', 140), ('보수', 59), ('청구', 410), ('배제', 41), ('취지', 168), ('손해배상', 150), ('주식회사', 41), ('이사', 75), ('다른', 251), ('업무', 266), ('담당', 52), ('사의', 16), ('집행', 144), ('의심', 20), ('만', 58), ('방치', 24), ('발생', 279), ('손해', 244), ('대하', 393), ('배상', 60), ('책임', 248), ('면', 79), ('범위', 216), ('정함', 6), ('사업', 402), ('내용', 298), ('성격', 22), ('임무', 37), ('경위', 24), ('회사', 488), ('확대', 12), ('관여', 28), ('객관', 88), ('사정', 294), ('평소', 7), ('공헌', 1), ('제반', 21), ('참작', 37), ('액', 221), ('제한', 122), ('국가', 84), ('당사자', 194), ('계약', 407), ('사인', 9), ('간의', 18), ('바', 226), ('법령', 107), ('제외', 71), ('사법', 61), ('내지', 75), ('원리', 2), ('그대로', 39), ('적용', 260), ('정액', 10), ('과', 37), ('감액', 24), ('예정', 32), ('약정', 113), ('중', 251), ('부분', 234), ('처음', 10), ('약속어음', 28), ('수취', 15), ('겸', 9), ('지인', 25), ('발행', 117), ('장래', 18), ('구상', 13), ('채권', 269), ('담보', 183), ('위해', 133), ('만기', 6), ('날', 57), ('어음', 54), ('청구권', 66), ('소멸시효', 50), ('현실', 34), ('행사', 168), ('진행', 63), ('외국', 42), ('재판정', 2), ('승인', 90), ('신청', 244), ('중재', 30), ('판정', 24), ('제출', 138), ('서류', 79), ('다툼', 11), ('해소', 12), ('반드시', 33), ('요구', 112), ('만일', 32), ('협약', 23), ('문제', 30), ('사건', 326), ('일방', 35), ('이의', 48), ('해도', 40), ('가지', 70), ('합의', 92), ('퇴', 4), ('직할', 1), ('주주총회', 17), ('결의', 110), ('정하나', 1), ('음', 120), ('확인', 179), ('증거', 131), ('퇴직금', 39), ('인', 90), ('의사록', 5), ('작성', 144), ('실제', 65), ('임원', 29), ('관행', 22), ('실질', 135), ('걸', 2), ('채권자', 160), ('채무자', 161), ('피', 173), ('압류', 81), ('추심', 20), ('신고', 215), ('가압류', 49), ('배당', 25), ('내', 159), ('강제집행', 28), ('포섭', 3), ('취소', 350), ('실익', 3), ('종료', 49), ('근거', 105), ('이익', 258), ('더', 40), ('이상', 228), ('독점', 32), ('규제', 48), ('공정', 37), ('거래', 306), ('시행', 351), ('령', 204), ('대통령령', 28), ('호로', 27), ('전의', 52), ('관련', 117), ('별표', 12), ('의', 140), ('목', 29), ('계열', 17), ('차별', 8), ('요건', 156), ('의도', 30), ('당시', 172), ('상황', 59), ('종합', 103), ('사업자', 120), ('중심', 2), ('속', 125), ('분야', 26), ('경쟁', 52), ('기업', 52), ('집단', 24), ('경제력', 3), ('집중', 5), ('시장', 34), ('연관', 4), ('별도', 65), ('포함', 207), ('공공기관', 10), ('정보공개', 7), ('비공개', 4), ('교정', 2), ('사항', 159), ('직무', 151), ('수행', 64), ('정보', 29), ('행정기관', 4), ('거부처분', 8), ('결과', 127), ('공개', 20), ('일부', 195), ('명', 65), ('국세', 78), ('기본', 55), ('항의', 140), ('변경', 255), ('원칙', 136), ('법인세', 50), ('취소심판', 7), ('심판원', 3), ('과세표준', 93), ('증가', 12), ('관청', 47), ('증액', 10), ('경정', 24), ('당초', 28), ('액수', 16), ('초과', 70), ('또한', 37), ('연', 13), ('법인', 216), ('사채', 11), ('할인', 11), ('함', 410), ('상환', 36), ('손금', 26), ('처리', 129), ('여야', 31), ('수수료', 26), ('비', 108), ('산입', 38), ('잘못', 40), ('제척기간', 8), ('경과', 55), ('연도', 9), ('자', 242), ('농지', 80), ('세', 55), ('토지', 525), ('조세', 31), ('규', 24), ('제법', 13), ('조항', 51), ('포괄', 40), ('주의', 125), ('위배', 50), ('양도소득세', 40), ('건설부', 13), ('장관', 57), ('도시', 51), ('계획', 118), ('고시', 44), ('재차', 3), ('증여', 75), ('불복', 45), ('부가가치', 33), ('세대', 17), ('양도', 277), ('동일성', 35), ('유지', 62), ('영주', 2), ('교체', 7), ('말', 195), ('유형', 17), ('달리', 58), ('간이', 4), ('부가가치세', 60), ('내야', 1), ('종자', 6), ('산업', 37), ('품종', 5), ('보호대', 1), ('상이', 28), ('명칭', 28), ('외', 70), ('그것', 58), ('지칭', 10), ('호의', 89), ('보통', 14), ('사과', 4), ('화랑', 1), ('묘목', 1), ('횡령죄', 41), ('구성요건', 38), ('불법영득의사', 5), ('외부', 8), ('인식', 92), ('시', 110), ('성립', 336), ('자금', 86), ('주식', 109), ('매각', 20), ('대금', 156), ('조로', 6), ('금', 262), ('사안', 71), ('횡령', 33), ('제공', 143), ('장물', 29), ('고', 129), ('기수', 12), ('달함', 1), ('동시', 44), ('사기죄', 45), ('편취', 12), ('피고인', 624), ('자백', 50), ('항소', 89), ('경합', 31), ('범', 54), ('개', 83), ('형', 56), ('죄', 317), ('기재', 267), ('항소이유서', 4), ('개진', 2), ('전부', 85), ('정치자금', 26), ('정당', 22), ('구성원', 20), ('개인', 68), ('자격', 70), ('동조', 17), ('처벌', 193), ('범죄', 203), ('수익', 88), ('은닉', 18), ('재산', 264), ('특정', 193), ('추적', 1), ('발견', 25), ('거나', 171), ('학교', 44), ('교육', 25), ('사용', 342), ('사립학교', 8), ('경영', 50), ('유치원', 4), ('의미', 125), ('를', 63), ('하층', 3), ('타당', 48), ('무면허운전', 2), ('고의범', 2), ('개별', 47), ('면허증', 2), ('뒤', 32), ('구가', 4), ('적성검사', 1), ('미필', 8), ('면허', 122), ('학원', 24), ('설립', 41), ('운영', 61), ('과외', 5), ('교습', 27), ('시간', 27), ('학습장', 2), ('소로', 10), ('이용', 122), ('인원', 2), ('이상인', 3), ('시설', 148), ('규모', 18), ('학습', 4), ('과정', 73), ('반복', 19), ('일수', 22), ('비록', 30), ('미만', 10), ('일지', 3), ('다수', 39), ('수의', 8), ('합계', 9), ('이면', 15), ('충족', 30), ('사교', 1), ('춤', 1), ('지터', 1), ('벅', 1), ('무도', 8), ('업', 39), ('손실보상', 12), ('채', 52), ('유수', 8), ('매립', 19), ('공사', 104), ('어민', 4), ('어업', 11), ('영위', 23), ('피해', 43), ('정지', 53), ('손실', 10), ('보상', 72), ('수산업', 15), ('유추적용', 8), ('불법행위', 106), ('일', 61), ('착수', 25), ('채무', 214), ('상당', 85), ('임대차', 41), ('관계', 253), ('후', 424), ('목적', 366), ('물이', 15), ('반환', 144), ('보증금', 31), ('공제', 77), ('이기', 32), ('임대', 96), ('수수', 21), ('차임', 12), ('추심명령', 4), ('잔', 27), ('재해', 52), ('보험', 236), ('란', 46), ('근로자', 103), ('자로', 60), ('동료', 4), ('가해', 13), ('가입자', 6), ('업주', 13), ('직', 22), ('간접', 24), ('보전처분', 4), ('본안', 27), ('사람', 128), ('실체법', 4), ('패소', 19), ('민사집행법', 5), ('소정', 211), ('사정변경', 9), ('보전', 40), ('소멸', 32), ('확정', 231), ('갑', 165), ('을', 34), ('병', 35), ('공무원', 163), ('연금', 22), ('퇴직', 23), ('급정지', 2), ('공단', 10), ('통지', 102), ('법률상', 90), ('의견', 32), ('기해', 6), ('공법', 9), ('당사자소송', 1), ('상속세', 29), ('입법', 18), ('예외', 26), ('데', 32), ('명의신탁', 46), ('조세회피', 7), ('단서', 33), ('입증책임', 31), ('주장', 208), ('명의', 235), ('의약', 6), ('용도', 71), ('발명', 65), ('특정물', 2), ('질의', 6), ('특허청', 14), ('명세서', 12), ('상세', 15), ('설명', 26), ('은', 63), ('기술', 79), ('통상', 67), ('이해', 10), ('수준', 8), ('물질', 16), ('리', 3), ('효과', 56), ('예산', 11), ('항목', 5), ('유용', 1), ('불법', 50), ('득', 27), ('의사', 189), ('학교법인', 30), ('회계', 28), ('구분', 42), ('교비', 8), ('수입', 132), ('출하', 6), ('대여', 23), ('때문', 140), ('장부', 30), ('허위', 136), ('관할', 49), ('선거', 109), ('위원회', 75), ('보고', 52), ('헌법', 28), ('정범', 26), ('최종', 11), ('공모', 29), ('정리', 79), ('변제', 106), ('방법', 243), ('차등', 9), ('형평', 8), ('관념', 28), ('평등', 6), ('로서', 271), ('명령', 87), ('송달', 68), ('효력', 216), ('정본', 23), ('비로소', 21), ('콘도미니엄', 1), ('공유', 35), ('회원', 14), ('자신', 91), ('객실', 2), ('매매', 210), ('통한', 14), ('전체', 63), ('이용권', 2), ('사무', 110), ('비용', 82), ('제일', 1), ('뿐', 114), ('민법', 105), ('파산', 30), ('임차', 81), ('부담', 108), ('민사재판', 2), ('민', 9), ('형사', 42), ('확정판결', 57), ('자료', 81), ('채택', 9), ('따라서', 46), ('물', 120), ('소의', 33), ('일종', 7), ('성질', 64), ('비적', 22), ('반소', 3), ('유란', 2), ('소송행위', 25), ('불구', 61), ('준수', 18), ('합', 12), ('성', 3), ('신뢰', 30), ('사실관계', 17), ('규범', 4), ('요소', 19), ('소방법', 2), ('과실', 143), ('치', 18), ('상실', 29), ('화의', 13), ('중복', 7), ('보호법익', 14), ('죄질', 3), ('차이', 35), ('상호', 51), ('공직', 28), ('부정', 134), ('방지법', 23), ('선거일', 5), ('설치', 88), ('김지', 1), ('이름', 17), ('사무소', 19), ('병기', 1), ('문구', 5), ('유리창', 1), ('선팅지', 1), ('간판', 3), ('실상', 1), ('선거운동', 35), ('준비', 17), ('작업', 22), ('시작', 4), ('폐해', 1), ('방지', 52), ('단일', 8), ('선거인', 8), ('표현', 21), ('자유', 47), ('침해', 114), ('중개업', 14), ('모델하우스', 1), ('앞', 38), ('보도', 6), ('플라스틱', 1), ('탁자', 51), ('부착', 5), ('대형', 4), ('파라솔', 1), ('둘레', 1), ('중개', 16), ('전화번호', 1), ('현수막', 1), ('도로', 56), ('교통법위반', 1), ('여러', 36), ('하나', 52), ('선택', 21), ('경험칙', 13), ('논리', 7), ('법칙', 19), ('심의', 29), ('가집행선고', 4), ('상', 43), ('소심', 5), ('수령', 80), ('부당이득', 39), ('촉진', 17), ('특례법', 16), ('금전', 28), ('우수현상광고', 1), ('광고', 31), ('당선자', 2), ('체결', 111), ('채무불이행', 16), ('원인', 103), ('설계', 17), ('종사', 29), ('자의', 125), ('손해배상청구권', 9), ('시가', 68), ('기점', 3), ('해제', 49), ('기초', 39), ('이해관계', 30), ('소유권', 316), ('이전', 281), ('승소', 30), ('국가배상법', 6), ('행위자', 28), ('주관', 23), ('공무', 21), ('외관', 25), ('인사', 13), ('증', 30), ('위조', 66), ('관련성', 7), ('영조물', 4), ('공공', 20), ('공', 16), ('안전성', 6), ('상태', 137), ('소음', 3), ('공해', 5), ('위험', 55), ('지역', 37), ('이주하', 2), ('거주', 38), ('그로', 22), ('용인', 8), ('접근', 13), ('김포공항', 1), ('인근', 11), ('주민', 28), ('수인', 123), ('한도', 34), ('해상', 8), ('화물', 24), ('운송', 99), ('선하', 20), ('증권', 95), ('인도', 60), ('것이므', 214), ('영업', 145), ('용', 75), ('창고업자', 2), ('실수입', 9), ('창고', 6), ('무단', 13), ('반출', 13), ('멸실', 11), ('선박', 45), ('대리점', 9), ('국내', 55), ('지휘', 10), ('감독', 63), ('물의', 43), ('보관', 55), ('사용자', 70), ('지위', 86), ('방재', 3), ('정법', 17), ('변상', 7), ('금부', 8), ('납부', 109), ('징수', 75), ('납', 10), ('금은', 15), ('지방자치단체', 52), ('징', 13), ('수시', 4), ('차', 61), ('비롯', 4), ('이후', 86), ('차례', 9), ('동안', 31), ('차액', 11), ('추가', 36), ('납금', 1), ('산일', 1), ('교통', 23), ('실현', 25), ('가능', 7), ('검토', 11), ('여기', 10), ('쳥', 1), ('의결', 31), ('가능성', 49), ('선축', 1), ('반려', 22), ('세부', 18), ('실천', 1), ('방안', 4), ('제시', 33), ('조정', 38), ('보완', 18), ('개선', 5), ('대책', 2), ('행정청', 44), ('다시', 63), ('종전', 69), ('방송', 19), ('중계', 2), ('유선', 4), ('재', 70), ('무렵', 5), ('재심사', 15), ('환승', 1), ('남용', 35), ('주주', 55), ('행', 55), ('외적인', 8), ('한해', 10), ('원고적격', 6), ('은행', 89), ('소유자', 155), ('전환', 17), ('한정', 30), ('점', 160), ('사기', 15), ('로써', 36), ('도의', 17), ('포탈', 56), ('익금', 20), ('누락', 49), ('과소', 12), ('상하', 5), ('가공', 22), ('계', 32), ('소득', 199), ('금액', 182), ('무신', 3), ('현금', 18), ('사잔', 1), ('밖', 17), ('유출', 10), ('자산', 71), ('각', 88), ('주위', 27), ('고발', 10), ('피의자', 22), ('신문', 6), ('조서', 39), ('형식', 43), ('진정성립', 8), ('통로', 3), ('사이', 124), ('주차', 6), ('구획', 17), ('선', 50), ('구역', 51), ('부설', 4), ('주차장', 7), ('경찰권', 1), ('불', 81), ('통', 43), ('핼로', 1), ('도로로', 9), ('명예', 18), ('생명', 4), ('신체', 16), ('품성', 1), ('덕행', 1), ('명성', 1), ('인격', 6), ('가치', 43), ('회복', 32), ('이외', 47), ('인격권', 1), ('가해자', 33), ('현재', 34), ('예방', 9), ('도', 33), ('억제', 4), ('피해자', 226), ('우려', 32), ('유효', 16), ('수단', 38), ('필요성', 14), ('허용', 115), ('실권', 9), ('리자', 9), ('명기', 3), ('정이', 16), ('정은', 8), ('이혼', 27), ('분할', 47), ('무자력', 3), ('감소', 13), ('정도', 142), ('과대', 5), ('구실', 2), ('사해행위', 30), ('채권자취소권', 3), ('세액', 121), ('고서', 19), ('법정', 61), ('기일', 54), ('납세', 77), ('고지서', 20), ('발송', 13), ('일이', 8), ('수용', 53), ('재결', 44), ('신청서', 13), ('사본', 11), ('공고', 35), ('열람', 4), ('의뢰', 12), ('공함', 5), ('의사표시', 38), ('다소', 9), ('설정', 83), ('준', 45), ('수리시설', 1), ('개보', 1), ('이자', 30), ('보조사', 1), ('업자', 67), ('기타', 86), ('보조금', 18), ('교부', 131), ('일반인', 14), ('통행', 28), ('제약', 3), ('대지', 38), ('공적', 4), ('로', 32), ('부득이', 10), ('공지', 19), ('배타', 3), ('살피', 2), ('고정', 15), ('행정', 50), ('명확', 8), ('성과', 22), ('법적', 21), ('안정', 6), ('예측', 10), ('보장', 48), ('결손', 2), ('고지', 45), ('유예', 11), ('서면', 35), ('순차', 9), ('근저당권', 51), ('먼저', 12), ('순위', 27), ('우선', 33), ('수질', 6), ('환경보전', 7), ('유해', 8), ('배출', 17), ('원료', 12), ('부원', 1), ('료', 90), ('첨가', 5), ('화학', 5), ('작용', 18), ('채취', 12), ('사료', 6), ('구리', 2), ('화합물', 5), ('함유', 3), ('노동조합', 45), ('후보자', 35), ('반대', 17), ('설득', 1), ('강제', 31), ('부적', 10), ('통제', 4), ('조합원', 46), ('속보', 1), ('제작', 18), ('의사결정', 14), ('방해', 50), ('강요', 3), ('서행', 6), ('사죄', 15), ('어서', 20), ('문서', 46), ('신용', 62), ('저해', 9), ('우송', 3), ('도달', 13), ('입국심사', 1), ('외국인', 18), ('입국', 7), ('알선', 36), ('출입국관리법', 2), ('시기', 67), ('대한민국', 23), ('영해', 2), ('영공', 1), ('검거', 9), ('라면', 116), ('법조경합', 2), ('형태', 21), ('특별', 99), ('모든', 48), ('구비', 12), ('뇌물죄', 8), ('태양', 8), ('불가', 5), ('매수', 116), ('수뢰죄', 7), ('휴직', 3), ('석방', 4), ('근로', 57), ('고도', 15), ('계속', 114), ('대기발령', 1), ('자인', 15), ('고유', 21), ('마찬가지', 26), ('정의', 24), ('선의취득', 3), ('양도담보', 14), ('경매', 35), ('실시', 31), ('환가', 5), ('득금', 2), ('잔액', 12), ('충당', 16), ('기관', 98), ('심사', 64), ('파악', 18), ('통해', 44), ('알', 106), ('인정이', 9), ('방식', 26), ('국가배상', 2), ('고의', 56), ('편승', 1), ('중과실', 9), ('보호', 112), ('가집행', 3), ('원상회복', 18), ('원심', 152), ('파기', 54), ('환송', 20), ('원고', 511), ('승계', 40), ('입사', 3), ('방침', 4), ('성은', 11), ('역시', 18), ('취업', 12), ('고용', 23), ('규칙', 78), ('이직', 1), ('예정일', 1), ('전일', 1), ('합리', 50), ('금융', 12), ('출자', 17), ('부실', 28), ('금융기관', 43), ('소각', 2), ('병합', 13), ('자본금', 7), ('부여', 36), ('재산권', 25), ('과도', 6), ('적', 38), ('조치', 133), ('취함', 3), ('관계자', 7), ('사전통지', 2), ('의견청취', 1), ('적법절차', 1), ('약관', 45), ('사적자치', 3), ('영역', 3), ('위험부담', 1), ('고객', 17), ('공직자윤리법', 4), ('상표권', 18), ('갱신', 15), ('만료', 31), ('정상품', 35), ('수요', 37), ('상품', 97), ('저', 4), ('오인', 40), ('혼동', 26), ('기만', 5), ('염려', 15), ('불허', 8), ('특허법', 19), ('특허', 58), ('특허청장', 2), ('특허심판원', 1), ('치의', 3), ('심판', 105), ('심리', 100), ('참고', 5), ('대표이사', 45), ('자기', 84), ('차용', 50), ('원리금', 15), ('무관', 16), ('지출', 43), ('입증', 56), ('기밀', 28), ('자본', 16), ('구성', 106), ('단위', 10), ('문화재', 14), ('청장', 14), ('정문화', 1), ('재의', 4), ('면책', 24), ('이란', 22), ('대표권', 7), ('집행권', 4), ('대표', 31), ('보험사', 11), ('유발', 6), ('저당권', 27), ('체납', 29), ('지방세', 12), ('양도인', 13), ('양수', 30), ('저당권설정계약', 5), ('계약인수', 3), ('수법', 13), ('가산금', 4), ('대위', 22), ('통지서', 20), ('미납', 3), ('동일인', 7), ('공로', 2), ('생기', 10), ('수필', 2), ('유관', 11), ('환지', 36), ('기존', 66), ('상응', 8), ('비율', 20), ('유자', 8), ('지속', 14), ('정식', 16), ('단체교섭', 1), ('노사', 2), ('협의', 26), ('회의', 24), ('쌍방', 13), ('대표자', 50), ('날인', 23), ('단체', 64), ('변론', 40), ('재개', 4), ('직권', 60), ('므', 63), ('참가', 46), ('둘', 5), ('분리', 18), ('각하', 36), ('본래', 18), ('보증인', 26), ('일정', 29), ('보증', 63), ('전액', 29), ('공동', 45), ('별개', 38), ('출금', 14), ('각각', 21), ('두', 29), ('기금', 15), ('잔존', 13), ('모두', 80), ('변재', 2), ('연대보증', 13), ('부기', 2), ('배당금', 4), ('도시계획법', 24), ('행정주체', 3), ('재량행위', 8), ('계획재량', 1), ('사익', 4), ('비교', 28), ('교량', 6), ('량', 4), ('비례', 3), ('제재', 20), ('업체', 41), ('입', 36), ('인하', 2), ('폐기물', 15), ('주변', 4), ('지원', 34), ('예상', 24), ('전과', 25), ('환경', 17), ('부지경', 1), ('도시재개발', 5), ('재개발', 8), ('면적', 30), ('법리', 24), ('오해', 12), ('취급', 33), ('종', 58), ('보통면', 1), ('허소', 1), ('지자', 1), ('운전', 44), ('차량', 66), ('재개발조합', 5), ('재건축', 31), ('조합', 93), ('주택', 122), ('양도소득', 17), ('특허권', 13), ('정정', 39), ('소급', 19), ('심결', 13), ('삼', 13), ('일사부재리', 3), ('결론', 8), ('번복', 15), ('유력', 1), ('판례', 16), ('복원성', 1), ('밀봉', 2), ('제품', 15), ('자연', 16), ('공원', 6), ('국립공원', 1), ('취락', 1), ('지구', 9), ('내의', 32), ('전용', 7), ('신축', 27), ('콘크리트', 1), ('설', 6), ('개간', 5), ('형질', 5), ('유죄', 52), ('서신', 1), ('전기통신', 3), ('편', 18), ('전면', 3), ('대량', 5), ('무차별', 2), ('송수', 1), ('신', 8), ('홍보물', 1), ('범람', 1), ('과열', 1), ('혼탁', 1), ('초래', 33), ('위험성', 36), ('이동전화', 1), ('문자메시지', 3), ('프로그램', 9), ('활용', 3), ('선거권', 3), ('수천', 1), ('휴대폰', 1), ('단말기', 2), ('비상상고', 2), ('사망', 95), ('실체', 24), ('선적', 18), ('수출', 36), ('환어음', 2), ('매입', 62), ('중첩', 3), ('선행', 11), ('가액', 179), ('후행', 2), ('사고', 97), ('낙', 1), ('약자', 1), ('급부의무', 1), ('중앙', 17), ('관서', 5), ('장', 7), ('상대자', 1), ('수급인', 22), ('보증계약', 15), ('하도급', 25), ('구상권', 11), ('모하', 3), ('해', 30), ('인지', 33), ('임', 80), ('공격', 6), ('것일', 16), ('소송물', 8), ('최대', 4), ('선의', 12), ('영국', 4), ('협회', 6), ('기적', 3), ('보험금', 23), ('증서', 44), ('시점', 36), ('차명계좌', 4), ('도주', 12), ('문과', 1), ('실명', 5), ('계좌', 18), ('주문', 18), ('매도', 104), ('일치', 20), ('수량', 9), ('단기매매', 5), ('자동차', 133), ('전조등', 1), ('도중', 5), ('용법', 8), ('전반', 6), ('운행', 44), ('본질', 19), ('주택조합', 6), ('연합', 2), ('회로', 4), ('원', 31), ('미달', 30), ('의료법', 11), ('보건복지부', 5), ('의료인', 2), ('자격정지', 4), ('정해진', 8), ('지난', 2), ('불안', 5), ('제거', 11), ('날로', 30), ('납세의무', 67), ('여서', 10), ('특례', 13), ('도과', 20), ('공증인', 9), ('사서', 7), ('인증', 10), ('서명', 11), ('온천', 1), ('시공', 21), ('일체', 27), ('상대로', 44), ('소', 87), ('변조', 19), ('소장', 17), ('첨부', 22), ('사문서', 18), ('주가', 19), ('목표', 2), ('상승', 17), ('미리', 17), ('조종', 2), ('동원', 6), ('미수', 17), ('형법', 110), ('업무방해죄', 19), ('위계', 25), ('위력', 10), ('승낙', 26), ('폐', 9), ('명목', 36), ('채용', 13), ('이유나', 1), ('소속', 40), ('상관', 5), ('국회', 5), ('위원', 11), ('홍보', 2), ('조직', 20), ('금품', 40), ('후원', 3), ('회', 14), ('직원', 83), ('사무관리', 2), ('협박죄', 2), ('협박', 32), ('포심', 3), ('해악', 5), ('의치', 2), ('과태료', 14), ('대상자', 24), ('대행', 18), ('성실', 19), ('특별이익', 4), ('여', 56), ('만큼', 8), ('정성', 9), ('상속인', 57), ('상속', 92), ('개시', 40), ('헌법재판소', 4), ('헌법불합치', 1), ('한정승인', 8), ('개월', 21), ('법률행위', 25), ('법률요건', 2), ('타인', 167), ('자주', 19), ('추정', 72), ('점유권', 19), ('증명', 62), ('미성년', 26), ('신용카드', 31), ('인과', 27), ('가맹', 7), ('면제', 39), ('존', 7), ('보상금', 36), ('교통사고', 27), ('배상금', 10), ('향후', 4), ('즉시', 19), ('귀사', 2), ('실', 13), ('급부', 16), ('상가', 19), ('인수', 30), ('명시', 40), ('부동', 9), ('법률관계', 35), ('전부명령', 9), ('판명', 3), ('셈', 2), ('채권자대위권', 2), ('이중', 11), ('철회', 23), ('응답', 4), ('부작위', 7), ('촉진법', 14), ('불허가', 3), ('거부', 35), ('법규', 22), ('조리', 4), ('교사', 23), ('임용', 40), ('가산', 30), ('각종', 6), ('해태', 15), ('탓', 3), ('실용신안', 37), ('도면', 11), ('정정은', 3), ('확장', 23), ('합성', 2), ('파이프', 3), ('이음', 1), ('쇠', 3), ('고안', 56), ('축', 13), ('단', 3), ('형성', 19), ('홈', 2), ('절연', 1), ('링', 2), ('감축', 2), ('증언', 36), ('증인', 31), ('위증', 8), ('위증죄', 11), ('재판', 78), ('고소', 14), ('무고죄', 16), ('재심', 88), ('노동', 39), ('가입', 34), ('무기사', 2), ('여지', 27), ('검찰', 15), ('안부', 1), ('고등학교', 3), ('후배', 1), ('한국', 19), ('조폐공사', 2), ('사장', 3), ('쟁의', 13), ('구조조정', 1), ('전화통화', 1), ('직권남용죄', 1), ('국가공무원', 13), ('전념', 2), ('축소', 5), ('결성', 3), ('집회', 11), ('참석', 3), ('노동운동', 1), ('주재', 3), ('외교', 1), ('청사', 1), ('경계', 13), ('지점', 39), ('장소', 54), ('옥외', 1), ('시위', 4), ('본인', 47), ('부재', 8), ('동일', 36), ('세대주', 2), ('가족', 19), ('성년', 12), ('고용주', 3), ('소집', 31), ('전달', 10), ('형벌', 15), ('성의', 14), ('지니', 2), ('밀접', 3), ('불가분', 7), ('수반', 10), ('온', 19), ('폐지', 32), ('일환', 3), ('근로기준법', 44), ('부상', 15), ('질병', 17), ('요양', 3), ('당한', 7), ('이득', 21), ('장애', 20), ('중간', 26), ('생략', 8), ('최초', 19), ('중간자', 1), ('인상', 7), ('거절', 57), ('소요', 11), ('분담', 5), ('귀속', 76), ('규약', 21), ('총회', 33), ('결회', 1), ('유무', 25), ('소송대리인', 16), ('법무', 2), ('변호사', 29), ('선정', 28), ('독립성', 3), ('관해', 49), ('야기', 14), ('중재법', 3), ('환자', 20), ('진찰', 4), ('최선', 1), ('결핵', 1), ('약인', 1), ('에탐부톨', 1), ('시각', 3), ('부작용', 5), ('투약', 6), ('대처', 8), ('추상', 11), ('단순', 4), ('보건소', 1), ('상담', 7), ('취할', 7), ('구체성', 3), ('지상권', 2), ('합치', 15), ('최고', 29), ('교환가치', 7), ('물권', 15), ('정상', 38), ('경락', 29), ('하락', 3), ('임대주택', 6), ('부령', 7), ('표준', 43), ('계약서', 26), ('해지', 26), ('주택임대차보호법', 3), ('적정', 7), ('통보', 11), ('국토', 7), ('각기', 9), ('제도', 19), ('단계', 24), ('견해', 10), ('표명', 8), ('장해', 5), ('급여', 37), ('완치', 1), ('치료', 25), ('증상', 5), ('한편', 20), ('종결', 34), ('관절', 4), ('골절', 6), ('기인', 17), ('외상', 10), ('관절염', 1), ('추후', 6), ('인공', 3), ('치환술', 1), ('삽입', 4), ('망', 28), ('착오', 38), ('응', 25), ('투자자', 15), ('출판물', 3), ('명예훼손죄', 7), ('비방', 4), ('국립대', 1), ('교수', 8), ('제자', 1), ('성추행', 3), ('인터넷', 8), ('홈페이지', 2), ('소식지', 1), ('게재', 8), ('방조행위', 5), ('범행', 89), ('실행', 48), ('방조범', 6), ('방조', 13), ('저작권', 9), ('저작물', 16), ('만화영화', 1), ('캐릭터', 2), ('팽이', 1), ('저작권법', 3), ('대중', 1), ('널리', 20), ('흡인', 1), ('고려대', 1), ('출처', 17), ('표시', 104), ('기능', 34), ('고볼', 1), ('쇼핑몰', 2), ('체계', 6), ('강행', 2), ('범의', 42), ('수분', 1), ('양자', 25), ('기', 32), ('취한', 16), ('모회사', 5), ('자회사', 9), ('비상', 11), ('영상', 2), ('업무상배임죄', 9), ('배임죄', 47), ('뜻', 52), ('고가', 10), ('등록세', 12), ('운칙적', 1), ('자발', 6), ('보유', 33), ('부녀', 5), ('배우자', 14), ('혼인', 31), ('파탄', 8), ('간자', 1), ('위자료', 11), ('자녀', 9), ('장애인', 1), ('고속도로', 15), ('통행료', 4), ('시책', 2), ('식별', 18), ('표지', 25), ('카드', 16), ('발급', 33), ('회수', 30), ('박탈', 16), ('벌칙', 10), ('유료도로', 1), ('중재조항', 5), ('분쟁', 21), ('지연손해금', 18), ('풍속', 2), ('질서', 20), ('식품위생법', 21), ('기구', 22), ('용기', 7), ('포장', 5), ('북어', 1), ('건', 20), ('새우', 1), ('음식재료', 1), ('영업정지', 5), ('부당', 36), ('주체', 48), ('저하', 2), ('가전', 1), ('후의', 28), ('근무', 51), ('요원', 6), ('소집해제', 3), ('복무', 7), ('가중', 45), ('연간', 2), ('합산', 8), ('타', 18), ('대리인', 26), ('소득세', 28), ('필수', 9), ('경제', 40), ('지대', 1), ('해결', 16), ('균형', 11), ('해치', 1), ('과잉', 4), ('위원장', 6), ('회부', 7), ('간여', 1), ('노무사', 1), ('파업', 3), ('비난', 4), ('글', 1), ('지지', 14), ('스레', 1), ('임박', 2), ('배포', 8), ('기관지', 1), ('직전', 6), ('특보', 1), ('배부', 9), ('국회의원', 17), ('기사', 8), ('잡지', 4), ('무료', 3), ('간행물', 7), ('나머지', 44), ('독립', 55), ('참가인', 38), ('화해', 24), ('피고', 359), ('송부된', 2), ('신용장', 26), ('국민연금', 8), ('보험료', 16), ('노동부', 1), ('예', 9), ('강제징수', 1), ('자력', 4), ('재화', 24), ('것으므', 2), ('공급', 81), ('대가', 52), ('일괄', 11), ('영업비밀', 15), ('수차', 1), ('각서', 6), ('가처분', 59), ('변호사비용', 1), ('인과관계', 38), ('분쟁해결', 3), ('중재절차', 2), ('답변서', 2), ('부존재', 26), ('자유시장경제', 1), ('체제', 2), ('거래처', 6), ('활동', 45), ('불공정', 5), ('다한', 8), ('자금지원', 5), ('부당성', 2), ('음식점', 6), ('운영자', 8), ('술', 22), ('나중', 3), ('청소년', 17), ('합석', 2), ('주류', 10), ('부외', 1), ('기부', 23), ('처단', 23), ('지정', 67), ('변호인', 7), ('출석', 48), ('부', 78), ('공판', 11), ('방어', 18), ('변호', 17), ('거짓말', 10), ('탐지기', 8), ('조사', 75), ('증거능력', 34), ('변화', 7), ('이로', 17), ('생리', 4), ('반응', 5), ('거짓', 5), ('측정', 23), ('장치', 16), ('판독', 3), ('능력', 43), ('정확성', 4), ('확보', 20), ('기기', 1), ('강간치상죄', 3), ('상해', 43), ('강간', 18), ('상처', 10), ('극히', 15), ('성교', 4), ('폭행', 41), ('모면', 1), ('저항', 3), ('우측', 7), ('슬', 1), ('부위', 10), ('찰', 2), ('과상', 3), ('장차', 2), ('전이', 6), ('산정', 87), ('조례', 38), ('조언', 3), ('민사소송', 11), ('부탁', 20), ('선임', 57), ('논의', 3), ('착수금', 2), ('제압', 5), ('혼란', 3), ('케', 44), ('힘', 3), ('정치', 15), ('권세', 1), ('압박', 2), ('대부', 7), ('소액', 8), ('거론', 2), ('소규모', 1), ('휴대전화', 2), ('수백', 1), ('전화', 12), ('공세', 1), ('권부', 1), ('채권양도', 11), ('결합', 19), ('대항', 46), ('도로교통법', 15), ('보행자', 3), ('차마', 1), ('유턴', 4), ('충돌', 28), ('교차로', 10), ('통과', 4), ('직진', 1), ('오거', 1), ('강구', 1), ('산출', 47), ('정거', 3), ('미래', 4), ('현황', 8), ('전망', 1), ('위법행위', 9), ('시정', 22), ('묵인', 8), ('당락', 2), ('시험', 19), ('판매', 97), ('실수', 15), ('비영리', 9), ('합병', 15), ('차익', 30), ('승계취득', 4), ('증감', 2), ('환급', 17), ('납입', 11), ('신탁', 49), ('상무이사', 3), ('개발', 42), ('투', 4), ('자비', 1), ('소외', 155), ('환원', 5), ('배임', 34), ('위작', 6), ('전자', 21), ('기록', 30), ('구축', 2), ('시스템', 4), ('각자', 10), ('개개', 8), ('입력', 8), ('생', 8), ('경찰관', 26), ('경찰', 23), ('송치', 3), ('공전자기록위작죄', 1), ('계산', 60), ('의욕', 3), ('매월', 4), ('수당', 25), ('학교장', 6), ('연장', 23), ('존부', 24), ('제대로', 13), ('재단법인', 13), ('증자', 15), ('증여세', 16), ('무죄', 33), ('소재', 13), ('불명', 8), ('운전면허', 11), ('주소', 24), ('대장', 21), ('주소지', 12), ('주민등록', 28), ('표창', 7), ('공산품', 1), ('조립', 7), ('부품', 5), ('등록상표', 33), ('원격조정기', 1), ('부회', 1), ('로기', 3), ('표기', 4), ('적절', 2), ('진술', 131), ('대로', 10), ('다음', 38), ('피의자신문조서', 12), ('진술조서', 10), ('유류분', 6), ('유증', 8), ('피상', 13), ('속인', 15), ('주권', 15), ('유로', 5), ('민사', 16), ('중인', 7), ('종교', 10), ('징계', 115), ('교리', 1), ('종단', 10), ('사찰', 23), ('주지', 23), ('비법', 7), ('사단', 8), ('겸비', 1), ('해임', 29), ('요인', 7), ('귀책사유', 10), ('과실상계', 12), ('즉각', 4), ('응급', 2), ('수술', 7), ('지연', 9), ('병원', 11), ('손익', 8), ('부채', 10), ('구별', 11), ('변동', 36), ('차손일', 1), ('화폐', 4), ('외화', 9), ('분', 24), ('복사', 5), ('카페', 1), ('이메일', 2), ('검문소', 1), ('전방', 2), ('전광판', 7), ('진입', 14), ('운전자', 36), ('가운데', 5), ('재물', 40), ('지배', 16), ('종중', 44), ('회장', 10), ('대출', 40), ('달라', 16), ('임야', 32), ('상금', 4), ('신의성실', 10), ('생활', 23), ('극적', 10), ('부주의', 5), ('상계', 15), ('변', 14), ('지체', 10), ('자동', 8), ('개발부담금', 4), ('간주', 27), ('보지', 30), ('남녀', 5), ('구제', 7), ('건강', 20), ('민원', 5), ('서비스', 23), ('위탁', 53), ('강사', 6), ('신뢰보호', 4), ('건축법', 27), ('행정행위', 22), ('기속행위', 3), ('도출', 6), ('독자', 6), ('입장', 10), ('적법', 17), ('경제범죄', 6), ('투기', 9), ('참여', 17), ('기회', 30), ('아무', 8), ('얻지', 4), ('추징', 33), ('가장', 45), ('낮', 1), ('비리', 2), ('의혹', 5), ('해명', 5), ('기자', 1), ('입건', 3), ('대체로', 2), ('오직', 7), ('위법성조각사유', 1), ('위세', 1), ('구심', 2), ('공갈죄', 10), ('폭력조직', 1), ('두목', 1), ('곤경', 1), ('돈', 36), ('곧바로', 13), ('평등권', 3), ('기본권', 2), ('요한', 4), ('택시', 19), ('불합리', 7), ('보이지', 3), ('존중', 6), ('무사', 1), ('경력', 11), ('이치', 1), ('명문', 7), ('증여계약', 4), ('법성', 2), ('합의해제', 5), ('음란', 5), ('평균', 14), ('예술', 2), ('다만', 13), ('주제가', 1), ('성적', 10), ('공표', 5), ('측', 10), ('지게', 6), ('소명', 6), ('신빙', 16), ('황', 1), ('삼색', 1), ('호기', 1), ('비보', 2), ('좌회전', 5), ('방향', 6), ('후방', 1), ('신호', 10), ('강간죄', 7), ('처', 42), ('사후', 24), ('반항', 8), ('항거', 2), ('소인', 2), ('노래', 2), ('연습장', 2), ('유흥주점', 3), ('접대부', 4), ('시간제', 2), ('티켓', 1), ('손님', 2), ('흥', 1), ('주인', 7), ('심', 72), ('기판력', 32), ('설비', 26), ('줄', 17), ('신규', 9), ('회계법인', 3), ('지방자치', 2), ('지방의회', 8), ('장의', 2), ('견제', 1), ('제안', 2), ('통폐', 1), ('의원', 17), ('정안', 1), ('발의', 1), ('결하', 4), ('적극', 21), ('개입', 7), ('척추', 1), ('임플란트', 1), ('안과', 2), ('술시', 1), ('안내', 3), ('렌즈', 1), ('부문', 4), ('일시', 47), ('기망행위', 12), ('편취로', 1), ('선거인명부', 2), ('국한', 6), ('구안', 1), ('형사소송', 5), ('탄핵증거', 1), ('증거조사', 8), ('감사', 31), ('재직', 1), ('근무시간', 3), ('사무실', 5), ('개소식', 1), ('직함', 2), ('소개', 6), ('관용', 2), ('공직선거법', 21), ('출장', 7), ('조달', 6), ('사적', 6), ('이사회', 24), ('곳', 17), ('상법', 51), ('요청', 25), ('재정', 4), ('관광', 6), ('용역', 48), ('송객', 1), ('차지', 1), ('하향', 1), ('부합', 33), ('소비자', 7), ('발전', 12), ('도움', 2), ('케쉬', 1), ('다자', 1), ('무역', 7), ('조약', 1), ('제정', 15), ('나', 10), ('안이', 6), ('내국민대우', 1), ('무상', 26), ('재무', 8), ('악화', 5), ('경쟁조건', 1), ('저지', 9), ('연회', 1), ('사가', 14), ('주기', 5), ('적지', 2), ('수년', 4), ('불성', 3), ('실가', 3), ('산세', 4), ('당선', 13), ('낙선', 4), ('자리', 3), ('공약', 1), ('언급', 7), ('반면', 1), ('선전', 8), ('약', 25), ('서로', 32), ('포괄일죄', 12), ('명도', 16), ('임대차보증금', 3), ('연체', 14), ('아래', 19), ('산불', 2), ('감시', 7), ('오토바이', 10), ('출근', 5), ('망인', 18), ('경로', 4), ('최단', 2), ('특성', 6), ('분장사', 1), ('한시', 2), ('부칙', 20), ('상위', 9), ('정원', 4), ('부인', 43), ('안전', 41), ('동력', 3), ('생산', 26), ('작동', 2), ('가연성', 1), ('가스', 8), ('누', 2), ('대규모', 8), ('폭발사고', 1), ('유가', 28), ('모집', 23), ('스스로', 22), ('인의', 9), ('청약', 2), ('권유', 7), ('입영', 6), ('병역면제', 1), ('진단', 7), ('병역의무', 4), ('면탈', 7), ('병무', 2), ('사위', 10), ('관점', 7), ('조작', 9), ('장례식', 2), ('종합병원', 4), ('부속', 6), ('장례', 3), ('의식', 4), ('부대', 18), ('건축물', 59), ('공갈', 6), ('요', 6), ('주점', 8), ('종업원', 9), ('듯', 1), ('태도', 4), ('겁', 1), ('형부', 2), ('항소심', 48), ('상고', 74), ('회보', 16), ('호법', 16), ('감호', 24), ('세금', 43), ('계산서', 36), ('매출', 26), ('무', 19), ('구입', 18), ('예금', 54), ('현금카드', 3), ('취하', 56), ('사용권', 13), ('절취', 11), ('고함', 8), ('수긍', 5), ('시행일', 5), ('손', 10), ('수도권', 2), ('기계', 15), ('계류', 2), ('택지', 7), ('마치', 14), ('가축', 1), ('전염병', 1), ('동물', 3), ('전염', 2), ('병원체', 3), ('국립', 2), ('대학교', 13), ('총장', 6), ('연구', 6), ('기하', 18), ('대학', 15), ('득표', 1), ('관찰', 13), ('당내', 1), ('경선', 11), ('당원', 2), ('구민', 5), ('호소', 2), ('달성', 18), ('구성요소', 2), ('불비', 5), ('제조', 46), ('중개인', 6), ('조성하', 3), ('득실', 4), ('구금', 4), ('통산', 4), ('기피', 11), ('항고', 60), ('전날', 2), ('금기', 1), ('본형', 8), ('약칭', 3), ('중하', 3), ('후유', 2), ('장해지', 1), ('률', 4), ('기왕', 5), ('기여', 8), ('우기', 1), ('기여분', 1), ('신의칙', 13), ('장기간', 4), ('뇌물', 21), ('여한', 3), ('작성자', 2), ('하나로', 13), ('고사유', 2), ('신의', 3), ('좇', 2), ('면직', 25), ('구한', 7), ('의료', 24), ('진료', 11), ('수가', 7), ('수진', 3), ('비급', 1), ('인부', 4), ('환수', 11), ('추궁', 3), ('중과', 4), ('환산', 6), ('교환', 16), ('연마', 2), ('삭', 1), ('지름', 1), ('이하', 10), ('고체', 1), ('입자', 3), ('대기오염', 1), ('대기', 1), ('미제', 2), ('허가증', 7), ('폐수', 5), ('수역', 1), ('계략', 3), ('범죄인', 4), ('함정수사', 7), ('교회', 50), ('교', 4), ('갈등', 2), ('심화', 1), ('분열', 3), ('방', 13), ('개최', 14), ('당회', 2), ('회유', 1), ('재단', 4), ('공정증서', 14), ('원본', 19), ('동행', 7), ('향', 6), ('가등기', 42), ('건축사', 13), ('질적', 1), ('향상', 4), ('도모', 9), ('정해', 6), ('성명', 9), ('지시', 27), ('양해', 2), ('허락', 11), ('미결구금', 14), ('수로', 3), ('가의', 4), ('몰수', 12), ('증인신문', 6), ('삼은', 5), ('안녕', 1), ('이의신청', 44), ('관리인', 11), ('전속', 4), ('공평', 5), ('이념', 6), ('상사', 6), ('시효', 35), ('상거래', 2), ('특유', 1), ('지방공무원법', 9), ('종래', 6), ('신분', 19), ('법적안정성', 1), ('소급효', 2), ('법치', 1), ('바이', 2), ('발암', 1), ('노출', 4), ('서식', 3), ('부가세', 6), ('공란', 2), ('의제', 17), ('매집', 1), ('시세', 4), ('성황', 1), ('듯이', 1), ('권리행사방해죄', 3), ('물건', 57), ('취거', 3), ('손괴하', 3), ('소지', 16), ('보조', 14), ('키', 3), ('우리나라', 29), ('양속', 1), ('관상', 2), ('부보', 1), ('선장', 10), ('악행', 2), ('부정행위', 10), ('과점', 13), ('영향력', 10), ('금고', 29), ('건전성', 1), ('차원', 4), ('연대', 5), ('부수', 5), ('사양', 1), ('계약해제', 8), ('공시', 14), ('담보물권', 3), ('조화', 1), ('선착', 1), ('무리', 1), ('기프트카드', 2), ('여신전문금융업법', 2), ('선불카드', 1), ('권법', 2), ('상품권', 8), ('인지세법', 1), ('청산', 24), ('당사자능력', 3), ('누가', 1), ('보더', 2), ('유', 12), ('요지', 5), ('뒷받침', 6), ('형상', 24), ('수면', 10), ('외형', 15), ('잡종', 1), ('무허가', 17), ('토지형질변경', 2), ('정보통신망', 9), ('정보보호', 3), ('침입', 6), ('훼손', 24), ('아이디', 3), ('비밀번호', 6), ('즉', 19), ('부호', 1), ('이용자', 10), ('접속', 3), ('판매원', 2), ('누적', 1), ('하위', 2), ('실적', 14), ('다단계판매', 3), ('용량', 5), ('실정', 5), ('블루', 1), ('컷', 1), ('블루클럽', 1), ('상습', 43), ('조', 17), ('전력', 7), ('누범', 7), ('기소', 15), ('공소장', 39), ('적법행위', 3), ('자기결정권', 1), ('개연', 12), ('위법성', 25), ('조각', 13), ('의존', 2), ('품질', 19), ('분배', 61), ('기속력', 7), ('저촉', 22), ('무상증자', 2), ('전입', 14), ('의결권', 7), ('보충역', 5), ('편입', 13), ('병역', 4), ('역', 12), ('신설', 22), ('증설', 9), ('개량', 5), ('폐기물관리법', 3), ('오염', 4), ('공연', 14), ('귀엣말', 1), ('이야기', 2), ('전파', 4), ('유사', 47), ('수라', 1), ('시일', 20), ('메스암페타민', 3), ('중상', 3), ('불치', 1), ('난치', 1), ('월간', 3), ('입원', 9), ('다리', 2), ('주간', 1), ('요하', 32), ('흉부', 1), ('자상', 2), ('신탁법', 8), ('피용자', 20), ('사용자책임', 12), ('관사', 2), ('쓰기', 1), ('지급유예', 2), ('부부', 12), ('생활관', 5), ('고통', 12), ('남편', 14), ('폭력', 22), ('처가', 3), ('집', 15), ('이혼소송', 2), ('재결합', 1), ('사이버', 2), ('입점', 3), ('유공', 4), ('등급', 13), ('표', 35), ('물리', 3), ('표상', 5), ('급', 22), ('무릎관절', 1), ('절단', 6), ('벌', 13), ('집행자', 1), ('체인', 4), ('주', 8), ('전매', 7), ('애초', 1), ('전제', 35), ('식품', 23), ('변천', 1), ('개폐', 8), ('식품첨가물', 2), ('규격', 10), ('정책', 7), ('대화', 3), ('녹취서', 2), ('녹음테이프', 2), ('녹음', 6), ('용이', 16), ('검증', 2), ('인위', 2), ('개작', 1), ('디지털', 2), ('녹음기', 1), ('거치', 23), ('재녹음', 1), ('카세트', 1), ('테이프', 2), ('검증조서', 1), ('귀금속', 5), ('수출입', 7), ('통관', 12), ('외국환', 15), ('특별법', 10), ('자처', 1), ('위임장', 4), ('인감증명서', 3), ('신분증', 5), ('최소한', 6), ('전권', 3), ('연령', 5), ('추단', 4), ('명피', 1), ('특혜', 1), ('묵시', 17), ('유책', 3), ('보복', 1), ('가사소송법', 2), ('가사소송', 2), ('종류', 13), ('부터', 10), ('과징금', 15), ('별로', 16), ('율', 34), ('위헌', 4), ('체류', 1), ('통원', 1), ('보건', 14), ('승강기', 1), ('전시', 4), ('합당', 8), ('범자', 6), ('전혀', 20), ('미국', 11), ('범죄수사', 3), ('연방', 1), ('사국', 1), ('사관', 3), ('수사', 19), ('보고서', 18), ('진술서', 2), ('성욕', 2), ('자극', 2), ('흥분', 1), ('수치심', 1), ('해하', 15), ('성행위', 2), ('묘사', 1), ('알몸', 2), ('밀가루', 1), ('음부', 1), ('유방', 1), ('상채', 1), ('무대', 1), ('요구르트', 2), ('공연음란죄', 1), ('전국', 3), ('노조', 11), ('간부', 4), ('욕설', 2), ('정황', 12), ('것임', 27), ('강제추행죄', 3), ('초등학교', 4), ('학년', 5), ('담임', 3), ('반', 5), ('남학생', 1), ('성기', 1), ('추행', 2), ('음주', 14), ('호흡', 3), ('측정기', 2), ('통증', 2), ('불응', 9), ('위임입법', 4), ('법치국가', 1), ('비례원칙', 1), ('수도', 43), ('정리해고', 4), ('일로', 20), ('노력', 11), ('공작물', 17), ('보존', 16), ('이례', 9), ('행동', 9), ('대비', 22), ('방호', 1), ('관리자', 11), ('배려', 2), ('근저당', 5), ('일조권', 1), ('침범', 3), ('명예훼손', 9), ('진실', 20), ('진위', 1), ('불분명', 23), ('믿음', 3), ('임차권', 8), ('이행불능', 5), ('휴업', 20), ('부진정연대채무', 4), ('절대', 4), ('상대', 7), ('부관', 10), ('농지개혁법', 17), ('토의', 2), ('토로', 1), ('회피', 8), ('모순', 6), ('행태', 1), ('합법', 4), ('희생', 1), ('분식', 6), ('결산', 8), ('기부채납', 4), ('기증', 1), ('물품', 128), ('구매', 6), ('정비', 11), ('중단', 20), ('유사성', 15), ('호칭', 12), ('느낌', 1), ('캠브리지', 2), ('버스', 24), ('유니', 1), ('버', 2), ('시티', 3), ('사회생활', 2), ('주요', 4), ('족하', 14), ('마', 7), ('주의력', 1), ('초당', 2), ('부제품', 1), ('액면금액', 1), ('이지', 1), ('공모자', 6), ('전산', 4), ('공범', 15), ('무자', 3), ('송금', 5), ('거액', 7), ('입금', 45), ('컴퓨터', 6), ('정보처리', 2), ('재정경제부', 1), ('분류', 6), ('코드', 3), ('산재', 4), ('대법원', 28), ('전원', 23), ('체', 18), ('복지', 15), ('부진', 2), ('정연', 2), ('서도', 11), ('창작', 19), ('부가', 18), ('음반', 5), ('아날로그', 1), ('기법', 1), ('연주', 1), ('대위변제', 12), ('농림', 2), ('농업협동조합', 19), ('중앙회', 8), ('직권남용', 1), ('정보통신부', 2), ('휴대', 13), ('통신', 3), ('청문', 4), ('배', 11), ('점방', 1), ('석유', 18), ('연료', 3), ('유제품', 3), ('휘발유', 5), ('경유', 7), ('대체', 8), ('영수증', 8), ('다중', 5), ('집결', 1), ('족', 14), ('세력', 4), ('당일', 7), ('바로', 25), ('상소', 24), ('서나', 4), ('일자', 31), ('보', 10), ('창립총회', 2), ('총', 6), ('과반수', 5), ('비법인사단', 9), ('동의', 46), ('얼마', 8), ('해약', 3), ('보편', 1), ('개념', 19), ('공시송달', 13), ('질', 2), ('불변', 5), ('추완상소', 1), ('새로이', 10), ('영수', 11), ('선언', 14), ('항쟁', 7), ('법정이율', 2), ('항변권', 3), ('유족', 23), ('수급', 18), ('누구', 14), ('분업', 1), ('한약사', 1), ('한의사', 5), ('처방전', 3), ('한약', 1), ('조제', 10), ('에측', 1), ('전문', 12), ('행정입법', 1), ('점등', 4), ('발', 10), ('적격', 4), ('격자', 7), ('소송비용', 14), ('계약위반', 2), ('다해', 3), ('망은', 2), ('실패', 1), ('계약금', 22), ('비정상', 5), ('점포', 34), ('면약', 1), ('중도', 29), ('알리', 10), ('방문', 11), ('이견', 1), ('다단계판매업', 1), ('소니', 1), ('엔터테인먼트', 1), ('플레이스테이션', 1), ('게임기', 1), ('본체', 2), ('게임', 11), ('주쟁메체', 1), ('내장', 1), ('엑세스', 1), ('복제', 3), ('무력', 3), ('전송', 3), ('사립학교법', 14), ('교원', 15), ('기대', 4), ('재임', 4), ('용의', 8), ('임금', 51), ('현행', 13), ('제로', 6), ('권', 6), ('사립', 1), ('현', 7), ('통계', 5), ('공탁', 46), ('환청', 1), ('쟁점', 4), ('첫', 1), ('토대', 5), ('어려움', 5), ('면서', 5), ('문화', 5), ('재청', 1), ('사시', 3), ('행시', 2), ('저축', 4), ('소모', 3), ('직불카드', 2), ('이체', 5), ('형사재판', 6), ('범인', 26), ('지목', 5), ('동기', 10), ('법관', 5), ('확신', 5), ('증명력', 3), ('농', 6), ('수산물', 3), ('유통', 12), ('업종', 12), ('혜택', 5), ('도매시장', 2), ('상장', 2), ('농수산', 2), ('생산자', 3), ('법익', 12), ('직업', 10), ('처리장치', 2), ('업무방해', 5), ('가령', 1), ('전보발령', 1), ('웹서버', 1), ('법조', 26), ('택일', 6), ('병력', 2), ('진압', 4), ('내란죄', 1), ('국가보안법', 25), ('참칭', 2), ('변란', 3), ('언론', 4), ('매체', 8), ('언론사', 5), ('투자', 25), ('신문사', 3), ('막대', 5), ('인낙', 2), ('무권대리', 13), ('촉탁', 5), ('대리권', 15), ('추인', 17), ('공증', 3), ('합동', 14), ('여객', 17), ('정류', 4), ('소란', 2), ('정차', 4), ('공간', 5), ('표지판', 1), ('매표', 2), ('승차', 2), ('하차', 3), ('특별시', 2), ('광역시', 2), ('진보', 12), ('부족', 11), ('지식인', 1), ('비대', 2), ('추천', 11), ('낙천', 2), ('반론', 3), ('의정', 1), ('탈법', 1), ('출력', 1), ('만약', 10), ('사생활', 1), ('평온', 7), ('법정형', 15), ('유부', 4), ('입찰', 64), ('합유', 7), ('대신', 12), ('유일', 1), ('승용차', 7), ('하천', 36), ('점용', 16), ('개개인', 3), ('위함', 5), ('파산법', 5), ('애행', 1), ('청구인', 64), ('사전', 25), ('양육', 6), ('양육비', 5), ('가정법원', 1), ('언제', 9), ('친권자', 6), ('유아인', 2), ('사비', 6), ('송사', 3), ('건의', 6), ('복리', 15), ('최우', 2), ('양립', 7), ('녹용', 7), ('전지', 3), ('회분', 1), ('함량', 2), ('준치', 3), ('전량', 2), ('폐기', 10), ('반송', 9), ('측면', 6), ('동산', 11), ('적정절차', 2), ('분말', 2), ('활성탄', 2), ('수처리', 2), ('납품', 16), ('아가', 1), ('공판정', 6), ('기억', 11), ('오기', 6), ('불리', 4), ('살인죄', 6), ('살인', 6), ('살해', 11), ('예견', 20), ('불확정', 3), ('기형', 5), ('정기형', 4), ('집행정지', 12), ('변제공탁', 7), ('관리제', 1), ('금제', 2), ('고해', 1), ('완료', 29), ('수립', 9), ('조성', 3), ('배척', 21), ('위로', 5), ('상행위', 6), ('상인', 11), ('도급', 28), ('인용', 51), ('기한부', 1), ('회생', 6), ('보증채무', 14), ('특약', 20), ('전결', 4), ('정서', 1), ('국제항', 2), ('통일', 6), ('수하인', 6), ('도착', 5), ('수리', 24), ('압수', 10), ('주거', 19), ('이사비', 2), ('사회보장', 2), ('사업인정', 4), ('료율제', 1), ('합작', 2), ('료율', 3), ('행정소송법', 11), ('산점', 11), ('대도시', 5), ('불문', 16), ('본점', 6), ('식별력', 5), ('요부', 8), ('철분', 1), ('재료', 10), ('처럼', 4), ('금등', 1), ('주선', 4), ('행정규칙', 7), ('수권', 7), ('보충', 18), ('외적', 15), ('구속력', 6), ('법규명령', 5), ('자원부', 1), ('사단법인', 9), ('이사장', 18), ('전임', 4), ('임기', 14), ('취임', 5), ('후임', 10), ('이사만이', 1), ('리스', 3), ('약속', 13), ('뇌물수수죄', 4), ('만화', 1), ('삭제', 8), ('작위의무', 3), ('지고', 7), ('전기통신기본법', 1), ('경비', 30), ('원래', 18), ('차입', 5), ('단지', 13), ('일단', 19), ('가가', 7), ('용종', 1), ('노무', 5), ('레미콘', 7), ('운반', 14), ('차주', 12), ('전세권', 22), ('상업', 6), ('송장', 1), ('문명', 1), ('의뢰인', 5), ('공직자', 5), ('언론보도', 1), ('공중', 8), ('공용', 24), ('수익권', 3), ('포기', 36), ('이의제기', 2), ('제한물권', 2), ('혀', 1), ('현상', 10), ('가상', 1), ('연결', 6), ('흡수', 5), ('생명보험', 3), ('개발이익', 3), ('문대', 1), ('부당행위', 8), ('청량음료', 1), ('사택', 3), ('경감', 3), ('막역', 1), ('치유', 15), ('공매처분', 5), ('마련', 7), ('전해', 1), ('청탁', 35), ('미합중국', 2), ('군대', 2), ('군속', 1), ('서술', 1), ('정관', 26), ('근속', 1), ('입회', 6), ('중기', 4), ('입하', 3), ('열거', 8), ('예치', 6), ('미시', 1), ('이나', 3), ('공사상', 1), ('미관', 7), ('지장', 5), ('균열', 1), ('정기', 15), ('상여금', 11), ('일률', 2), ('휴가', 2), ('명절', 1), ('향비', 1), ('선물', 1), ('후생', 2), ('용품', 7), ('미결', 1), ('미처', 1), ('대차', 8), ('결제', 14), ('권리자', 10), ('등사', 2), ('준칙', 6), ('수의계약', 7), ('감리', 2), ('발주', 8), ('공문서', 19), ('무소', 9), ('감금죄', 4), ('간접정범', 5), ('인신', 1), ('구속', 9), ('영장', 7), ('전담', 2), ('판사', 10), ('직권남용감금죄', 1), ('품명', 1), ('구격', 1), ('밀수출', 1), ('하의', 6), ('직감', 3), ('뇌물공여죄', 6), ('증재죄', 3), ('잔류', 2), ('구강', 1), ('알코올', 4), ('취해', 3), ('객관성', 8), ('혈중', 5), ('농도', 5), ('루저', 1), ('음주운전', 8), ('보조참가인', 7), ('하소', 1), ('이행강제금', 2), ('횟수', 4), ('철도', 8), ('중지', 8), ('무릅쓰', 1), ('치쥐', 1), ('발휘', 4), ('담장', 3), ('조물', 4), ('철거', 40), ('도로공사', 1), ('휴게', 1), ('임대료', 1), ('휴게소', 2), ('주유소', 2), ('유류', 3), ('라꾸', 2), ('지명채권', 3), ('지시자', 1), ('입가', 3), ('알기', 1), ('개괄', 2), ('유추해석', 9), ('관광부', 2), ('공업', 8), ('경품', 13), ('고심', 12), ('교단', 10), ('교인', 17), ('찬성', 9), ('탈퇴', 10), ('총유', 3), ('사임', 18), ('사표', 2), ('일임', 8), ('임서', 1), ('단독행위', 1), ('마음대로', 2), ('수리행위', 1), ('세무사', 5), ('세무', 15), ('대리', 24), ('상업사용인', 5), ('영업주', 7), ('지기', 1), ('복귀', 9), ('발령', 3), ('정산', 18), ('무가', 2), ('통신망', 1), ('메시지', 1), ('신용정보', 7), ('집무', 2), ('이동통신', 1), ('본부장', 1), ('선처', 4), ('절', 5), ('뇌물수수', 1), ('죄책', 17), ('양', 17), ('후자', 14), ('단전', 1), ('조정은', 1), ('채판', 1), ('료함', 1), ('주요한', 4), ('예약', 6), ('본계약', 1), ('신용등급', 1), ('배착힌', 1), ('정당성', 4), ('직렬', 1), ('법무사', 7), ('지식', 13), ('실무', 3), ('군복무', 3), ('현직', 3), ('바탕', 5), ('전무', 6), ('익', 5), ('유상', 9), ('자가용', 1), ('렌트카', 1), ('국제', 9), ('탁', 3), ('원한', 2), ('박제', 1), ('작자', 2), ('수록', 2), ('발췌', 1), ('인접', 7), ('음악', 1), ('입학', 17), ('선발', 4), ('입학시험', 1), ('응시', 4), ('합격', 7), ('불합격', 1), ('정당화', 2), ('지원기', 1), ('현물출자', 3), ('분율', 1), ('건립', 10), ('가법', 1), ('용지', 17), ('특수성', 5), ('오수', 2), ('분뇨', 6), ('축산', 8), ('수집', 8), ('정화조', 1), ('청소', 3), ('의학', 4), ('유전', 1), ('양안', 1), ('망막색소변성증', 1), ('시력', 1), ('상여', 3), ('종합소득세', 12), ('수정', 15), ('대주', 6), ('저렵', 1), ('달', 16), ('말일', 3), ('산', 20), ('서비스업', 3), ('의장', 43), ('과거', 17), ('거기', 5), ('미감', 10), ('미적', 2), ('결', 17), ('송부', 2), ('증거물', 2), ('모용', 15), ('동지', 4), ('내심', 2), ('어디', 3), ('절도죄', 29), ('팀', 1), ('차감', 3), ('외상매출금', 1), ('권리남용', 5), ('재수술', 1), ('미진', 18), ('건설업', 40), ('본사', 3), ('국토이용관리법', 6), ('경리', 7), ('변칙', 1), ('군인', 7), ('구타', 9), ('은폐', 5), ('군', 22), ('행정절차', 1), ('부딫혀', 1), ('군형법', 8), ('군사', 12), ('입시', 1), ('강의', 6), ('강행법규', 2), ('수험생', 3), ('정과정', 1), ('담', 12), ('보물', 10), ('수산', 4), ('검', 3), ('침체', 2), ('간접사실', 1), ('대산', 1), ('도피', 6), ('선순취', 1), ('음으로', 5), ('제휴', 3), ('정인', 1), ('번호', 10), ('미기', 2), ('세율', 23), ('긴급', 8), ('체포', 16), ('자진', 11), ('휴일', 3), ('해고', 16), ('진료기록', 6), ('의료행위', 15), ('소견', 1), ('부의', 9), ('간호', 3), ('기록부', 2), ('유포', 5), ('약간', 4), ('과장', 12), ('편취할', 5), ('사이트', 2), ('신용협동조합', 2), ('악의', 16), ('연속', 3), ('해성', 2), ('금리', 4), ('특수', 26), ('수익률', 1), ('보류', 5), ('공공시설', 7), ('선출', 10), ('어린이', 2), ('단어', 3), ('자타', 4), ('개방', 2), ('건대', 1), ('미약', 3), ('주거침입죄', 9), ('야간', 7), ('주거침입', 9), ('출입문', 4), ('출입', 9), ('호적법', 6), ('동일시', 2), ('출생신고', 2), ('곧', 15), ('무능력자', 5), ('법정대리인', 5), ('강행규정', 9), ('기획', 5), ('지도', 6), ('진정', 10), ('연대채무', 1), ('대응', 6), ('여가', 1), ('진의', 4), ('직종', 3), ('폭', 6), ('대학교수', 4), ('제청', 3), ('체사', 1), ('광고주', 1), ('유추', 5), ('광고대행사', 1), ('익산', 1), ('실지', 52), ('반영', 12), ('소비대차', 6), ('가약', 1), ('주무', 6), ('계속범', 2), ('게속', 1), ('윤락', 3), ('불금', 1), ('성매매특별법', 2), ('단시', 1), ('사상', 16), ('고현', 1), ('이탈', 18), ('이동', 6), ('특징', 6), ('감광', 3), ('드럼', 1), ('팀해', 1), ('해외', 18), ('승객', 7), ('칼', 6), ('교통기관', 1), ('탑승', 2), ('불의', 4), ('지방자치법', 5), ('편의', 17), ('증진', 2), ('군민', 1), ('출산', 2), ('장려', 3), ('정선군', 1), ('등지', 2), ('대집행', 11), ('체적', 1), ('호가', 9), ('덤프', 1), ('트럭', 15), ('토사', 3), ('현장', 8), ('대조', 4), ('확립', 2), ('양성화', 2), ('부등', 2), ('최소', 5), ('메카니즘', 1), ('주어', 14), ('종원', 11), ('불미', 2), ('오손', 1), ('다라', 2), ('편취행위', 3), ('포위', 2), ('배수로', 1), ('아동', 4), ('혐의', 14), ('해안', 1), ('권고', 4), ('도인', 2), ('기초자치단체장', 1), ('소청', 10), ('단속', 15), ('대체연료', 1), ('약식', 10), ('중반', 1), ('산모', 2), ('제왕절개', 1), ('당자', 1), ('설사', 13), ('의문사', 2), ('진상', 3), ('규명', 9), ('유상증자', 3), ('총수', 1), ('등기부', 26), ('금납', 5), ('증명서', 6), ('신주', 2), ('인주', 1), ('선관', 3), ('관습', 14), ('미혼', 2), ('남', 2), ('호주', 18), ('매', 7), ('장녀', 2), ('호주권', 1), ('유산', 7), ('여자도', 1), ('유류분권', 2), ('자필유언', 2), ('유언', 33), ('검인', 2), ('예산회계법', 4), ('독촉', 3), ('재소', 6), ('책임자', 6), ('준용', 22), ('취', 5), ('연행', 7), ('부패방지법', 2), ('영농', 3), ('농업', 6), ('소송사기', 2), ('칭호', 8), ('격', 7), ('업법', 10), ('고용계약', 5), ('사직', 2), ('해직', 7), ('취업규칙', 9), ('노', 1), ('위촉', 3), ('운전기사', 2), ('한번', 7), ('동인', 14), ('학생복', 1), ('단테', 1), ('구법', 3), ('의문', 5), ('참고인', 3), ('강압', 4), ('교제', 2), ('소비', 30), ('자도', 12), ('유물', 14), ('추', 10), ('칙', 2), ('도저히', 1), ('긍정', 4), ('이르렀다', 3), ('유가족', 1), ('재판관할권', 3), ('최저임금법', 2), ('중국인', 1), ('담합', 12), ('가담', 21), ('과징', 1), ('투자신탁', 7), ('운용', 8), ('부도', 10), ('회사채', 2), ('범인도피죄', 1), ('무면허', 14), ('동생', 3), ('출두', 2), ('매장', 4), ('개인정보', 7), ('누설', 14), ('군청', 3), ('반대신문', 2), ('언동', 4), ('좌우', 5), ('절도', 43), ('사범', 4), ('실형', 6), ('단기', 6), ('창설', 3), ('새겨햐', 1), ('법가', 1), ('형기', 5), ('처단형', 2), ('체포영장', 1), ('구속영장', 2), ('부심', 1), ('발부', 4), ('임치', 3), ('시불', 1), ('말미', 3), ('암', 1), ('반입', 8), ('로만', 3), ('분식회계', 5), ('단절', 2), ('공물', 4), ('고양', 3), ('재래시장', 1), ('좌판', 1), ('무관후보생', 2), ('처우', 1), ('역병', 3), ('여건', 1), ('성희롱', 2), ('빙자', 4), ('도지사', 14), ('징계처분', 23), ('완전', 2), ('규율', 6), ('출제', 1), ('문항', 1), ('답항', 1), ('자류롭', 1), ('입찰방해죄', 8), ('취태범', 1), ('참가자', 3), ('부사', 5), ('고속', 1), ('앞서', 3), ('대외', 2), ('환매', 8), ('기업체', 9), ('재무제표', 8), ('구조', 22), ('편재', 1), ('대우전자', 1), ('준소비대차', 2), ('금반언', 2), ('제권판결', 13), ('진행중', 5), ('무기명채권', 2), ('분실', 4), ('도난', 3), ('접수', 12), ('면책특권', 3), ('발언', 5), ('표결', 3), ('회의장', 1), ('법무부', 3), ('대통령', 5), ('측근', 1), ('대선', 1), ('촉구', 8), ('추산', 2), ('수치', 1), ('대내', 1), ('의자', 13), ('인감증명', 4), ('몰래', 2), ('차기', 2), ('지방선거', 1), ('출마', 4), ('세미나', 2), ('인장', 12), ('집행불능', 2), ('거주지', 2), ('모로', 2), ('연락', 10), ('독려', 2), ('재산상속', 5), ('관습법', 3), ('장남', 4), ('절반', 2), ('차남', 2), ('중자', 1), ('호주인', 1), ('분재', 2), ('제명', 8), ('창작물', 2), ('커피', 5), ('시리즈', 1), ('편집', 2), ('모방', 2), ('불산', 3), ('후단', 7), ('스크랩', 1), ('학습자', 1), ('체육', 2), ('론', 10), ('위락시설', 1), ('유료', 1), ('린', 2), ('반함', 1), ('성관계', 1), ('폭로', 1), ('마약', 6), ('류', 12), ('편취액', 2), ('장비', 4), ('단원', 1), ('탈취', 3), ('관심', 1), ('축산업협동조합', 1), ('농림부', 7), ('축협', 1), ('통합', 3), ('영업양도', 1), ('대항력', 4), ('거소', 5), ('단독주택', 3), ('다세대', 3), ('국가정보원직원법', 1), ('계급', 5), ('정년', 12), ('승진', 7), ('직기', 2), ('근본', 3), ('의회', 4), ('하니', 3), ('엄격', 3), ('의약품', 21), ('상정이', 1), ('소매', 3), ('분산', 1), ('대다수', 2), ('액면가', 2), ('법률혼', 2), ('거관', 1), ('산자', 2), ('보호령', 4), ('자원', 2), ('채포', 1), ('포획', 1), ('동식물', 1), ('전기', 15), ('증대', 6), ('모델', 2), ('판매업', 9), ('기보', 1), ('온기', 1), ('면소판결', 4), ('고로', 1), ('대물', 2), ('등기청구권', 12), ('운명', 2), ('하', 13), ('명의개서', 2), ('재산가', 1), ('패러디', 1), ('의지', 2), ('찻값', 1), ('호별', 2), ('근접', 2), ('간격', 4), ('판별', 1), ('번역', 3), ('맥락', 1), ('창의', 1), ('어휘', 1), ('용비', 3), ('표본', 3), ('두루', 1), ('적합', 2), ('자영', 3), ('농민', 1), ('숙련', 2), ('후불', 4), ('항운', 1), ('원용', 4), ('국고', 6), ('종국', 2), ('부종', 2), ('직영', 2), ('무비', 1), ('함부로', 3), ('수납', 4), ('유비', 1), ('월', 10), ('연맹', 4), ('센터', 1), ('치가', 7), ('공인', 11), ('중개사', 7), ('자격증', 4), ('행세', 3), ('무자격', 3), ('명함', 2), ('뉴스', 1), ('용한', 1), ('유세', 1), ('대한의사협회', 1), ('출연자', 3), ('쪽', 5), ('소정은', 1), ('선거구', 4), ('연고', 13), ('서부', 2), ('정행', 2), ('한자', 7), ('행각', 2), ('과당', 10), ('탁금', 7), ('잔고', 5), ('매가', 2), ('으', 1), ('이해관계자', 2), ('이의권', 1), ('책', 9), ('방비', 1), ('집권', 4), ('연기', 5), ('지면', 1), ('새', 7), ('식물인간', 1), ('여명', 1), ('전소', 14), ('별', 7), ('임자', 7), ('흠', 3), ('소가', 10), ('위성', 4), ('망국', 1), ('동록', 1), ('자율', 4), ('묘시', 1), ('광역', 1), ('현안', 1), ('표결권', 1), ('실장', 2), ('자연과학', 1), ('헤르페스', 1), ('바이러스', 1), ('급성', 2), ('망막', 1), ('괴사', 3), ('뇌염', 1), ('과로', 4), ('스트레스', 1), ('수용재결', 10), ('입지', 11), ('배하', 13), ('군수', 13), ('전문가', 5), ('범칙', 22), ('통고', 8), ('오락', 7), ('일련번호', 1), ('투입', 6), ('당첨', 4), ('송이', 1), ('운송계약', 4), ('운송주선인', 5), ('괴롭힘', 2), ('정신장애', 1), ('학생', 13), ('자살', 6), ('의거', 14), ('교육활동', 1), ('학교폭력', 1), ('부모', 5), ('교장', 3), ('동업', 18), ('군종장교', 2), ('성직자', 1), ('비판', 5), ('중교', 1), ('중립', 1), ('우리', 11), ('최대한', 3), ('자제', 1), ('감안', 8), ('공군', 1), ('참모총장', 1), ('계몽', 1), ('책자', 6), ('정교분리', 1), ('부연', 5), ('터미널', 1), ('참게', 2), ('양식', 9), ('어업권', 8), ('사유수', 1), ('더라도', 9), ('생활수준', 2), ('진폐증', 1), ('직업병', 1), ('자라', 7), ('특허법원', 1), ('의례', 1), ('당비', 2), ('헌', 2), ('가관', 3), ('성부', 1), ('희망', 11), ('법명', 1), ('과태', 1), ('외한', 2), ('방자', 1), ('버금', 1), ('청렴', 4), ('해수', 2), ('어류', 1), ('협동조합', 7), ('피방', 1), ('인적', 8), ('합자회사', 2), ('사원', 3), ('감정평가', 6), ('감정평가사', 2), ('가분', 2), ('만족', 6), ('일신전속권', 1), ('퇴거', 4), ('식탁', 1), ('막', 4), ('장함', 2), ('밥송법', 1), ('소환', 4), ('피하', 2), ('산림', 9), ('서울특별시', 34), ('입안', 1), ('자연환경보전법', 1), ('생태계', 1), ('전역', 3), ('생태', 1), ('조사해', 4), ('도시생태현황도', 1), ('비오톱', 1), ('맵', 1), ('참고자료', 1), ('행정소송', 55), ('지자체', 3), ('이주', 3), ('출국', 4), ('비거', 5), ('주자', 14), ('도일', 1), ('자간', 5), ('결여', 25), ('소취하', 4), ('변론기일', 13), ('응소', 2), ('심증', 6), ('유전자', 2), ('테두리', 1), ('관세청장', 4), ('관장', 12), ('일본', 9), ('영주권', 1), ('재일교포', 1), ('영리', 9), ('라거', 1), ('의막', 1), ('침습', 1), ('어장', 2), ('어촌', 6), ('시효중단', 5), ('수액', 2), ('공동묘지', 2), ('곤란', 5), ('직장', 8), ('월액', 1), ('불평등', 1), ('성비', 1), ('벼', 1), ('경작지', 1), ('다가', 6), ('잔디밭', 1), ('폐암', 2), ('지하철', 1), ('역무', 5), ('지하철역', 1), ('석면', 1), ('특정시', 1), ('조성원', 1), ('원가', 4), ('수표', 61), ('대손', 5), ('불능', 11), ('외무', 3), ('역법', 3), ('줌', 4), ('지명', 3), ('사사유', 1), ('효', 2), ('확전', 1), ('여유', 2), ('본권', 2), ('임관', 2), ('재정상', 1), ('원조', 1), ('부금', 7), ('국유', 13), ('부지', 41), ('자연공물', 2), ('행정재산', 4), ('국유재산', 11), ('잡종재산', 3), ('골재', 4), ('구거', 2), ('농로', 2), ('치장', 3), ('위태범', 1), ('강제집행면탈죄', 8), ('열사', 4), ('빼', 2), ('운동', 5), ('돕기', 1), ('획득', 6), ('분권', 5), ('감', 7), ('쌍무계약', 4), ('이행상', 1), ('견련관계', 1), ('필증', 8), ('부동산등기법', 4), ('무인', 4), ('적정가격', 4), ('이용상', 1), ('법정지상권', 4), ('신임', 3), ('점거', 5), ('동성애', 1), ('논란', 1), ('원화로', 3), ('환은행', 1), ('온당', 1), ('국법', 2), ('장기', 9), ('포', 3), ('페이', 2), ('팅', 2), ('변제충당', 1), ('문언', 2), ('생존', 9), ('축산물', 2), ('제어', 1), ('기계화', 1), ('자동차관리법', 1), ('이륜자동차', 2), ('착각', 6), ('분묘', 9), ('간접강제', 3), ('부동산경매', 2), ('필연', 3), ('분묘기지권', 3), ('수호', 4), ('평등성', 2), ('방면', 6), ('유인', 5), ('회계감사', 2), ('상무', 6), ('안건', 3), ('본국', 6), ('법해석', 1), ('폴란드', 1), ('영구', 1), ('선박등기', 1), ('금도', 2), ('자치', 4), ('권징', 6), ('사법심사', 5), ('목사', 3), ('장로', 2), ('진흥', 1), ('결격', 4), ('복식부기', 1), ('증빙', 24), ('터', 4), ('일관', 2), ('증거위조죄', 1), ('전문의', 5), ('행해', 1), ('모발', 1), ('이식', 1), ('시술', 2), ('간호조무사', 2), ('정당행위', 2), ('행성', 1), ('조장', 2), ('재물손괴죄', 4), ('손괴', 3), ('효용', 12), ('건조물', 5), ('벽면', 2), ('낙서', 3), ('게시', 2), ('오물', 1), ('투척', 2), ('불쾌감', 1), ('노동자', 5), ('복직', 1), ('래커', 1), ('스프레이', 1), ('외벽', 1), ('계란', 7), ('자유게시판', 1), ('엔진', 1), ('배기량', 1), ('페드', 1), ('모페드', 1), ('모터', 1), ('페달', 2), ('자전거', 2), ('경량', 1), ('웃돈다', 1), ('면책조항', 1), ('전신환', 1), ('통화', 2), ('권리변동', 2), ('직면', 1), ('폐업', 6), ('창업', 5), ('중소기업', 10), ('대의', 2), ('시속', 2), ('속도', 3), ('행렬', 2), ('저속', 1), ('단독', 14), ('경', 14), ('이건', 10), ('연상', 4), ('토론회', 3), ('즉흥', 1), ('일부분', 5), ('불구속', 1), ('오류', 11), ('수감', 2), ('효율', 2), ('추구', 1), ('하종', 1), ('부락', 4), ('사원총회', 3), ('권능', 3), ('고등', 2), ('교육법', 2), ('동등', 3), ('학력', 4), ('대학원', 2), ('학위', 3), ('군사분계선', 1), ('이북', 2), ('초', 1), ('중등교육', 1), ('대학교육', 1), ('교육과정', 1), ('이수', 2), ('졸업', 1), ('수여', 3), ('우선변제권', 2), ('임차보증금', 5), ('국가정보원장', 1), ('국가정보원', 1), ('공매', 8), ('의견서', 3), ('청', 21), ('선급금', 11), ('위약금', 5), ('알콜', 2), ('처리기', 1), ('장법', 4), ('성죄', 7), ('오신', 1), ('직인', 4), ('집행유예', 15), ('범한', 11), ('상습범', 8), ('지체상금', 3), ('주지연', 1), ('초일', 2), ('전차', 7), ('관계도', 1), ('가장납입', 2), ('당부', 12), ('증명책임', 4), ('중과세', 17), ('추첨', 4), ('디자인', 9), ('대기업', 1), ('사례금', 2), ('월급', 3), ('간음', 9), ('불균형', 2), ('비난가능성', 1), ('사이이', 1), ('겨우', 3), ('가정', 7), ('선조', 3), ('제사', 1), ('종족', 2), ('후손', 1), ('여성', 1), ('지하', 7), ('유치권', 3), ('유치', 4), ('전후', 8), ('배신', 1), ('무작정', 1), ('조문', 2), ('약사', 3), ('약제', 2), ('임료', 5), ('가스요금', 1), ('고자', 2), ('무엇', 2), ('조산사', 1), ('수금', 3), ('비닐하우스', 2), ('축사', 3), ('퇴비', 1), ('장고', 1), ('관상어', 1), ('배양', 1), ('작업장', 1), ('양어', 1), ('속성', 3), ('미용', 4), ('종목', 2), ('파견', 8), ('외국어', 3), ('포괼적', 1), ('척결', 1), ('교직원', 1), ('수업', 4), ('학부모', 1), ('이행거절', 1), ('나기', 1), ('선관주의의무', 3), ('그때', 11), ('거꾸로', 2), ('미지', 4), ('선금', 1), ('정화', 9), ('하수', 4), ('사대', 1), ('기성', 6), ('말소', 24), ('무시', 6), ('결함', 3), ('심금', 3), ('매목', 7), ('채무인수', 2), ('이행인수', 1), ('분석', 3), ('형량하', 1), ('개봉', 1), ('진급', 3), ('행정절차법', 1), ('파', 2), ('박사', 2), ('효능', 15), ('전자부품', 2), ('배당률', 1), ('물상대위', 1), ('한글', 3), ('도메인', 2), ('웹사이트', 2), ('자격상실', 1), ('시로', 2), ('퇴사', 6), ('종기', 3), ('공권력', 3), ('문', 4), ('부와', 6), ('환부', 4), ('용어', 3), ('폐쇄형', 1), ('불명료', 1), ('매출장', 2), ('진실성', 7), ('액비', 1), ('저장', 1), ('유입', 3), ('폐수처리', 1), ('도박', 20), ('개장', 2), ('개발자', 1), ('택법', 3), ('호수', 4), ('신원보증', 2), ('통장', 3), ('단시간', 1), ('준점유', 1), ('인감', 5), ('상속회복청구권', 2), ('상속권', 3), ('또', 32), ('구수', 4), ('질문', 2), ('필기', 2), ('낭독', 3), ('모양', 15), ('색채', 1), ('색', 1), ('채색', 2), ('위치', 18), ('구도', 1), ('빨간색', 1), ('파란색', 1), ('감색', 1), ('인증표', 2), ('임시', 14), ('부대항소', 3), ('합일', 2), ('비단', 2), ('접', 4), ('정시', 5), ('간호사', 1), ('복약', 1), ('처방', 2), ('배합', 1), ('의율', 6), ('인터뷰', 1), ('프로필', 1), ('무관계', 2), ('실비', 3), ('서거', 1), ('유권자', 2), ('집단따돌림', 3), ('학급', 3), ('복수', 3), ('소수', 2), ('적극성', 1), ('능동', 2), ('주도', 2), ('명예퇴직', 8), ('순서대로', 1), ('조금', 3), ('거의', 4), ('구태여', 1), ('무능력', 1), ('해산', 9), ('구현', 3), ('탈루', 1), ('향범', 1), ('사무직원', 4), ('산후조리원', 2), ('입소', 1), ('음식', 3), ('몸', 3), ('증세', 2), ('보이', 5), ('보임', 1), ('신생아', 3), ('탈수', 1), ('장염', 1), ('과실치사', 1), ('호용', 1), ('금지명령', 1), ('천수', 1), ('여론조사', 1), ('비례대표', 1), ('조기', 3), ('전대', 7), ('군법무관', 3), ('행정부', 1), ('예금자보호법', 1), ('합볍하', 1), ('출연', 5), ('매개', 1), ('어긋나게', 1), ('호보', 1), ('침익', 1), ('지불', 8), ('논평', 1), ('어법', 1), ('단정', 4), ('세로', 1), ('치부', 1), ('등재', 9), ('철거민', 1), ('국', 21), ('합리화', 7), ('차후', 1), ('모범', 3), ('청구원인', 6), ('소라', 3), ('관철', 1), ('구호', 6), ('문안', 1), ('자문', 1), ('통신사', 2), ('실시간', 1), ('곡', 1), ('제조업', 15), ('뻥튀기', 2), ('옥수수', 3), ('할당', 5), ('정선', 1), ('가수', 2), ('건조', 1), ('제조업체', 2), ('소관', 9), ('품목', 12), ('요령', 7), ('화장품', 8), ('파산신청', 2), ('불과', 8), ('생활비', 2), ('잠탈', 1), ('실의', 1), ('멸', 1), ('수학', 3), ('대학별', 1), ('전형', 5), ('반올림', 2), ('소수점', 1), ('점수', 1), ('배서', 10), ('제기로', 1), ('급법', 1), ('허각', 1), ('완납', 4), ('본등기', 9), ('지배인', 2), ('장특', 1), ('우발', 5), ('외래', 2), ('체질', 2), ('심근경색증', 1), ('끝', 2), ('궁', 1), ('특별자치도', 1), ('신주인수권', 3), ('식지', 1), ('저가', 3), ('정위', 1), ('크게', 2), ('종물', 4), ('주물', 4), ('상용', 4), ('이바지', 2), ('소독', 1), ('벽', 5), ('기둥', 1), ('지붕', 5), ('천정', 1), ('물탱크', 1), ('중국', 1), ('대사관', 1), ('영사', 1), ('상급자', 3), ('날치기', 1), ('가방', 3), ('가량', 9), ('끌', 1), ('무릎', 1), ('억압', 3), ('가해진', 1), ('강도죄', 3), ('강도치상죄', 1), ('구체화', 2), ('시공사', 5), ('주일', 2), ('소유권보존등기', 10), ('지상', 13), ('핵심', 3), ('인력', 2), ('우회', 2), ('공격성', 1), ('행관', 3), ('노후', 1), ('모해', 2), ('행함', 2), ('원산지', 3), ('손상', 12), ('남아', 3), ('라벨', 1), ('담당자', 15), ('등본', 11), ('병역법', 2), ('시민', 3), ('양심', 2), ('대체복무제', 1), ('도입', 3), ('대체복무', 1), ('미신', 1), ('매출채권', 1), ('전부금', 2), ('사교육', 1), ('공교육', 1), ('수강생', 2), ('저학년', 1), ('외주', 1), ('제작사', 1), ('촬영', 6), ('장면', 1), ('초상권', 1), ('정기예금', 3), ('여신', 1), ('정족수', 2), ('이상은', 2), ('용면', 4), ('국세청', 14), ('준면', 1), ('전유', 1), ('심법', 17), ('송', 5), ('송부받', 1), ('폭탄', 1), ('간사', 1), ('배점', 1), ('민간', 2), ('목격자', 1), ('용의자', 4), ('대질', 1), ('사진', 5), ('장만', 1), ('약취', 6), ('향유', 2), ('강도', 16), ('강취', 1), ('미성년자약취죄', 1), ('편성', 6), ('송신', 3), ('인공위성', 6), ('무선', 7), ('중계기', 1), ('채널', 4), ('총기', 6), ('무기', 2), ('사태', 4), ('파산관재인', 5), ('특별항고', 7), ('여권', 4), ('해외여행', 1), ('북한', 6), ('고위', 2), ('출신', 1), ('탈북', 1), ('신변', 1), ('헌법소원', 1), ('계기', 2), ('여의', 2), ('제상', 1), ('아야', 1), ('타당성', 18), ('사결정', 12), ('불공', 1), ('부정수표단속법', 10), ('수재', 13), ('사람과', 3), ('서서', 1), ('현판', 1), ('십자가', 1), ('예배당', 2), ('자물쇠', 1), ('예배', 2), ('중이', 5), ('훼방', 1), ('예배방해죄', 1), ('출판', 3), ('항변', 9), ('택배', 1), ('사', 2), ('간섭', 1), ('징표', 2), ('폐회', 1), ('필지', 7), ('택용', 3), ('병행', 1), ('의사소통', 1), ('이회', 1), ('범관', 7), ('유기죄', 1), ('사실혼', 2), ('동거', 4), ('녀', 5), ('치사량', 2), ('필로폰', 1), ('복용', 1), ('부조', 2), ('유기', 19), ('블로그', 1), ('대화방', 1), ('일대일', 1), ('징역', 16), ('벌금', 2), ('좀', 2), ('면전', 3), ('답변', 7), ('범주', 3), ('완공', 7), ('직급', 1), ('연정', 1), ('한쪽', 2), ('채증', 13), ('추진', 4), ('도란', 1), ('기호', 3), ('단면', 1), ('소자', 3), ('배열', 2), ('성능', 4), ('테스트', 1), ('회로도', 1), ('수신', 1), ('통정', 2), ('허위표시', 4), ('일본국', 6), ('문자', 11), ('인쇄', 3), ('예문', 3), ('소위', 29), ('비자', 2), ('부자', 1), ('강설', 1), ('폭설', 1), ('장시간', 1), ('고립', 2), ('구간', 1), ('정체', 1), ('불가항력', 3), ('학과', 1), ('복구', 9), ('보존등기', 2), ('최근', 2), ('동', 3), ('거지', 1), ('제작자', 1), ('시대', 4), ('관람', 1), ('가로', 2), ('비디오', 1), ('동영상', 1), ('시청', 1), ('함정', 1), ('도급계약', 5), ('어기', 3), ('삼고', 3), ('우편물', 6), ('우편', 4), ('집배원', 2), ('금전채권', 4), ('원금', 4), ('미치나', 2), ('상회사', 1), ('설계서', 5), ('수해', 1), ('복', 3), ('강경', 1), ('질식', 2), ('자궁', 5), ('요관', 1), ('합병증', 1), ('한국어', 1), ('학당', 1), ('집합건물법', 1), ('볍령', 2), ('대학원생', 2), ('제목', 1), ('집행력', 5), ('보좌', 3), ('지방법원', 7), ('추돌사고', 2), ('지적', 20), ('토지대장', 5), ('견련되', 1), ('견련사건', 1), ('내외', 3), ('엽', 2), ('원장', 2), ('관자', 1), ('아기', 1), ('모의', 4), ('강도상해죄', 4), ('만류', 4), ('채혈', 1), ('권익', 1), ('강연', 1), ('초청', 2), ('연사', 1), ('후발', 1), ('기획사', 1), ('대부분', 3), ('보통예금', 1), ('금주', 6), ('예금꼐좌', 1), ('제척', 3), ('종국판결', 3), ('이어도', 3), ('준비서면', 5), ('수권자본', 1), ('배정', 6), ('석', 1), ('전하', 4), ('상임', 1), ('총칭', 1), ('명수', 1), ('환치', 1), ('불상', 1), ('액화', 4), ('충전', 4), ('편익', 3), ('분포', 2), ('상권', 1), ('경업금지의무', 1), ('활성화', 1), ('말소등기', 14), ('이기만', 1), ('전통', 1), ('피아노', 2), ('획정', 1), ('각별', 1), ('재벌', 1), ('그룹', 1), ('금융자본', 1), ('경험', 14), ('융통', 1), ('쌀', 9), ('중고차', 1), ('확률', 1), ('충실', 1), ('전환사채', 2), ('육군', 2), ('중대장', 3), ('젖꼭지', 1), ('공동사회', 1), ('군기', 2), ('보강증거', 6), ('중요', 10), ('품', 8), ('부양', 15), ('이행지체', 9), ('소비자보호법', 1), ('비영리단체', 3), ('가운', 1), ('보급', 1), ('회비', 3), ('교재', 3), ('교육비', 1), ('면세', 31), ('신용거래', 1), ('정치인', 1), ('그르치', 2), ('변작', 2), ('새마을금고', 3), ('총괄', 2), ('상조', 1), ('계정', 5), ('신속', 1), ('차령', 1), ('처치', 1), ('위생', 10), ('지적공부', 6), ('영업소', 7), ('거리', 11), ('수소', 1), ('직위해제', 12), ('본연', 1), ('과목', 5), ('정신', 13), ('완결', 4), ('탈락자', 1), ('공립', 4), ('떄', 1), ('현역', 2), ('부적합', 2), ('전단', 3), ('흉기', 6), ('입신', 1), ('밀수입', 6), ('도매', 12), ('역산', 1), ('율표', 3), ('봉쇄', 1), ('잠시', 2), ('할부', 2), ('격방', 3), ('상정', 2), ('재적', 2), ('도청', 2), ('원상', 4), ('허무인', 1), ('얀', 1), ('기술자', 1), ('축받이', 1), ('베어링', 1), ('캐스', 1), ('캐', 1), ('이드', 1), ('링크', 1), ('유통기간', 3), ('유서', 3), ('운전면허증', 1), ('점유이탈물횡령죄', 1), ('투표', 3), ('냉장고', 2), ('켜', 1), ('파일', 1), ('간통', 6), ('종용', 2), ('후유증', 2), ('청구취지', 13), ('출자전환', 1), ('효력발생일', 1), ('내재', 1), ('제의', 5), ('명의대여', 7), ('위상', 1), ('결정족', 2), ('해양사고', 4), ('해양', 1), ('용선', 6), ('정권', 2), ('항행', 2), ('해기', 1), ('병무청장', 1), ('용검', 1), ('사승', 1), ('습벽', 6), ('수종', 1), ('쉽사리', 3), ('동맹', 2), ('취용', 1), ('유탈', 6), ('신립', 2), ('관보', 2), ('대유', 1), ('의연', 2), ('유보', 8), ('재난', 1), ('임시조치', 1), ('부본', 3), ('멸실된', 3), ('월명', 1), ('밤', 2), ('미터', 10), ('보행', 5), ('하임', 1), ('하리', 4), ('일심', 2), ('전연', 2), ('호증', 5), ('상부', 1), ('질물', 1), ('상상', 6), ('군법', 7), ('징역형', 5), ('역원', 1), ('해대', 1), ('전보', 3), ('통례', 2), ('매도담보', 1), ('공한', 1), ('병환', 1), ('공납금', 1), ('반증', 8), ('벌금형', 3), ('의률', 1), ('고령', 1), ('중풍', 1), ('호정', 1), ('안혼', 1), ('부로', 5), ('자식', 1), ('수배', 2), ('혈', 2), ('경부', 1), ('타살', 1), ('사망자', 3), ('군정', 4), ('미군정청', 1), ('서기', 2), ('지령', 9), ('동년', 12), ('소신', 1), ('주주명부', 1), ('환', 4), ('심호', 2), ('개수', 6), ('법시', 1), ('보증수표', 1), ('횡선', 1), ('관재', 9), ('당국', 15), ('불하', 14), ('논', 9), ('소원', 29), ('경하', 6), ('결코', 2), ('경작', 18), ('농가', 5), ('공포일', 1), ('실지로', 3), ('속단', 4), ('화폐개혁', 1), ('백배', 1), ('기입', 7), ('무방', 3), ('제하', 2), ('선로', 1), ('유아', 4), ('기관차', 6), ('기관사', 4), ('입환', 3), ('급수', 9), ('급부소송', 1), ('이송', 11), ('동심', 1), ('체환', 1), ('속력', 4), ('도승', 2), ('비승', 1), ('하야', 1), ('일일', 1), ('좌정', 1), ('목견할', 1), ('선서', 7), ('선서케', 1), ('거부권', 1), ('역수', 1), ('면소', 2), ('언도', 1), ('유체', 3), ('화류', 1), ('무체', 1), ('셀표', 1), ('사류', 1), ('지폐', 1), ('은행권', 1), ('공장', 25), ('자경', 1), ('소재지', 5), ('과분', 1), ('염전', 8), ('정착', 2), ('존내', 1), ('막론', 2), ('불완전이행', 1), ('빌어', 2), ('재사', 2), ('관례', 12), ('극도', 1), ('경솔', 2), ('궁박', 1), ('제소', 13), ('소전', 4), ('계쟁', 3), ('마사회', 4), ('선반', 1), ('불복신청', 5), ('견', 1), ('궁극', 1), ('바이므', 1), ('원시', 3), ('심의회', 4), ('파괴', 1), ('국장', 5), ('자위', 1), ('견지', 1), ('각원', 1), ('회합', 3), ('호선', 2), ('가이사', 1), ('태풍', 1), ('풍랑', 1), ('항해', 5), ('항시', 1), ('운항', 5), ('항로', 1), ('미연', 4), ('상지', 2), ('필', 6), ('층', 13), ('척', 1), ('촌', 2), ('특단', 10), ('증축', 8), ('물상청구권', 1), ('획일', 2), ('가증', 1), ('비치', 5), ('지번', 10), ('왕왕', 1), ('차압', 2), ('집달리', 3), ('국도', 4), ('침탈', 1), ('생기지', 3), ('기명주식', 2), ('병역기피', 1), ('병적', 3), ('상경', 2), ('상점', 3), ('도망', 1), ('잠닉', 1), ('작위', 1), ('입목', 1), ('명인방법', 1), ('배달', 3), ('마을', 1), ('추완', 2), ('위토', 2), ('시가지', 6), ('인간', 4), ('대립', 4), ('광업', 10), ('광업권', 20), ('조합계약', 4), ('계약법', 2), ('총칙', 2), ('상대편', 1), ('준강도', 9), ('본원', 5), ('상반', 14), ('꽃', 1), ('도형', 7), ('중심부', 1), ('꽃술', 1), ('꽃잎', 1), ('배치', 1), ('일본인', 3), ('해방', 2), ('로간', 1), ('국유철도', 1), ('호텔', 2), ('일부러', 1), ('합필', 3), ('폐쇄하거', 1), ('분필', 2), ('표제', 4), ('주말', 1), ('무장경찰', 1), ('출동', 1), ('간첩', 12), ('얘기', 1), ('발사', 4), ('하반신', 1), ('불구자', 4), ('정답', 1), ('채점', 1), ('유임', 8), ('끼리', 2), ('사주', 1), ('월남전', 1), ('전황', 1), ('작업중', 1), ('단조', 1), ('국외', 9), ('무효등기', 3), ('완제', 2), ('판결이유', 2), ('배액', 4), ('수계', 7), ('말소등기청구권', 2), ('소하', 3), ('무부', 1), ('시업', 3), ('휴지', 1), ('광물', 4), ('채굴', 4), ('사망일', 3), ('특수강', 4), ('자수', 9), ('감경', 6), ('고백', 2), ('심문', 2), ('서울시', 4), ('운동장', 1), ('재정신청', 1), ('표현대리', 7), ('구청', 10), ('주유', 1), ('전표', 1), ('급량', 1), ('과부족', 1), ('사행', 1), ('법질서', 1), ('유지상', 1), ('중요성', 1), ('간첩죄', 11), ('청구도', 3), ('탈세', 3), ('양륙', 1), ('용승', 1), ('공부', 3), ('옹호', 1), ('불가변력', 2), ('공법관계', 1), ('주거지', 3), ('행방불명', 3), ('한국전력', 5), ('전주', 2), ('재무부', 6), ('외화채권', 1), ('국내법', 4), ('국통', 2), ('석탄', 1), ('군납', 1), ('창신동', 1), ('청계천', 1), ('더욱이', 1), ('하급', 3), ('보건사회부', 4), ('자연재해', 1), ('유실', 1), ('이적', 2), ('소요량', 2), ('구출', 1), ('논단', 1), ('차장', 4), ('급보', 1), ('부실등기', 3), ('서위', 1), ('조등', 1), ('잠칭한자', 1), ('무조건', 2), ('의무불이행', 3), ('세미', 1), ('불법점유', 6), ('산지', 2), ('을종', 1), ('번의', 3), ('국방', 3), ('군사시설', 2), ('원천', 3), ('피전', 1), ('지급시', 2), ('빙판', 2), ('감속', 1), ('주시', 3), ('조처', 8), ('차선', 6), ('자차', 1), ('주행', 1), ('여자', 12), ('과실책임', 6), ('효기', 3), ('위태롭', 1), ('경신', 3), ('선거법', 7), ('입후보', 2), ('달력', 1), ('면회', 2), ('방편', 2), ('혼인신고', 6), ('간통죄', 2), ('료등', 1), ('고추', 1), ('가루', 7), ('고춧가루', 2), ('당좌', 6), ('임산물', 9), ('재산범죄', 1), ('청과', 1), ('인화지', 1), ('필림', 3), ('노광', 1), ('광학', 2), ('영화', 2), ('부정지', 3), ('톤수', 2), ('톤', 2), ('단주', 1), ('노도', 1), ('항진', 5), ('추진기', 2), ('예인', 2), ('부선', 4), ('처사', 4), ('창구', 2), ('예금계약', 4), ('소송참가', 1), ('의용소방대', 2), ('예속', 1), ('소방대', 1), ('즈음', 2), ('횡서', 3), ('종이', 4), ('원유', 3), ('식용', 2), ('양곡', 27), ('방출', 4), ('곡가', 3), ('절용', 4), ('비축', 1), ('원부', 2), ('전세계약', 1), ('실재', 1), ('국무총리', 5), ('전치', 10), ('정부조직법', 1), ('내무부', 5), ('총리', 1), ('장물죄', 4), ('특수절도죄', 3), ('세무서', 25), ('전심', 15), ('개척', 1), ('농경지', 1), ('사설', 3), ('묘지', 9), ('씩', 2), ('양인', 2), ('복역', 3), ('군무', 4), ('경쟁자', 1), ('유기한', 4), ('일전', 1), ('점용료', 3), ('우선권', 2), ('페니', 1), ('호스', 2), ('타마', 1), ('시주', 3), ('페니실린', 1), ('약재', 1), ('주사', 6), ('해상법', 1), ('동해', 1), ('좌초', 1), ('침몰', 1), ('실화', 6), ('해손', 1), ('분손', 6), ('보라', 1), ('면장', 2), ('운임', 3), ('경매권', 1), ('종장', 6), ('문장', 12), ('고행', 1), ('항렬', 2), ('나이', 4), ('종회', 6), ('중성', 1), ('년', 2), ('남자', 4), ('당사자적격', 1), ('구속기소', 1), ('사령', 2), ('동령', 5), ('전등', 3), ('수증', 6), ('익일', 6), ('스키', 1), ('트', 1), ('마크', 1), ('직후', 4), ('프로펠라', 1), ('샤르트', 1), ('노면', 1), ('흔적', 5), ('파손', 3), ('대각선', 1), ('경흥', 1), ('상회', 2), ('하관', 1), ('파종', 1), ('보리', 3), ('센치', 1), ('가로막', 1), ('쟁기', 1), ('정당방위', 3), ('군산시', 1), ('서울', 7), ('일조', 1), ('찬영', 1), ('구절', 1), ('감명', 1), ('반공법', 5), ('질권', 4), ('의용', 1), ('망부', 2), ('친자', 5), ('남동생', 1), ('호적', 11), ('분과', 1), ('항만', 5), ('항만청', 1), ('훈령', 14), ('도장', 1), ('후소', 11), ('유망', 2), ('고담', 1), ('대리행위', 1), ('자란이', 1), ('공백', 1), ('자임', 4), ('타툼', 1), ('농지개혁', 4), ('부류', 1), ('정지명령', 4), ('두부', 2), ('판등', 1), ('지부', 2), ('경고', 3), ('매립지', 4), ('준령', 2), ('밀집', 3), ('케이블', 1), ('전선', 3), ('동선', 1), ('소송요건', 3), ('산회', 1), ('선포', 2), ('닌자', 1), ('동승', 2), ('매형', 2), ('인계', 3), ('잉여', 3), ('속행', 4), ('연탄', 1), ('중독', 1), ('난', 3), ('방이', 2), ('세방', 1), ('수선', 4), ('건축상', 1), ('소생', 1), ('유목', 4), ('다과', 2), ('강박', 5), ('요법', 1), ('지물포', 2), ('지물', 1), ('상계로', 1), ('대등', 3), ('수효', 2), ('불교', 6), ('조계종', 2), ('존립', 2), ('위태', 1), ('울', 2), ('분란', 1), ('구애', 2), ('증뢰죄', 1), ('보안처분', 2), ('보호관찰', 1), ('불소', 2), ('실존', 1), ('이력', 1), ('취직', 1), ('서약', 1), ('근로계약서', 1), ('사문서위조죄', 1), ('매상', 4), ('영속', 1), ('소송도', 1), ('전복', 2), ('토', 9), ('협력', 9), ('기혼', 1), ('망후', 1), ('직계', 5), ('존비', 2), ('시전', 1), ('재혼', 1), ('나름', 4), ('독주', 1), ('악단', 1), ('세목', 1), ('정전', 4), ('법보', 2), ('성취', 1), ('추계', 52), ('정사유', 2), ('무효표', 1), ('기표', 2), ('원고기', 1), ('득표수', 2), ('생모', 6), ('출생', 3), ('혼인빙자간음죄', 2), ('친권', 2), ('국적', 3), ('국적법', 1), ('이장', 3), ('블록', 3), ('목재', 3), ('적재', 3), ('공한지', 13), ('장용', 5), ('기분', 1), ('집밖', 1), ('길가', 1), ('공과', 2), ('문의', 3), ('사권', 4), ('포락지', 1), ('살', 4), ('나라', 4), ('곳이므', 1), ('고압', 3), ('경제기획원', 2), ('외자', 1), ('배전', 1), ('욕망', 1), ('무형', 5), ('싯가', 1), ('변론조서', 3), ('집배', 1), ('책문권', 1), ('추완항소', 1), ('기지', 2), ('안치', 1), ('자손', 3), ('종손', 6), ('광부', 10), ('농촌', 7), ('일용', 5), ('사위판결', 3), ('수산청', 1), ('설계도', 3), ('자재', 9), ('차월', 1), ('열차', 9), ('유리', 4), ('창문', 1), ('운송업', 5), ('후일', 3), ('평수', 5), ('설령', 5), ('친가', 1), ('적하', 1), ('혼자', 3), ('제호', 3), ('숸리관계', 1), ('태만', 10), ('부정선거', 1), ('예비', 6), ('음모', 4), ('미수범', 1), ('관할권', 2), ('불부', 1), ('철', 2), ('일기장', 2), ('기장', 6), ('사이다', 1), ('하라', 5), ('외로', 1), ('폭우', 3), ('배수', 3), ('부로크', 1), ('공동체', 2), ('향제', 1), ('거행', 1), ('운송주선업', 1), ('응용', 2), ('정일', 2), ('조수', 2), ('협조', 3), ('것으리므', 1), ('참칭상속인', 1), ('청구대', 1), ('삼지', 4), ('대법관', 2), ('증권사', 2), ('부장', 4), ('불합', 1), ('아내', 3), ('고철', 2), ('보정', 29), ('허세', 17), ('밀수', 3), ('점유보조자', 2), ('귀국', 7), ('징발', 7), ('석명권', 5), ('조상', 1), ('교통신호', 1), ('액면', 2), ('녹각', 2), ('륙탕', 1), ('대보', 2), ('탕', 2), ('용탕', 1), ('자양', 1), ('지금껏', 1), ('액체', 1), ('정제', 1), ('기와', 1), ('중임', 1), ('수위', 7), ('빈도', 2), ('홍수', 2), ('자연현상', 2), ('대세', 2), ('대략', 1), ('항소취하서', 1), ('일제시대', 1), ('안마', 3), ('침술', 6), ('구술', 6), ('취체', 3), ('침', 3), ('구사', 2), ('자술', 2), ('전문증거', 1), ('비실', 1), ('농수산부', 2), ('질주', 1), ('옷', 1), ('차체', 2), ('도색', 1), ('페인트', 1), ('이점', 2), ('계엄', 2), ('저항권', 1), ('자판', 5), ('자매', 1), ('생질', 2), ('이질', 3), ('혈족', 3), ('존석', 1), ('형제자매', 1), ('이종사촌', 1), ('모계', 1), ('현물', 2), ('현격', 1), ('조의', 1), ('대피', 3), ('교차', 1), ('문란', 2), ('부재자', 5), ('실종선고', 7), ('구두', 4), ('파면', 37), ('개체', 1), ('계고처분', 11), ('농지개량', 5), ('여로', 1), ('갑종', 2), ('릴레이', 1), ('환형', 1), ('형량', 1), ('의장권', 1), ('뇌', 2), ('혈전', 1), ('언어장애', 1), ('유동', 2), ('재중', 2), ('가요', 1), ('물음', 1), ('법대', 2), ('국방부', 1), ('고차', 2), ('섭외', 1), ('일련', 7), ('상관관계', 1), ('승복', 4), ('피복', 4), ('직물', 2), ('가공업', 6), ('스카치', 2), ('제자리', 2), ('칭', 1), ('문제점', 1), ('파생', 1), ('형성권', 1), ('개월전', 1), ('급료', 2), ('후견인', 6), ('후견', 3), ('갑자기', 3), ('횡', 3), ('제동', 1), ('교행', 1), ('횡단하', 2), ('가등기담보', 1), ('전자제품', 3), ('변명', 5), ('인감도장', 3), ('염화', 1), ('카리', 1), ('혈액', 1), ('간호원', 2), ('사케', 2), ('심장마비', 1), ('위약', 1), ('당선인', 2), ('선원', 7), ('소년법', 1), ('소년범', 1), ('가보', 1), ('사방', 2), ('일보', 2), ('살상', 1), ('머리', 1), ('각목', 2), ('허리', 1), ('경골', 1), ('단축', 1), ('기민성', 1), ('생전', 1), ('서울대학교', 1), ('재학', 2), ('중등', 2), ('실과', 1), ('정직', 3), ('원활', 1), ('임명', 3), ('비위', 21), ('쟁송절차', 1), ('비행', 3), ('숙박업', 2), ('혼숙', 1), ('중구청', 4), ('그르쳐', 1), ('다방', 11), ('묘', 3), ('망부석', 4), ('홀로', 2), ('거함', 1), ('고무', 3), ('수표로', 2), ('안심', 1), ('응락', 1), ('조선총독부', 1), ('일본정부', 1), ('한국인', 3), ('재발', 2), ('년월', 2), ('무기징역', 3), ('사칭', 4), ('반원', 4), ('차단', 3), ('감금', 8), ('갖은', 1), ('고문', 3), ('결원', 1), ('자만', 1), ('모래', 4), ('제방', 7), ('이격', 1), ('더미', 1), ('붕괴', 3), ('서리', 2), ('몽리', 2), ('방조제', 1), ('배수갑문', 1), ('갑문', 2), ('허위공문서작성죄', 5), ('비닐', 2), ('때밀이', 1), ('수건', 1), ('이태리타올', 1), ('여행자', 1), ('전래', 1), ('보석', 3), ('당좌예금', 2), ('적국', 4), ('제보', 5), ('은밀', 3), ('도서', 1), ('탐지', 11), ('신도', 1), ('명과', 2), ('교직', 2), ('예수교', 3), ('장로회', 3), ('노회', 2), ('이론', 2), ('도로점용', 2), ('부부싸움', 1), ('모욕', 3), ('언사', 3), ('구함', 4), ('가정불화', 2), ('혼신', 1), ('별거', 2), ('채종', 1), ('두유', 1), ('혼합', 4), ('속칭', 2), ('튀김', 1), ('성분', 7), ('피살', 2), ('버려진', 1), ('영아', 1), ('입양', 1), ('모자', 1), ('부하', 6), ('가혹', 2), ('멋대로', 1), ('익액', 1), ('원목', 3), ('보관료', 1), ('부패', 2), ('종로', 2), ('조사사', 2), ('갑남', 1), ('송인수', 1), ('고등법원', 4), ('성장', 1), ('상복', 1), ('년도', 10), ('능직', 1), ('모멸', 1), ('경멸', 2), ('교사범', 2), ('재범', 26), ('보호감호', 9), ('결합체', 1), ('통솔', 1), ('행정구역', 1), ('수탁', 2), ('육교', 2), ('높이', 1), ('라며', 1), ('호등', 1), ('종헌', 1), ('종정', 1), ('모', 4), ('딸', 3), ('순서', 1), ('파기자판', 2), ('기함', 3), ('출연재산', 3), ('재산세', 18), ('납기', 8), ('부산', 7), ('관세청', 4), ('납무', 1), ('최후', 1), ('부산시', 3), ('직부', 1), ('도해', 1), ('소한', 2), ('커텐', 1), ('요금', 8), ('미소', 1), ('퇴폐', 1), ('이용사', 1), ('폐쇄', 1), ('멱살', 3), ('잡고', 3), ('실랑이', 1), ('싸움', 3), ('오히려', 6), ('폭행죄', 1), ('동대문시장', 1), ('디', 1), ('조적', 1), ('점차', 1), ('위장', 8), ('갱내', 3), ('광산', 4), ('갱외', 3), ('실액', 14), ('반포', 4), ('종속', 1), ('보조참가', 1), ('권리능력', 1), ('인낙조서', 2), ('분만', 2), ('소액사건심판법', 3), ('자부', 9), ('숙박', 3), ('투숙', 1), ('명부', 6), ('분해', 2), ('한약재', 1), ('첩약', 1), ('지은', 1), ('찰리', 1), ('간인', 3), ('상해죄', 7), ('잔대', 3), ('이종', 1), ('분량', 1), ('중량', 2), ('원화', 1), ('공통', 9), ('탄환', 1), ('죄등', 1), ('덕대', 1), ('전복사고', 1), ('전기공', 6), ('신규성', 9), ('기술사', 7), ('목적범', 3), ('학문', 5), ('대학생', 1), ('공산주의', 3), ('서적', 4), ('사변', 2), ('연습', 1), ('리가', 1), ('직무유기죄', 11), ('퇴행', 1), ('일면', 1), ('경향', 2), ('예시', 2), ('살인미수죄', 1), ('다', 8), ('호명', 1), ('제척사유', 1), ('합별', 1), ('대도', 3), ('시내', 5), ('소실', 2), ('환시', 1), ('토목', 1), ('무용', 2), ('심신', 5), ('치료감호', 3), ('주법', 1), ('영', 3), ('배입', 1), ('탄하', 1), ('탄광', 2), ('대물변제', 5), ('백지', 3), ('객차', 1), ('승강', 1), ('추락', 2), ('여객운송', 1), ('종업', 1), ('사옥', 2), ('체면', 1), ('위신', 2), ('사면', 7), ('충보', 1), ('무성', 5), ('육체', 3), ('행정벌', 1), ('성함', 3), ('반국가단체', 25), ('면접', 2), ('형제', 1), ('출판사', 1), ('대체집행', 3), ('금회', 1), ('회답', 3), ('민원사무', 3), ('회신', 3), ('대학입학', 1), ('요강', 1), ('학력고사', 1), ('정처', 7), ('계주', 12), ('인명', 5), ('인영', 4), ('화재', 6), ('판촉', 1), ('연구시설', 1), ('권위', 1), ('감정인', 4), ('전문성', 2), ('신체감정', 1), ('밀리', 2), ('고지역', 1), ('이변', 1), ('개지', 1), ('일정시대', 1), ('자격시험', 2), ('조선', 4), ('호국', 1), ('재무관', 1), ('세입', 1), ('관인', 2), ('배한', 8), ('안전지대', 4), ('횡단', 1), ('옆', 1), ('부근', 1), ('진로', 1), ('련', 1), ('수료', 2), ('수임', 2), ('지나', 2), ('조회', 2), ('교섭', 1), ('미성년자보호법', 1), ('송하인', 1), ('지주', 3), ('상시', 1), ('휴양', 1), ('생산품', 1), ('출시', 1), ('하든', 1), ('봉인', 2), ('토목건축', 1), ('립', 5), ('몰이', 1), ('생면부지', 1), ('일등', 1), ('선뜻', 3), ('승락', 8), ('상식', 2), ('동액', 3), ('면치', 2), ('충격', 3), ('움', 2), ('농협', 2), ('토지수용법', 12), ('코', 2), ('파트', 1), ('허물', 3), ('응징', 2), ('영하', 1), ('세분', 1), ('정상기', 2), ('항상', 1), ('운수업자', 1), ('미연방', 1), ('만전', 1), ('군조', 1), ('혁명', 3), ('북괴', 4), ('공산', 2), ('찬양', 6), ('공포', 4), ('본명', 1), ('시인', 5), ('퇴정', 1), ('항소취하', 1), ('일신전속', 1), ('저렴', 1), ('세시', 1), ('농토', 1), ('과표액', 1), ('공공사업', 3), ('어선', 6), ('가감', 1), ('정확도', 1), ('평방미터', 2), ('입부', 2), ('복개', 1), ('품귀', 1), ('유의', 1), ('참칭하거', 1), ('결사', 1), ('아람', 1), ('편철', 2), ('휴지통', 1), ('재물손괴', 1), ('손괴함', 1), ('강도상해', 1), ('죄인', 1), ('실역', 1), ('예비역', 1), ('방위병', 1), ('번', 4), ('습성', 3), ('발현', 3), ('간청', 1), ('의제자백', 6), ('연차', 1), ('퍼센트', 6), ('매년', 6), ('이자제한법', 1), ('이율', 1), ('여백', 1), ('도외', 1), ('선결문제', 1), ('장인', 4), ('유지연', 4), ('결재', 8), ('생각', 9), ('도로운송차량법', 1), ('폐차', 1), ('부속품', 1), ('용구', 2), ('채석장', 1), ('돌', 1), ('상차', 1), ('유의사항', 1), ('들러리', 2), ('타진', 1), ('절충', 1), ('예비고사', 2), ('합격자', 3), ('전라남도', 1), ('전라북도', 1), ('학칙', 1), ('한선', 2), ('증거신청', 2), ('불기소', 1), ('창조', 1), ('부차', 1), ('신안', 2), ('과연', 1), ('합사', 1), ('동력자원부', 2), ('탐광', 2), ('미비', 6), ('불가능', 1), ('레이', 1), ('안개', 1), ('청취', 1), ('수협', 1), ('양호', 1), ('고법인', 9), ('부산진', 1), ('전라북도지사', 3), ('인천', 2), ('전시장', 2), ('대전', 3), ('공업단지', 3), ('충남도지사', 1), ('기업인', 1), ('엑스선', 1), ('관업', 1), ('무정', 1), ('구서', 2), ('지남', 1), ('원호', 2), ('무과', 2), ('원호처', 1), ('묵리', 1), ('상통', 1), ('추측', 1), ('고발장', 1), ('때란', 2), ('히로뽕', 4), ('향정신성의약품', 3), ('파계', 1), ('계금', 6), ('계불', 4), ('요청서', 2), ('출입구', 3), ('하단', 1), ('도괴', 4), ('발문', 1), ('포상', 1), ('감봉', 2), ('자드', 1), ('연수', 1), ('은혜', 1), ('한전', 1), ('전류', 1), ('개폐기', 1), ('컵', 1), ('접시', 1), ('밥그릇', 1), ('수저', 1), ('오크', 1), ('젓가락', 1), ('취사', 2), ('레인', 1), ('오븐', 1), ('부엌', 1), ('싱크', 1), ('이종상', 1), ('김포', 1), ('중세', 1), ('영등포구', 1), ('소용', 2), ('책정', 3), ('아피', 1), ('성상', 1), ('면사무소', 4), ('관내', 4), ('경찰서', 4), ('반분', 1), ('채산', 1), ('재산관리인', 1), ('국민학교', 4), ('교육구', 1), ('결석', 1), ('전문학교', 1), ('유급', 1), ('재수', 1), ('제적', 1), ('퇴학', 1), ('상급', 3), ('졸업생', 1), ('양소', 1), ('각처', 2), ('성숙', 1), ('제도로', 1), ('주전자', 4), ('커피폿트', 3), ('용해', 1), ('바스', 1), ('켓트', 1), ('폰', 1), ('게기', 1), ('걸름통', 2), ('행정대집행법', 4), ('도법', 1), ('해함', 3), ('섭취', 2), ('음식물', 2), ('콩', 2), ('분쇄기', 2), ('빻아', 3), ('가사', 2), ('외포케', 1), ('행정관청', 4), ('시킴', 2), ('역할', 2), ('수회', 1), ('경성제국대', 1), ('학', 1), ('금불', 1), ('불충분', 2), ('승락하', 1), ('운전사', 6), ('물상보증', 4), ('가동', 2), ('친족', 1), ('상속법', 2), ('형체', 1), ('전주시', 1), ('말경', 1), ('명치', 3), ('전기통신법', 2), ('소환장', 3), ('건소', 1), ('기전', 1), ('광장시장', 1), ('장지', 1), ('얼굴', 2), ('중순', 3), ('예비군', 2), ('대대장', 2), ('가결', 1), ('탈누', 2), ('짐', 1), ('분소', 1), ('별명', 1), ('분위기', 2), ('원점', 1), ('독창', 3), ('걸물', 1), ('금강석', 1), ('시료', 1), ('소방', 4), ('강남', 1), ('실용', 5), ('영토', 2), ('잡부', 1), ('종말', 1), ('환경청', 1), ('방류', 1), ('밀수품', 1), ('백합', 1), ('군용', 2), ('지로', 4), ('농경', 1), ('시흥군', 1), ('동면', 1), ('구로동', 1), ('식도', 1), ('복부', 1), ('사망케', 1), ('패혈증', 2), ('출혈', 8), ('감염', 1), ('금융업', 4), ('백지어음', 1), ('원판', 1), ('세운', 1), ('건평', 1), ('평의', 2), ('철근콘크리트', 2), ('평', 9), ('굴착', 2), ('하벽', 1), ('반품', 1), ('뺨', 3), ('어깨', 1), ('세멘트', 4), ('뇌손상', 1), ('좌상', 2), ('치사', 2), ('결과적가중범', 1), ('직속', 1), ('난사', 1), ('상자', 6), ('사고력', 1), ('대응조치', 2), ('인치', 2), ('편지', 1), ('마루', 2), ('발동', 3), ('탈의', 6), ('병법', 1), ('적요', 1), ('오', 2), ('반한', 2), ('초회', 1), ('사퇴', 1), ('원로', 1), ('간과', 3), ('방화', 3), ('커튼', 1), ('수락', 1), ('창사', 1), ('특별상', 1), ('평상시', 1), ('되풀이', 2), ('장마철', 1), ('소통시', 1), ('볼때', 3), ('지형', 1), ('초목', 1), ('생무', 1), ('유속', 1), ('고항', 2), ('검수', 2), ('상례', 1), ('교포', 1), ('본적', 1), ('경북', 1), ('청도군', 1), ('생계', 2), ('호동', 1), ('농산물', 1), ('동방운수', 1), ('수출입은행', 1), ('차관', 2), ('식생활', 1), ('생활용품', 1), ('남해', 1), ('호안', 3), ('해면', 1), ('부피', 1), ('검정', 1), ('계량기', 1), ('계량', 2), ('립법', 1), ('생육', 1), ('임목', 2), ('벌채', 5), ('산악', 2), ('강정', 1), ('동점', 1), ('재산관리', 2), ('민주주의', 1), ('광주', 2), ('지청', 1), ('홍삼', 1), ('일념', 1), ('정구', 1), ('산동', 2), ('식물', 3), ('굴', 1), ('바지락', 1), ('부찰', 1), ('공문', 1), ('데리', 1), ('가재', 2), ('도구', 2), ('집도', 2), ('과부', 1), ('식', 1), ('언행', 1), ('계원', 2), ('자전차', 2), ('타고', 1), ('순간', 2), ('핸들', 1), ('반미', 2), ('독재', 1), ('주창', 1), ('살포', 1), ('정교', 5), ('갈취', 1), ('매음', 1), ('선고형', 1), ('변호사법위반죄', 1), ('초어', 1), ('타가', 1), ('종산', 1), ('관려', 1), ('논점', 1), ('변호사시험', 1), ('행정명령', 4), ('분매', 1), ('행정관', 1), ('증회', 1), ('검방', 3), ('쇠칼', 4), ('적발', 3), ('교도관', 2), ('위협', 5), ('탈주', 1), ('구치소', 2), ('보안과장', 1), ('과중', 2), ('경남', 1), ('진영', 1), ('지법', 1), ('마산', 1), ('미싯', 1), ('소매업자', 1), ('가옥', 8), ('다른사람', 1), ('보강', 1), ('고치', 1), ('청산도', 1), ('람사', 1), ('구장', 3), ('염제', 1), ('용수권', 3), ('해발', 1), ('생해', 1), ('경룍된', 1), ('이류', 1), ('연변', 2), ('닝', 1), ('런닝샤쓰', 1), ('고급', 3), ('영문', 1), ('국문', 1), ('난방', 2), ('배관', 1), ('윈고', 1), ('성사', 1), ('재고', 3), ('계장', 2), ('아들', 3), ('방위', 3), ('죄명', 2), ('미숫가루', 1), ('경내', 2), ('난입', 1), ('소매치기', 6), ('시도', 2), ('추격', 2), ('최', 1), ('개전', 2), ('작량감경', 3), ('잠재', 1), ('이중매매', 1), ('저당물', 1), ('기계공', 5), ('노임', 3), ('감실', 1), ('면책약관', 2), ('정미소', 4), ('살림집', 1), ('이의쟁송', 1), ('넘겨주기', 1), ('편물', 2), ('전집', 1), ('부록', 2), ('일제', 1), ('바늘', 1), ('공기조절', 1), ('건조장', 1), ('제습기', 1), ('도박죄', 3), ('도덕법칙', 1), ('화투', 3), ('근소', 1), ('소송계속', 2), ('미도', 1), ('숨기', 2), ('작위범', 1), ('신상', 2), ('대답', 4), ('정신과', 1), ('지능', 2), ('목적의식', 2), ('좌안', 1), ('냉동', 1), ('기능사', 1), ('고합', 1), ('우안', 2), ('귀하', 1), ('개포', 1), ('사구간', 1), ('상기', 1), ('과시', 1), ('통용', 3), ('발효', 1), ('주안', 2), ('유권해석', 2), ('유인물', 2), ('초심', 1), ('이천이', 1), ('이천', 2), ('서해안', 1), ('조업', 1), ('중공', 2), ('어로', 1), ('이용대', 1), ('가인', 1), ('수형', 2), ('결심', 2), ('몸조심', 1), ('악수', 1), ('거구', 1), ('빰', 1), ('치아', 1), ('탈구', 1), ('교감', 3), ('대결', 2), ('송구', 1), ('재법', 1), ('익월', 2), ('뿐더러', 2), ('착력', 1), ('까스류', 2), ('내용물', 1), ('천적', 1), ('풀이', 6), ('날짜', 3), ('전진', 1), ('식구', 1), ('운수업', 2), ('삼륜차', 1), ('덤프트럭', 2), ('자갈', 1), ('기도', 1), ('감저', 1), ('출항', 2), ('기내', 1), ('복합', 1), ('위기', 1), ('땅콩', 2), ('식료품', 1), ('등록증', 9), ('강남구', 1), ('교육청', 1), ('교양', 1), ('대회', 1), ('독서', 1), ('인증서', 1), ('실증', 1), ('일인', 1), ('대대', 1), ('난동', 2), ('법회', 1), ('장교', 1), ('응찰', 1), ('방위세', 10), ('대우', 2), ('마지막', 4), ('전과자', 1), ('범임', 1), ('강간미수죄', 3), ('여관', 14), ('친고죄', 1), ('순희', 1), ('공도', 1), ('한나', 1), ('간접점유', 1), ('가건물', 1), ('유익비', 1), ('자연법칙', 1), ('구유', 1), ('후속', 1), ('무슨', 2), ('분간', 1), ('일부인', 2), ('금일', 2), ('수일', 2), ('정통', 3), ('송부함', 1), ('교육감', 2), ('길이', 2), ('도산', 1), ('렀', 1), ('자중', 2), ('배합사료', 1), ('닭', 3), ('단백질', 2), ('칼슘', 2), ('비타민', 2), ('변질', 2), ('급식', 2), ('발병', 1), ('뇨산침착증', 1), ('아예', 1), ('신뢰이익', 1), ('견금', 1), ('발기인', 1), ('불입', 4), ('파출소', 2), ('당번', 1), ('판돈', 2), ('말썽', 1), ('순경', 2), ('양정', 3), ('기안', 3), ('흉내내', 1), ('구성요건해당성', 1), ('해위', 1), ('시적', 3), ('농성', 2), ('개표', 2), ('기름', 5), ('식용유', 2), ('금괴', 3), ('떄문', 1), ('바면', 1), ('구해', 4), ('군중', 1), ('외치', 1), ('다중이', 1), ('손괴행위', 1), ('포고령', 2), ('소요죄', 1), ('식육', 6), ('식당', 9), ('그동안', 1), ('잠입', 6), ('지방채', 1), ('무거워', 1), ('그르친', 1), ('능', 2), ('친생자', 7), ('하루', 2), ('일과', 1), ('육백', 1), ('친', 1), ('안주', 1), ('괴뢰', 2), ('원전', 2), ('나리', 1), ('맛', 2), ('암시', 2), ('과자', 1), ('고무장갑', 1), ('장내', 2), ('진달', 1), ('승', 1), ('인권', 1), ('개요', 1), ('모함', 1), ('띠', 2), ('용수', 2), ('허기', 1), ('우수', 1), ('민세', 5), ('칭하', 1), ('국유화', 1), ('공결', 1), ('정신질환', 1), ('호인', 4), ('양쪽', 1), ('개호', 2), ('거듭', 1), ('상청', 1), ('구등', 2), ('불행', 1), ('외박', 1), ('가출', 1), ('파경', 1), ('상목', 1), ('제화', 1), ('경제정책', 1), ('연유', 2), ('지사', 3), ('교도', 2), ('검방검신', 1), ('척주', 1), ('계호', 1), ('검신', 1), ('회계사', 2), ('균', 1), ('한진', 1), ('착공', 2), ('답', 2), ('주거지역', 2), ('밭', 2), ('공금', 1), ('기득권', 1), ('읍', 2), ('동장', 1), ('캠페인', 2), ('시비', 2), ('부군', 1), ('표창장', 1), ('석고', 1), ('화차', 1), ('보위', 1), ('금표', 1), ('장식', 2), ('중점', 1), ('몇몇', 1), ('작품', 1), ('훈련', 3), ('독신', 1), ('숙식', 1), ('특급', 1), ('승자', 1), ('종착역', 1), ('소형', 1), ('녹취', 1), ('유형문화재', 2), ('해저', 1), ('백자', 1), ('사학', 1), ('재원', 1), ('융자', 2), ('수뢰', 3), ('어머니', 1), ('용돈', 1), ('밀고', 1), ('박료', 1), ('목장', 1), ('농장', 1), ('값', 1), ('비행장', 1), ('소문', 1), ('취산하', 1), ('준법률행위', 1), ('가정부', 1), ('감축된', 1), ('고수', 1), ('수습', 1), ('개비', 1), ('도비', 1), ('자지', 2), ('감사원', 1), ('크기', 2), ('세제', 2), ('명단', 3), ('유지관리', 2), ('불당', 1), ('개축', 3), ('고후', 1), ('징벌', 3), ('의안', 1), ('퇴장', 1), ('과반', 1), ('좌측', 3), ('시계', 3), ('연후', 1), ('마주', 1), ('불시', 1), ('소지품', 1), ('군사우편', 2), ('관전', 1), ('주연', 1), ('품위', 8), ('고찰', 3), ('물가', 1), ('생활환경', 1), ('환율', 1), ('교육제도', 1), ('자녀교육', 1), ('가구', 1), ('부임', 1), ('행전', 1), ('관측', 1), ('해운항만청', 1), ('완화', 1), ('숙소', 1), ('초보', 1), ('미추', 1), ('장통', 1), ('융', 2), ('적금', 2), ('소행', 2), ('꾀', 1), ('경해', 2), ('졸라', 1), ('제약회사', 2), ('아편', 1), ('재상', 1), ('산속', 1), ('귀착', 1), ('간척지', 1), ('계제', 1), ('립하', 1), ('과전', 1), ('고기', 4), ('상공부', 1), ('우지', 1), ('본관', 1), ('주로', 2), ('공중위생', 1), ('철골', 1), ('경상', 1), ('구치', 1), ('출정', 3), ('외인', 7), ('구시', 1), ('일도', 1), ('진척', 1), ('친후', 1), ('정등', 1), ('산림청장', 3), ('산림령', 1), ('사법인', 1), ('확증', 1), ('목격', 3), ('스', 1), ('레트', 1), ('술집', 2), ('원서', 2), ('표면', 1), ('기독교', 1), ('성결교회', 1), ('체내', 1), ('시초', 2), ('직할시', 1), ('선배', 1), ('군부', 1), ('감수', 2), ('남방', 1), ('소대장', 3), ('하사실', 1), ('전투', 1), ('대원', 4), ('월북', 1), ('사살', 2), ('범법', 1), ('월북임', 1), ('기출', 1), ('무죄판결', 1), ('보안', 3), ('치안본부', 3), ('승려', 1), ('전투경찰대', 2), ('대공분실', 1), ('위문', 1), ('마당', 1), ('약국', 2), ('사취', 1), ('실행착수', 1), ('격차', 1), ('포리프', 1), ('피렌', 1), ('포의', 1), ('섬유', 1), ('대접', 1), ('니들펀칭', 1), ('펀칭공', 1), ('교호', 1), ('천공', 1), ('펀칭공내', 1), ('합성수지', 2), ('용액', 2), ('용접', 1), ('접착', 1), ('직포', 1), ('탄성', 1), ('구력', 1), ('성도', 1), ('선심', 1), ('설처', 1), ('적자', 2), ('향수', 2), ('손비', 2), ('세약', 2), ('실사', 3), ('피자', 2), ('당구', 1), ('재일', 1), ('경비원', 3), ('격일', 1), ('무수', 1), ('실소', 1), ('출고', 1), ('술김', 2), ('양형', 2), ('최고법원', 1), ('이자지', 1), ('교지', 3), ('친생', 2), ('혈액형', 1), ('차손액', 1), ('담배', 1), ('가족부', 1), ('클럽', 2), ('동결', 1), ('환조', 1), ('가불', 1), ('바닥면적', 1), ('벽돌', 1), ('삼면', 1), ('네', 1), ('귀퉁이', 1), ('철주', 1), ('박아', 1), ('철조망', 1), ('실주소', 1), ('회송', 1), ('낳을', 1), ('농사', 1), ('병용', 1), ('동향', 1), ('사구역', 1), ('공동관리', 1), ('자칭', 1), ('묵살', 2), ('번영', 2), ('좌', 4), ('승락했다', 1), ('장기형', 1), ('축하', 1), ('동구', 1), ('초량동', 1), ('옥', 1), ('호미', 1), ('음행', 1), ('매달', 1), ('안면', 2), ('경련', 1), ('뇌수술', 2), ('부전', 1), ('마비', 1), ('특이', 1), ('혈관', 1), ('뇌혈관', 1), ('뇌간', 1), ('약혼', 1), ('간병', 1), ('주정', 1), ('시부', 1), ('냉대', 1), ('강제추행', 1), ('프로판가스', 1), ('제조품', 1), ('소등', 1), ('다량', 1), ('작전', 3), ('경화', 2), ('카제인', 2), ('세번', 2), ('용달', 1), ('시중', 1), ('대목', 1), ('토론', 2), ('미군', 1), ('철수', 1), ('철재', 2), ('형사법', 1), ('연소', 1), ('유권대리', 2), ('주요사실', 1), ('탄화수소', 1), ('혼합물', 1), ('푸렌', 1), ('증류', 3), ('공정은', 1), ('추출', 1), ('차이점', 2), ('스트리핑탑', 1), ('탑', 1), ('더우기', 1), ('업계', 1), ('눈', 2), ('눈물', 2), ('비누', 1), ('허권', 1), ('농작물', 1), ('태업', 1), ('락', 1), ('이석', 1), ('후문', 1), ('철책', 1), ('승락없는', 1), ('교도소', 2), ('향응', 2), ('양파', 6), ('씨앗', 14), ('부추', 5), ('윤리', 1), ('상치', 1), ('잔디', 2), ('과실범', 2), ('기재부', 2), ('비품', 2), ('극장', 3), ('공연장', 1), ('인물', 4), ('횡단보도', 1), ('출전', 1), ('자등', 4), ('친구', 2), ('지하철공사', 2), ('택', 3), ('술자리', 1), ('검사조서', 2), ('초안', 1), ('복명', 1), ('악성', 1), ('남선', 1), ('불온서적', 1), ('대마', 3), ('장사', 1), ('인생', 1), ('망치', 1), ('중지미수', 1), ('게', 1), ('발상', 1), ('발표', 1), ('공상', 1), ('고종', 4), ('창녕', 1), ('성씨', 1), ('시호', 1), ('혼용', 1), ('그날', 3), ('사자', 2), ('선결', 3), ('디스크', 3), ('악곡', 1), ('수음', 1), ('감지', 3), ('광원', 2), ('반사', 1), ('비임', 2), ('포착', 2), ('엠', 1), ('에이', 1), ('펄스', 1), ('픽엎암', 1), ('엎', 1), ('다운', 1), ('포타딘', 1), ('창장', 1), ('쟁', 1), ('송대', 1), ('외자도입법', 1), ('외환', 2), ('훈시', 1), ('청년', 1), ('구락부', 3), ('빈', 1), ('스텐강판', 1), ('려고', 1), ('꾸지람', 1), ('폐품', 1), ('깊이', 1), ('손수', 1), ('생선', 1), ('야채', 1), ('식품점', 1), ('존경', 1), ('사회인', 1), ('단호', 1), ('격려', 1), ('바람', 2), ('팔', 1), ('운정', 1), ('반대쪽', 1), ('결합상표', 1), ('지리', 1), ('야구', 1), ('현대', 2), ('영어사', 1), ('영어', 1), ('남짓', 2), ('몇', 1), ('대중매체', 1), ('채취케', 1), ('댁', 1), ('대구', 1), ('노폭', 2), ('골목', 2), ('권리금', 2), ('연탄가스', 1), ('문틈', 1), ('료해', 1), ('비골', 3), ('비부', 1), ('종창', 1), ('합의금', 2), ('몇개', 1), ('월전', 1), ('장일', 1), ('잠', 3), ('신세계', 3), ('엘레', 3), ('강스', 3), ('내포', 1), ('조어', 2), ('강조', 1), ('그릇', 1), ('여동생', 1), ('처남', 4), ('대문', 1), ('안방', 1), ('침임', 1), ('동리', 1), ('고모', 3), ('기항지', 1), ('하선', 1), ('상륙', 1), ('귀선', 2), ('신병', 2), ('공관', 1), ('승선', 1), ('이선', 2), ('밀항', 1), ('여러가지', 1), ('가늠', 1), ('편법', 1), ('분토', 1), ('승급', 7), ('배율', 5), ('사정판결', 1), ('사무장', 2), ('개월후', 1), ('출결', 1), ('취했더', 1), ('빙기', 1), ('잠적', 2), ('행적', 1), ('일차', 1), ('일행', 1), ('물매', 1), ('입대', 2), ('놀이', 1), ('반말', 1), ('격분', 2), ('옥신각신', 1), ('이르렀', 1), ('후회', 1), ('측량', 5), ('취배', 1), ('환액', 1), ('알파벳', 1), ('역립', 1), ('관개용수', 1), ('필름', 1), ('가림', 2), ('바잎', 1), ('방울', 2), ('외견상', 1), ('준지', 1), ('어비스', 1), ('비합리적', 1), ('록', 1), ('기반', 2), ('소방본부', 1), ('감찰', 1), ('주임', 1), ('소방관', 1), ('의적', 1), ('구멍', 1), ('개조', 2), ('숫자', 1), ('남산', 2), ('험담', 1), ('경보', 1), ('스위치', 1), ('봉하', 1), ('객', 2), ('간수', 1), ('예기', 3), ('강타', 1), ('장갑', 1), ('차내', 1), ('수류탄', 1), ('순번', 1), ('중간계', 2), ('멀리', 1), ('농약', 2), ('추정량', 1), ('병마', 1), ('씨', 1), ('수석', 1), ('싯', 1), ('외제', 2), ('발각', 3), ('로라', 2), ('장시', 1), ('화제', 1), ('삼자', 1), ('굴뚝', 1), ('기절', 1), ('우울', 1), ('인격장애', 1), ('회집', 1), ('교련', 1), ('초병', 2), ('수하', 1), ('진지', 1), ('소총', 1), ('좌석', 1), ('안전벨트', 3), ('일원', 1), ('소론', 1), ('강선', 1), ('명정', 1), ('권형', 5), ('횡단중', 1), ('루하', 1), ('실태', 2), ('목조', 1), ('지금', 2), ('계승', 1), ('거', 1), ('미상', 1), ('앞차', 2), ('급제', 1), ('일어나고', 1), ('이틀', 1), ('도용', 1), ('지표', 1), ('하부', 1), ('조력', 1), ('식사', 2), ('용변', 1), ('성인', 1), ('친족회', 2), ('불참', 2), ('금업', 1), ('업황', 2), ('재산형', 1), ('위벽', 1), ('의의', 2), ('무고', 2), ('고소장', 2), ('일직', 1), ('돼지고기', 1), ('발설', 1), ('화란', 1), ('전해질', 1), ('노동청', 1), ('접대', 2), ('보디', 1), ('린스', 1), ('주성분', 1), ('꽃가루', 2), ('피부', 1), ('영양소', 1), ('노화', 1), ('환매권', 4), ('박경자', 1), ('누군가', 1), ('난외', 1), ('가필', 1), ('볼기', 1), ('이월', 1), ('공중변소', 1), ('사발', 1), ('주청', 1), ('안양시', 1), ('변소', 1), ('내적인', 1), ('미화', 1), ('추월', 2), ('동태', 1), ('리라', 1), ('십자', 1), ('검문', 1), ('장애자', 1), ('위산', 1), ('지하실', 5), ('구류', 1), ('사방지', 1), ('독일', 1), ('보일러', 1), ('드라이', 1), ('룸', 1), ('사우나', 3), ('휴식', 6), ('겸용', 1), ('항도', 1), ('조부', 1), ('앞뒤', 1), ('납득', 3), ('검찰조사', 1), ('유도', 1), ('술값', 1), ('강서', 2), ('중학교', 2), ('육성', 2), ('연직', 1), ('잡', 2), ('누나', 2), ('광물유', 1), ('함침', 1), ('모포', 1), ('공보', 1), ('구성은', 1), ('선단', 1), ('냉기', 1), ('순환', 1), ('팬', 1), ('계통', 2), ('아라비아', 1), ('수자', 1), ('농후', 1), ('속계', 1), ('공휴일', 1), ('퇴근', 1), ('과속', 2), ('청도시', 1), ('훼손행위', 1), ('영등포', 1), ('적립금', 1), ('적립', 1), ('감가상각', 1), ('행패', 1), ('양담배', 2), ('동시범', 2), ('가세', 1), ('부축', 1), ('조명', 3), ('형광등', 2), ('가설', 1), ('문중', 2), ('행열', 1), ('운동화', 1), ('포켓', 1), ('무늬', 3), ('그레이', 1), ('하운드', 1), ('캉가루', 1), ('금속', 1), ('부식', 1), ('유독', 1), ('해식', 1), ('조개', 1), ('히드라', 1), ('충', 1), ('번식', 1), ('냉각수', 1), ('피피엠', 1), ('아민', 1), ('생물', 1), ('제철', 1), ('계약보증금', 2), ('근대화', 1), ('도선사', 2), ('유조선', 1), ('도선', 1), ('장애물', 1), ('접촉', 1), ('해난', 2), ('하복', 1), ('쌍꺼풀', 1), ('소속변호사', 1), ('친정', 1), ('돌리지', 1), ('성시기', 1), ('실황조사서', 2), ('개재', 2), ('소리', 1), ('군검찰', 1), ('마이오', 1), ('완급', 1), ('기합', 1), ('매부', 1), ('내연', 3), ('일상', 1), ('필증등', 1), ('해운회사', 1), ('법정과실', 1), ('유대', 1), ('강화', 1), ('어차피', 1), ('바닥', 1), ('낭비', 1), ('무마', 1), ('기지시', 1), ('심경', 1), ('결백', 1), ('검찰청', 1), ('자친', 1), ('무혐의', 1), ('불기소처분', 1), ('일간', 1), ('무단이탈', 1), ('경기도', 1), ('상반기', 1), ('하반기', 1), ('고생', 1), ('방범', 1), ('저녁식사', 1), ('임직', 1), ('무산', 1), ('사리', 2), ('추완신청', 1), ('불성취', 1), ('개피', 3), ('동명이인', 1), ('신서', 2), ('봉함', 1), ('수신인', 1), ('책임능력', 1), ('예심', 1), ('교대', 1), ('다소간', 1), ('건고', 1), ('항구', 1), ('명세', 1), ('역등', 1), ('사금', 1), ('행정심판', 1), ('대제', 1), ('유라', 1), ('애', 2), ('업태', 1), ('변태', 2), ('캬바레', 1), ('카바레', 1), ('기획예산처', 1), ('남양주', 1), ('단종', 1), ('계정은', 1), ('봉급', 1), ('철강', 2), ('코일', 2), ('재압연용', 2), ('탄력', 2), ('주취', 1), ('격발', 1), ('적도', 1), ('도전', 1), ('공자', 3), ('관리소', 1), ('역임', 1), ('소홀', 2), ('신라', 1), ('점촌', 1), ('한남', 1), ('상주', 1), ('슈퍼', 1), ('저혈압', 1), ('심장', 1), ('태아', 1), ('산부인과', 1), ('내과', 1), ('낙태', 1), ('임신부', 1), ('짐작', 1), ('진부', 1), ('쟁송', 3), ('불화', 1), ('자시', 1), ('시내버스', 2), ('삼천포', 1), ('동래세무서', 1), ('환금', 2), ('따름', 1), ('단상', 1), ('이락', 1), ('곡상', 1), ('즉일', 1), ('구관', 1), ('낼', 1), ('몸체', 1), ('덮개', 1), ('재질', 1), ('비료', 2), ('돼지', 2), ('부산물', 1), ('경상북도지사', 1), ('감차', 1), ('치정', 1), ('어금', 1), ('직위', 1), ('부처', 1), ('증축비', 1), ('사업인', 1), ('상피', 2), ('여준', 1), ('남름', 1), ('삼림', 1), ('인자', 1), ('조취', 1), ('불지', 1), ('처림', 1), ('전당포', 2), ('카메라', 1), ('전당', 1), ('터널', 1), ('갱도', 1), ('훈시규정', 1), ('쌍방울', 1), ('여타', 1), ('찾기', 1), ('점검', 1), ('근절', 1), ('양정은', 1), ('수기', 1), ('증료', 1), ('교파', 1), ('웨이터', 1), ('목록', 1), ('묵적', 1), ('공과금', 2), ('세도', 1), ('미숙', 1), ('사출', 1), ('창', 1), ('헬라', 1), ('영문표기', 1), ('가스레인지', 1), ('전자레인지', 2), ('전적', 1), ('종품', 1), ('마음', 1), ('환기', 1), ('신중성', 1), ('분명', 1), ('재축', 3), ('청심', 1), ('월수', 2), ('전출', 1), ('근로시간', 1), ('매일', 1), ('도축장', 1), ('우육', 2), ('도축', 2), ('입실', 1), ('침투', 2), ('상륙함', 1), ('중지범', 1), ('격투', 1), ('출납', 1), ('입출금', 2), ('공고함', 1), ('궈', 1), ('마침', 1), ('예컨데', 1), ('은퇴', 2), ('혼외자', 2), ('유별', 1), ('서울역', 2), ('새마을호', 1), ('승차권', 1), ('발매', 2), ('우열', 1), ('인구', 1), ('과밀', 1), ('행정서사', 1), ('대별', 3), ('편취했다', 1), ('군통', 3), ('입법기관', 1), ('일상생활', 1), ('보병', 1), ('오피', 2), ('내규', 1), ('휴전선', 1), ('적지역', 1), ('초소', 1), ('무등', 1), ('다카', 1), ('유학', 1), ('자연인', 1), ('임부', 1), ('대치', 1), ('적의', 1), ('아군', 1), ('미완성', 1), ('조미', 1), ('총포', 1), ('탄약', 1), ('잠복', 1), ('길', 1), ('상병', 1), ('일일이', 1), ('불가쟁력', 1), ('편람', 1), ('이민', 1), ('주서', 1), ('칸', 1), ('연필', 1), ('과수', 4), ('과수원', 1), ('간행', 1), ('가위', 1), ('공구', 1), ('약품', 1), ('신속성', 1), ('친족법', 1), ('개월내', 1), ('몫', 1), ('연말정산', 2), ('대차대조표', 4), ('경사', 1), ('잡목', 1), ('잡초', 1), ('생장', 1), ('축대', 1), ('그대', 1), ('청계산', 1), ('화체', 2), ('외환은행', 1), ('점원', 1), ('안전교육', 1), ('재수입', 1), ('읍장', 1), ('일간신문', 1), ('픞', 1), ('기후', 1), ('결부', 1), ('극한', 1), ('채납', 1), ('애국지사', 2), ('금법', 1), ('전몰', 3), ('경의', 2), ('군경', 1), ('한일합방', 1), ('독립운동', 1), ('가문', 1), ('종질', 1), ('목욕', 3), ('주방', 1), ('방바닥', 1), ('장편', 1), ('입욕', 1), ('후식', 1), ('탈의실', 1), ('침대', 1), ('특설된', 1), ('실로', 1), ('강도예비죄', 1), ('달라짐', 1), ('치과', 1), ('한의원', 1), ('고사항', 1), ('부조리', 1), ('훈방', 1), ('자사', 1), ('다음해', 1), ('자정', 1), ('폐점', 1), ('빵', 5), ('전세', 1), ('새한미디어', 1), ('통칭', 1), ('새한', 1), ('경마', 1), ('의향', 1)])\n"
          ]
        }
      ],
      "source": [
        "# 각 단어의 사용 빈도수 확인\n",
        "print(tokenizer.word_counts)"
      ]
    },
    {
      "cell_type": "markdown",
      "metadata": {
        "id": "5JCG0xNNDMOn"
      },
      "source": [
        "케라스 토크나이저에서는 숫자를 지정해서 빈도수가 높은 단어를 몇개까지 사용할지를 결정할 수 있습니다.\n",
        "\n",
        "이번 프로젝트에서는 빈도수 상위 1000개의 단어를 사용한다고 토크나이저를 재정의하겠습니다."
      ]
    },
    {
      "cell_type": "code",
      "execution_count": null,
      "metadata": {
        "id": "GPyu_Za9K-Tf"
      },
      "outputs": [],
      "source": [
        "# 상위 1000개 단어만 학습에 사용\n",
        "\n",
        "vocab_size = 1000\n",
        "tokenizer = Tokenizer(num_words = vocab_size)\n",
        "tokenizer.fit_on_texts(data_tokenized)"
      ]
    },
    {
      "cell_type": "code",
      "execution_count": null,
      "metadata": {
        "id": "q71emJitDMOo",
        "outputId": "02e9301a-6698-411e-d97c-7b9b35c8d23d"
      },
      "outputs": [
        {
          "name": "stdout",
          "output_type": "stream",
          "text": [
            "7509\n"
          ]
        }
      ],
      "source": [
        "print(len(tokenizer.word_index))"
      ]
    },
    {
      "cell_type": "markdown",
      "metadata": {
        "id": "Fw1kNjQfDMOo"
      },
      "source": [
        "위에서 사용한 방법과 같이 `print(tokenizer.word_index)`로 정수 인덱스를 확인해보면 똑같이 7509개의 인덱스가 보입니다.\n",
        "\n",
        "실제로 1000개의 단어가 적용되는건 `texts_to_sequences`를 사용할 때 적용됩니다.\n",
        "\n",
        "`print(data_index[0])`의 결과를 보면 정수 인덱스가 1000을 넘지 않습니다."
      ]
    },
    {
      "cell_type": "code",
      "execution_count": null,
      "metadata": {
        "colab": {
          "base_uri": "https://localhost:8080/"
        },
        "id": "czw9Ew_4_369",
        "outputId": "f38a9dc5-5561-44ae-b39b-b2fbfd0795cb"
      },
      "outputs": [
        {
          "name": "stdout",
          "output_type": "stream",
          "text": [
            "[13, 8, 2, 394, 21, 197, 992, 124, 227, 62, 411, 5, 62, 301, 606, 63, 113, 4, 411, 301, 344, 219, 147, 3, 569, 62, 666, 272, 357, 2, 569, 62, 210, 606, 63, 20, 3, 2, 993, 2]\n"
          ]
        }
      ],
      "source": [
        "# 판결요약문 데이터를 인덱스로 변환\n",
        "data_index = tokenizer.texts_to_sequences(data_tokenized)\n",
        "print(data_index[0])"
      ]
    },
    {
      "cell_type": "markdown",
      "metadata": {
        "id": "8PD1ovxDDMOp"
      },
      "source": [
        "---"
      ]
    },
    {
      "cell_type": "markdown",
      "metadata": {
        "id": "1CWHofQ2DMOp"
      },
      "source": [
        "## 4. LSTM으로 판결 요약문 분류하기"
      ]
    },
    {
      "cell_type": "markdown",
      "metadata": {
        "id": "KoqrBHP3DMOq"
      },
      "source": [
        "텍스트 분류를 LSTM을 통해서 수행하겠습니다.\n",
        "\n",
        "먼저 `data_index`의 학습할 데이터를 학습데이터 80%, 테스트데이터 20% 비율로 나눠주겠습니다. 그리고 앞서 설명한바와 같이 각 카테고리의 비율을 유지하기 위하여 `stratify` 에 파라미터에 정답 레이블 데이터를 설정해줍니다."
      ]
    },
    {
      "cell_type": "code",
      "execution_count": null,
      "metadata": {
        "id": "9Xd61kLP9KYV"
      },
      "outputs": [],
      "source": [
        "# LSTM으로 판결요약문 분류하기\n",
        "from tensorflow.keras.datasets import reuters\n",
        "from tensorflow.keras.models import Sequential\n",
        "from tensorflow.keras.layers import Dense, LSTM, Embedding\n",
        "from tensorflow.keras.preprocessing.sequence import pad_sequences\n",
        "from tensorflow.keras.utils import to_categorical\n",
        "from tensorflow.keras.callbacks import EarlyStopping, ModelCheckpoint\n",
        "from tensorflow.keras.models import load_model\n",
        "\n",
        "# class 비율(train:validation)에 유지하기 위해 stratify 옵션을 target으로 지정\n",
        "X_train, X_test, y_train, y_test = train_test_split(data_index, target, test_size=0.2, stratify=target, random_state=100)"
      ]
    },
    {
      "cell_type": "code",
      "execution_count": null,
      "metadata": {
        "id": "6puicC6SDMOq",
        "outputId": "eb564fa8-ddd4-4577-9148-62b11cbb4fcf"
      },
      "outputs": [
        {
          "name": "stdout",
          "output_type": "stream",
          "text": [
            "2403 601\n"
          ]
        }
      ],
      "source": [
        "print(len(X_train), len(X_test))"
      ]
    },
    {
      "cell_type": "markdown",
      "metadata": {
        "id": "p3HkhL8XDMOr"
      },
      "source": [
        "학습할 데이터(판결 요약문)에 들어있는 단어의 개수는 모두 다릅니다.\n",
        "\n",
        "앞서 히스토그램으로 확인해봤을때 각 단어의 평균이 43이기 때문에 단어의 개수를 40개로 동일하게 패딩하겠습니다."
      ]
    },
    {
      "cell_type": "code",
      "execution_count": null,
      "metadata": {
        "id": "rikZJYywezWr"
      },
      "outputs": [],
      "source": [
        "# 훈련용 판결요약문과 테스트용 판결요약문의 길이, 즉 단어수를 40으로 일치\n",
        "# 단어수가 40개보다 많으면 나머지는 제거하고 모자르면 0으로 채워짐\n",
        "max_len = 40\n",
        "\n",
        "X_train = pad_sequences(X_train, maxlen=max_len) # 훈련용 판결요약문 패딩\n",
        "X_test = pad_sequences(X_test, maxlen=max_len) # 테스트용 판결요약문 패딩"
      ]
    },
    {
      "cell_type": "code",
      "execution_count": null,
      "metadata": {
        "id": "f1EiDRi6DMOr",
        "outputId": "d4889391-0cce-4c69-f15e-ff939d88ffbd"
      },
      "outputs": [
        {
          "data": {
            "text/plain": [
              "40"
            ]
          },
          "execution_count": 27,
          "metadata": {},
          "output_type": "execute_result"
        }
      ],
      "source": [
        "len(X_train[0])"
      ]
    },
    {
      "cell_type": "markdown",
      "metadata": {
        "id": "iPU5aLsMDMOs"
      },
      "source": [
        "훈련용 데이터와 테스트용 데이터를 `원-핫 인코딩` 하겠습니다.\n",
        "\n",
        "`원-핫 인코딩`은 단어 집합의 크기를 벡터의 차원으로 하고, 표현하고 싶은 단어의 인덱스에 1의 값을 부여하고, 다른 인덱스에는 0을 부여하는 단어의 벡터 표현 방식입니다.[위키독스]\n",
        "\n",
        "이번 실습에서는 카테고리('일반행정', '세무', '특허', '형사', '민사', '가사')의 개수가 6개이므로 벡터의 크기는 6이 됩니다."
      ]
    },
    {
      "cell_type": "code",
      "execution_count": null,
      "metadata": {
        "id": "HDhlGZvtDMOs",
        "outputId": "36f33eb2-ff26-459e-e6f7-2c652842631b"
      },
      "outputs": [
        {
          "data": {
            "text/plain": [
              "array([3, 3, 3, ..., 3, 1, 3])"
            ]
          },
          "execution_count": 28,
          "metadata": {},
          "output_type": "execute_result"
        }
      ],
      "source": [
        "y_train"
      ]
    },
    {
      "cell_type": "code",
      "execution_count": null,
      "metadata": {
        "id": "_884nSoSe5KX"
      },
      "outputs": [],
      "source": [
        "# 훈련용, 테스트용 판결요약문 데이터의 레이블을 원-핫 인코딩\n",
        "\n",
        "y_train = to_categorical(y_train) # 훈련용 판결요약문 레이블의 원-핫 인코딩\n",
        "y_test = to_categorical(y_test) # 테스트용 판결요약문 레이블의 원-핫 인코딩"
      ]
    },
    {
      "cell_type": "code",
      "execution_count": null,
      "metadata": {
        "id": "hBcicPGnDMOt",
        "outputId": "ab8f49c1-5a7d-453f-9b62-54ca1bbf10e0"
      },
      "outputs": [
        {
          "data": {
            "text/plain": [
              "array([0., 0., 0., 1., 0., 0.], dtype=float32)"
            ]
          },
          "execution_count": 30,
          "metadata": {},
          "output_type": "execute_result"
        }
      ],
      "source": [
        "y_train[0]"
      ]
    },
    {
      "cell_type": "markdown",
      "metadata": {
        "id": "mbiKB6P5DMOt"
      },
      "source": [
        "`Embedding()`은 최소 두 개의 인자를 받습니다.\n",
        "\n",
        "첫번째 인자는 단어 집합의 크기, 즉 총 단어의 개수입니다.\n",
        "\n",
        "두번째 인자는 임베딩 벡터의 출력 차원, 즉 결과로서 나오는 임베딩 벡터의 크기입니다.\n",
        "\n",
        "결과적으로 아래의 코드는 120차원을 가지는 임베딩 벡터 1,000개를 생성합니다.\n",
        "\n",
        "마지막으로 6개의 카테고리를 분류해야하므로, 출력층에서는 6개의 뉴런을 사용합니다. 활성화 함수로는 소프트맥스를 사용하여 6개의 확률분포를 만듭니다."
      ]
    },
    {
      "cell_type": "code",
      "execution_count": null,
      "metadata": {
        "id": "W8r6UtzSBfZ9"
      },
      "outputs": [],
      "source": [
        "model = Sequential()\n",
        "model.add(Embedding(1000, 120))\n",
        "model.add(LSTM(120))\n",
        "model.add(Dense(6, activation='softmax'))"
      ]
    },
    {
      "cell_type": "markdown",
      "metadata": {
        "id": "BTn6ZOiLDMOt"
      },
      "source": [
        "검증 데이터 손실(val_loss)이 증가하면, 과적합 징후므로 검증 데이터 손실이 5회 증가하면 학습을 조기 종료(Early Stopping) 하겠습니다.\n",
        "\n",
        "ModelCheckpoint를 사용하여 검증 데이터의 정확도(val_acc)가 이전보다 좋아질 경우에만 모델을 저장하겠습니다.\n"
      ]
    },
    {
      "cell_type": "code",
      "execution_count": null,
      "metadata": {
        "id": "FVNyl8WBC1-r"
      },
      "outputs": [],
      "source": [
        "es = EarlyStopping(monitor='val_loss', mode='min', verbose=1, patience=5)\n",
        "mc = ModelCheckpoint('best_model.h5', monitor='val_acc', mode='max', verbose=1, save_best_only=True)"
      ]
    },
    {
      "cell_type": "markdown",
      "metadata": {
        "id": "yIG_38-cDMOu"
      },
      "source": [
        "다중 클래스 분류(Multi-Class Classification) 문제이므로 손실 함수로는 categorical_crossentropy를 사용합니다.\n",
        "\n",
        "categorical_crossentropy는 모델의 예측값과 실제값에 대해서 두 확률 분포 사이의 거리를 최소화하도록 훈련합니다.\n"
      ]
    },
    {
      "cell_type": "code",
      "execution_count": null,
      "metadata": {
        "id": "nfAaX8pCDNP_"
      },
      "outputs": [],
      "source": [
        "model.compile(loss='categorical_crossentropy', optimizer='adam', metrics=['acc'])"
      ]
    },
    {
      "cell_type": "markdown",
      "metadata": {
        "id": "FjrtMm4QDMOu"
      },
      "source": [
        "이제 학습을 진행합니다."
      ]
    },
    {
      "cell_type": "code",
      "execution_count": null,
      "metadata": {
        "colab": {
          "base_uri": "https://localhost:8080/"
        },
        "id": "2sKa68HiDOTU",
        "outputId": "e09e6dd3-213c-444a-ff10-a0848ded2f17",
        "scrolled": true
      },
      "outputs": [
        {
          "name": "stdout",
          "output_type": "stream",
          "text": [
            "Epoch 1/30\n",
            "19/19 [==============================] - 6s 227ms/step - loss: 1.6916 - acc: 0.3682 - val_loss: 1.4262 - val_acc: 0.4309\n",
            "\n",
            "Epoch 00001: val_acc improved from -inf to 0.43095, saving model to best_model.h5\n",
            "Epoch 2/30\n",
            "19/19 [==============================] - 3s 153ms/step - loss: 1.3764 - acc: 0.4564 - val_loss: 1.1934 - val_acc: 0.5657\n",
            "\n",
            "Epoch 00002: val_acc improved from 0.43095 to 0.56572, saving model to best_model.h5\n",
            "Epoch 3/30\n",
            "19/19 [==============================] - 3s 156ms/step - loss: 1.0494 - acc: 0.6080 - val_loss: 0.9682 - val_acc: 0.6656\n",
            "\n",
            "Epoch 00003: val_acc improved from 0.56572 to 0.66556, saving model to best_model.h5\n",
            "Epoch 4/30\n",
            "19/19 [==============================] - 3s 156ms/step - loss: 0.8265 - acc: 0.7098 - val_loss: 0.8088 - val_acc: 0.7138\n",
            "\n",
            "Epoch 00004: val_acc improved from 0.66556 to 0.71381, saving model to best_model.h5\n",
            "Epoch 5/30\n",
            "19/19 [==============================] - 3s 156ms/step - loss: 0.5800 - acc: 0.8021 - val_loss: 0.6965 - val_acc: 0.7587\n",
            "\n",
            "Epoch 00005: val_acc improved from 0.71381 to 0.75874, saving model to best_model.h5\n",
            "Epoch 6/30\n",
            "19/19 [==============================] - 3s 156ms/step - loss: 0.4156 - acc: 0.8706 - val_loss: 0.6474 - val_acc: 0.7837\n",
            "\n",
            "Epoch 00006: val_acc improved from 0.75874 to 0.78369, saving model to best_model.h5\n",
            "Epoch 7/30\n",
            "19/19 [==============================] - 3s 156ms/step - loss: 0.3082 - acc: 0.9045 - val_loss: 0.6751 - val_acc: 0.7770\n",
            "\n",
            "Epoch 00007: val_acc did not improve from 0.78369\n",
            "Epoch 8/30\n",
            "19/19 [==============================] - 3s 156ms/step - loss: 0.2146 - acc: 0.9385 - val_loss: 0.6290 - val_acc: 0.7953\n",
            "\n",
            "Epoch 00008: val_acc improved from 0.78369 to 0.79534, saving model to best_model.h5\n",
            "Epoch 9/30\n",
            "19/19 [==============================] - 3s 156ms/step - loss: 0.1864 - acc: 0.9518 - val_loss: 0.6465 - val_acc: 0.7920\n",
            "\n",
            "Epoch 00009: val_acc did not improve from 0.79534\n",
            "Epoch 10/30\n",
            "19/19 [==============================] - 3s 156ms/step - loss: 0.1786 - acc: 0.9501 - val_loss: 0.7152 - val_acc: 0.7770\n",
            "\n",
            "Epoch 00010: val_acc did not improve from 0.79534\n",
            "Epoch 11/30\n",
            "19/19 [==============================] - 3s 156ms/step - loss: 0.1903 - acc: 0.9391 - val_loss: 0.7400 - val_acc: 0.7754\n",
            "\n",
            "Epoch 00011: val_acc did not improve from 0.79534\n",
            "Epoch 12/30\n",
            "19/19 [==============================] - 3s 156ms/step - loss: 0.1343 - acc: 0.9632 - val_loss: 0.8247 - val_acc: 0.7887\n",
            "\n",
            "Epoch 00012: val_acc did not improve from 0.79534\n",
            "Epoch 13/30\n",
            "19/19 [==============================] - 3s 153ms/step - loss: 0.0940 - acc: 0.9724 - val_loss: 0.7329 - val_acc: 0.7870\n",
            "\n",
            "Epoch 00013: val_acc did not improve from 0.79534\n",
            "Epoch 00013: early stopping\n"
          ]
        }
      ],
      "source": [
        "history = model.fit(X_train, y_train, batch_size=128, epochs=30, callbacks=[es, mc], validation_data=(X_test, y_test))"
      ]
    },
    {
      "cell_type": "markdown",
      "metadata": {
        "id": "CG6j8z56DMOv"
      },
      "source": [
        "마지막으로 검증 데이터에 대한 정확도가 가장 높았을 때 저장된 모델인 `best_model.h5`를 로드하여 성능을 평가합니다."
      ]
    },
    {
      "cell_type": "code",
      "execution_count": null,
      "metadata": {
        "colab": {
          "base_uri": "https://localhost:8080/"
        },
        "id": "b3tkL9zDD1Cx",
        "outputId": "eecf7255-d6cc-4607-e906-a53d88680754"
      },
      "outputs": [
        {
          "name": "stdout",
          "output_type": "stream",
          "text": [
            "19/19 [==============================] - 1s 13ms/step - loss: 0.6290 - acc: 0.7953\n",
            "\n",
            " 테스트 정확도: 0.7953\n"
          ]
        }
      ],
      "source": [
        "loaded_model = load_model('best_model.h5')\n",
        "print(\"\\n 테스트 정확도: %.4f\" % (loaded_model.evaluate(X_test, y_test)[1]))"
      ]
    },
    {
      "cell_type": "markdown",
      "metadata": {
        "id": "hbrwrBeWDMOw"
      },
      "source": [
        "epoch마다 변화하는 훈련데이터와 검증데이터(테스트 데이터)의 손실을 시각화하겠습니다.\n",
        "\n",
        "검증데이터의 loss값을 확인하면 작아지다가 다시 증가지는게 보입니다. 이는 과적합이 발생했다고 유추할 수 있습니다.[위키독스]"
      ]
    },
    {
      "cell_type": "code",
      "execution_count": null,
      "metadata": {
        "colab": {
          "base_uri": "https://localhost:8080/",
          "height": 294
        },
        "id": "3IfPwgA1DczQ",
        "outputId": "5d2adfeb-e835-4b46-a97a-002c5a4ed613"
      },
      "outputs": [
        {
          "data": {
            "image/png": "[encoded data removed]",
            "text/plain": [
              "<Figure size 432x288 with 1 Axes>"
            ]
          },
          "metadata": {
            "needs_background": "light"
          },
          "output_type": "display_data"
        }
      ],
      "source": [
        "epochs = range(1, len(history.history['acc']) + 1)\n",
        "plt.plot(epochs, history.history['loss'])\n",
        "plt.plot(epochs, history.history['val_loss'])\n",
        "plt.title('model loss')\n",
        "plt.ylabel('loss')\n",
        "plt.xlabel('epoch')\n",
        "plt.legend(['train', 'test'], loc='upper left')\n",
        "plt.show()"
      ]
    },
    {
      "cell_type": "markdown",
      "metadata": {
        "id": "imf3_vsRDMOw"
      },
      "source": [
        "---"
      ]
    },
    {
      "cell_type": "markdown",
      "metadata": {
        "id": "lHOCMzv6DMOw"
      },
      "source": [
        "## 퀴즈\n",
        "학습한 모델을 바탕으로 모든 요약문에 대한 예측값을 출력하고자 합니다.\n",
        "\n",
        "우선, **1. 데이터 읽기** 파트에서 구한 데이터프레임 `df`에서 요약문인 `abstractive`을 바탕으로 `loaded_model`로 예측한 결과를 구하여 `y_all_pred`에 저장했습니다.\n",
        "\n",
        "`y_all_pred`의 결과물을 `가사, 형사, 특허, 민사, 일반행정, 세무`로 변환하여 `df` 데이터프레임에 `pred` 열로 추가하고자 할 때, 아래 코드를 완성하세요."
      ]
    },
    {
      "cell_type": "markdown",
      "metadata": {
        "id": "0nBho52FDMOx"
      },
      "source": [
        "### 지시사항\n",
        "\n",
        "1. 실제 카테고리를 출력하기 위하여 수치형 `category` 열 값을 아래와 같이 범주로 변환합니다.\n",
        "    - `{0:'가사', 1:'형사', 2:'특허', 3:'민사', 4:'일반행정', 5:'세무'}`\n",
        "  \n",
        "  \n",
        "2. 전체 요약문을 `df['abstractive']` 패딩하여 예측을 위한 입력 변수를 전처리합니다.\n",
        "\n",
        "\n",
        "3. 0~5의 값으로 예측한 결과물을 저장합니다.\n",
        "\n",
        "\n",
        "4. `df['pred']`에 예측 결과를 추가합니다.\n",
        "\n",
        "\n",
        "5. `df['pred']`에 저장된 0~5의 결과를 다시 가사, 형사, 특허, 민사, 일반행정, 세무로 변환합니다.\n",
        "    - `{0:'가사', 1:'형사', 2:'특허', 3:'민사', 4:'일반행정', 5:'세무'}`\n",
        "\n",
        "\n",
        "6. 요약문 별 실제 카테고리와 예측 결과를 출력한 결과를 확인합니다."
      ]
    },
    {
      "cell_type": "code",
      "execution_count": null,
      "metadata": {
        "id": "iGrIRmTyDMOx",
        "outputId": "521802ea-583c-4221-be34-176472a6b841"
      },
      "outputs": [
        {
          "data": {
            "text/plain": [
              "28"
            ]
          },
          "execution_count": 37,
          "metadata": {},
          "output_type": "execute_result"
        }
      ],
      "source": [
        "len(data_index[10])"
      ]
    },
    {
      "cell_type": "code",
      "execution_count": null,
      "metadata": {
        "id": "yjQzoWcZDMOx",
        "outputId": "d86a3701-8664-4698-b078-004b37ee36f6"
      },
      "outputs": [
        {
          "name": "stdout",
          "output_type": "stream",
          "text": [
            "요약문:\n",
            "취소소송은 처분 등이 있다는 것을 안 때로부터 90일 이내에 제기하여야 하고, 행정처분에서의 허가에 붙은 기한이 부당하게 짧은 경우에는 이를 허가조건 존속기간으로 보아서 그 기한의 도래로 조건 개정을 고려한다고 해석할 수 있기에, 사도개설허가의 준공검사를 받지 못한 것은 사도개설허가 자체의 존속기간으로 볼 수 없다는 까닭으로 이것이 실효되는 것은 아니다.\n",
            "실제 카테고리: 일반행정, \n",
            "예측 카테고리: 일반행정 \n",
            "\n",
            "요약문:\n",
            "항고소송의 대상이 되는 행정처분이란 일반 국민의 권리의무에 직접 영향을 미치는 행위를 가리키는 것으로, 정부 간 항공노선의 개설에 관한 잠정협정 및 비밀양해각서와 건설교통부 내부지침에 의한 항공노선에 대한 운수권배분처분은 항고소송의 대상이 되는 행정처분에 해당하고, 그 처분으로 인해 공익상의 필요에 비해 상대방이 받게 되는 불이익 등이 더욱 큰 경우에는 재량권의 한계를 일탈한 것으로서 그 자체가 위법하다.\n",
            "실제 카테고리: 일반행정, \n",
            "예측 카테고리: 일반행정 \n",
            "\n",
            "요약문:\n",
            "취득세는 사실상의 취득행위 자체를 과세객체로 하고, 지방세법에 따르면 부동산 취득에 대해 등기·등록 등을 이행하지 아니한 경우라도 사실상으로 취득한 때에는 이를 취득한 것으로 보도록 규정하고 있으므로, 부동산에 관한 점유취득시효가 완성되면 사실상의 취득행위가 존재한다고 봄이 상당하다고 판시한 사례이다.\n",
            "실제 카테고리: 세무, \n",
            "예측 카테고리: 세무 \n",
            "\n",
            "요약문:\n",
            "행정처분이 당연무효라고 하기 위해서는 하자가 중대, 명백해야 하는데 세관출장소장이 적법한 권한의 위임 없이 한 관세부과처분은 하자가 중대하지만 명백하지 않아서 당연무효가 아니다.\n",
            "실제 카테고리: 세무, \n",
            "예측 카테고리: 일반행정 \n",
            "\n",
            "요약문:\n",
            "상표법에 따라 상표가 등록받을 수 있는지의 여부는 구체적으로 판단하므로 출원상표 \" \"는 간단하고 흔하게 있는 표장만으로 된 상표라고 보기 어렵다 한 사례이다.\n",
            "실제 카테고리: 특허, \n",
            "예측 카테고리: 특허 \n",
            "\n",
            "요약문:\n",
            "교통사고처리특례법 제4조 제1항 본문에 따라 공소를 제기가 불가능한데도 이에 위반하여 공소를 제기한 경우 그 공소제기는 형사소송법 제327조 제2호에서 정한 공소제기 절차가 법률의 규정에 위반하여 무효인 때에 해당하는바, 법원은 소송조건의 흠결을 이유로 공소기각의 판결을 선고하여야 한다.\n",
            "실제 카테고리: 형사, \n",
            "예측 카테고리: 형사 \n",
            "\n",
            "요약문:\n",
            "구 민사소송법에 따라 최저경매가격의 결정에 중대한 하자가 있다면 그에 대한 낙찰 허가를 금지하고 있는데, 단순히 최저경매가격이 매우 저렴하다는 사유는 해당할 수 없고, 감정 평가의 일반적 기준에 현저하게 반하거나 사회통념상 현저하게 부당하다고 인정되는 사유에 한하여 중대한 하자가 있다고 본다.\n",
            "실제 카테고리: 민사, \n",
            "예측 카테고리: 민사 \n",
            "\n",
            "요약문:\n",
            "집합건물의소유및관리에관한법에서는 집합건물을 건축하여 분양한 자는 담보책임을 지도록 규정하고 있으므로 분양잔금을 지급하지 않고 아파트의 사용승인 전에 임의로 입주한 자가 하자보수를 청구한다면 그는 담보책임을 배제하는 취지는 아니므로 동법에 따라 입주자는 분양자에게 하자 보수에 갈음하는 손해배상을 청구 가능하다.\n",
            "실제 카테고리: 민사, \n",
            "예측 카테고리: 민사 \n",
            "\n",
            "요약문:\n",
            "주식회사의 이사는 다른 업무담당이사의 업무집행이 위법하다고 의심할 만한 사유가 있을 때 이를 방치하여 발생한 손해에 대하여 배상책임을 면할 수 없고, 그 손해배상의 범위를 정함에 있어서는 사업의 내용과 성격, 임무위반의 경위 및 회사의 손해 발생 및 확대에 관여된 객관적인 사정 및 이사의 회사에 대한 평소 공헌도 등 제반 사정을 참작하여 그 손해배상액을 제한할 수 있다.\n",
            "실제 카테고리: 민사, \n",
            "예측 카테고리: 민사 \n",
            "\n",
            "요약문:\n",
            "국가를 당사자로 하는 계약에 관한 법률의 규정은 사인 간의 계약과 다를 바가 없으므로 그 법령에 특별한 규정이 있는 경우를 제외하고는 사법의 규정 내지 법 원리가 그대로 적용되고 법원이 손해배상의 예정액이 부당히 과다하다고 하여 감액을 한 경우에는 손해배상액의 예정에 관한 약정 중 감액 부분에 해당하는 부분은 처음부터 무효이다.\n",
            "실제 카테고리: 민사, \n",
            "예측 카테고리: 민사 \n",
            "\n"
          ]
        }
      ],
      "source": [
        "# 실제 카테고리를 출력하기 위하여 수치형 category 열 값을 아래와 같이 범주로 변환합니다.\n",
        "df['category'] = df['category'].replace({0:'가사', 1:'형사', 2:'특허', 3:'민사', 4:'일반행정', 5:'세무'})\n",
        "\n",
        "# 전체 요약문을 df['abstractive'] 패딩하여 예측을 위한 입력 변수를 전처리합니다.\n",
        "X_all = pad_sequences(data_index, maxlen=max_len)\n",
        "\n",
        "# 0~5의 값으로 예측한 결과물을 저장합니다.\n",
        "y_all_pred = np.argmax(loaded_model.predict(X_all), axis=1) # 최대값의 인덱스를 구함\n",
        "\n",
        "# df['pred']에 예측 결과를 추가\n",
        "df['pred'] = y_all_pred\n",
        "\n",
        "# df['pred']에 저장된 0~5의 결과를 다시 가사, 형사, 특허, 민사, 일반행정, 세무로 변환\n",
        "df['pred'] = df['pred'].replace({0:'가사', 1:'형사', 2:'특허', 3:'민사', 4:'일반행정', 5:'세무'})\n",
        "\n",
        "# 요약문 별 실제 카테고리와 예측 결과를 출력합니다.\n",
        "for i in range(10):\n",
        "    print(\"요약문:\")\n",
        "    print(df['abstractive'][i][0])\n",
        "    print(\"실제 카테고리: %s, \"%df['category'][i])\n",
        "    print(\"예측 카테고리: %s \\n\"%df['pred'][i])"
      ]
    }
  ],
  "metadata": {
    "colab": {
      "provenance": [],
      "include_colab_link": true
    },
    "kernelspec": {
      "display_name": "Python 3",
      "language": "python",
      "name": "python3"
    },
    "language_info": {
      "codemirror_mode": {
        "name": "ipython",
        "version": 3
      },
      "file_extension": ".py",
      "mimetype": "text/x-python",
      "name": "python",
      "nbconvert_exporter": "python",
      "pygments_lexer": "ipython3",
      "version": "3.8.6"
    },
    "toc": {
      "base_numbering": 1,
      "nav_menu": {},
      "number_sections": false,
      "sideBar": true,
      "skip_h1_title": false,
      "title_cell": "Table of Contents",
      "title_sidebar": "Contents",
      "toc_cell": false,
      "toc_position": {},
      "toc_section_display": true,
      "toc_window_display": true
    },
    "varInspector": {
      "cols": {
        "lenName": 16,
        "lenType": 16,
        "lenVar": 40
      },
      "kernels_config": {
        "python": {
          "delete_cmd_postfix": "",
          "delete_cmd_prefix": "del ",
          "library": "var_list.py",
          "varRefreshCmd": "print(var_dic_list())"
        },
        "r": {
          "delete_cmd_postfix": ") ",
          "delete_cmd_prefix": "rm(",
          "library": "var_list.r",
          "varRefreshCmd": "cat(var_dic_list()) "
        }
      },
      "types_to_exclude": [
        "module",
        "function",
        "builtin_function_or_method",
        "instance",
        "_Feature"
      ],
      "window_display": false
    }
  },
  "nbformat": 4,
  "nbformat_minor": 0
}